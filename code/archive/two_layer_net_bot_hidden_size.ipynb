{
 "metadata": {
  "name": "",
  "signature": "sha256:c32b14780ee578400591398c498e594bd5cc8ae3be1e09f80411b33822bf89a6"
 },
 "nbformat": 3,
 "nbformat_minor": 0,
 "worksheets": [
  {
   "cells": [
    {
     "cell_type": "code",
     "collapsed": false,
     "input": [
      "import numpy as np\n",
      "import matplotlib.pyplot as plt\n",
      "import pandas as pd\n",
      "from cs231n.data_utils import load_CIFAR10\n",
      "from cs231n.classifier_trainer import ClassifierTrainer\n",
      "from cs231n.classifiers.neural_net import init_two_layer_model\n",
      "from cs231n.classifiers.neural_net import two_layer_net\n",
      "import cPickle as pickle\n",
      "import os\n",
      "\n",
      "\n",
      "%matplotlib inline\n",
      "plt.rcParams['figure.figsize'] = (10.0, 8.0) # set default size of plots\n",
      "plt.rcParams['image.interpolation'] = 'nearest'\n",
      "plt.rcParams['image.cmap'] = 'gray'\n",
      "\n",
      "# for auto-reloading external modules\n",
      "# see http://stackoverflow.com/questions/1907993/autoreload-of-modules-in-ipython\n",
      "%load_ext autoreload\n",
      "%autoreload 2\n",
      "\n",
      "def rel_error(x, y):\n",
      "  \"\"\" returns relative error \"\"\"\n",
      "  return np.max(np.abs(x - y) / (np.maximum(1e-8, np.abs(x) + np.abs(y))))\n",
      "\n",
      "\n",
      "def get_CIFAR10_data(num_training=49000, num_validation=1000, num_test=1000):\n",
      "    \"\"\"\n",
      "    Load the CIFAR-10 dataset from disk and perform preprocessing to prepare\n",
      "    it for the two-layer neural net classifier. These are the same steps as\n",
      "    we used for the SVM, but condensed to a single function.  \n",
      "    \"\"\"\n",
      "    # Load the raw CIFAR-10 data\n",
      "    cifar10_dir = 'cs231n/datasets/cifar-10-batches-py'\n",
      "    X_train, y_train, X_test, y_test = load_CIFAR10(cifar10_dir)\n",
      "        \n",
      "    # Subsample the data\n",
      "    mask = range(num_training, num_training + num_validation)\n",
      "    X_val = X_train[mask]\n",
      "    y_val = y_train[mask]\n",
      "    mask = range(num_training)\n",
      "    X_train = X_train[mask]\n",
      "    y_train = y_train[mask]\n",
      "    mask = range(num_test)\n",
      "    X_test = X_test[mask]\n",
      "    y_test = y_test[mask]\n",
      "\n",
      "    # Normalize the data: subtract the mean image\n",
      "    mean_image = np.mean(X_train, axis=0)\n",
      "    X_train -= mean_image\n",
      "    X_val -= mean_image\n",
      "    X_test -= mean_image\n",
      "\n",
      "    # Reshape data to rows\n",
      "    X_train = X_train.reshape(num_training, -1)\n",
      "    X_val = X_val.reshape(num_validation, -1)\n",
      "    X_test = X_test.reshape(num_test, -1)\n",
      "\n",
      "    return X_train, y_train, X_val, y_val, X_test, y_test\n",
      "\n",
      "\n",
      "# Invoke the above function to get our data.\n",
      "X_train, y_train, X_val, y_val, X_test, y_test = get_CIFAR10_data()\n",
      "print 'Train data shape: ', X_train.shape\n",
      "print 'Train labels shape: ', y_train.shape\n",
      "print 'Validation data shape: ', X_val.shape\n",
      "print 'Validation labels shape: ', y_val.shape\n",
      "print 'Test data shape: ', X_test.shape\n",
      "print 'Test labels shape: ', y_test.shape\n",
      "\n",
      "def run_model(results_file = None, hidden_size=None,\n",
      "              num_epochs=None, reg=None, batch_size=None, \n",
      "              momentum=None, learning_rate_decay=None, learning_rate=None):\n",
      "\n",
      "    model = init_two_layer_model(32*32*3, hidden_size, 10) # input size, hidden size, number of classes\n",
      "    trainer = ClassifierTrainer()\n",
      "    best_model, loss_history, train_acc, val_acc = trainer.train(X_train, y_train, X_val, y_val,\n",
      "                                             model, two_layer_net,\n",
      "                                             num_epochs=num_epochs, reg=reg, batch_size = batch_size,\n",
      "                                             momentum=momentum, learning_rate_decay = learning_rate_decay,\n",
      "                                             learning_rate=learning_rate, verbose=True)\n",
      "    \n",
      "    # Plot the loss function and train / validation accuracies\n",
      "    plt.subplot(2, 1, 1)\n",
      "    plt.plot(loss_history)\n",
      "    plt.title('Loss history')\n",
      "    plt.xlabel('Iteration')\n",
      "    plt.ylabel('Loss')\n",
      "\n",
      "    plt.subplot(2, 1, 2)\n",
      "    plt.plot(train_acc)\n",
      "    plt.plot(val_acc)\n",
      "    plt.legend(['Training accuracy', 'Validation accuracy'], loc='lower right')\n",
      "    plt.xlabel('Epoch')\n",
      "    plt.ylabel('Clasification accuracy')\n",
      "    \n",
      "    \n",
      "    # write results to a file\n",
      "    if not os.path.exists(filename):\n",
      "        df = pd.DataFrame(columns=['hidden_size', 'num_epochs', 'reg', 'batch_size', 'momentum',\n",
      "                           'learning_rate_decay', 'learning_rate', 'best_train', 'best_val'])\n",
      "    else:\n",
      "        df = pd.read_csv(filename, sep='\\t')\n",
      "        \n",
      "    df.loc[len(df)] = [hidden_size, num_epochs, reg, batch_size, momentum, \n",
      "                   learning_rate_decay, learning_rate, np.max(train_acc), np.max(val_acc)]\n",
      "    df.to_csv(filename, sep='\\t', index=False)\n",
      "    \n",
      "    return best_model, val_acc"
     ],
     "language": "python",
     "metadata": {},
     "outputs": [
      {
       "output_type": "stream",
       "stream": "stdout",
       "text": [
        "Train data shape:  (49000, 3072)\n",
        "Train labels shape:  (49000,)\n",
        "Validation data shape:  (1000, 3072)\n",
        "Validation labels shape:  (1000,)\n",
        "Test data shape:  (1000, 3072)\n",
        "Test labels shape:  (1000,)\n"
       ]
      }
     ],
     "prompt_number": 1
    },
    {
     "cell_type": "code",
     "collapsed": false,
     "input": [
      "L_hidden_size = [100, 125, 150, 175, 200]\n",
      "reg = 0.1\n",
      "batch_size = 600\n",
      "learning_rate = 18e-5\n",
      "\n",
      "num_epochs = 50\n",
      "momentum = 0.9\n",
      "learning_rate_decay = 0.95\n",
      "filename = 'two_layer_nn_20150207_00.csv'\n",
      "best_model_file = 'best_two_layer_nn.p'\n",
      "reps = 2\n",
      "\n",
      "if not os.path.exists(best_model_file):\n",
      "    best_model, best_val_acc = None, 0.0\n",
      "else:\n",
      "    with open(best_model_file) as f:\n",
      "        best_model, best_val_acc = pickle.load(f)\n",
      "        print 'Standing val record: %f' % best_val_acc\n",
      "\n",
      "for _ in range(reps):\n",
      "    for hidden_size in L_hidden_size:\n",
      "        model, val_acc = run_model(results_file = filename, hidden_size=hidden_size,\n",
      "              num_epochs=num_epochs, reg=reg, batch_size=batch_size, \n",
      "              momentum=momentum, learning_rate_decay=learning_rate_decay, \n",
      "              learning_rate=learning_rate)\n",
      "    \n",
      "        if np.max(val_acc) > best_val_acc:\n",
      "            best_val_acc = np.max(val_acc)\n",
      "            with open(best_model_file, 'w') as f:\n",
      "                pickle.dump([model, best_val_acc], f)"
     ],
     "language": "python",
     "metadata": {},
     "outputs": [
      {
       "output_type": "stream",
       "stream": "stdout",
       "text": [
        "Finished epoch 0 / 50: cost 2.302587, train: 0.100000, val 0.108000, lr 1.800000e-04\n",
        "Finished epoch 1 / 50: cost 2.042428, train: 0.231000, val 0.244000, lr 1.710000e-04"
       ]
      },
      {
       "output_type": "stream",
       "stream": "stdout",
       "text": [
        "\n",
        "Finished epoch 2 / 50: cost 1.812692, train: 0.327000, val 0.337000, lr 1.624500e-04"
       ]
      },
      {
       "output_type": "stream",
       "stream": "stdout",
       "text": [
        "\n",
        "Finished epoch 3 / 50: cost 1.695245, train: 0.409000, val 0.413000, lr 1.543275e-04"
       ]
      },
      {
       "output_type": "stream",
       "stream": "stdout",
       "text": [
        "\n",
        "Finished epoch 4 / 50: cost 1.573440, train: 0.437000, val 0.454000, lr 1.466111e-04"
       ]
      },
      {
       "output_type": "stream",
       "stream": "stdout",
       "text": [
        "\n",
        "Finished epoch 5 / 50: cost 1.511758, train: 0.488000, val 0.465000, lr 1.392806e-04"
       ]
      },
      {
       "output_type": "stream",
       "stream": "stdout",
       "text": [
        "\n",
        "Finished epoch 6 / 50: cost 1.401975, train: 0.505000, val 0.464000, lr 1.323165e-04"
       ]
      },
      {
       "output_type": "stream",
       "stream": "stdout",
       "text": [
        "\n",
        "Finished epoch 7 / 50: cost 1.420268, train: 0.500000, val 0.477000, lr 1.257007e-04"
       ]
      },
      {
       "output_type": "stream",
       "stream": "stdout",
       "text": [
        "\n",
        "Finished epoch 8 / 50: cost 1.428316, train: 0.549000, val 0.500000, lr 1.194157e-04"
       ]
      },
      {
       "output_type": "stream",
       "stream": "stdout",
       "text": [
        "\n",
        "Finished epoch 9 / 50: cost 1.403726, train: 0.529000, val 0.483000, lr 1.134449e-04"
       ]
      },
      {
       "output_type": "stream",
       "stream": "stdout",
       "text": [
        "\n",
        "Finished epoch 10 / 50: cost 1.417478, train: 0.534000, val 0.508000, lr 1.077726e-04"
       ]
      },
      {
       "output_type": "stream",
       "stream": "stdout",
       "text": [
        "\n",
        "Finished epoch 11 / 50: cost 1.322227, train: 0.545000, val 0.517000, lr 1.023840e-04"
       ]
      },
      {
       "output_type": "stream",
       "stream": "stdout",
       "text": [
        "\n",
        "Finished epoch 12 / 50: cost 1.360337, train: 0.550000, val 0.522000, lr 9.726482e-05"
       ]
      },
      {
       "output_type": "stream",
       "stream": "stdout",
       "text": [
        "\n",
        "Finished epoch 13 / 50: cost 1.316491, train: 0.564000, val 0.525000, lr 9.240157e-05"
       ]
      },
      {
       "output_type": "stream",
       "stream": "stdout",
       "text": [
        "\n",
        "Finished epoch 14 / 50: cost 1.343957, train: 0.535000, val 0.515000, lr 8.778150e-05"
       ]
      },
      {
       "output_type": "stream",
       "stream": "stdout",
       "text": [
        "\n",
        "Finished epoch 15 / 50: cost 1.305995, train: 0.583000, val 0.539000, lr 8.339242e-05"
       ]
      },
      {
       "output_type": "stream",
       "stream": "stdout",
       "text": [
        "\n",
        "Finished epoch 16 / 50: cost 1.178405, train: 0.572000, val 0.536000, lr 7.922280e-05"
       ]
      },
      {
       "output_type": "stream",
       "stream": "stdout",
       "text": [
        "\n",
        "Finished epoch 17 / 50: cost 1.259708, train: 0.545000, val 0.536000, lr 7.526166e-05"
       ]
      },
      {
       "output_type": "stream",
       "stream": "stdout",
       "text": [
        "\n",
        "Finished epoch 18 / 50: cost 1.241985, train: 0.592000, val 0.536000, lr 7.149858e-05"
       ]
      },
      {
       "output_type": "stream",
       "stream": "stdout",
       "text": [
        "\n",
        "Finished epoch 19 / 50: cost 1.264004, train: 0.606000, val 0.526000, lr 6.792365e-05"
       ]
      },
      {
       "output_type": "stream",
       "stream": "stdout",
       "text": [
        "\n",
        "Finished epoch 20 / 50: cost 1.215685, train: 0.596000, val 0.518000, lr 6.452747e-05"
       ]
      },
      {
       "output_type": "stream",
       "stream": "stdout",
       "text": [
        "\n",
        "Finished epoch 21 / 50: cost 1.303171, train: 0.594000, val 0.531000, lr 6.130109e-05"
       ]
      },
      {
       "output_type": "stream",
       "stream": "stdout",
       "text": [
        "\n",
        "Finished epoch 22 / 50: cost 1.246369, train: 0.587000, val 0.537000, lr 5.823604e-05"
       ]
      },
      {
       "output_type": "stream",
       "stream": "stdout",
       "text": [
        "\n",
        "Finished epoch 23 / 50: cost 1.250770, train: 0.586000, val 0.527000, lr 5.532424e-05"
       ]
      },
      {
       "output_type": "stream",
       "stream": "stdout",
       "text": [
        "\n",
        "Finished epoch 24 / 50: cost 1.227149, train: 0.616000, val 0.541000, lr 5.255802e-05"
       ]
      },
      {
       "output_type": "stream",
       "stream": "stdout",
       "text": [
        "\n",
        "Finished epoch 25 / 50: cost 1.094885, train: 0.631000, val 0.537000, lr 4.993012e-05"
       ]
      },
      {
       "output_type": "stream",
       "stream": "stdout",
       "text": [
        "\n",
        "Finished epoch 26 / 50: cost 1.203341, train: 0.590000, val 0.526000, lr 4.743362e-05"
       ]
      },
      {
       "output_type": "stream",
       "stream": "stdout",
       "text": [
        "\n",
        "Finished epoch 27 / 50: cost 1.127424, train: 0.616000, val 0.529000, lr 4.506194e-05"
       ]
      },
      {
       "output_type": "stream",
       "stream": "stdout",
       "text": [
        "\n",
        "Finished epoch 28 / 50: cost 1.137728, train: 0.598000, val 0.542000, lr 4.280884e-05"
       ]
      },
      {
       "output_type": "stream",
       "stream": "stdout",
       "text": [
        "\n",
        "Finished epoch 29 / 50: cost 1.144220, train: 0.646000, val 0.523000, lr 4.066840e-05"
       ]
      },
      {
       "output_type": "stream",
       "stream": "stdout",
       "text": [
        "\n",
        "Finished epoch 30 / 50: cost 1.181065, train: 0.614000, val 0.541000, lr 3.863498e-05"
       ]
      },
      {
       "output_type": "stream",
       "stream": "stdout",
       "text": [
        "\n",
        "Finished epoch 31 / 50: cost 1.204187, train: 0.624000, val 0.533000, lr 3.670323e-05"
       ]
      },
      {
       "output_type": "stream",
       "stream": "stdout",
       "text": [
        "\n",
        "Finished epoch 32 / 50: cost 1.099200, train: 0.644000, val 0.536000, lr 3.486807e-05"
       ]
      },
      {
       "output_type": "stream",
       "stream": "stdout",
       "text": [
        "\n",
        "Finished epoch 33 / 50: cost 1.050799, train: 0.631000, val 0.536000, lr 3.312466e-05"
       ]
      },
      {
       "output_type": "stream",
       "stream": "stdout",
       "text": [
        "\n",
        "Finished epoch 34 / 50: cost 1.055351, train: 0.629000, val 0.539000, lr 3.146843e-05"
       ]
      },
      {
       "output_type": "stream",
       "stream": "stdout",
       "text": [
        "\n",
        "Finished epoch 35 / 50: cost 1.118535, train: 0.639000, val 0.539000, lr 2.989501e-05"
       ]
      },
      {
       "output_type": "stream",
       "stream": "stdout",
       "text": [
        "\n",
        "Finished epoch 36 / 50: cost 1.092439, train: 0.648000, val 0.540000, lr 2.840026e-05"
       ]
      },
      {
       "output_type": "stream",
       "stream": "stdout",
       "text": [
        "\n",
        "Finished epoch 37 / 50: cost 1.132480, train: 0.635000, val 0.536000, lr 2.698025e-05"
       ]
      },
      {
       "output_type": "stream",
       "stream": "stdout",
       "text": [
        "\n",
        "Finished epoch 38 / 50: cost 1.133391, train: 0.618000, val 0.541000, lr 2.563123e-05"
       ]
      },
      {
       "output_type": "stream",
       "stream": "stdout",
       "text": [
        "\n",
        "Finished epoch 39 / 50: cost 1.108428, train: 0.620000, val 0.535000, lr 2.434967e-05"
       ]
      },
      {
       "output_type": "stream",
       "stream": "stdout",
       "text": [
        "\n",
        "Finished epoch 40 / 50: cost 1.053262, train: 0.655000, val 0.545000, lr 2.313219e-05"
       ]
      },
      {
       "output_type": "stream",
       "stream": "stdout",
       "text": [
        "\n",
        "Finished epoch 41 / 50: cost 1.071103, train: 0.643000, val 0.540000, lr 2.197558e-05"
       ]
      },
      {
       "output_type": "stream",
       "stream": "stdout",
       "text": [
        "\n",
        "Finished epoch 42 / 50: cost 1.051184, train: 0.653000, val 0.537000, lr 2.087680e-05"
       ]
      },
      {
       "output_type": "stream",
       "stream": "stdout",
       "text": [
        "\n",
        "Finished epoch 43 / 50: cost 1.051617, train: 0.647000, val 0.531000, lr 1.983296e-05"
       ]
      },
      {
       "output_type": "stream",
       "stream": "stdout",
       "text": [
        "\n",
        "Finished epoch 44 / 50: cost 1.036720, train: 0.635000, val 0.538000, lr 1.884131e-05"
       ]
      },
      {
       "output_type": "stream",
       "stream": "stdout",
       "text": [
        "\n",
        "Finished epoch 45 / 50: cost 1.056702, train: 0.642000, val 0.538000, lr 1.789925e-05"
       ]
      },
      {
       "output_type": "stream",
       "stream": "stdout",
       "text": [
        "\n",
        "Finished epoch 46 / 50: cost 1.053899, train: 0.662000, val 0.546000, lr 1.700428e-05"
       ]
      },
      {
       "output_type": "stream",
       "stream": "stdout",
       "text": [
        "\n",
        "Finished epoch 47 / 50: cost 1.008030, train: 0.675000, val 0.534000, lr 1.615407e-05"
       ]
      },
      {
       "output_type": "stream",
       "stream": "stdout",
       "text": [
        "\n",
        "Finished epoch 48 / 50: cost 1.011079, train: 0.657000, val 0.531000, lr 1.534637e-05"
       ]
      },
      {
       "output_type": "stream",
       "stream": "stdout",
       "text": [
        "\n",
        "Finished epoch 49 / 50: cost 1.077382, train: 0.648000, val 0.534000, lr 1.457905e-05"
       ]
      },
      {
       "output_type": "stream",
       "stream": "stdout",
       "text": [
        "\n",
        "Finished epoch 50 / 50: cost 1.019820, train: 0.678000, val 0.541000, lr 1.385010e-05"
       ]
      },
      {
       "output_type": "stream",
       "stream": "stdout",
       "text": [
        "\n",
        "finished optimization. best validation accuracy: 0.546000\n",
        "Finished epoch 0 / 50: cost 2.302587, train: 0.093000, val 0.128000, lr 1.800000e-04"
       ]
      },
      {
       "output_type": "stream",
       "stream": "stdout",
       "text": [
        "\n",
        "Finished epoch 1 / 50: cost 2.011053, train: 0.210000, val 0.244000, lr 1.710000e-04"
       ]
      },
      {
       "output_type": "stream",
       "stream": "stdout",
       "text": [
        "\n",
        "Finished epoch 2 / 50: cost 1.763665, train: 0.337000, val 0.346000, lr 1.624500e-04"
       ]
      },
      {
       "output_type": "stream",
       "stream": "stdout",
       "text": [
        "\n",
        "Finished epoch 3 / 50: cost 1.681660, train: 0.417000, val 0.412000, lr 1.543275e-04"
       ]
      },
      {
       "output_type": "stream",
       "stream": "stdout",
       "text": [
        "\n",
        "Finished epoch 4 / 50: cost 1.569142, train: 0.468000, val 0.436000, lr 1.466111e-04"
       ]
      },
      {
       "output_type": "stream",
       "stream": "stdout",
       "text": [
        "\n",
        "Finished epoch 5 / 50: cost 1.497520, train: 0.462000, val 0.461000, lr 1.392806e-04"
       ]
      },
      {
       "output_type": "stream",
       "stream": "stdout",
       "text": [
        "\n",
        "Finished epoch 6 / 50: cost 1.516445, train: 0.482000, val 0.464000, lr 1.323165e-04"
       ]
      },
      {
       "output_type": "stream",
       "stream": "stdout",
       "text": [
        "\n",
        "Finished epoch 7 / 50: cost 1.451790, train: 0.503000, val 0.484000, lr 1.257007e-04"
       ]
      },
      {
       "output_type": "stream",
       "stream": "stdout",
       "text": [
        "\n",
        "Finished epoch 8 / 50: cost 1.332367, train: 0.497000, val 0.482000, lr 1.194157e-04"
       ]
      },
      {
       "output_type": "stream",
       "stream": "stdout",
       "text": [
        "\n",
        "Finished epoch 9 / 50: cost 1.365315, train: 0.494000, val 0.474000, lr 1.134449e-04"
       ]
      },
      {
       "output_type": "stream",
       "stream": "stdout",
       "text": [
        "\n",
        "Finished epoch 10 / 50: cost 1.375900, train: 0.530000, val 0.493000, lr 1.077726e-04"
       ]
      },
      {
       "output_type": "stream",
       "stream": "stdout",
       "text": [
        "\n",
        "Finished epoch 11 / 50: cost 1.282765, train: 0.558000, val 0.511000, lr 1.023840e-04"
       ]
      },
      {
       "output_type": "stream",
       "stream": "stdout",
       "text": [
        "\n",
        "Finished epoch 12 / 50: cost 1.332395, train: 0.544000, val 0.498000, lr 9.726482e-05"
       ]
      },
      {
       "output_type": "stream",
       "stream": "stdout",
       "text": [
        "\n",
        "Finished epoch 13 / 50: cost 1.267999, train: 0.555000, val 0.506000, lr 9.240157e-05"
       ]
      },
      {
       "output_type": "stream",
       "stream": "stdout",
       "text": [
        "\n",
        "Finished epoch 14 / 50: cost 1.258486, train: 0.566000, val 0.521000, lr 8.778150e-05"
       ]
      },
      {
       "output_type": "stream",
       "stream": "stdout",
       "text": [
        "\n",
        "Finished epoch 15 / 50: cost 1.271567, train: 0.557000, val 0.519000, lr 8.339242e-05"
       ]
      },
      {
       "output_type": "stream",
       "stream": "stdout",
       "text": [
        "\n",
        "Finished epoch 16 / 50: cost 1.235238, train: 0.591000, val 0.521000, lr 7.922280e-05"
       ]
      },
      {
       "output_type": "stream",
       "stream": "stdout",
       "text": [
        "\n",
        "Finished epoch 17 / 50: cost 1.199816, train: 0.586000, val 0.532000, lr 7.526166e-05"
       ]
      },
      {
       "output_type": "stream",
       "stream": "stdout",
       "text": [
        "\n",
        "Finished epoch 18 / 50: cost 1.249252, train: 0.598000, val 0.541000, lr 7.149858e-05"
       ]
      },
      {
       "output_type": "stream",
       "stream": "stdout",
       "text": [
        "\n",
        "Finished epoch 19 / 50: cost 1.255748, train: 0.604000, val 0.533000, lr 6.792365e-05"
       ]
      },
      {
       "output_type": "stream",
       "stream": "stdout",
       "text": [
        "\n",
        "Finished epoch 20 / 50: cost 1.159373, train: 0.601000, val 0.531000, lr 6.452747e-05"
       ]
      },
      {
       "output_type": "stream",
       "stream": "stdout",
       "text": [
        "\n",
        "Finished epoch 21 / 50: cost 1.165680, train: 0.623000, val 0.523000, lr 6.130109e-05"
       ]
      },
      {
       "output_type": "stream",
       "stream": "stdout",
       "text": [
        "\n",
        "Finished epoch 22 / 50: cost 1.151789, train: 0.597000, val 0.519000, lr 5.823604e-05"
       ]
      },
      {
       "output_type": "stream",
       "stream": "stdout",
       "text": [
        "\n",
        "Finished epoch 23 / 50: cost 1.144148, train: 0.631000, val 0.528000, lr 5.532424e-05"
       ]
      },
      {
       "output_type": "stream",
       "stream": "stdout",
       "text": [
        "\n",
        "Finished epoch 24 / 50: cost 1.226441, train: 0.614000, val 0.529000, lr 5.255802e-05"
       ]
      },
      {
       "output_type": "stream",
       "stream": "stdout",
       "text": [
        "\n",
        "Finished epoch 25 / 50: cost 1.174487, train: 0.629000, val 0.521000, lr 4.993012e-05"
       ]
      },
      {
       "output_type": "stream",
       "stream": "stdout",
       "text": [
        "\n",
        "Finished epoch 26 / 50: cost 1.128861, train: 0.638000, val 0.522000, lr 4.743362e-05"
       ]
      },
      {
       "output_type": "stream",
       "stream": "stdout",
       "text": [
        "\n",
        "Finished epoch 27 / 50: cost 1.118868, train: 0.626000, val 0.536000, lr 4.506194e-05"
       ]
      },
      {
       "output_type": "stream",
       "stream": "stdout",
       "text": [
        "\n",
        "Finished epoch 28 / 50: cost 1.049840, train: 0.645000, val 0.527000, lr 4.280884e-05"
       ]
      },
      {
       "output_type": "stream",
       "stream": "stdout",
       "text": [
        "\n",
        "Finished epoch 29 / 50: cost 1.111893, train: 0.629000, val 0.513000, lr 4.066840e-05"
       ]
      },
      {
       "output_type": "stream",
       "stream": "stdout",
       "text": [
        "\n",
        "Finished epoch 30 / 50: cost 1.093923, train: 0.639000, val 0.534000, lr 3.863498e-05"
       ]
      },
      {
       "output_type": "stream",
       "stream": "stdout",
       "text": [
        "\n",
        "Finished epoch 31 / 50: cost 1.185299, train: 0.643000, val 0.530000, lr 3.670323e-05"
       ]
      },
      {
       "output_type": "stream",
       "stream": "stdout",
       "text": [
        "\n",
        "Finished epoch 32 / 50: cost 1.079813, train: 0.646000, val 0.533000, lr 3.486807e-05"
       ]
      },
      {
       "output_type": "stream",
       "stream": "stdout",
       "text": [
        "\n",
        "Finished epoch 33 / 50: cost 1.067953, train: 0.650000, val 0.523000, lr 3.312466e-05"
       ]
      },
      {
       "output_type": "stream",
       "stream": "stdout",
       "text": [
        "\n",
        "Finished epoch 34 / 50: cost 1.076240, train: 0.635000, val 0.519000, lr 3.146843e-05"
       ]
      },
      {
       "output_type": "stream",
       "stream": "stdout",
       "text": [
        "\n",
        "Finished epoch 35 / 50: cost 1.133508, train: 0.658000, val 0.538000, lr 2.989501e-05"
       ]
      },
      {
       "output_type": "stream",
       "stream": "stdout",
       "text": [
        "\n",
        "Finished epoch 36 / 50: cost 1.059684, train: 0.664000, val 0.532000, lr 2.840026e-05"
       ]
      },
      {
       "output_type": "stream",
       "stream": "stdout",
       "text": [
        "\n",
        "Finished epoch 37 / 50: cost 1.046609, train: 0.658000, val 0.540000, lr 2.698025e-05"
       ]
      },
      {
       "output_type": "stream",
       "stream": "stdout",
       "text": [
        "\n",
        "Finished epoch 38 / 50: cost 1.107415, train: 0.660000, val 0.530000, lr 2.563123e-05"
       ]
      },
      {
       "output_type": "stream",
       "stream": "stdout",
       "text": [
        "\n",
        "Finished epoch 39 / 50: cost 1.156660, train: 0.649000, val 0.533000, lr 2.434967e-05"
       ]
      },
      {
       "output_type": "stream",
       "stream": "stdout",
       "text": [
        "\n",
        "Finished epoch 40 / 50: cost 1.087366, train: 0.676000, val 0.532000, lr 2.313219e-05"
       ]
      },
      {
       "output_type": "stream",
       "stream": "stdout",
       "text": [
        "\n",
        "Finished epoch 41 / 50: cost 1.081431, train: 0.653000, val 0.538000, lr 2.197558e-05"
       ]
      },
      {
       "output_type": "stream",
       "stream": "stdout",
       "text": [
        "\n",
        "Finished epoch 42 / 50: cost 1.051786, train: 0.679000, val 0.544000, lr 2.087680e-05"
       ]
      },
      {
       "output_type": "stream",
       "stream": "stdout",
       "text": [
        "\n",
        "Finished epoch 43 / 50: cost 1.073518, train: 0.657000, val 0.536000, lr 1.983296e-05"
       ]
      },
      {
       "output_type": "stream",
       "stream": "stdout",
       "text": [
        "\n",
        "Finished epoch 44 / 50: cost 1.120403, train: 0.665000, val 0.540000, lr 1.884131e-05"
       ]
      },
      {
       "output_type": "stream",
       "stream": "stdout",
       "text": [
        "\n",
        "Finished epoch 45 / 50: cost 1.074644, train: 0.675000, val 0.533000, lr 1.789925e-05"
       ]
      },
      {
       "output_type": "stream",
       "stream": "stdout",
       "text": [
        "\n",
        "Finished epoch 46 / 50: cost 1.070697, train: 0.664000, val 0.537000, lr 1.700428e-05"
       ]
      },
      {
       "output_type": "stream",
       "stream": "stdout",
       "text": [
        "\n",
        "Finished epoch 47 / 50: cost 1.046585, train: 0.654000, val 0.540000, lr 1.615407e-05"
       ]
      },
      {
       "output_type": "stream",
       "stream": "stdout",
       "text": [
        "\n",
        "Finished epoch 48 / 50: cost 1.024282, train: 0.684000, val 0.541000, lr 1.534637e-05"
       ]
      },
      {
       "output_type": "stream",
       "stream": "stdout",
       "text": [
        "\n",
        "Finished epoch 49 / 50: cost 1.034588, train: 0.693000, val 0.537000, lr 1.457905e-05"
       ]
      },
      {
       "output_type": "stream",
       "stream": "stdout",
       "text": [
        "\n",
        "Finished epoch 50 / 50: cost 0.991556, train: 0.672000, val 0.535000, lr 1.385010e-05"
       ]
      },
      {
       "output_type": "stream",
       "stream": "stdout",
       "text": [
        "\n",
        "finished optimization. best validation accuracy: 0.544000\n",
        "Finished epoch 0 / 50: cost 2.302588, train: 0.069000, val 0.096000, lr 1.800000e-04"
       ]
      },
      {
       "output_type": "stream",
       "stream": "stdout",
       "text": [
        "\n",
        "Finished epoch 1 / 50: cost 2.068753, train: 0.236000, val 0.222000, lr 1.710000e-04"
       ]
      },
      {
       "output_type": "stream",
       "stream": "stdout",
       "text": [
        "\n",
        "Finished epoch 2 / 50: cost 1.856660, train: 0.350000, val 0.363000, lr 1.624500e-04"
       ]
      },
      {
       "output_type": "stream",
       "stream": "stdout",
       "text": [
        "\n",
        "Finished epoch 3 / 50: cost 1.745555, train: 0.407000, val 0.406000, lr 1.543275e-04"
       ]
      },
      {
       "output_type": "stream",
       "stream": "stdout",
       "text": [
        "\n",
        "Finished epoch 4 / 50: cost 1.589146, train: 0.449000, val 0.449000, lr 1.466111e-04"
       ]
      },
      {
       "output_type": "stream",
       "stream": "stdout",
       "text": [
        "\n",
        "Finished epoch 5 / 50: cost 1.624709, train: 0.472000, val 0.459000, lr 1.392806e-04"
       ]
      },
      {
       "output_type": "stream",
       "stream": "stdout",
       "text": [
        "\n",
        "Finished epoch 6 / 50: cost 1.480558, train: 0.501000, val 0.479000, lr 1.323165e-04"
       ]
      },
      {
       "output_type": "stream",
       "stream": "stdout",
       "text": [
        "\n",
        "Finished epoch 7 / 50: cost 1.503158, train: 0.509000, val 0.478000, lr 1.257007e-04"
       ]
      },
      {
       "output_type": "stream",
       "stream": "stdout",
       "text": [
        "\n",
        "Finished epoch 8 / 50: cost 1.367291, train: 0.509000, val 0.476000, lr 1.194157e-04"
       ]
      },
      {
       "output_type": "stream",
       "stream": "stdout",
       "text": [
        "\n",
        "Finished epoch 9 / 50: cost 1.381110, train: 0.541000, val 0.504000, lr 1.134449e-04"
       ]
      },
      {
       "output_type": "stream",
       "stream": "stdout",
       "text": [
        "\n",
        "Finished epoch 10 / 50: cost 1.346883, train: 0.531000, val 0.515000, lr 1.077726e-04"
       ]
      },
      {
       "output_type": "stream",
       "stream": "stdout",
       "text": [
        "\n",
        "Finished epoch 11 / 50: cost 1.344099, train: 0.556000, val 0.512000, lr 1.023840e-04"
       ]
      },
      {
       "output_type": "stream",
       "stream": "stdout",
       "text": [
        "\n",
        "Finished epoch 12 / 50: cost 1.421159, train: 0.562000, val 0.521000, lr 9.726482e-05"
       ]
      },
      {
       "output_type": "stream",
       "stream": "stdout",
       "text": [
        "\n",
        "Finished epoch 13 / 50: cost 1.262076, train: 0.571000, val 0.501000, lr 9.240157e-05"
       ]
      },
      {
       "output_type": "stream",
       "stream": "stdout",
       "text": [
        "\n",
        "Finished epoch 14 / 50: cost 1.216147, train: 0.550000, val 0.516000, lr 8.778150e-05"
       ]
      },
      {
       "output_type": "stream",
       "stream": "stdout",
       "text": [
        "\n",
        "Finished epoch 15 / 50: cost 1.260158, train: 0.596000, val 0.517000, lr 8.339242e-05"
       ]
      },
      {
       "output_type": "stream",
       "stream": "stdout",
       "text": [
        "\n",
        "Finished epoch 16 / 50: cost 1.278531, train: 0.567000, val 0.524000, lr 7.922280e-05"
       ]
      },
      {
       "output_type": "stream",
       "stream": "stdout",
       "text": [
        "\n",
        "Finished epoch 17 / 50: cost 1.171825, train: 0.594000, val 0.515000, lr 7.526166e-05"
       ]
      },
      {
       "output_type": "stream",
       "stream": "stdout",
       "text": [
        "\n",
        "Finished epoch 18 / 50: cost 1.244039, train: 0.596000, val 0.528000, lr 7.149858e-05"
       ]
      },
      {
       "output_type": "stream",
       "stream": "stdout",
       "text": [
        "\n",
        "Finished epoch 19 / 50: cost 1.209821, train: 0.597000, val 0.523000, lr 6.792365e-05"
       ]
      },
      {
       "output_type": "stream",
       "stream": "stdout",
       "text": [
        "\n",
        "Finished epoch 20 / 50: cost 1.284280, train: 0.604000, val 0.520000, lr 6.452747e-05"
       ]
      },
      {
       "output_type": "stream",
       "stream": "stdout",
       "text": [
        "\n",
        "Finished epoch 21 / 50: cost 1.185648, train: 0.608000, val 0.524000, lr 6.130109e-05"
       ]
      },
      {
       "output_type": "stream",
       "stream": "stdout",
       "text": [
        "\n",
        "Finished epoch 22 / 50: cost 1.169484, train: 0.596000, val 0.517000, lr 5.823604e-05"
       ]
      },
      {
       "output_type": "stream",
       "stream": "stdout",
       "text": [
        "\n",
        "Finished epoch 23 / 50: cost 1.171404, train: 0.619000, val 0.529000, lr 5.532424e-05"
       ]
      },
      {
       "output_type": "stream",
       "stream": "stdout",
       "text": [
        "\n",
        "Finished epoch 24 / 50: cost 1.160493, train: 0.598000, val 0.529000, lr 5.255802e-05"
       ]
      },
      {
       "output_type": "stream",
       "stream": "stdout",
       "text": [
        "\n",
        "Finished epoch 25 / 50: cost 1.062407, train: 0.645000, val 0.540000, lr 4.993012e-05"
       ]
      },
      {
       "output_type": "stream",
       "stream": "stdout",
       "text": [
        "\n",
        "Finished epoch 26 / 50: cost 1.022551, train: 0.643000, val 0.525000, lr 4.743362e-05"
       ]
      },
      {
       "output_type": "stream",
       "stream": "stdout",
       "text": [
        "\n",
        "Finished epoch 27 / 50: cost 1.095583, train: 0.635000, val 0.535000, lr 4.506194e-05"
       ]
      },
      {
       "output_type": "stream",
       "stream": "stdout",
       "text": [
        "\n",
        "Finished epoch 28 / 50: cost 1.163103, train: 0.637000, val 0.528000, lr 4.280884e-05"
       ]
      },
      {
       "output_type": "stream",
       "stream": "stdout",
       "text": [
        "\n",
        "Finished epoch 29 / 50: cost 1.125683, train: 0.645000, val 0.526000, lr 4.066840e-05"
       ]
      },
      {
       "output_type": "stream",
       "stream": "stdout",
       "text": [
        "\n",
        "Finished epoch 30 / 50: cost 1.077135, train: 0.653000, val 0.547000, lr 3.863498e-05"
       ]
      },
      {
       "output_type": "stream",
       "stream": "stdout",
       "text": [
        "\n",
        "Finished epoch 31 / 50: cost 1.093934, train: 0.659000, val 0.530000, lr 3.670323e-05"
       ]
      },
      {
       "output_type": "stream",
       "stream": "stdout",
       "text": [
        "\n",
        "Finished epoch 32 / 50: cost 1.046510, train: 0.664000, val 0.533000, lr 3.486807e-05"
       ]
      },
      {
       "output_type": "stream",
       "stream": "stdout",
       "text": [
        "\n",
        "Finished epoch 33 / 50: cost 1.046595, train: 0.661000, val 0.538000, lr 3.312466e-05"
       ]
      },
      {
       "output_type": "stream",
       "stream": "stdout",
       "text": [
        "\n",
        "Finished epoch 34 / 50: cost 1.066370, train: 0.648000, val 0.538000, lr 3.146843e-05"
       ]
      },
      {
       "output_type": "stream",
       "stream": "stdout",
       "text": [
        "\n",
        "Finished epoch 35 / 50: cost 1.116553, train: 0.638000, val 0.542000, lr 2.989501e-05"
       ]
      },
      {
       "output_type": "stream",
       "stream": "stdout",
       "text": [
        "\n",
        "Finished epoch 36 / 50: cost 1.123522, train: 0.630000, val 0.537000, lr 2.840026e-05"
       ]
      },
      {
       "output_type": "stream",
       "stream": "stdout",
       "text": [
        "\n",
        "Finished epoch 37 / 50: cost 1.007760, train: 0.682000, val 0.546000, lr 2.698025e-05"
       ]
      },
      {
       "output_type": "stream",
       "stream": "stdout",
       "text": [
        "\n",
        "Finished epoch 38 / 50: cost 1.047284, train: 0.653000, val 0.534000, lr 2.563123e-05"
       ]
      },
      {
       "output_type": "stream",
       "stream": "stdout",
       "text": [
        "\n",
        "Finished epoch 39 / 50: cost 1.011238, train: 0.673000, val 0.532000, lr 2.434967e-05"
       ]
      },
      {
       "output_type": "stream",
       "stream": "stdout",
       "text": [
        "\n",
        "Finished epoch 40 / 50: cost 0.998562, train: 0.668000, val 0.537000, lr 2.313219e-05"
       ]
      },
      {
       "output_type": "stream",
       "stream": "stdout",
       "text": [
        "\n",
        "Finished epoch 41 / 50: cost 1.014372, train: 0.682000, val 0.534000, lr 2.197558e-05"
       ]
      },
      {
       "output_type": "stream",
       "stream": "stdout",
       "text": [
        "\n",
        "Finished epoch 42 / 50: cost 0.952520, train: 0.652000, val 0.539000, lr 2.087680e-05"
       ]
      },
      {
       "output_type": "stream",
       "stream": "stdout",
       "text": [
        "\n",
        "Finished epoch 43 / 50: cost 0.969457, train: 0.669000, val 0.529000, lr 1.983296e-05"
       ]
      },
      {
       "output_type": "stream",
       "stream": "stdout",
       "text": [
        "\n",
        "Finished epoch 44 / 50: cost 1.034015, train: 0.656000, val 0.533000, lr 1.884131e-05"
       ]
      },
      {
       "output_type": "stream",
       "stream": "stdout",
       "text": [
        "\n",
        "Finished epoch 45 / 50: cost 0.985678, train: 0.682000, val 0.534000, lr 1.789925e-05"
       ]
      },
      {
       "output_type": "stream",
       "stream": "stdout",
       "text": [
        "\n",
        "Finished epoch 46 / 50: cost 0.963680, train: 0.691000, val 0.538000, lr 1.700428e-05"
       ]
      },
      {
       "output_type": "stream",
       "stream": "stdout",
       "text": [
        "\n",
        "Finished epoch 47 / 50: cost 1.026883, train: 0.675000, val 0.541000, lr 1.615407e-05"
       ]
      },
      {
       "output_type": "stream",
       "stream": "stdout",
       "text": [
        "\n",
        "Finished epoch 48 / 50: cost 1.039206, train: 0.691000, val 0.550000, lr 1.534637e-05"
       ]
      },
      {
       "output_type": "stream",
       "stream": "stdout",
       "text": [
        "\n",
        "Finished epoch 49 / 50: cost 1.080706, train: 0.693000, val 0.546000, lr 1.457905e-05"
       ]
      },
      {
       "output_type": "stream",
       "stream": "stdout",
       "text": [
        "\n",
        "Finished epoch 50 / 50: cost 0.953497, train: 0.692000, val 0.538000, lr 1.385010e-05"
       ]
      },
      {
       "output_type": "stream",
       "stream": "stdout",
       "text": [
        "\n",
        "finished optimization. best validation accuracy: 0.550000\n",
        "Finished epoch 0 / 50: cost 2.302588, train: 0.127000, val 0.101000, lr 1.800000e-04"
       ]
      },
      {
       "output_type": "stream",
       "stream": "stdout",
       "text": [
        "\n",
        "Finished epoch 1 / 50: cost 2.049167, train: 0.233000, val 0.245000, lr 1.710000e-04"
       ]
      },
      {
       "output_type": "stream",
       "stream": "stdout",
       "text": [
        "\n",
        "Finished epoch 2 / 50: cost 1.814478, train: 0.363000, val 0.364000, lr 1.624500e-04"
       ]
      },
      {
       "output_type": "stream",
       "stream": "stdout",
       "text": [
        "\n",
        "Finished epoch 3 / 50: cost 1.697795, train: 0.389000, val 0.409000, lr 1.543275e-04"
       ]
      },
      {
       "output_type": "stream",
       "stream": "stdout",
       "text": [
        "\n",
        "Finished epoch 4 / 50: cost 1.613635, train: 0.456000, val 0.446000, lr 1.466111e-04"
       ]
      },
      {
       "output_type": "stream",
       "stream": "stdout",
       "text": [
        "\n",
        "Finished epoch 5 / 50: cost 1.508877, train: 0.478000, val 0.461000, lr 1.392806e-04"
       ]
      },
      {
       "output_type": "stream",
       "stream": "stdout",
       "text": [
        "\n",
        "Finished epoch 6 / 50: cost 1.449475, train: 0.502000, val 0.484000, lr 1.323165e-04"
       ]
      },
      {
       "output_type": "stream",
       "stream": "stdout",
       "text": [
        "\n",
        "Finished epoch 7 / 50: cost 1.395697, train: 0.502000, val 0.485000, lr 1.257007e-04"
       ]
      },
      {
       "output_type": "stream",
       "stream": "stdout",
       "text": [
        "\n",
        "Finished epoch 8 / 50: cost 1.385895, train: 0.520000, val 0.481000, lr 1.194157e-04"
       ]
      },
      {
       "output_type": "stream",
       "stream": "stdout",
       "text": [
        "\n",
        "Finished epoch 9 / 50: cost 1.364763, train: 0.521000, val 0.503000, lr 1.134449e-04"
       ]
      },
      {
       "output_type": "stream",
       "stream": "stdout",
       "text": [
        "\n",
        "Finished epoch 10 / 50: cost 1.294510, train: 0.524000, val 0.506000, lr 1.077726e-04"
       ]
      },
      {
       "output_type": "stream",
       "stream": "stdout",
       "text": [
        "\n",
        "Finished epoch 11 / 50: cost 1.357033, train: 0.546000, val 0.521000, lr 1.023840e-04"
       ]
      },
      {
       "output_type": "stream",
       "stream": "stdout",
       "text": [
        "\n",
        "Finished epoch 12 / 50: cost 1.296107, train: 0.538000, val 0.513000, lr 9.726482e-05"
       ]
      },
      {
       "output_type": "stream",
       "stream": "stdout",
       "text": [
        "\n",
        "Finished epoch 13 / 50: cost 1.331168, train: 0.569000, val 0.520000, lr 9.240157e-05"
       ]
      },
      {
       "output_type": "stream",
       "stream": "stdout",
       "text": [
        "\n",
        "Finished epoch 14 / 50: cost 1.201008, train: 0.587000, val 0.520000, lr 8.778150e-05"
       ]
      },
      {
       "output_type": "stream",
       "stream": "stdout",
       "text": [
        "\n",
        "Finished epoch 15 / 50: cost 1.185717, train: 0.592000, val 0.534000, lr 8.339242e-05"
       ]
      },
      {
       "output_type": "stream",
       "stream": "stdout",
       "text": [
        "\n",
        "Finished epoch 16 / 50: cost 1.197362, train: 0.562000, val 0.530000, lr 7.922280e-05"
       ]
      },
      {
       "output_type": "stream",
       "stream": "stdout",
       "text": [
        "\n",
        "Finished epoch 17 / 50: cost 1.184806, train: 0.595000, val 0.528000, lr 7.526166e-05"
       ]
      },
      {
       "output_type": "stream",
       "stream": "stdout",
       "text": [
        "\n",
        "Finished epoch 18 / 50: cost 1.175845, train: 0.631000, val 0.530000, lr 7.149858e-05"
       ]
      },
      {
       "output_type": "stream",
       "stream": "stdout",
       "text": [
        "\n",
        "Finished epoch 19 / 50: cost 1.173396, train: 0.614000, val 0.525000, lr 6.792365e-05"
       ]
      },
      {
       "output_type": "stream",
       "stream": "stdout",
       "text": [
        "\n",
        "Finished epoch 20 / 50: cost 1.139576, train: 0.583000, val 0.532000, lr 6.452747e-05"
       ]
      },
      {
       "output_type": "stream",
       "stream": "stdout",
       "text": [
        "\n",
        "Finished epoch 21 / 50: cost 1.151121, train: 0.622000, val 0.534000, lr 6.130109e-05"
       ]
      },
      {
       "output_type": "stream",
       "stream": "stdout",
       "text": [
        "\n",
        "Finished epoch 22 / 50: cost 1.131097, train: 0.649000, val 0.548000, lr 5.823604e-05"
       ]
      },
      {
       "output_type": "stream",
       "stream": "stdout",
       "text": [
        "\n",
        "Finished epoch 23 / 50: cost 1.113202, train: 0.637000, val 0.543000, lr 5.532424e-05"
       ]
      },
      {
       "output_type": "stream",
       "stream": "stdout",
       "text": [
        "\n",
        "Finished epoch 24 / 50: cost 1.148806, train: 0.629000, val 0.540000, lr 5.255802e-05"
       ]
      },
      {
       "output_type": "stream",
       "stream": "stdout",
       "text": [
        "\n",
        "Finished epoch 25 / 50: cost 1.128417, train: 0.606000, val 0.561000, lr 4.993012e-05"
       ]
      },
      {
       "output_type": "stream",
       "stream": "stdout",
       "text": [
        "\n",
        "Finished epoch 26 / 50: cost 1.089789, train: 0.638000, val 0.535000, lr 4.743362e-05"
       ]
      },
      {
       "output_type": "stream",
       "stream": "stdout",
       "text": [
        "\n",
        "Finished epoch 27 / 50: cost 1.055487, train: 0.632000, val 0.540000, lr 4.506194e-05"
       ]
      },
      {
       "output_type": "stream",
       "stream": "stdout",
       "text": [
        "\n",
        "Finished epoch 28 / 50: cost 1.127370, train: 0.616000, val 0.544000, lr 4.280884e-05"
       ]
      },
      {
       "output_type": "stream",
       "stream": "stdout",
       "text": [
        "\n",
        "Finished epoch 29 / 50: cost 1.074641, train: 0.647000, val 0.545000, lr 4.066840e-05"
       ]
      },
      {
       "output_type": "stream",
       "stream": "stdout",
       "text": [
        "\n",
        "Finished epoch 30 / 50: cost 1.111515, train: 0.666000, val 0.542000, lr 3.863498e-05"
       ]
      },
      {
       "output_type": "stream",
       "stream": "stdout",
       "text": [
        "\n",
        "Finished epoch 31 / 50: cost 1.056117, train: 0.663000, val 0.537000, lr 3.670323e-05"
       ]
      },
      {
       "output_type": "stream",
       "stream": "stdout",
       "text": [
        "\n",
        "Finished epoch 32 / 50: cost 0.979489, train: 0.658000, val 0.539000, lr 3.486807e-05"
       ]
      },
      {
       "output_type": "stream",
       "stream": "stdout",
       "text": [
        "\n",
        "Finished epoch 33 / 50: cost 1.054392, train: 0.672000, val 0.546000, lr 3.312466e-05"
       ]
      },
      {
       "output_type": "stream",
       "stream": "stdout",
       "text": [
        "\n",
        "Finished epoch 34 / 50: cost 0.970579, train: 0.696000, val 0.554000, lr 3.146843e-05"
       ]
      },
      {
       "output_type": "stream",
       "stream": "stdout",
       "text": [
        "\n",
        "Finished epoch 35 / 50: cost 1.100051, train: 0.674000, val 0.544000, lr 2.989501e-05"
       ]
      },
      {
       "output_type": "stream",
       "stream": "stdout",
       "text": [
        "\n",
        "Finished epoch 36 / 50: cost 1.008245, train: 0.667000, val 0.551000, lr 2.840026e-05"
       ]
      },
      {
       "output_type": "stream",
       "stream": "stdout",
       "text": [
        "\n",
        "Finished epoch 37 / 50: cost 1.066406, train: 0.684000, val 0.547000, lr 2.698025e-05"
       ]
      },
      {
       "output_type": "stream",
       "stream": "stdout",
       "text": [
        "\n",
        "Finished epoch 38 / 50: cost 0.996094, train: 0.666000, val 0.548000, lr 2.563123e-05"
       ]
      },
      {
       "output_type": "stream",
       "stream": "stdout",
       "text": [
        "\n",
        "Finished epoch 39 / 50: cost 0.993772, train: 0.666000, val 0.552000, lr 2.434967e-05"
       ]
      },
      {
       "output_type": "stream",
       "stream": "stdout",
       "text": [
        "\n",
        "Finished epoch 40 / 50: cost 1.068407, train: 0.674000, val 0.560000, lr 2.313219e-05"
       ]
      },
      {
       "output_type": "stream",
       "stream": "stdout",
       "text": [
        "\n",
        "Finished epoch 41 / 50: cost 1.002316, train: 0.676000, val 0.542000, lr 2.197558e-05"
       ]
      },
      {
       "output_type": "stream",
       "stream": "stdout",
       "text": [
        "\n",
        "Finished epoch 42 / 50: cost 1.014538, train: 0.679000, val 0.553000, lr 2.087680e-05"
       ]
      },
      {
       "output_type": "stream",
       "stream": "stdout",
       "text": [
        "\n",
        "Finished epoch 43 / 50: cost 0.974084, train: 0.694000, val 0.552000, lr 1.983296e-05"
       ]
      },
      {
       "output_type": "stream",
       "stream": "stdout",
       "text": [
        "\n",
        "Finished epoch 44 / 50: cost 1.026998, train: 0.668000, val 0.548000, lr 1.884131e-05"
       ]
      },
      {
       "output_type": "stream",
       "stream": "stdout",
       "text": [
        "\n",
        "Finished epoch 45 / 50: cost 1.056793, train: 0.701000, val 0.548000, lr 1.789925e-05"
       ]
      },
      {
       "output_type": "stream",
       "stream": "stdout",
       "text": [
        "\n",
        "Finished epoch 46 / 50: cost 0.984143, train: 0.709000, val 0.556000, lr 1.700428e-05"
       ]
      },
      {
       "output_type": "stream",
       "stream": "stdout",
       "text": [
        "\n",
        "Finished epoch 47 / 50: cost 0.962384, train: 0.681000, val 0.545000, lr 1.615407e-05"
       ]
      },
      {
       "output_type": "stream",
       "stream": "stdout",
       "text": [
        "\n",
        "Finished epoch 48 / 50: cost 0.947914, train: 0.674000, val 0.555000, lr 1.534637e-05"
       ]
      },
      {
       "output_type": "stream",
       "stream": "stdout",
       "text": [
        "\n",
        "Finished epoch 49 / 50: cost 0.983902, train: 0.703000, val 0.545000, lr 1.457905e-05"
       ]
      },
      {
       "output_type": "stream",
       "stream": "stdout",
       "text": [
        "\n",
        "Finished epoch 50 / 50: cost 0.990805, train: 0.680000, val 0.547000, lr 1.385010e-05"
       ]
      },
      {
       "output_type": "stream",
       "stream": "stdout",
       "text": [
        "\n",
        "finished optimization. best validation accuracy: 0.561000\n",
        "Finished epoch 0 / 50: cost 2.302588, train: 0.118000, val 0.137000, lr 1.800000e-04"
       ]
      },
      {
       "output_type": "stream",
       "stream": "stdout",
       "text": [
        "\n",
        "Finished epoch 1 / 50: cost 2.083560, train: 0.268000, val 0.254000, lr 1.710000e-04"
       ]
      },
      {
       "output_type": "stream",
       "stream": "stdout",
       "text": [
        "\n",
        "Finished epoch 2 / 50: cost 1.784310, train: 0.367000, val 0.353000, lr 1.624500e-04"
       ]
      },
      {
       "output_type": "stream",
       "stream": "stdout",
       "text": [
        "\n",
        "Finished epoch 3 / 50: cost 1.627927, train: 0.408000, val 0.429000, lr 1.543275e-04"
       ]
      },
      {
       "output_type": "stream",
       "stream": "stdout",
       "text": [
        "\n",
        "Finished epoch 4 / 50: cost 1.536810, train: 0.443000, val 0.463000, lr 1.466111e-04"
       ]
      },
      {
       "output_type": "stream",
       "stream": "stdout",
       "text": [
        "\n",
        "Finished epoch 5 / 50: cost 1.516432, train: 0.450000, val 0.451000, lr 1.392806e-04"
       ]
      },
      {
       "output_type": "stream",
       "stream": "stdout",
       "text": [
        "\n",
        "Finished epoch 6 / 50: cost 1.399970, train: 0.481000, val 0.470000, lr 1.323165e-04"
       ]
      },
      {
       "output_type": "stream",
       "stream": "stdout",
       "text": [
        "\n",
        "Finished epoch 7 / 50: cost 1.399505, train: 0.507000, val 0.475000, lr 1.257007e-04"
       ]
      },
      {
       "output_type": "stream",
       "stream": "stdout",
       "text": [
        "\n",
        "Finished epoch 8 / 50: cost 1.449919, train: 0.543000, val 0.486000, lr 1.194157e-04"
       ]
      },
      {
       "output_type": "stream",
       "stream": "stdout",
       "text": [
        "\n",
        "Finished epoch 9 / 50: cost 1.367193, train: 0.516000, val 0.506000, lr 1.134449e-04"
       ]
      },
      {
       "output_type": "stream",
       "stream": "stdout",
       "text": [
        "\n",
        "Finished epoch 10 / 50: cost 1.352003, train: 0.534000, val 0.516000, lr 1.077726e-04"
       ]
      },
      {
       "output_type": "stream",
       "stream": "stdout",
       "text": [
        "\n",
        "Finished epoch 11 / 50: cost 1.270698, train: 0.573000, val 0.506000, lr 1.023840e-04"
       ]
      },
      {
       "output_type": "stream",
       "stream": "stdout",
       "text": [
        "\n",
        "Finished epoch 12 / 50: cost 1.234724, train: 0.572000, val 0.521000, lr 9.726482e-05"
       ]
      },
      {
       "output_type": "stream",
       "stream": "stdout",
       "text": [
        "\n",
        "Finished epoch 13 / 50: cost 1.246259, train: 0.580000, val 0.514000, lr 9.240157e-05"
       ]
      },
      {
       "output_type": "stream",
       "stream": "stdout",
       "text": [
        "\n",
        "Finished epoch 14 / 50: cost 1.282828, train: 0.599000, val 0.526000, lr 8.778150e-05"
       ]
      },
      {
       "output_type": "stream",
       "stream": "stdout",
       "text": [
        "\n",
        "Finished epoch 15 / 50: cost 1.289758, train: 0.565000, val 0.531000, lr 8.339242e-05"
       ]
      },
      {
       "output_type": "stream",
       "stream": "stdout",
       "text": [
        "\n",
        "Finished epoch 16 / 50: cost 1.267465, train: 0.606000, val 0.528000, lr 7.922280e-05"
       ]
      },
      {
       "output_type": "stream",
       "stream": "stdout",
       "text": [
        "\n",
        "Finished epoch 17 / 50: cost 1.286717, train: 0.582000, val 0.524000, lr 7.526166e-05"
       ]
      },
      {
       "output_type": "stream",
       "stream": "stdout",
       "text": [
        "\n",
        "Finished epoch 18 / 50: cost 1.146370, train: 0.615000, val 0.519000, lr 7.149858e-05"
       ]
      },
      {
       "output_type": "stream",
       "stream": "stdout",
       "text": [
        "\n",
        "Finished epoch 19 / 50: cost 1.129327, train: 0.616000, val 0.537000, lr 6.792365e-05"
       ]
      },
      {
       "output_type": "stream",
       "stream": "stdout",
       "text": [
        "\n",
        "Finished epoch 20 / 50: cost 1.124011, train: 0.599000, val 0.530000, lr 6.452747e-05"
       ]
      },
      {
       "output_type": "stream",
       "stream": "stdout",
       "text": [
        "\n",
        "Finished epoch 21 / 50: cost 1.119484, train: 0.639000, val 0.522000, lr 6.130109e-05"
       ]
      },
      {
       "output_type": "stream",
       "stream": "stdout",
       "text": [
        "\n",
        "Finished epoch 22 / 50: cost 1.159348, train: 0.633000, val 0.537000, lr 5.823604e-05"
       ]
      },
      {
       "output_type": "stream",
       "stream": "stdout",
       "text": [
        "\n",
        "Finished epoch 23 / 50: cost 1.137023, train: 0.640000, val 0.529000, lr 5.532424e-05"
       ]
      },
      {
       "output_type": "stream",
       "stream": "stdout",
       "text": [
        "\n",
        "Finished epoch 24 / 50: cost 1.052411, train: 0.643000, val 0.550000, lr 5.255802e-05"
       ]
      },
      {
       "output_type": "stream",
       "stream": "stdout",
       "text": [
        "\n",
        "Finished epoch 25 / 50: cost 1.043686, train: 0.608000, val 0.539000, lr 4.993012e-05"
       ]
      },
      {
       "output_type": "stream",
       "stream": "stdout",
       "text": [
        "\n",
        "Finished epoch 26 / 50: cost 1.146624, train: 0.620000, val 0.535000, lr 4.743362e-05"
       ]
      },
      {
       "output_type": "stream",
       "stream": "stdout",
       "text": [
        "\n",
        "Finished epoch 27 / 50: cost 1.087342, train: 0.664000, val 0.549000, lr 4.506194e-05"
       ]
      },
      {
       "output_type": "stream",
       "stream": "stdout",
       "text": [
        "\n",
        "Finished epoch 28 / 50: cost 1.071667, train: 0.638000, val 0.546000, lr 4.280884e-05"
       ]
      },
      {
       "output_type": "stream",
       "stream": "stdout",
       "text": [
        "\n",
        "Finished epoch 29 / 50: cost 1.100016, train: 0.651000, val 0.548000, lr 4.066840e-05"
       ]
      },
      {
       "output_type": "stream",
       "stream": "stdout",
       "text": [
        "\n",
        "Finished epoch 30 / 50: cost 1.027841, train: 0.663000, val 0.550000, lr 3.863498e-05"
       ]
      },
      {
       "output_type": "stream",
       "stream": "stdout",
       "text": [
        "\n",
        "Finished epoch 31 / 50: cost 1.009491, train: 0.661000, val 0.542000, lr 3.670323e-05"
       ]
      },
      {
       "output_type": "stream",
       "stream": "stdout",
       "text": [
        "\n",
        "Finished epoch 32 / 50: cost 1.040734, train: 0.659000, val 0.543000, lr 3.486807e-05"
       ]
      },
      {
       "output_type": "stream",
       "stream": "stdout",
       "text": [
        "\n",
        "Finished epoch 33 / 50: cost 0.992160, train: 0.665000, val 0.543000, lr 3.312466e-05"
       ]
      },
      {
       "output_type": "stream",
       "stream": "stdout",
       "text": [
        "\n",
        "Finished epoch 34 / 50: cost 1.040562, train: 0.671000, val 0.546000, lr 3.146843e-05"
       ]
      },
      {
       "output_type": "stream",
       "stream": "stdout",
       "text": [
        "\n",
        "Finished epoch 35 / 50: cost 1.061379, train: 0.677000, val 0.541000, lr 2.989501e-05"
       ]
      },
      {
       "output_type": "stream",
       "stream": "stdout",
       "text": [
        "\n",
        "Finished epoch 36 / 50: cost 1.135832, train: 0.681000, val 0.551000, lr 2.840026e-05"
       ]
      },
      {
       "output_type": "stream",
       "stream": "stdout",
       "text": [
        "\n",
        "Finished epoch 37 / 50: cost 1.015658, train: 0.671000, val 0.552000, lr 2.698025e-05"
       ]
      },
      {
       "output_type": "stream",
       "stream": "stdout",
       "text": [
        "\n",
        "Finished epoch 38 / 50: cost 1.077505, train: 0.681000, val 0.552000, lr 2.563123e-05"
       ]
      },
      {
       "output_type": "stream",
       "stream": "stdout",
       "text": [
        "\n",
        "Finished epoch 39 / 50: cost 1.041906, train: 0.697000, val 0.538000, lr 2.434967e-05"
       ]
      },
      {
       "output_type": "stream",
       "stream": "stdout",
       "text": [
        "\n",
        "Finished epoch 40 / 50: cost 1.039890, train: 0.678000, val 0.545000, lr 2.313219e-05"
       ]
      },
      {
       "output_type": "stream",
       "stream": "stdout",
       "text": [
        "\n",
        "Finished epoch 41 / 50: cost 1.048977, train: 0.682000, val 0.554000, lr 2.197558e-05"
       ]
      },
      {
       "output_type": "stream",
       "stream": "stdout",
       "text": [
        "\n",
        "Finished epoch 42 / 50: cost 1.008717, train: 0.676000, val 0.541000, lr 2.087680e-05"
       ]
      },
      {
       "output_type": "stream",
       "stream": "stdout",
       "text": [
        "\n",
        "Finished epoch 43 / 50: cost 1.038915, train: 0.691000, val 0.553000, lr 1.983296e-05"
       ]
      },
      {
       "output_type": "stream",
       "stream": "stdout",
       "text": [
        "\n",
        "Finished epoch 44 / 50: cost 0.920400, train: 0.683000, val 0.561000, lr 1.884131e-05"
       ]
      },
      {
       "output_type": "stream",
       "stream": "stdout",
       "text": [
        "\n",
        "Finished epoch 45 / 50: cost 0.959566, train: 0.688000, val 0.549000, lr 1.789925e-05"
       ]
      },
      {
       "output_type": "stream",
       "stream": "stdout",
       "text": [
        "\n",
        "Finished epoch 46 / 50: cost 1.011979, train: 0.696000, val 0.548000, lr 1.700428e-05"
       ]
      },
      {
       "output_type": "stream",
       "stream": "stdout",
       "text": [
        "\n",
        "Finished epoch 47 / 50: cost 0.986953, train: 0.709000, val 0.551000, lr 1.615407e-05"
       ]
      },
      {
       "output_type": "stream",
       "stream": "stdout",
       "text": [
        "\n",
        "Finished epoch 48 / 50: cost 0.987738, train: 0.705000, val 0.546000, lr 1.534637e-05"
       ]
      },
      {
       "output_type": "stream",
       "stream": "stdout",
       "text": [
        "\n",
        "Finished epoch 49 / 50: cost 0.962507, train: 0.657000, val 0.560000, lr 1.457905e-05"
       ]
      },
      {
       "output_type": "stream",
       "stream": "stdout",
       "text": [
        "\n",
        "Finished epoch 50 / 50: cost 0.922687, train: 0.713000, val 0.551000, lr 1.385010e-05"
       ]
      },
      {
       "output_type": "stream",
       "stream": "stdout",
       "text": [
        "\n",
        "finished optimization. best validation accuracy: 0.561000\n",
        "Finished epoch 0 / 50: cost 2.302586, train: 0.105000, val 0.094000, lr 1.800000e-04"
       ]
      },
      {
       "output_type": "stream",
       "stream": "stdout",
       "text": [
        "\n",
        "Finished epoch 1 / 50: cost 2.068777, train: 0.207000, val 0.229000, lr 1.710000e-04"
       ]
      },
      {
       "output_type": "stream",
       "stream": "stdout",
       "text": [
        "\n",
        "Finished epoch 2 / 50: cost 1.838422, train: 0.389000, val 0.360000, lr 1.624500e-04"
       ]
      },
      {
       "output_type": "stream",
       "stream": "stdout",
       "text": [
        "\n",
        "Finished epoch 3 / 50: cost 1.607078, train: 0.392000, val 0.400000, lr 1.543275e-04"
       ]
      },
      {
       "output_type": "stream",
       "stream": "stdout",
       "text": [
        "\n",
        "Finished epoch 4 / 50: cost 1.627581, train: 0.418000, val 0.433000, lr 1.466111e-04"
       ]
      },
      {
       "output_type": "stream",
       "stream": "stdout",
       "text": [
        "\n",
        "Finished epoch 5 / 50: cost 1.485079, train: 0.430000, val 0.466000, lr 1.392806e-04"
       ]
      },
      {
       "output_type": "stream",
       "stream": "stdout",
       "text": [
        "\n",
        "Finished epoch 6 / 50: cost 1.514698, train: 0.475000, val 0.468000, lr 1.323165e-04"
       ]
      },
      {
       "output_type": "stream",
       "stream": "stdout",
       "text": [
        "\n",
        "Finished epoch 7 / 50: cost 1.409745, train: 0.484000, val 0.471000, lr 1.257007e-04"
       ]
      },
      {
       "output_type": "stream",
       "stream": "stdout",
       "text": [
        "\n",
        "Finished epoch 8 / 50: cost 1.393086, train: 0.494000, val 0.484000, lr 1.194157e-04"
       ]
      },
      {
       "output_type": "stream",
       "stream": "stdout",
       "text": [
        "\n",
        "Finished epoch 9 / 50: cost 1.328410, train: 0.543000, val 0.490000, lr 1.134449e-04"
       ]
      },
      {
       "output_type": "stream",
       "stream": "stdout",
       "text": [
        "\n",
        "Finished epoch 10 / 50: cost 1.403285, train: 0.522000, val 0.490000, lr 1.077726e-04"
       ]
      },
      {
       "output_type": "stream",
       "stream": "stdout",
       "text": [
        "\n",
        "Finished epoch 11 / 50: cost 1.359133, train: 0.541000, val 0.508000, lr 1.023840e-04"
       ]
      },
      {
       "output_type": "stream",
       "stream": "stdout",
       "text": [
        "\n",
        "Finished epoch 12 / 50: cost 1.327112, train: 0.563000, val 0.509000, lr 9.726482e-05"
       ]
      },
      {
       "output_type": "stream",
       "stream": "stdout",
       "text": [
        "\n",
        "Finished epoch 13 / 50: cost 1.247904, train: 0.574000, val 0.504000, lr 9.240157e-05"
       ]
      },
      {
       "output_type": "stream",
       "stream": "stdout",
       "text": [
        "\n",
        "Finished epoch 14 / 50: cost 1.244723, train: 0.557000, val 0.505000, lr 8.778150e-05"
       ]
      },
      {
       "output_type": "stream",
       "stream": "stdout",
       "text": [
        "\n",
        "Finished epoch 15 / 50: cost 1.295850, train: 0.555000, val 0.496000, lr 8.339242e-05"
       ]
      },
      {
       "output_type": "stream",
       "stream": "stdout",
       "text": [
        "\n",
        "Finished epoch 16 / 50: cost 1.254488, train: 0.589000, val 0.510000, lr 7.922280e-05"
       ]
      },
      {
       "output_type": "stream",
       "stream": "stdout",
       "text": [
        "\n",
        "Finished epoch 17 / 50: cost 1.308827, train: 0.587000, val 0.523000, lr 7.526166e-05"
       ]
      },
      {
       "output_type": "stream",
       "stream": "stdout",
       "text": [
        "\n",
        "Finished epoch 18 / 50: cost 1.252812, train: 0.582000, val 0.505000, lr 7.149858e-05"
       ]
      },
      {
       "output_type": "stream",
       "stream": "stdout",
       "text": [
        "\n",
        "Finished epoch 19 / 50: cost 1.275733, train: 0.555000, val 0.504000, lr 6.792365e-05"
       ]
      },
      {
       "output_type": "stream",
       "stream": "stdout",
       "text": [
        "\n",
        "Finished epoch 20 / 50: cost 1.151160, train: 0.604000, val 0.514000, lr 6.452747e-05"
       ]
      },
      {
       "output_type": "stream",
       "stream": "stdout",
       "text": [
        "\n",
        "Finished epoch 21 / 50: cost 1.174755, train: 0.610000, val 0.524000, lr 6.130109e-05"
       ]
      },
      {
       "output_type": "stream",
       "stream": "stdout",
       "text": [
        "\n",
        "Finished epoch 22 / 50: cost 1.214025, train: 0.613000, val 0.518000, lr 5.823604e-05"
       ]
      },
      {
       "output_type": "stream",
       "stream": "stdout",
       "text": [
        "\n",
        "Finished epoch 23 / 50: cost 1.147092, train: 0.624000, val 0.530000, lr 5.532424e-05"
       ]
      },
      {
       "output_type": "stream",
       "stream": "stdout",
       "text": [
        "\n",
        "Finished epoch 24 / 50: cost 1.090447, train: 0.638000, val 0.520000, lr 5.255802e-05"
       ]
      },
      {
       "output_type": "stream",
       "stream": "stdout",
       "text": [
        "\n",
        "Finished epoch 25 / 50: cost 1.181751, train: 0.632000, val 0.523000, lr 4.993012e-05"
       ]
      },
      {
       "output_type": "stream",
       "stream": "stdout",
       "text": [
        "\n",
        "Finished epoch 26 / 50: cost 1.242063, train: 0.632000, val 0.509000, lr 4.743362e-05"
       ]
      },
      {
       "output_type": "stream",
       "stream": "stdout",
       "text": [
        "\n",
        "Finished epoch 27 / 50: cost 1.089315, train: 0.623000, val 0.514000, lr 4.506194e-05"
       ]
      },
      {
       "output_type": "stream",
       "stream": "stdout",
       "text": [
        "\n",
        "Finished epoch 28 / 50: cost 1.124998, train: 0.622000, val 0.523000, lr 4.280884e-05"
       ]
      },
      {
       "output_type": "stream",
       "stream": "stdout",
       "text": [
        "\n",
        "Finished epoch 29 / 50: cost 1.213343, train: 0.607000, val 0.508000, lr 4.066840e-05"
       ]
      },
      {
       "output_type": "stream",
       "stream": "stdout",
       "text": [
        "\n",
        "Finished epoch 30 / 50: cost 1.129676, train: 0.620000, val 0.523000, lr 3.863498e-05"
       ]
      },
      {
       "output_type": "stream",
       "stream": "stdout",
       "text": [
        "\n",
        "Finished epoch 31 / 50: cost 1.138074, train: 0.618000, val 0.525000, lr 3.670323e-05"
       ]
      },
      {
       "output_type": "stream",
       "stream": "stdout",
       "text": [
        "\n",
        "Finished epoch 32 / 50: cost 1.063062, train: 0.652000, val 0.521000, lr 3.486807e-05"
       ]
      },
      {
       "output_type": "stream",
       "stream": "stdout",
       "text": [
        "\n",
        "Finished epoch 33 / 50: cost 1.131467, train: 0.655000, val 0.514000, lr 3.312466e-05"
       ]
      },
      {
       "output_type": "stream",
       "stream": "stdout",
       "text": [
        "\n",
        "Finished epoch 34 / 50: cost 1.142779, train: 0.622000, val 0.523000, lr 3.146843e-05"
       ]
      },
      {
       "output_type": "stream",
       "stream": "stdout",
       "text": [
        "\n",
        "Finished epoch 35 / 50: cost 1.114168, train: 0.642000, val 0.530000, lr 2.989501e-05"
       ]
      },
      {
       "output_type": "stream",
       "stream": "stdout",
       "text": [
        "\n",
        "Finished epoch 36 / 50: cost 1.118646, train: 0.664000, val 0.518000, lr 2.840026e-05"
       ]
      },
      {
       "output_type": "stream",
       "stream": "stdout",
       "text": [
        "\n",
        "Finished epoch 37 / 50: cost 1.077644, train: 0.673000, val 0.512000, lr 2.698025e-05"
       ]
      },
      {
       "output_type": "stream",
       "stream": "stdout",
       "text": [
        "\n",
        "Finished epoch 38 / 50: cost 1.207644, train: 0.655000, val 0.522000, lr 2.563123e-05"
       ]
      },
      {
       "output_type": "stream",
       "stream": "stdout",
       "text": [
        "\n",
        "Finished epoch 39 / 50: cost 1.064475, train: 0.633000, val 0.524000, lr 2.434967e-05"
       ]
      },
      {
       "output_type": "stream",
       "stream": "stdout",
       "text": [
        "\n",
        "Finished epoch 40 / 50: cost 1.059393, train: 0.668000, val 0.519000, lr 2.313219e-05"
       ]
      },
      {
       "output_type": "stream",
       "stream": "stdout",
       "text": [
        "\n",
        "Finished epoch 41 / 50: cost 1.059721, train: 0.641000, val 0.526000, lr 2.197558e-05"
       ]
      },
      {
       "output_type": "stream",
       "stream": "stdout",
       "text": [
        "\n",
        "Finished epoch 42 / 50: cost 1.093854, train: 0.652000, val 0.528000, lr 2.087680e-05"
       ]
      },
      {
       "output_type": "stream",
       "stream": "stdout",
       "text": [
        "\n",
        "Finished epoch 43 / 50: cost 1.080724, train: 0.684000, val 0.518000, lr 1.983296e-05"
       ]
      },
      {
       "output_type": "stream",
       "stream": "stdout",
       "text": [
        "\n",
        "Finished epoch 44 / 50: cost 1.090387, train: 0.663000, val 0.522000, lr 1.884131e-05"
       ]
      },
      {
       "output_type": "stream",
       "stream": "stdout",
       "text": [
        "\n",
        "Finished epoch 45 / 50: cost 1.083993, train: 0.655000, val 0.530000, lr 1.789925e-05"
       ]
      },
      {
       "output_type": "stream",
       "stream": "stdout",
       "text": [
        "\n",
        "Finished epoch 46 / 50: cost 1.072869, train: 0.662000, val 0.526000, lr 1.700428e-05"
       ]
      },
      {
       "output_type": "stream",
       "stream": "stdout",
       "text": [
        "\n",
        "Finished epoch 47 / 50: cost 1.052667, train: 0.654000, val 0.529000, lr 1.615407e-05"
       ]
      },
      {
       "output_type": "stream",
       "stream": "stdout",
       "text": [
        "\n",
        "Finished epoch 48 / 50: cost 1.067535, train: 0.658000, val 0.518000, lr 1.534637e-05"
       ]
      },
      {
       "output_type": "stream",
       "stream": "stdout",
       "text": [
        "\n",
        "Finished epoch 49 / 50: cost 1.035797, train: 0.634000, val 0.526000, lr 1.457905e-05"
       ]
      },
      {
       "output_type": "stream",
       "stream": "stdout",
       "text": [
        "\n",
        "Finished epoch 50 / 50: cost 1.053282, train: 0.669000, val 0.522000, lr 1.385010e-05"
       ]
      },
      {
       "output_type": "stream",
       "stream": "stdout",
       "text": [
        "\n",
        "finished optimization. best validation accuracy: 0.530000\n",
        "Finished epoch 0 / 50: cost 2.302587, train: 0.119000, val 0.127000, lr 1.800000e-04"
       ]
      },
      {
       "output_type": "stream",
       "stream": "stdout",
       "text": [
        "\n",
        "Finished epoch 1 / 50: cost 2.087800, train: 0.215000, val 0.212000, lr 1.710000e-04"
       ]
      },
      {
       "output_type": "stream",
       "stream": "stdout",
       "text": [
        "\n",
        "Finished epoch 2 / 50: cost 1.820411, train: 0.357000, val 0.360000, lr 1.624500e-04"
       ]
      },
      {
       "output_type": "stream",
       "stream": "stdout",
       "text": [
        "\n",
        "Finished epoch 3 / 50: cost 1.614641, train: 0.398000, val 0.413000, lr 1.543275e-04"
       ]
      },
      {
       "output_type": "stream",
       "stream": "stdout",
       "text": [
        "\n",
        "Finished epoch 4 / 50: cost 1.641615, train: 0.442000, val 0.455000, lr 1.466111e-04"
       ]
      },
      {
       "output_type": "stream",
       "stream": "stdout",
       "text": [
        "\n",
        "Finished epoch 5 / 50: cost 1.521942, train: 0.502000, val 0.476000, lr 1.392806e-04"
       ]
      },
      {
       "output_type": "stream",
       "stream": "stdout",
       "text": [
        "\n",
        "Finished epoch 6 / 50: cost 1.523608, train: 0.494000, val 0.470000, lr 1.323165e-04"
       ]
      },
      {
       "output_type": "stream",
       "stream": "stdout",
       "text": [
        "\n",
        "Finished epoch 7 / 50: cost 1.417139, train: 0.500000, val 0.493000, lr 1.257007e-04"
       ]
      },
      {
       "output_type": "stream",
       "stream": "stdout",
       "text": [
        "\n",
        "Finished epoch 8 / 50: cost 1.378303, train: 0.513000, val 0.489000, lr 1.194157e-04"
       ]
      },
      {
       "output_type": "stream",
       "stream": "stdout",
       "text": [
        "\n",
        "Finished epoch 9 / 50: cost 1.459834, train: 0.529000, val 0.488000, lr 1.134449e-04"
       ]
      },
      {
       "output_type": "stream",
       "stream": "stdout",
       "text": [
        "\n",
        "Finished epoch 10 / 50: cost 1.404175, train: 0.505000, val 0.484000, lr 1.077726e-04"
       ]
      },
      {
       "output_type": "stream",
       "stream": "stdout",
       "text": [
        "\n",
        "Finished epoch 11 / 50: cost 1.418875, train: 0.570000, val 0.505000, lr 1.023840e-04"
       ]
      },
      {
       "output_type": "stream",
       "stream": "stdout",
       "text": [
        "\n",
        "Finished epoch 12 / 50: cost 1.268270, train: 0.550000, val 0.498000, lr 9.726482e-05"
       ]
      },
      {
       "output_type": "stream",
       "stream": "stdout",
       "text": [
        "\n",
        "Finished epoch 13 / 50: cost 1.325702, train: 0.556000, val 0.514000, lr 9.240157e-05"
       ]
      },
      {
       "output_type": "stream",
       "stream": "stdout",
       "text": [
        "\n",
        "Finished epoch 14 / 50: cost 1.258054, train: 0.599000, val 0.520000, lr 8.778150e-05"
       ]
      },
      {
       "output_type": "stream",
       "stream": "stdout",
       "text": [
        "\n",
        "Finished epoch 15 / 50: cost 1.322779, train: 0.562000, val 0.529000, lr 8.339242e-05"
       ]
      },
      {
       "output_type": "stream",
       "stream": "stdout",
       "text": [
        "\n",
        "Finished epoch 16 / 50: cost 1.272368, train: 0.598000, val 0.520000, lr 7.922280e-05"
       ]
      },
      {
       "output_type": "stream",
       "stream": "stdout",
       "text": [
        "\n",
        "Finished epoch 17 / 50: cost 1.214897, train: 0.586000, val 0.536000, lr 7.526166e-05"
       ]
      },
      {
       "output_type": "stream",
       "stream": "stdout",
       "text": [
        "\n",
        "Finished epoch 18 / 50: cost 1.189961, train: 0.577000, val 0.530000, lr 7.149858e-05"
       ]
      },
      {
       "output_type": "stream",
       "stream": "stdout",
       "text": [
        "\n",
        "Finished epoch 19 / 50: cost 1.215185, train: 0.616000, val 0.544000, lr 6.792365e-05"
       ]
      },
      {
       "output_type": "stream",
       "stream": "stdout",
       "text": [
        "\n",
        "Finished epoch 20 / 50: cost 1.263622, train: 0.625000, val 0.534000, lr 6.452747e-05"
       ]
      },
      {
       "output_type": "stream",
       "stream": "stdout",
       "text": [
        "\n",
        "Finished epoch 21 / 50: cost 1.176457, train: 0.624000, val 0.533000, lr 6.130109e-05"
       ]
      },
      {
       "output_type": "stream",
       "stream": "stdout",
       "text": [
        "\n",
        "Finished epoch 22 / 50: cost 1.229648, train: 0.607000, val 0.540000, lr 5.823604e-05"
       ]
      },
      {
       "output_type": "stream",
       "stream": "stdout",
       "text": [
        "\n",
        "Finished epoch 23 / 50: cost 1.124801, train: 0.619000, val 0.536000, lr 5.532424e-05"
       ]
      },
      {
       "output_type": "stream",
       "stream": "stdout",
       "text": [
        "\n",
        "Finished epoch 24 / 50: cost 1.089279, train: 0.616000, val 0.536000, lr 5.255802e-05"
       ]
      },
      {
       "output_type": "stream",
       "stream": "stdout",
       "text": [
        "\n",
        "Finished epoch 25 / 50: cost 1.194368, train: 0.639000, val 0.534000, lr 4.993012e-05"
       ]
      },
      {
       "output_type": "stream",
       "stream": "stdout",
       "text": [
        "\n",
        "Finished epoch 26 / 50: cost 1.120880, train: 0.649000, val 0.545000, lr 4.743362e-05"
       ]
      },
      {
       "output_type": "stream",
       "stream": "stdout",
       "text": [
        "\n",
        "Finished epoch 27 / 50: cost 1.138240, train: 0.630000, val 0.532000, lr 4.506194e-05"
       ]
      },
      {
       "output_type": "stream",
       "stream": "stdout",
       "text": [
        "\n",
        "Finished epoch 28 / 50: cost 1.067919, train: 0.633000, val 0.539000, lr 4.280884e-05"
       ]
      },
      {
       "output_type": "stream",
       "stream": "stdout",
       "text": [
        "\n",
        "Finished epoch 29 / 50: cost 1.136737, train: 0.602000, val 0.541000, lr 4.066840e-05"
       ]
      },
      {
       "output_type": "stream",
       "stream": "stdout",
       "text": [
        "\n",
        "Finished epoch 30 / 50: cost 1.097568, train: 0.642000, val 0.546000, lr 3.863498e-05"
       ]
      },
      {
       "output_type": "stream",
       "stream": "stdout",
       "text": [
        "\n",
        "Finished epoch 31 / 50: cost 1.095246, train: 0.634000, val 0.558000, lr 3.670323e-05"
       ]
      },
      {
       "output_type": "stream",
       "stream": "stdout",
       "text": [
        "\n",
        "Finished epoch 32 / 50: cost 1.052455, train: 0.627000, val 0.541000, lr 3.486807e-05"
       ]
      },
      {
       "output_type": "stream",
       "stream": "stdout",
       "text": [
        "\n",
        "Finished epoch 33 / 50: cost 1.085178, train: 0.639000, val 0.555000, lr 3.312466e-05"
       ]
      },
      {
       "output_type": "stream",
       "stream": "stdout",
       "text": [
        "\n",
        "Finished epoch 34 / 50: cost 1.085129, train: 0.654000, val 0.546000, lr 3.146843e-05"
       ]
      },
      {
       "output_type": "stream",
       "stream": "stdout",
       "text": [
        "\n",
        "Finished epoch 35 / 50: cost 1.063590, train: 0.665000, val 0.553000, lr 2.989501e-05"
       ]
      },
      {
       "output_type": "stream",
       "stream": "stdout",
       "text": [
        "\n",
        "Finished epoch 36 / 50: cost 1.150969, train: 0.650000, val 0.556000, lr 2.840026e-05"
       ]
      },
      {
       "output_type": "stream",
       "stream": "stdout",
       "text": [
        "\n",
        "Finished epoch 37 / 50: cost 1.034705, train: 0.635000, val 0.544000, lr 2.698025e-05"
       ]
      },
      {
       "output_type": "stream",
       "stream": "stdout",
       "text": [
        "\n",
        "Finished epoch 38 / 50: cost 1.025005, train: 0.667000, val 0.550000, lr 2.563123e-05"
       ]
      },
      {
       "output_type": "stream",
       "stream": "stdout",
       "text": [
        "\n",
        "Finished epoch 39 / 50: cost 1.013062, train: 0.655000, val 0.543000, lr 2.434967e-05"
       ]
      },
      {
       "output_type": "stream",
       "stream": "stdout",
       "text": [
        "\n",
        "Finished epoch 40 / 50: cost 1.067773, train: 0.678000, val 0.546000, lr 2.313219e-05"
       ]
      },
      {
       "output_type": "stream",
       "stream": "stdout",
       "text": [
        "\n",
        "Finished epoch 41 / 50: cost 1.028875, train: 0.665000, val 0.549000, lr 2.197558e-05"
       ]
      },
      {
       "output_type": "stream",
       "stream": "stdout",
       "text": [
        "\n",
        "Finished epoch 42 / 50: cost 1.005118, train: 0.662000, val 0.540000, lr 2.087680e-05"
       ]
      },
      {
       "output_type": "stream",
       "stream": "stdout",
       "text": [
        "\n",
        "Finished epoch 43 / 50: cost 1.022323, train: 0.674000, val 0.546000, lr 1.983296e-05"
       ]
      },
      {
       "output_type": "stream",
       "stream": "stdout",
       "text": [
        "\n",
        "Finished epoch 44 / 50: cost 1.049933, train: 0.682000, val 0.554000, lr 1.884131e-05"
       ]
      },
      {
       "output_type": "stream",
       "stream": "stdout",
       "text": [
        "\n",
        "Finished epoch 45 / 50: cost 1.011199, train: 0.674000, val 0.549000, lr 1.789925e-05"
       ]
      },
      {
       "output_type": "stream",
       "stream": "stdout",
       "text": [
        "\n",
        "Finished epoch 46 / 50: cost 1.041945, train: 0.673000, val 0.546000, lr 1.700428e-05"
       ]
      },
      {
       "output_type": "stream",
       "stream": "stdout",
       "text": [
        "\n",
        "Finished epoch 47 / 50: cost 1.057160, train: 0.666000, val 0.547000, lr 1.615407e-05"
       ]
      },
      {
       "output_type": "stream",
       "stream": "stdout",
       "text": [
        "\n",
        "Finished epoch 48 / 50: cost 1.048257, train: 0.678000, val 0.551000, lr 1.534637e-05"
       ]
      },
      {
       "output_type": "stream",
       "stream": "stdout",
       "text": [
        "\n",
        "Finished epoch 49 / 50: cost 1.119980, train: 0.658000, val 0.550000, lr 1.457905e-05"
       ]
      },
      {
       "output_type": "stream",
       "stream": "stdout",
       "text": [
        "\n",
        "Finished epoch 50 / 50: cost 1.034841, train: 0.675000, val 0.550000, lr 1.385010e-05"
       ]
      },
      {
       "output_type": "stream",
       "stream": "stdout",
       "text": [
        "\n",
        "finished optimization. best validation accuracy: 0.558000\n",
        "Finished epoch 0 / 50: cost 2.302587, train: 0.127000, val 0.135000, lr 1.800000e-04"
       ]
      },
      {
       "output_type": "stream",
       "stream": "stdout",
       "text": [
        "\n",
        "Finished epoch 1 / 50: cost 2.059497, train: 0.229000, val 0.244000, lr 1.710000e-04"
       ]
      },
      {
       "output_type": "stream",
       "stream": "stdout",
       "text": [
        "\n",
        "Finished epoch 2 / 50: cost 1.793640, train: 0.366000, val 0.363000, lr 1.624500e-04"
       ]
      },
      {
       "output_type": "stream",
       "stream": "stdout",
       "text": [
        "\n",
        "Finished epoch 3 / 50: cost 1.634176, train: 0.407000, val 0.405000, lr 1.543275e-04"
       ]
      },
      {
       "output_type": "stream",
       "stream": "stdout",
       "text": [
        "\n",
        "Finished epoch 4 / 50: cost 1.614068, train: 0.449000, val 0.439000, lr 1.466111e-04"
       ]
      },
      {
       "output_type": "stream",
       "stream": "stdout",
       "text": [
        "\n",
        "Finished epoch 5 / 50: cost 1.496167, train: 0.457000, val 0.455000, lr 1.392806e-04"
       ]
      },
      {
       "output_type": "stream",
       "stream": "stdout",
       "text": [
        "\n",
        "Finished epoch 6 / 50: cost 1.448845, train: 0.489000, val 0.473000, lr 1.323165e-04"
       ]
      },
      {
       "output_type": "stream",
       "stream": "stdout",
       "text": [
        "\n",
        "Finished epoch 7 / 50: cost 1.396415, train: 0.518000, val 0.474000, lr 1.257007e-04"
       ]
      },
      {
       "output_type": "stream",
       "stream": "stdout",
       "text": [
        "\n",
        "Finished epoch 8 / 50: cost 1.402168, train: 0.518000, val 0.484000, lr 1.194157e-04"
       ]
      },
      {
       "output_type": "stream",
       "stream": "stdout",
       "text": [
        "\n",
        "Finished epoch 9 / 50: cost 1.333395, train: 0.531000, val 0.481000, lr 1.134449e-04"
       ]
      },
      {
       "output_type": "stream",
       "stream": "stdout",
       "text": [
        "\n",
        "Finished epoch 10 / 50: cost 1.378248, train: 0.532000, val 0.503000, lr 1.077726e-04"
       ]
      },
      {
       "output_type": "stream",
       "stream": "stdout",
       "text": [
        "\n",
        "Finished epoch 11 / 50: cost 1.313125, train: 0.565000, val 0.513000, lr 1.023840e-04"
       ]
      },
      {
       "output_type": "stream",
       "stream": "stdout",
       "text": [
        "\n",
        "Finished epoch 12 / 50: cost 1.283045, train: 0.585000, val 0.509000, lr 9.726482e-05"
       ]
      },
      {
       "output_type": "stream",
       "stream": "stdout",
       "text": [
        "\n",
        "Finished epoch 13 / 50: cost 1.243145, train: 0.588000, val 0.511000, lr 9.240157e-05"
       ]
      },
      {
       "output_type": "stream",
       "stream": "stdout",
       "text": [
        "\n",
        "Finished epoch 14 / 50: cost 1.231183, train: 0.556000, val 0.527000, lr 8.778150e-05"
       ]
      },
      {
       "output_type": "stream",
       "stream": "stdout",
       "text": [
        "\n",
        "Finished epoch 15 / 50: cost 1.220896, train: 0.591000, val 0.530000, lr 8.339242e-05"
       ]
      },
      {
       "output_type": "stream",
       "stream": "stdout",
       "text": [
        "\n",
        "Finished epoch 16 / 50: cost 1.263566, train: 0.591000, val 0.522000, lr 7.922280e-05"
       ]
      },
      {
       "output_type": "stream",
       "stream": "stdout",
       "text": [
        "\n",
        "Finished epoch 17 / 50: cost 1.172759, train: 0.578000, val 0.527000, lr 7.526166e-05"
       ]
      },
      {
       "output_type": "stream",
       "stream": "stdout",
       "text": [
        "\n",
        "Finished epoch 18 / 50: cost 1.161170, train: 0.571000, val 0.521000, lr 7.149858e-05"
       ]
      },
      {
       "output_type": "stream",
       "stream": "stdout",
       "text": [
        "\n",
        "Finished epoch 19 / 50: cost 1.203988, train: 0.576000, val 0.532000, lr 6.792365e-05"
       ]
      },
      {
       "output_type": "stream",
       "stream": "stdout",
       "text": [
        "\n",
        "Finished epoch 20 / 50: cost 1.194481, train: 0.607000, val 0.538000, lr 6.452747e-05"
       ]
      },
      {
       "output_type": "stream",
       "stream": "stdout",
       "text": [
        "\n",
        "Finished epoch 21 / 50: cost 1.256537, train: 0.620000, val 0.542000, lr 6.130109e-05"
       ]
      },
      {
       "output_type": "stream",
       "stream": "stdout",
       "text": [
        "\n",
        "Finished epoch 22 / 50: cost 1.230023, train: 0.620000, val 0.525000, lr 5.823604e-05"
       ]
      },
      {
       "output_type": "stream",
       "stream": "stdout",
       "text": [
        "\n",
        "Finished epoch 23 / 50: cost 1.119818, train: 0.619000, val 0.534000, lr 5.532424e-05"
       ]
      },
      {
       "output_type": "stream",
       "stream": "stdout",
       "text": [
        "\n",
        "Finished epoch 24 / 50: cost 1.098218, train: 0.630000, val 0.541000, lr 5.255802e-05"
       ]
      },
      {
       "output_type": "stream",
       "stream": "stdout",
       "text": [
        "\n",
        "Finished epoch 25 / 50: cost 1.126929, train: 0.648000, val 0.539000, lr 4.993012e-05"
       ]
      },
      {
       "output_type": "stream",
       "stream": "stdout",
       "text": [
        "\n",
        "Finished epoch 26 / 50: cost 1.081989, train: 0.615000, val 0.541000, lr 4.743362e-05"
       ]
      },
      {
       "output_type": "stream",
       "stream": "stdout",
       "text": [
        "\n",
        "Finished epoch 27 / 50: cost 1.080627, train: 0.655000, val 0.538000, lr 4.506194e-05"
       ]
      },
      {
       "output_type": "stream",
       "stream": "stdout",
       "text": [
        "\n",
        "Finished epoch 28 / 50: cost 1.089737, train: 0.635000, val 0.543000, lr 4.280884e-05"
       ]
      },
      {
       "output_type": "stream",
       "stream": "stdout",
       "text": [
        "\n",
        "Finished epoch 29 / 50: cost 1.052478, train: 0.647000, val 0.549000, lr 4.066840e-05"
       ]
      },
      {
       "output_type": "stream",
       "stream": "stdout",
       "text": [
        "\n",
        "Finished epoch 30 / 50: cost 1.077997, train: 0.650000, val 0.542000, lr 3.863498e-05"
       ]
      },
      {
       "output_type": "stream",
       "stream": "stdout",
       "text": [
        "\n",
        "Finished epoch 31 / 50: cost 1.097394, train: 0.649000, val 0.548000, lr 3.670323e-05"
       ]
      },
      {
       "output_type": "stream",
       "stream": "stdout",
       "text": [
        "\n",
        "Finished epoch 32 / 50: cost 1.099773, train: 0.652000, val 0.538000, lr 3.486807e-05"
       ]
      },
      {
       "output_type": "stream",
       "stream": "stdout",
       "text": [
        "\n",
        "Finished epoch 33 / 50: cost 1.081498, train: 0.637000, val 0.554000, lr 3.312466e-05"
       ]
      },
      {
       "output_type": "stream",
       "stream": "stdout",
       "text": [
        "\n",
        "Finished epoch 34 / 50: cost 1.055846, train: 0.661000, val 0.549000, lr 3.146843e-05"
       ]
      },
      {
       "output_type": "stream",
       "stream": "stdout",
       "text": [
        "\n",
        "Finished epoch 35 / 50: cost 1.076723, train: 0.673000, val 0.545000, lr 2.989501e-05"
       ]
      },
      {
       "output_type": "stream",
       "stream": "stdout",
       "text": [
        "\n",
        "Finished epoch 36 / 50: cost 1.115242, train: 0.635000, val 0.548000, lr 2.840026e-05"
       ]
      },
      {
       "output_type": "stream",
       "stream": "stdout",
       "text": [
        "\n",
        "Finished epoch 37 / 50: cost 0.990967, train: 0.679000, val 0.538000, lr 2.698025e-05"
       ]
      },
      {
       "output_type": "stream",
       "stream": "stdout",
       "text": [
        "\n",
        "Finished epoch 38 / 50: cost 1.073400, train: 0.657000, val 0.550000, lr 2.563123e-05"
       ]
      },
      {
       "output_type": "stream",
       "stream": "stdout",
       "text": [
        "\n",
        "Finished epoch 39 / 50: cost 1.108502, train: 0.668000, val 0.550000, lr 2.434967e-05"
       ]
      },
      {
       "output_type": "stream",
       "stream": "stdout",
       "text": [
        "\n",
        "Finished epoch 40 / 50: cost 1.070959, train: 0.664000, val 0.553000, lr 2.313219e-05"
       ]
      },
      {
       "output_type": "stream",
       "stream": "stdout",
       "text": [
        "\n",
        "Finished epoch 41 / 50: cost 0.999319, train: 0.675000, val 0.541000, lr 2.197558e-05"
       ]
      },
      {
       "output_type": "stream",
       "stream": "stdout",
       "text": [
        "\n",
        "Finished epoch 42 / 50: cost 1.082040, train: 0.672000, val 0.543000, lr 2.087680e-05"
       ]
      },
      {
       "output_type": "stream",
       "stream": "stdout",
       "text": [
        "\n",
        "Finished epoch 43 / 50: cost 1.118650, train: 0.682000, val 0.560000, lr 1.983296e-05"
       ]
      },
      {
       "output_type": "stream",
       "stream": "stdout",
       "text": [
        "\n",
        "Finished epoch 44 / 50: cost 0.949905, train: 0.686000, val 0.550000, lr 1.884131e-05"
       ]
      },
      {
       "output_type": "stream",
       "stream": "stdout",
       "text": [
        "\n",
        "Finished epoch 45 / 50: cost 1.044383, train: 0.677000, val 0.549000, lr 1.789925e-05"
       ]
      },
      {
       "output_type": "stream",
       "stream": "stdout",
       "text": [
        "\n",
        "Finished epoch 46 / 50: cost 0.967537, train: 0.653000, val 0.552000, lr 1.700428e-05"
       ]
      },
      {
       "output_type": "stream",
       "stream": "stdout",
       "text": [
        "\n",
        "Finished epoch 47 / 50: cost 1.003192, train: 0.668000, val 0.550000, lr 1.615407e-05"
       ]
      },
      {
       "output_type": "stream",
       "stream": "stdout",
       "text": [
        "\n",
        "Finished epoch 48 / 50: cost 0.960609, train: 0.669000, val 0.539000, lr 1.534637e-05"
       ]
      },
      {
       "output_type": "stream",
       "stream": "stdout",
       "text": [
        "\n",
        "Finished epoch 49 / 50: cost 1.065938, train: 0.697000, val 0.542000, lr 1.457905e-05"
       ]
      },
      {
       "output_type": "stream",
       "stream": "stdout",
       "text": [
        "\n",
        "Finished epoch 50 / 50: cost 1.063427, train: 0.693000, val 0.549000, lr 1.385010e-05"
       ]
      },
      {
       "output_type": "stream",
       "stream": "stdout",
       "text": [
        "\n",
        "finished optimization. best validation accuracy: 0.560000\n",
        "Finished epoch 0 / 50: cost 2.302588, train: 0.098000, val 0.100000, lr 1.800000e-04"
       ]
      },
      {
       "output_type": "stream",
       "stream": "stdout",
       "text": [
        "\n",
        "Finished epoch 1 / 50: cost 2.082129, train: 0.223000, val 0.246000, lr 1.710000e-04"
       ]
      },
      {
       "output_type": "stream",
       "stream": "stdout",
       "text": [
        "\n",
        "Finished epoch 2 / 50: cost 1.797026, train: 0.360000, val 0.351000, lr 1.624500e-04"
       ]
      },
      {
       "output_type": "stream",
       "stream": "stdout",
       "text": [
        "\n",
        "Finished epoch 3 / 50: cost 1.671890, train: 0.403000, val 0.423000, lr 1.543275e-04"
       ]
      },
      {
       "output_type": "stream",
       "stream": "stdout",
       "text": [
        "\n",
        "Finished epoch 4 / 50: cost 1.588193, train: 0.450000, val 0.457000, lr 1.466111e-04"
       ]
      },
      {
       "output_type": "stream",
       "stream": "stdout",
       "text": [
        "\n",
        "Finished epoch 5 / 50: cost 1.491298, train: 0.458000, val 0.459000, lr 1.392806e-04"
       ]
      },
      {
       "output_type": "stream",
       "stream": "stdout",
       "text": [
        "\n",
        "Finished epoch 6 / 50: cost 1.500805, train: 0.500000, val 0.474000, lr 1.323165e-04"
       ]
      },
      {
       "output_type": "stream",
       "stream": "stdout",
       "text": [
        "\n",
        "Finished epoch 7 / 50: cost 1.403541, train: 0.525000, val 0.490000, lr 1.257007e-04"
       ]
      },
      {
       "output_type": "stream",
       "stream": "stdout",
       "text": [
        "\n",
        "Finished epoch 8 / 50: cost 1.406816, train: 0.516000, val 0.490000, lr 1.194157e-04"
       ]
      },
      {
       "output_type": "stream",
       "stream": "stdout",
       "text": [
        "\n",
        "Finished epoch 9 / 50: cost 1.366346, train: 0.542000, val 0.501000, lr 1.134449e-04"
       ]
      },
      {
       "output_type": "stream",
       "stream": "stdout",
       "text": [
        "\n",
        "Finished epoch 10 / 50: cost 1.302456, train: 0.569000, val 0.506000, lr 1.077726e-04"
       ]
      },
      {
       "output_type": "stream",
       "stream": "stdout",
       "text": [
        "\n",
        "Finished epoch 11 / 50: cost 1.276322, train: 0.581000, val 0.500000, lr 1.023840e-04"
       ]
      },
      {
       "output_type": "stream",
       "stream": "stdout",
       "text": [
        "\n",
        "Finished epoch 12 / 50: cost 1.226720, train: 0.546000, val 0.516000, lr 9.726482e-05"
       ]
      },
      {
       "output_type": "stream",
       "stream": "stdout",
       "text": [
        "\n",
        "Finished epoch 13 / 50: cost 1.246420, train: 0.537000, val 0.516000, lr 9.240157e-05"
       ]
      },
      {
       "output_type": "stream",
       "stream": "stdout",
       "text": [
        "\n",
        "Finished epoch 14 / 50: cost 1.276772, train: 0.593000, val 0.507000, lr 8.778150e-05"
       ]
      },
      {
       "output_type": "stream",
       "stream": "stdout",
       "text": [
        "\n",
        "Finished epoch 15 / 50: cost 1.256974, train: 0.576000, val 0.524000, lr 8.339242e-05"
       ]
      },
      {
       "output_type": "stream",
       "stream": "stdout",
       "text": [
        "\n",
        "Finished epoch 16 / 50: cost 1.261471, train: 0.584000, val 0.532000, lr 7.922280e-05"
       ]
      },
      {
       "output_type": "stream",
       "stream": "stdout",
       "text": [
        "\n",
        "Finished epoch 17 / 50: cost 1.183278, train: 0.608000, val 0.540000, lr 7.526166e-05"
       ]
      },
      {
       "output_type": "stream",
       "stream": "stdout",
       "text": [
        "\n",
        "Finished epoch 18 / 50: cost 1.232944, train: 0.633000, val 0.529000, lr 7.149858e-05"
       ]
      },
      {
       "output_type": "stream",
       "stream": "stdout",
       "text": [
        "\n",
        "Finished epoch 19 / 50: cost 1.162275, train: 0.598000, val 0.535000, lr 6.792365e-05"
       ]
      },
      {
       "output_type": "stream",
       "stream": "stdout",
       "text": [
        "\n",
        "Finished epoch 20 / 50: cost 1.124307, train: 0.619000, val 0.537000, lr 6.452747e-05"
       ]
      },
      {
       "output_type": "stream",
       "stream": "stdout",
       "text": [
        "\n",
        "Finished epoch 21 / 50: cost 1.234578, train: 0.660000, val 0.536000, lr 6.130109e-05"
       ]
      },
      {
       "output_type": "stream",
       "stream": "stdout",
       "text": [
        "\n",
        "Finished epoch 22 / 50: cost 1.180769, train: 0.618000, val 0.533000, lr 5.823604e-05"
       ]
      },
      {
       "output_type": "stream",
       "stream": "stdout",
       "text": [
        "\n",
        "Finished epoch 23 / 50: cost 1.140412, train: 0.621000, val 0.540000, lr 5.532424e-05"
       ]
      },
      {
       "output_type": "stream",
       "stream": "stdout",
       "text": [
        "\n",
        "Finished epoch 24 / 50: cost 1.162309, train: 0.623000, val 0.546000, lr 5.255802e-05"
       ]
      },
      {
       "output_type": "stream",
       "stream": "stdout",
       "text": [
        "\n",
        "Finished epoch 25 / 50: cost 1.135581, train: 0.649000, val 0.549000, lr 4.993012e-05"
       ]
      },
      {
       "output_type": "stream",
       "stream": "stdout",
       "text": [
        "\n",
        "Finished epoch 26 / 50: cost 1.091631, train: 0.634000, val 0.529000, lr 4.743362e-05"
       ]
      },
      {
       "output_type": "stream",
       "stream": "stdout",
       "text": [
        "\n",
        "Finished epoch 27 / 50: cost 1.161787, train: 0.640000, val 0.540000, lr 4.506194e-05"
       ]
      },
      {
       "output_type": "stream",
       "stream": "stdout",
       "text": [
        "\n",
        "Finished epoch 28 / 50: cost 1.124726, train: 0.643000, val 0.545000, lr 4.280884e-05"
       ]
      },
      {
       "output_type": "stream",
       "stream": "stdout",
       "text": [
        "\n",
        "Finished epoch 29 / 50: cost 1.081094, train: 0.647000, val 0.548000, lr 4.066840e-05"
       ]
      },
      {
       "output_type": "stream",
       "stream": "stdout",
       "text": [
        "\n",
        "Finished epoch 30 / 50: cost 1.065098, train: 0.674000, val 0.551000, lr 3.863498e-05"
       ]
      },
      {
       "output_type": "stream",
       "stream": "stdout",
       "text": [
        "\n",
        "Finished epoch 31 / 50: cost 1.044883, train: 0.655000, val 0.535000, lr 3.670323e-05"
       ]
      },
      {
       "output_type": "stream",
       "stream": "stdout",
       "text": [
        "\n",
        "Finished epoch 32 / 50: cost 1.127505, train: 0.678000, val 0.540000, lr 3.486807e-05"
       ]
      },
      {
       "output_type": "stream",
       "stream": "stdout",
       "text": [
        "\n",
        "Finished epoch 33 / 50: cost 1.101242, train: 0.687000, val 0.547000, lr 3.312466e-05"
       ]
      },
      {
       "output_type": "stream",
       "stream": "stdout",
       "text": [
        "\n",
        "Finished epoch 34 / 50: cost 1.128309, train: 0.692000, val 0.527000, lr 3.146843e-05"
       ]
      },
      {
       "output_type": "stream",
       "stream": "stdout",
       "text": [
        "\n",
        "Finished epoch 35 / 50: cost 1.042120, train: 0.677000, val 0.544000, lr 2.989501e-05"
       ]
      },
      {
       "output_type": "stream",
       "stream": "stdout",
       "text": [
        "\n",
        "Finished epoch 36 / 50: cost 1.090034, train: 0.657000, val 0.540000, lr 2.840026e-05"
       ]
      },
      {
       "output_type": "stream",
       "stream": "stdout",
       "text": [
        "\n",
        "Finished epoch 37 / 50: cost 1.106979, train: 0.676000, val 0.548000, lr 2.698025e-05"
       ]
      },
      {
       "output_type": "stream",
       "stream": "stdout",
       "text": [
        "\n",
        "Finished epoch 38 / 50: cost 1.031523, train: 0.671000, val 0.548000, lr 2.563123e-05"
       ]
      },
      {
       "output_type": "stream",
       "stream": "stdout",
       "text": [
        "\n",
        "Finished epoch 39 / 50: cost 1.022166, train: 0.684000, val 0.553000, lr 2.434967e-05"
       ]
      },
      {
       "output_type": "stream",
       "stream": "stdout",
       "text": [
        "\n",
        "Finished epoch 40 / 50: cost 1.159830, train: 0.681000, val 0.551000, lr 2.313219e-05"
       ]
      },
      {
       "output_type": "stream",
       "stream": "stdout",
       "text": [
        "\n",
        "Finished epoch 41 / 50: cost 1.041708, train: 0.687000, val 0.553000, lr 2.197558e-05"
       ]
      },
      {
       "output_type": "stream",
       "stream": "stdout",
       "text": [
        "\n",
        "Finished epoch 42 / 50: cost 1.038180, train: 0.684000, val 0.543000, lr 2.087680e-05"
       ]
      },
      {
       "output_type": "stream",
       "stream": "stdout",
       "text": [
        "\n",
        "Finished epoch 43 / 50: cost 1.070698, train: 0.701000, val 0.546000, lr 1.983296e-05"
       ]
      },
      {
       "output_type": "stream",
       "stream": "stdout",
       "text": [
        "\n",
        "Finished epoch 44 / 50: cost 0.998853, train: 0.729000, val 0.547000, lr 1.884131e-05"
       ]
      },
      {
       "output_type": "stream",
       "stream": "stdout",
       "text": [
        "\n",
        "Finished epoch 45 / 50: cost 0.945452, train: 0.699000, val 0.557000, lr 1.789925e-05"
       ]
      },
      {
       "output_type": "stream",
       "stream": "stdout",
       "text": [
        "\n",
        "Finished epoch 46 / 50: cost 0.934211, train: 0.695000, val 0.545000, lr 1.700428e-05"
       ]
      },
      {
       "output_type": "stream",
       "stream": "stdout",
       "text": [
        "\n",
        "Finished epoch 47 / 50: cost 1.029423, train: 0.685000, val 0.548000, lr 1.615407e-05"
       ]
      },
      {
       "output_type": "stream",
       "stream": "stdout",
       "text": [
        "\n",
        "Finished epoch 48 / 50: cost 0.938991, train: 0.682000, val 0.546000, lr 1.534637e-05"
       ]
      },
      {
       "output_type": "stream",
       "stream": "stdout",
       "text": [
        "\n",
        "Finished epoch 49 / 50: cost 0.969033, train: 0.689000, val 0.553000, lr 1.457905e-05"
       ]
      },
      {
       "output_type": "stream",
       "stream": "stdout",
       "text": [
        "\n",
        "Finished epoch 50 / 50: cost 0.977753, train: 0.696000, val 0.543000, lr 1.385010e-05"
       ]
      },
      {
       "output_type": "stream",
       "stream": "stdout",
       "text": [
        "\n",
        "finished optimization. best validation accuracy: 0.557000\n",
        "Finished epoch 0 / 50: cost 2.302588, train: 0.100000, val 0.108000, lr 1.800000e-04"
       ]
      },
      {
       "output_type": "stream",
       "stream": "stdout",
       "text": [
        "\n",
        "Finished epoch 1 / 50: cost 2.016006, train: 0.236000, val 0.232000, lr 1.710000e-04"
       ]
      },
      {
       "output_type": "stream",
       "stream": "stdout",
       "text": [
        "\n",
        "Finished epoch 2 / 50: cost 1.739299, train: 0.354000, val 0.362000, lr 1.624500e-04"
       ]
      },
      {
       "output_type": "stream",
       "stream": "stdout",
       "text": [
        "\n",
        "Finished epoch 3 / 50: cost 1.691646, train: 0.406000, val 0.431000, lr 1.543275e-04"
       ]
      },
      {
       "output_type": "stream",
       "stream": "stdout",
       "text": [
        "\n",
        "Finished epoch 4 / 50: cost 1.588010, train: 0.456000, val 0.458000, lr 1.466111e-04"
       ]
      },
      {
       "output_type": "stream",
       "stream": "stdout",
       "text": [
        "\n",
        "Finished epoch 5 / 50: cost 1.493224, train: 0.488000, val 0.470000, lr 1.392806e-04"
       ]
      },
      {
       "output_type": "stream",
       "stream": "stdout",
       "text": [
        "\n",
        "Finished epoch 6 / 50: cost 1.424552, train: 0.487000, val 0.481000, lr 1.323165e-04"
       ]
      },
      {
       "output_type": "stream",
       "stream": "stdout",
       "text": [
        "\n",
        "Finished epoch 7 / 50: cost 1.432910, train: 0.505000, val 0.473000, lr 1.257007e-04"
       ]
      },
      {
       "output_type": "stream",
       "stream": "stdout",
       "text": [
        "\n",
        "Finished epoch 8 / 50: cost 1.364446, train: 0.509000, val 0.496000, lr 1.194157e-04"
       ]
      },
      {
       "output_type": "stream",
       "stream": "stdout",
       "text": [
        "\n",
        "Finished epoch 9 / 50: cost 1.438059, train: 0.529000, val 0.497000, lr 1.134449e-04"
       ]
      },
      {
       "output_type": "stream",
       "stream": "stdout",
       "text": [
        "\n",
        "Finished epoch 10 / 50: cost 1.277982, train: 0.547000, val 0.502000, lr 1.077726e-04"
       ]
      },
      {
       "output_type": "stream",
       "stream": "stdout",
       "text": [
        "\n",
        "Finished epoch 11 / 50: cost 1.393473, train: 0.587000, val 0.510000, lr 1.023840e-04"
       ]
      },
      {
       "output_type": "stream",
       "stream": "stdout",
       "text": [
        "\n",
        "Finished epoch 12 / 50: cost 1.410012, train: 0.532000, val 0.520000, lr 9.726482e-05"
       ]
      },
      {
       "output_type": "stream",
       "stream": "stdout",
       "text": [
        "\n",
        "Finished epoch 13 / 50: cost 1.214291, train: 0.578000, val 0.520000, lr 9.240157e-05"
       ]
      },
      {
       "output_type": "stream",
       "stream": "stdout",
       "text": [
        "\n",
        "Finished epoch 14 / 50: cost 1.211442, train: 0.555000, val 0.527000, lr 8.778150e-05"
       ]
      },
      {
       "output_type": "stream",
       "stream": "stdout",
       "text": [
        "\n",
        "Finished epoch 15 / 50: cost 1.262108, train: 0.581000, val 0.520000, lr 8.339242e-05"
       ]
      },
      {
       "output_type": "stream",
       "stream": "stdout",
       "text": [
        "\n",
        "Finished epoch 16 / 50: cost 1.191012, train: 0.616000, val 0.528000, lr 7.922280e-05"
       ]
      },
      {
       "output_type": "stream",
       "stream": "stdout",
       "text": [
        "\n",
        "Finished epoch 17 / 50: cost 1.164888, train: 0.590000, val 0.520000, lr 7.526166e-05"
       ]
      },
      {
       "output_type": "stream",
       "stream": "stdout",
       "text": [
        "\n",
        "Finished epoch 18 / 50: cost 1.257591, train: 0.600000, val 0.519000, lr 7.149858e-05"
       ]
      },
      {
       "output_type": "stream",
       "stream": "stdout",
       "text": [
        "\n",
        "Finished epoch 19 / 50: cost 1.137245, train: 0.596000, val 0.524000, lr 6.792365e-05"
       ]
      },
      {
       "output_type": "stream",
       "stream": "stdout",
       "text": [
        "\n",
        "Finished epoch 20 / 50: cost 1.154947, train: 0.602000, val 0.522000, lr 6.452747e-05"
       ]
      },
      {
       "output_type": "stream",
       "stream": "stdout",
       "text": [
        "\n",
        "Finished epoch 21 / 50: cost 1.200423, train: 0.626000, val 0.528000, lr 6.130109e-05"
       ]
      },
      {
       "output_type": "stream",
       "stream": "stdout",
       "text": [
        "\n",
        "Finished epoch 22 / 50: cost 1.104441, train: 0.634000, val 0.531000, lr 5.823604e-05"
       ]
      },
      {
       "output_type": "stream",
       "stream": "stdout",
       "text": [
        "\n",
        "Finished epoch 23 / 50: cost 1.140177, train: 0.623000, val 0.531000, lr 5.532424e-05"
       ]
      },
      {
       "output_type": "stream",
       "stream": "stdout",
       "text": [
        "\n",
        "Finished epoch 24 / 50: cost 1.139828, train: 0.617000, val 0.543000, lr 5.255802e-05"
       ]
      },
      {
       "output_type": "stream",
       "stream": "stdout",
       "text": [
        "\n",
        "Finished epoch 25 / 50: cost 1.151980, train: 0.638000, val 0.539000, lr 4.993012e-05"
       ]
      },
      {
       "output_type": "stream",
       "stream": "stdout",
       "text": [
        "\n",
        "Finished epoch 26 / 50: cost 1.052219, train: 0.663000, val 0.532000, lr 4.743362e-05"
       ]
      },
      {
       "output_type": "stream",
       "stream": "stdout",
       "text": [
        "\n",
        "Finished epoch 27 / 50: cost 1.031210, train: 0.636000, val 0.537000, lr 4.506194e-05"
       ]
      },
      {
       "output_type": "stream",
       "stream": "stdout",
       "text": [
        "\n",
        "Finished epoch 28 / 50: cost 1.098897, train: 0.646000, val 0.522000, lr 4.280884e-05"
       ]
      },
      {
       "output_type": "stream",
       "stream": "stdout",
       "text": [
        "\n",
        "Finished epoch 29 / 50: cost 1.031556, train: 0.652000, val 0.535000, lr 4.066840e-05"
       ]
      },
      {
       "output_type": "stream",
       "stream": "stdout",
       "text": [
        "\n",
        "Finished epoch 30 / 50: cost 1.007417, train: 0.641000, val 0.544000, lr 3.863498e-05"
       ]
      },
      {
       "output_type": "stream",
       "stream": "stdout",
       "text": [
        "\n",
        "Finished epoch 31 / 50: cost 1.106279, train: 0.671000, val 0.541000, lr 3.670323e-05"
       ]
      },
      {
       "output_type": "stream",
       "stream": "stdout",
       "text": [
        "\n",
        "Finished epoch 32 / 50: cost 1.007355, train: 0.676000, val 0.541000, lr 3.486807e-05"
       ]
      },
      {
       "output_type": "stream",
       "stream": "stdout",
       "text": [
        "\n",
        "Finished epoch 33 / 50: cost 1.082752, train: 0.653000, val 0.528000, lr 3.312466e-05"
       ]
      },
      {
       "output_type": "stream",
       "stream": "stdout",
       "text": [
        "\n",
        "Finished epoch 34 / 50: cost 1.057406, train: 0.669000, val 0.540000, lr 3.146843e-05"
       ]
      },
      {
       "output_type": "stream",
       "stream": "stdout",
       "text": [
        "\n",
        "Finished epoch 35 / 50: cost 1.001694, train: 0.675000, val 0.538000, lr 2.989501e-05"
       ]
      },
      {
       "output_type": "stream",
       "stream": "stdout",
       "text": [
        "\n",
        "Finished epoch 36 / 50: cost 1.070415, train: 0.681000, val 0.540000, lr 2.840026e-05"
       ]
      },
      {
       "output_type": "stream",
       "stream": "stdout",
       "text": [
        "\n",
        "Finished epoch 37 / 50: cost 1.044867, train: 0.674000, val 0.551000, lr 2.698025e-05"
       ]
      },
      {
       "output_type": "stream",
       "stream": "stdout",
       "text": [
        "\n",
        "Finished epoch 38 / 50: cost 1.038348, train: 0.681000, val 0.544000, lr 2.563123e-05"
       ]
      },
      {
       "output_type": "stream",
       "stream": "stdout",
       "text": [
        "\n",
        "Finished epoch 39 / 50: cost 1.058403, train: 0.666000, val 0.539000, lr 2.434967e-05"
       ]
      },
      {
       "output_type": "stream",
       "stream": "stdout",
       "text": [
        "\n",
        "Finished epoch 40 / 50: cost 1.008666, train: 0.675000, val 0.545000, lr 2.313219e-05"
       ]
      },
      {
       "output_type": "stream",
       "stream": "stdout",
       "text": [
        "\n",
        "Finished epoch 41 / 50: cost 1.004464, train: 0.700000, val 0.532000, lr 2.197558e-05"
       ]
      },
      {
       "output_type": "stream",
       "stream": "stdout",
       "text": [
        "\n",
        "Finished epoch 42 / 50: cost 1.043271, train: 0.664000, val 0.552000, lr 2.087680e-05"
       ]
      },
      {
       "output_type": "stream",
       "stream": "stdout",
       "text": [
        "\n",
        "Finished epoch 43 / 50: cost 1.052561, train: 0.701000, val 0.534000, lr 1.983296e-05"
       ]
      },
      {
       "output_type": "stream",
       "stream": "stdout",
       "text": [
        "\n",
        "Finished epoch 44 / 50: cost 1.012291, train: 0.710000, val 0.548000, lr 1.884131e-05"
       ]
      },
      {
       "output_type": "stream",
       "stream": "stdout",
       "text": [
        "\n",
        "Finished epoch 45 / 50: cost 1.032886, train: 0.714000, val 0.541000, lr 1.789925e-05"
       ]
      },
      {
       "output_type": "stream",
       "stream": "stdout",
       "text": [
        "\n",
        "Finished epoch 46 / 50: cost 0.963684, train: 0.690000, val 0.538000, lr 1.700428e-05"
       ]
      },
      {
       "output_type": "stream",
       "stream": "stdout",
       "text": [
        "\n",
        "Finished epoch 47 / 50: cost 0.903106, train: 0.705000, val 0.537000, lr 1.615407e-05"
       ]
      },
      {
       "output_type": "stream",
       "stream": "stdout",
       "text": [
        "\n",
        "Finished epoch 48 / 50: cost 0.934375, train: 0.677000, val 0.539000, lr 1.534637e-05"
       ]
      },
      {
       "output_type": "stream",
       "stream": "stdout",
       "text": [
        "\n",
        "Finished epoch 49 / 50: cost 0.935507, train: 0.713000, val 0.535000, lr 1.457905e-05"
       ]
      },
      {
       "output_type": "stream",
       "stream": "stdout",
       "text": [
        "\n",
        "Finished epoch 50 / 50: cost 0.943369, train: 0.696000, val 0.533000, lr 1.385010e-05"
       ]
      },
      {
       "output_type": "stream",
       "stream": "stdout",
       "text": [
        "\n",
        "finished optimization. best validation accuracy: 0.552000\n"
       ]
      },
      {
       "metadata": {},
       "output_type": "display_data",
       "png": "[encoded data removed]",
       "text": [
        "<matplotlib.figure.Figure at 0x103883390>"
       ]
      }
     ],
     "prompt_number": 4
    },
    {
     "cell_type": "code",
     "collapsed": false,
     "input": [],
     "language": "python",
     "metadata": {},
     "outputs": []
    }
   ],
   "metadata": {}
  }
 ]
}