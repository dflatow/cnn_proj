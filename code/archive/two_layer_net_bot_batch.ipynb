{
 "metadata": {
  "name": "",
  "signature": "sha256:e38dc0594a09cf07cda67513bd037a4c6e247a3e68631b80f68c340e15643ee7"
 },
 "nbformat": 3,
 "nbformat_minor": 0,
 "worksheets": [
  {
   "cells": [
    {
     "cell_type": "code",
     "collapsed": false,
     "input": [
      "import numpy as np\n",
      "import matplotlib.pyplot as plt\n",
      "import pandas as pd\n",
      "from cs231n.data_utils import load_CIFAR10\n",
      "from cs231n.classifier_trainer import ClassifierTrainer\n",
      "from cs231n.classifiers.neural_net import init_two_layer_model\n",
      "from cs231n.classifiers.neural_net import two_layer_net\n",
      "import cPickle as pickle\n",
      "import os\n",
      "\n",
      "\n",
      "%matplotlib inline\n",
      "plt.rcParams['figure.figsize'] = (10.0, 8.0) # set default size of plots\n",
      "plt.rcParams['image.interpolation'] = 'nearest'\n",
      "plt.rcParams['image.cmap'] = 'gray'\n",
      "\n",
      "# for auto-reloading external modules\n",
      "# see http://stackoverflow.com/questions/1907993/autoreload-of-modules-in-ipython\n",
      "%load_ext autoreload\n",
      "%autoreload 2\n",
      "\n",
      "def rel_error(x, y):\n",
      "  \"\"\" returns relative error \"\"\"\n",
      "  return np.max(np.abs(x - y) / (np.maximum(1e-8, np.abs(x) + np.abs(y))))\n",
      "\n",
      "\n",
      "def get_CIFAR10_data(num_training=49000, num_validation=1000, num_test=1000):\n",
      "    \"\"\"\n",
      "    Load the CIFAR-10 dataset from disk and perform preprocessing to prepare\n",
      "    it for the two-layer neural net classifier. These are the same steps as\n",
      "    we used for the SVM, but condensed to a single function.  \n",
      "    \"\"\"\n",
      "    # Load the raw CIFAR-10 data\n",
      "    cifar10_dir = 'cs231n/datasets/cifar-10-batches-py'\n",
      "    X_train, y_train, X_test, y_test = load_CIFAR10(cifar10_dir)\n",
      "        \n",
      "    # Subsample the data\n",
      "    mask = range(num_training, num_training + num_validation)\n",
      "    X_val = X_train[mask]\n",
      "    y_val = y_train[mask]\n",
      "    mask = range(num_training)\n",
      "    X_train = X_train[mask]\n",
      "    y_train = y_train[mask]\n",
      "    mask = range(num_test)\n",
      "    X_test = X_test[mask]\n",
      "    y_test = y_test[mask]\n",
      "\n",
      "    # Normalize the data: subtract the mean image\n",
      "    mean_image = np.mean(X_train, axis=0)\n",
      "    X_train -= mean_image\n",
      "    X_val -= mean_image\n",
      "    X_test -= mean_image\n",
      "\n",
      "    # Reshape data to rows\n",
      "    X_train = X_train.reshape(num_training, -1)\n",
      "    X_val = X_val.reshape(num_validation, -1)\n",
      "    X_test = X_test.reshape(num_test, -1)\n",
      "\n",
      "    return X_train, y_train, X_val, y_val, X_test, y_test\n",
      "\n",
      "\n",
      "# Invoke the above function to get our data.\n",
      "X_train, y_train, X_val, y_val, X_test, y_test = get_CIFAR10_data()\n",
      "print 'Train data shape: ', X_train.shape\n",
      "print 'Train labels shape: ', y_train.shape\n",
      "print 'Validation data shape: ', X_val.shape\n",
      "print 'Validation labels shape: ', y_val.shape\n",
      "print 'Test data shape: ', X_test.shape\n",
      "print 'Test labels shape: ', y_test.shape\n",
      "\n",
      "def run_model(results_file = None, hidden_size=None,\n",
      "              num_epochs=None, reg=None, batch_size=None, \n",
      "              momentum=None, learning_rate_decay=None, learning_rate=None):\n",
      "\n",
      "    model = init_two_layer_model(32*32*3, hidden_size, 10) # input size, hidden size, number of classes\n",
      "    trainer = ClassifierTrainer()\n",
      "    best_model, loss_history, train_acc, val_acc = trainer.train(X_train, y_train, X_val, y_val,\n",
      "                                             model, two_layer_net,\n",
      "                                             num_epochs=num_epochs, reg=reg, batch_size = batch_size,\n",
      "                                             momentum=momentum, learning_rate_decay = learning_rate_decay,\n",
      "                                             learning_rate=learning_rate, verbose=True)\n",
      "    \n",
      "    # Plot the loss function and train / validation accuracies\n",
      "    plt.subplot(2, 1, 1)\n",
      "    plt.plot(loss_history)\n",
      "    plt.title('Loss history')\n",
      "    plt.xlabel('Iteration')\n",
      "    plt.ylabel('Loss')\n",
      "\n",
      "    plt.subplot(2, 1, 2)\n",
      "    plt.plot(train_acc)\n",
      "    plt.plot(val_acc)\n",
      "    plt.legend(['Training accuracy', 'Validation accuracy'], loc='lower right')\n",
      "    plt.xlabel('Epoch')\n",
      "    plt.ylabel('Clasification accuracy')\n",
      "    \n",
      "    \n",
      "    # write results to a file\n",
      "    if not os.path.exists(filename):\n",
      "        df = pd.DataFrame(columns=['hidden_size', 'num_epochs', 'reg', 'batch_size', 'momentum',\n",
      "                           'learning_rate_decay', 'learning_rate', 'best_train', 'best_val'])\n",
      "    else:\n",
      "        df = pd.read_csv(filename, sep='\\t')\n",
      "        \n",
      "    df.loc[len(df)] = [hidden_size, num_epochs, reg, batch_size, momentum, \n",
      "                   learning_rate_decay, learning_rate, np.max(train_acc), np.max(val_acc)]\n",
      "    df.to_csv(filename, sep='\\t', index=False)\n",
      "    \n",
      "    return best_model, val_acc"
     ],
     "language": "python",
     "metadata": {},
     "outputs": [
      {
       "output_type": "stream",
       "stream": "stdout",
       "text": [
        "Train data shape:  (49000, 3072)\n",
        "Train labels shape:  (49000,)\n",
        "Validation data shape:  (1000, 3072)\n",
        "Validation labels shape:  (1000,)\n",
        "Test data shape:  (1000, 3072)\n",
        "Test labels shape:  (1000,)\n"
       ]
      }
     ],
     "prompt_number": 1
    },
    {
     "cell_type": "code",
     "collapsed": false,
     "input": [
      "hidden_size = 150\n",
      "reg = 0.1\n",
      "L_batch_size = [400, 600, 1000, 1500, 2000]\n",
      "learning_rate = 18e-5\n",
      "\n",
      "num_epochs = 50\n",
      "momentum = 0.9\n",
      "learning_rate_decay = 0.95\n",
      "filename = 'two_layer_nn_20150207_00.csv'\n",
      "best_model_file = 'best_two_layer_nn.p'\n",
      "reps = 2\n",
      "\n",
      "if not os.path.exists(best_model_file):\n",
      "    best_model, best_val_acc = None, 0.0\n",
      "else:\n",
      "    with open(best_model_file) as f:\n",
      "        best_model, best_val_acc = pickle.load(f)\n",
      "        print 'Standing val record: %f' % best_val_acc\n",
      "\n",
      "for _ in range(reps):\n",
      "    for batch_size in L_batch_size:\n",
      "        model, val_acc = run_model(results_file = filename, hidden_size=hidden_size,\n",
      "              num_epochs=num_epochs, reg=reg, batch_size=batch_size, \n",
      "              momentum=momentum, learning_rate_decay=learning_rate_decay, \n",
      "              learning_rate=learning_rate)\n",
      "    \n",
      "        if np.max(val_acc) > best_val_acc:\n",
      "            best_val_acc = np.max(val_acc)\n",
      "            with open(best_model_file, 'w') as f:\n",
      "                pickle.dump([model, best_val_acc], f)"
     ],
     "language": "python",
     "metadata": {},
     "outputs": [
      {
       "output_type": "stream",
       "stream": "stdout",
       "text": [
        "Finished epoch 0 / 50: cost 2.302587, train: 0.103000, val 0.098000, lr 1.800000e-04\n",
        "Finished epoch 1 / 50: cost 1.885084, train: 0.304000, val 0.309000, lr 1.710000e-04"
       ]
      },
      {
       "output_type": "stream",
       "stream": "stdout",
       "text": [
        "\n",
        "Finished epoch 2 / 50: cost 1.735877, train: 0.402000, val 0.410000, lr 1.624500e-04"
       ]
      },
      {
       "output_type": "stream",
       "stream": "stdout",
       "text": [
        "\n",
        "Finished epoch 3 / 50: cost 1.634421, train: 0.504000, val 0.441000, lr 1.543275e-04"
       ]
      },
      {
       "output_type": "stream",
       "stream": "stdout",
       "text": [
        "\n",
        "Finished epoch 4 / 50: cost 1.637313, train: 0.480000, val 0.471000, lr 1.466111e-04"
       ]
      },
      {
       "output_type": "stream",
       "stream": "stdout",
       "text": [
        "\n",
        "Finished epoch 5 / 50: cost 1.487927, train: 0.514000, val 0.483000, lr 1.392806e-04"
       ]
      },
      {
       "output_type": "stream",
       "stream": "stdout",
       "text": [
        "\n",
        "Finished epoch 6 / 50: cost 1.333058, train: 0.532000, val 0.492000, lr 1.323165e-04"
       ]
      },
      {
       "output_type": "stream",
       "stream": "stdout",
       "text": [
        "\n",
        "Finished epoch 7 / 50: cost 1.314919, train: 0.515000, val 0.501000, lr 1.257007e-04"
       ]
      },
      {
       "output_type": "stream",
       "stream": "stdout",
       "text": [
        "\n",
        "Finished epoch 8 / 50: cost 1.268485, train: 0.553000, val 0.516000, lr 1.194157e-04"
       ]
      },
      {
       "output_type": "stream",
       "stream": "stdout",
       "text": [
        "\n",
        "Finished epoch 9 / 50: cost 1.333143, train: 0.604000, val 0.510000, lr 1.134449e-04"
       ]
      },
      {
       "output_type": "stream",
       "stream": "stdout",
       "text": [
        "\n",
        "Finished epoch 10 / 50: cost 1.295351, train: 0.588000, val 0.527000, lr 1.077726e-04"
       ]
      },
      {
       "output_type": "stream",
       "stream": "stdout",
       "text": [
        "\n",
        "Finished epoch 11 / 50: cost 1.170855, train: 0.564000, val 0.533000, lr 1.023840e-04"
       ]
      },
      {
       "output_type": "stream",
       "stream": "stdout",
       "text": [
        "\n",
        "Finished epoch 12 / 50: cost 1.231406, train: 0.561000, val 0.530000, lr 9.726482e-05"
       ]
      },
      {
       "output_type": "stream",
       "stream": "stdout",
       "text": [
        "\n",
        "Finished epoch 13 / 50: cost 1.155354, train: 0.615000, val 0.539000, lr 9.240157e-05"
       ]
      },
      {
       "output_type": "stream",
       "stream": "stdout",
       "text": [
        "\n",
        "Finished epoch 14 / 50: cost 1.136996, train: 0.601000, val 0.542000, lr 8.778150e-05"
       ]
      },
      {
       "output_type": "stream",
       "stream": "stdout",
       "text": [
        "\n",
        "Finished epoch 15 / 50: cost 1.056073, train: 0.626000, val 0.546000, lr 8.339242e-05"
       ]
      },
      {
       "output_type": "stream",
       "stream": "stdout",
       "text": [
        "\n",
        "Finished epoch 16 / 50: cost 1.092815, train: 0.635000, val 0.547000, lr 7.922280e-05"
       ]
      },
      {
       "output_type": "stream",
       "stream": "stdout",
       "text": [
        "\n",
        "Finished epoch 17 / 50: cost 1.060125, train: 0.626000, val 0.537000, lr 7.526166e-05"
       ]
      },
      {
       "output_type": "stream",
       "stream": "stdout",
       "text": [
        "\n",
        "Finished epoch 18 / 50: cost 1.029601, train: 0.589000, val 0.547000, lr 7.149858e-05"
       ]
      },
      {
       "output_type": "stream",
       "stream": "stdout",
       "text": [
        "\n",
        "Finished epoch 19 / 50: cost 1.089156, train: 0.645000, val 0.541000, lr 6.792365e-05"
       ]
      },
      {
       "output_type": "stream",
       "stream": "stdout",
       "text": [
        "\n",
        "Finished epoch 20 / 50: cost 1.091711, train: 0.657000, val 0.546000, lr 6.452747e-05"
       ]
      },
      {
       "output_type": "stream",
       "stream": "stdout",
       "text": [
        "\n",
        "Finished epoch 21 / 50: cost 1.006711, train: 0.673000, val 0.557000, lr 6.130109e-05"
       ]
      },
      {
       "output_type": "stream",
       "stream": "stdout",
       "text": [
        "\n",
        "Finished epoch 22 / 50: cost 0.978160, train: 0.669000, val 0.544000, lr 5.823604e-05"
       ]
      },
      {
       "output_type": "stream",
       "stream": "stdout",
       "text": [
        "\n",
        "Finished epoch 23 / 50: cost 1.044184, train: 0.659000, val 0.519000, lr 5.532424e-05"
       ]
      },
      {
       "output_type": "stream",
       "stream": "stdout",
       "text": [
        "\n",
        "Finished epoch 24 / 50: cost 1.040887, train: 0.678000, val 0.549000, lr 5.255802e-05"
       ]
      },
      {
       "output_type": "stream",
       "stream": "stdout",
       "text": [
        "\n",
        "Finished epoch 25 / 50: cost 1.074484, train: 0.706000, val 0.549000, lr 4.993012e-05"
       ]
      },
      {
       "output_type": "stream",
       "stream": "stdout",
       "text": [
        "\n",
        "Finished epoch 26 / 50: cost 0.979282, train: 0.681000, val 0.543000, lr 4.743362e-05"
       ]
      },
      {
       "output_type": "stream",
       "stream": "stdout",
       "text": [
        "\n",
        "Finished epoch 27 / 50: cost 0.956933, train: 0.713000, val 0.545000, lr 4.506194e-05"
       ]
      },
      {
       "output_type": "stream",
       "stream": "stdout",
       "text": [
        "\n",
        "Finished epoch 28 / 50: cost 1.036633, train: 0.694000, val 0.537000, lr 4.280884e-05"
       ]
      },
      {
       "output_type": "stream",
       "stream": "stdout",
       "text": [
        "\n",
        "Finished epoch 29 / 50: cost 1.031126, train: 0.693000, val 0.543000, lr 4.066840e-05"
       ]
      },
      {
       "output_type": "stream",
       "stream": "stdout",
       "text": [
        "\n",
        "Finished epoch 30 / 50: cost 1.085357, train: 0.695000, val 0.540000, lr 3.863498e-05"
       ]
      },
      {
       "output_type": "stream",
       "stream": "stdout",
       "text": [
        "\n",
        "Finished epoch 31 / 50: cost 0.948682, train: 0.697000, val 0.547000, lr 3.670323e-05"
       ]
      },
      {
       "output_type": "stream",
       "stream": "stdout",
       "text": [
        "\n",
        "Finished epoch 32 / 50: cost 0.909494, train: 0.697000, val 0.534000, lr 3.486807e-05"
       ]
      },
      {
       "output_type": "stream",
       "stream": "stdout",
       "text": [
        "\n",
        "Finished epoch 33 / 50: cost 0.962458, train: 0.715000, val 0.541000, lr 3.312466e-05"
       ]
      },
      {
       "output_type": "stream",
       "stream": "stdout",
       "text": [
        "\n",
        "Finished epoch 34 / 50: cost 0.883808, train: 0.735000, val 0.549000, lr 3.146843e-05"
       ]
      },
      {
       "output_type": "stream",
       "stream": "stdout",
       "text": [
        "\n",
        "Finished epoch 35 / 50: cost 0.883817, train: 0.687000, val 0.546000, lr 2.989501e-05"
       ]
      },
      {
       "output_type": "stream",
       "stream": "stdout",
       "text": [
        "\n",
        "Finished epoch 36 / 50: cost 0.999235, train: 0.719000, val 0.550000, lr 2.840026e-05"
       ]
      },
      {
       "output_type": "stream",
       "stream": "stdout",
       "text": [
        "\n",
        "Finished epoch 37 / 50: cost 0.922302, train: 0.723000, val 0.549000, lr 2.698025e-05"
       ]
      },
      {
       "output_type": "stream",
       "stream": "stdout",
       "text": [
        "\n",
        "Finished epoch 38 / 50: cost 0.879867, train: 0.741000, val 0.538000, lr 2.563123e-05"
       ]
      },
      {
       "output_type": "stream",
       "stream": "stdout",
       "text": [
        "\n",
        "Finished epoch 39 / 50: cost 0.856507, train: 0.734000, val 0.552000, lr 2.434967e-05"
       ]
      },
      {
       "output_type": "stream",
       "stream": "stdout",
       "text": [
        "\n",
        "Finished epoch 40 / 50: cost 0.872044, train: 0.720000, val 0.550000, lr 2.313219e-05"
       ]
      },
      {
       "output_type": "stream",
       "stream": "stdout",
       "text": [
        "\n",
        "Finished epoch 41 / 50: cost 0.919934, train: 0.737000, val 0.546000, lr 2.197558e-05"
       ]
      },
      {
       "output_type": "stream",
       "stream": "stdout",
       "text": [
        "\n",
        "Finished epoch 42 / 50: cost 0.922666, train: 0.738000, val 0.533000, lr 2.087680e-05"
       ]
      },
      {
       "output_type": "stream",
       "stream": "stdout",
       "text": [
        "\n",
        "Finished epoch 43 / 50: cost 0.873033, train: 0.722000, val 0.547000, lr 1.983296e-05"
       ]
      },
      {
       "output_type": "stream",
       "stream": "stdout",
       "text": [
        "\n",
        "Finished epoch 44 / 50: cost 0.849082, train: 0.763000, val 0.533000, lr 1.884131e-05"
       ]
      },
      {
       "output_type": "stream",
       "stream": "stdout",
       "text": [
        "\n",
        "Finished epoch 45 / 50: cost 0.936412, train: 0.752000, val 0.561000, lr 1.789925e-05"
       ]
      },
      {
       "output_type": "stream",
       "stream": "stdout",
       "text": [
        "\n",
        "Finished epoch 46 / 50: cost 0.893409, train: 0.743000, val 0.549000, lr 1.700428e-05"
       ]
      },
      {
       "output_type": "stream",
       "stream": "stdout",
       "text": [
        "\n",
        "Finished epoch 47 / 50: cost 0.842572, train: 0.728000, val 0.549000, lr 1.615407e-05"
       ]
      },
      {
       "output_type": "stream",
       "stream": "stdout",
       "text": [
        "\n",
        "Finished epoch 48 / 50: cost 0.929623, train: 0.758000, val 0.544000, lr 1.534637e-05"
       ]
      },
      {
       "output_type": "stream",
       "stream": "stdout",
       "text": [
        "\n",
        "Finished epoch 49 / 50: cost 0.925360, train: 0.752000, val 0.549000, lr 1.457905e-05"
       ]
      },
      {
       "output_type": "stream",
       "stream": "stdout",
       "text": [
        "\n",
        "Finished epoch 50 / 50: cost 0.811569, train: 0.723000, val 0.549000, lr 1.385010e-05"
       ]
      },
      {
       "output_type": "stream",
       "stream": "stdout",
       "text": [
        "\n",
        "finished optimization. best validation accuracy: 0.561000\n",
        "Finished epoch 0 / 50: cost 2.302587, train: 0.131000, val 0.116000, lr 1.800000e-04"
       ]
      },
      {
       "output_type": "stream",
       "stream": "stdout",
       "text": [
        "\n",
        "Finished epoch 1 / 50: cost 2.059104, train: 0.241000, val 0.243000, lr 1.710000e-04"
       ]
      },
      {
       "output_type": "stream",
       "stream": "stdout",
       "text": [
        "\n",
        "Finished epoch 2 / 50: cost 1.780044, train: 0.349000, val 0.360000, lr 1.624500e-04"
       ]
      },
      {
       "output_type": "stream",
       "stream": "stdout",
       "text": [
        "\n",
        "Finished epoch 3 / 50: cost 1.687123, train: 0.395000, val 0.416000, lr 1.543275e-04"
       ]
      },
      {
       "output_type": "stream",
       "stream": "stdout",
       "text": [
        "\n",
        "Finished epoch 4 / 50: cost 1.617172, train: 0.419000, val 0.445000, lr 1.466111e-04"
       ]
      },
      {
       "output_type": "stream",
       "stream": "stdout",
       "text": [
        "\n",
        "Finished epoch 5 / 50: cost 1.478767, train: 0.460000, val 0.467000, lr 1.392806e-04"
       ]
      },
      {
       "output_type": "stream",
       "stream": "stdout",
       "text": [
        "\n",
        "Finished epoch 6 / 50: cost 1.485731, train: 0.499000, val 0.462000, lr 1.323165e-04"
       ]
      },
      {
       "output_type": "stream",
       "stream": "stdout",
       "text": [
        "\n",
        "Finished epoch 7 / 50: cost 1.440182, train: 0.490000, val 0.483000, lr 1.257007e-04"
       ]
      },
      {
       "output_type": "stream",
       "stream": "stdout",
       "text": [
        "\n",
        "Finished epoch 8 / 50: cost 1.390226, train: 0.499000, val 0.509000, lr 1.194157e-04"
       ]
      },
      {
       "output_type": "stream",
       "stream": "stdout",
       "text": [
        "\n",
        "Finished epoch 9 / 50: cost 1.400633, train: 0.498000, val 0.503000, lr 1.134449e-04"
       ]
      },
      {
       "output_type": "stream",
       "stream": "stdout",
       "text": [
        "\n",
        "Finished epoch 10 / 50: cost 1.461729, train: 0.542000, val 0.514000, lr 1.077726e-04"
       ]
      },
      {
       "output_type": "stream",
       "stream": "stdout",
       "text": [
        "\n",
        "Finished epoch 11 / 50: cost 1.353811, train: 0.567000, val 0.512000, lr 1.023840e-04"
       ]
      },
      {
       "output_type": "stream",
       "stream": "stdout",
       "text": [
        "\n",
        "Finished epoch 12 / 50: cost 1.283737, train: 0.557000, val 0.515000, lr 9.726482e-05"
       ]
      },
      {
       "output_type": "stream",
       "stream": "stdout",
       "text": [
        "\n",
        "Finished epoch 13 / 50: cost 1.230581, train: 0.558000, val 0.521000, lr 9.240157e-05"
       ]
      },
      {
       "output_type": "stream",
       "stream": "stdout",
       "text": [
        "\n",
        "Finished epoch 14 / 50: cost 1.201577, train: 0.580000, val 0.523000, lr 8.778150e-05"
       ]
      },
      {
       "output_type": "stream",
       "stream": "stdout",
       "text": [
        "\n",
        "Finished epoch 15 / 50: cost 1.247968, train: 0.598000, val 0.538000, lr 8.339242e-05"
       ]
      },
      {
       "output_type": "stream",
       "stream": "stdout",
       "text": [
        "\n",
        "Finished epoch 16 / 50: cost 1.173196, train: 0.584000, val 0.524000, lr 7.922280e-05"
       ]
      },
      {
       "output_type": "stream",
       "stream": "stdout",
       "text": [
        "\n",
        "Finished epoch 17 / 50: cost 1.277446, train: 0.610000, val 0.536000, lr 7.526166e-05"
       ]
      },
      {
       "output_type": "stream",
       "stream": "stdout",
       "text": [
        "\n",
        "Finished epoch 18 / 50: cost 1.189245, train: 0.586000, val 0.531000, lr 7.149858e-05"
       ]
      },
      {
       "output_type": "stream",
       "stream": "stdout",
       "text": [
        "\n",
        "Finished epoch 19 / 50: cost 1.149414, train: 0.593000, val 0.536000, lr 6.792365e-05"
       ]
      },
      {
       "output_type": "stream",
       "stream": "stdout",
       "text": [
        "\n",
        "Finished epoch 20 / 50: cost 1.260608, train: 0.606000, val 0.532000, lr 6.452747e-05"
       ]
      },
      {
       "output_type": "stream",
       "stream": "stdout",
       "text": [
        "\n",
        "Finished epoch 21 / 50: cost 1.229020, train: 0.584000, val 0.535000, lr 6.130109e-05"
       ]
      },
      {
       "output_type": "stream",
       "stream": "stdout",
       "text": [
        "\n",
        "Finished epoch 22 / 50: cost 1.164672, train: 0.634000, val 0.521000, lr 5.823604e-05"
       ]
      },
      {
       "output_type": "stream",
       "stream": "stdout",
       "text": [
        "\n",
        "Finished epoch 23 / 50: cost 1.203377, train: 0.612000, val 0.538000, lr 5.532424e-05"
       ]
      },
      {
       "output_type": "stream",
       "stream": "stdout",
       "text": [
        "\n",
        "Finished epoch 24 / 50: cost 1.103471, train: 0.637000, val 0.538000, lr 5.255802e-05"
       ]
      },
      {
       "output_type": "stream",
       "stream": "stdout",
       "text": [
        "\n",
        "Finished epoch 25 / 50: cost 1.111590, train: 0.629000, val 0.529000, lr 4.993012e-05"
       ]
      },
      {
       "output_type": "stream",
       "stream": "stdout",
       "text": [
        "\n",
        "Finished epoch 26 / 50: cost 1.074770, train: 0.609000, val 0.535000, lr 4.743362e-05"
       ]
      },
      {
       "output_type": "stream",
       "stream": "stdout",
       "text": [
        "\n",
        "Finished epoch 27 / 50: cost 1.103392, train: 0.632000, val 0.537000, lr 4.506194e-05"
       ]
      },
      {
       "output_type": "stream",
       "stream": "stdout",
       "text": [
        "\n",
        "Finished epoch 28 / 50: cost 1.112215, train: 0.660000, val 0.540000, lr 4.280884e-05"
       ]
      },
      {
       "output_type": "stream",
       "stream": "stdout",
       "text": [
        "\n",
        "Finished epoch 29 / 50: cost 1.040091, train: 0.614000, val 0.549000, lr 4.066840e-05"
       ]
      },
      {
       "output_type": "stream",
       "stream": "stdout",
       "text": [
        "\n",
        "Finished epoch 30 / 50: cost 1.054313, train: 0.638000, val 0.545000, lr 3.863498e-05"
       ]
      },
      {
       "output_type": "stream",
       "stream": "stdout",
       "text": [
        "\n",
        "Finished epoch 31 / 50: cost 1.131739, train: 0.659000, val 0.542000, lr 3.670323e-05"
       ]
      },
      {
       "output_type": "stream",
       "stream": "stdout",
       "text": [
        "\n",
        "Finished epoch 32 / 50: cost 1.093356, train: 0.670000, val 0.540000, lr 3.486807e-05"
       ]
      },
      {
       "output_type": "stream",
       "stream": "stdout",
       "text": [
        "\n",
        "Finished epoch 33 / 50: cost 1.076805, train: 0.671000, val 0.543000, lr 3.312466e-05"
       ]
      },
      {
       "output_type": "stream",
       "stream": "stdout",
       "text": [
        "\n",
        "Finished epoch 34 / 50: cost 1.099795, train: 0.651000, val 0.529000, lr 3.146843e-05"
       ]
      },
      {
       "output_type": "stream",
       "stream": "stdout",
       "text": [
        "\n",
        "Finished epoch 35 / 50: cost 1.092249, train: 0.632000, val 0.543000, lr 2.989501e-05"
       ]
      },
      {
       "output_type": "stream",
       "stream": "stdout",
       "text": [
        "\n",
        "Finished epoch 36 / 50: cost 1.078239, train: 0.665000, val 0.531000, lr 2.840026e-05"
       ]
      },
      {
       "output_type": "stream",
       "stream": "stdout",
       "text": [
        "\n",
        "Finished epoch 37 / 50: cost 1.068668, train: 0.667000, val 0.548000, lr 2.698025e-05"
       ]
      },
      {
       "output_type": "stream",
       "stream": "stdout",
       "text": [
        "\n",
        "Finished epoch 38 / 50: cost 0.974306, train: 0.664000, val 0.542000, lr 2.563123e-05"
       ]
      },
      {
       "output_type": "stream",
       "stream": "stdout",
       "text": [
        "\n",
        "Finished epoch 39 / 50: cost 1.101101, train: 0.664000, val 0.542000, lr 2.434967e-05"
       ]
      },
      {
       "output_type": "stream",
       "stream": "stdout",
       "text": [
        "\n",
        "Finished epoch 40 / 50: cost 1.010459, train: 0.677000, val 0.547000, lr 2.313219e-05"
       ]
      },
      {
       "output_type": "stream",
       "stream": "stdout",
       "text": [
        "\n",
        "Finished epoch 41 / 50: cost 0.987274, train: 0.670000, val 0.549000, lr 2.197558e-05"
       ]
      },
      {
       "output_type": "stream",
       "stream": "stdout",
       "text": [
        "\n",
        "Finished epoch 42 / 50: cost 1.046934, train: 0.659000, val 0.543000, lr 2.087680e-05"
       ]
      },
      {
       "output_type": "stream",
       "stream": "stdout",
       "text": [
        "\n",
        "Finished epoch 43 / 50: cost 1.036337, train: 0.674000, val 0.553000, lr 1.983296e-05"
       ]
      },
      {
       "output_type": "stream",
       "stream": "stdout",
       "text": [
        "\n",
        "Finished epoch 44 / 50: cost 1.064611, train: 0.686000, val 0.549000, lr 1.884131e-05"
       ]
      },
      {
       "output_type": "stream",
       "stream": "stdout",
       "text": [
        "\n",
        "Finished epoch 45 / 50: cost 1.063680, train: 0.716000, val 0.547000, lr 1.789925e-05"
       ]
      },
      {
       "output_type": "stream",
       "stream": "stdout",
       "text": [
        "\n",
        "Finished epoch 46 / 50: cost 0.999016, train: 0.673000, val 0.550000, lr 1.700428e-05"
       ]
      },
      {
       "output_type": "stream",
       "stream": "stdout",
       "text": [
        "\n",
        "Finished epoch 47 / 50: cost 1.034022, train: 0.688000, val 0.546000, lr 1.615407e-05"
       ]
      },
      {
       "output_type": "stream",
       "stream": "stdout",
       "text": [
        "\n",
        "Finished epoch 48 / 50: cost 0.951330, train: 0.682000, val 0.553000, lr 1.534637e-05"
       ]
      },
      {
       "output_type": "stream",
       "stream": "stdout",
       "text": [
        "\n",
        "Finished epoch 49 / 50: cost 0.964386, train: 0.688000, val 0.554000, lr 1.457905e-05"
       ]
      },
      {
       "output_type": "stream",
       "stream": "stdout",
       "text": [
        "\n",
        "Finished epoch 50 / 50: cost 0.927245, train: 0.688000, val 0.551000, lr 1.385010e-05"
       ]
      },
      {
       "output_type": "stream",
       "stream": "stdout",
       "text": [
        "\n",
        "finished optimization. best validation accuracy: 0.554000\n",
        "Finished epoch 0 / 50: cost 2.302587, train: 0.105000, val 0.107000, lr 1.800000e-04"
       ]
      },
      {
       "output_type": "stream",
       "stream": "stdout",
       "text": [
        "\n",
        "Finished epoch 1 / 50: cost 2.271889, train: 0.168000, val 0.178000, lr 1.710000e-04"
       ]
      },
      {
       "output_type": "stream",
       "stream": "stdout",
       "text": [
        "\n",
        "Finished epoch 2 / 50: cost 2.001637, train: 0.270000, val 0.272000, lr 1.624500e-04"
       ]
      },
      {
       "output_type": "stream",
       "stream": "stdout",
       "text": [
        "\n",
        "Finished epoch 3 / 50: cost 1.835416, train: 0.369000, val 0.350000, lr 1.543275e-04"
       ]
      },
      {
       "output_type": "stream",
       "stream": "stdout",
       "text": [
        "\n",
        "Finished epoch 4 / 50: cost 1.719190, train: 0.392000, val 0.384000, lr 1.466111e-04"
       ]
      },
      {
       "output_type": "stream",
       "stream": "stdout",
       "text": [
        "\n",
        "Finished epoch 5 / 50: cost 1.661617, train: 0.390000, val 0.404000, lr 1.392806e-04"
       ]
      },
      {
       "output_type": "stream",
       "stream": "stdout",
       "text": [
        "\n",
        "Finished epoch 6 / 50: cost 1.630007, train: 0.439000, val 0.448000, lr 1.323165e-04"
       ]
      },
      {
       "output_type": "stream",
       "stream": "stdout",
       "text": [
        "\n",
        "Finished epoch 7 / 50: cost 1.548248, train: 0.442000, val 0.450000, lr 1.257007e-04"
       ]
      },
      {
       "output_type": "stream",
       "stream": "stdout",
       "text": [
        "\n",
        "Finished epoch 8 / 50: cost 1.538338, train: 0.470000, val 0.457000, lr 1.194157e-04"
       ]
      },
      {
       "output_type": "stream",
       "stream": "stdout",
       "text": [
        "\n",
        "Finished epoch 9 / 50: cost 1.492509, train: 0.466000, val 0.464000, lr 1.134449e-04"
       ]
      },
      {
       "output_type": "stream",
       "stream": "stdout",
       "text": [
        "\n",
        "Finished epoch 10 / 50: cost 1.465234, train: 0.494000, val 0.467000, lr 1.077726e-04"
       ]
      },
      {
       "output_type": "stream",
       "stream": "stdout",
       "text": [
        "\n",
        "Finished epoch 11 / 50: cost 1.489681, train: 0.524000, val 0.468000, lr 1.023840e-04"
       ]
      },
      {
       "output_type": "stream",
       "stream": "stdout",
       "text": [
        "\n",
        "Finished epoch 12 / 50: cost 1.437212, train: 0.501000, val 0.487000, lr 9.726482e-05"
       ]
      },
      {
       "output_type": "stream",
       "stream": "stdout",
       "text": [
        "\n",
        "Finished epoch 13 / 50: cost 1.398795, train: 0.491000, val 0.475000, lr 9.240157e-05"
       ]
      },
      {
       "output_type": "stream",
       "stream": "stdout",
       "text": [
        "\n",
        "Finished epoch 14 / 50: cost 1.395758, train: 0.531000, val 0.480000, lr 8.778150e-05"
       ]
      },
      {
       "output_type": "stream",
       "stream": "stdout",
       "text": [
        "\n",
        "Finished epoch 15 / 50: cost 1.329184, train: 0.508000, val 0.491000, lr 8.339242e-05"
       ]
      },
      {
       "output_type": "stream",
       "stream": "stdout",
       "text": [
        "\n",
        "Finished epoch 16 / 50: cost 1.386983, train: 0.530000, val 0.497000, lr 7.922280e-05"
       ]
      },
      {
       "output_type": "stream",
       "stream": "stdout",
       "text": [
        "\n",
        "Finished epoch 17 / 50: cost 1.365146, train: 0.538000, val 0.489000, lr 7.526166e-05"
       ]
      },
      {
       "output_type": "stream",
       "stream": "stdout",
       "text": [
        "\n",
        "Finished epoch 18 / 50: cost 1.369220, train: 0.500000, val 0.505000, lr 7.149858e-05"
       ]
      },
      {
       "output_type": "stream",
       "stream": "stdout",
       "text": [
        "\n",
        "Finished epoch 19 / 50: cost 1.283089, train: 0.521000, val 0.509000, lr 6.792365e-05"
       ]
      },
      {
       "output_type": "stream",
       "stream": "stdout",
       "text": [
        "\n",
        "Finished epoch 20 / 50: cost 1.322043, train: 0.563000, val 0.516000, lr 6.452747e-05"
       ]
      },
      {
       "output_type": "stream",
       "stream": "stdout",
       "text": [
        "\n",
        "Finished epoch 21 / 50: cost 1.326423, train: 0.542000, val 0.515000, lr 6.130109e-05"
       ]
      },
      {
       "output_type": "stream",
       "stream": "stdout",
       "text": [
        "\n",
        "Finished epoch 22 / 50: cost 1.343976, train: 0.529000, val 0.520000, lr 5.823604e-05"
       ]
      },
      {
       "output_type": "stream",
       "stream": "stdout",
       "text": [
        "\n",
        "Finished epoch 23 / 50: cost 1.278022, train: 0.545000, val 0.535000, lr 5.532424e-05"
       ]
      },
      {
       "output_type": "stream",
       "stream": "stdout",
       "text": [
        "\n",
        "Finished epoch 24 / 50: cost 1.252803, train: 0.545000, val 0.513000, lr 5.255802e-05"
       ]
      },
      {
       "output_type": "stream",
       "stream": "stdout",
       "text": [
        "\n",
        "Finished epoch 25 / 50: cost 1.362678, train: 0.550000, val 0.520000, lr 4.993012e-05"
       ]
      },
      {
       "output_type": "stream",
       "stream": "stdout",
       "text": [
        "\n",
        "Finished epoch 26 / 50: cost 1.297840, train: 0.560000, val 0.528000, lr 4.743362e-05"
       ]
      },
      {
       "output_type": "stream",
       "stream": "stdout",
       "text": [
        "\n",
        "Finished epoch 27 / 50: cost 1.263151, train: 0.571000, val 0.537000, lr 4.506194e-05"
       ]
      },
      {
       "output_type": "stream",
       "stream": "stdout",
       "text": [
        "\n",
        "Finished epoch 28 / 50: cost 1.305924, train: 0.580000, val 0.531000, lr 4.280884e-05"
       ]
      },
      {
       "output_type": "stream",
       "stream": "stdout",
       "text": [
        "\n",
        "Finished epoch 29 / 50: cost 1.268873, train: 0.566000, val 0.538000, lr 4.066840e-05"
       ]
      },
      {
       "output_type": "stream",
       "stream": "stdout",
       "text": [
        "\n",
        "Finished epoch 30 / 50: cost 1.250661, train: 0.584000, val 0.529000, lr 3.863498e-05"
       ]
      },
      {
       "output_type": "stream",
       "stream": "stdout",
       "text": [
        "\n",
        "Finished epoch 31 / 50: cost 1.238799, train: 0.591000, val 0.536000, lr 3.670323e-05"
       ]
      },
      {
       "output_type": "stream",
       "stream": "stdout",
       "text": [
        "\n",
        "Finished epoch 32 / 50: cost 1.198010, train: 0.578000, val 0.537000, lr 3.486807e-05"
       ]
      },
      {
       "output_type": "stream",
       "stream": "stdout",
       "text": [
        "\n",
        "Finished epoch 33 / 50: cost 1.227108, train: 0.593000, val 0.538000, lr 3.312466e-05"
       ]
      },
      {
       "output_type": "stream",
       "stream": "stdout",
       "text": [
        "\n",
        "Finished epoch 34 / 50: cost 1.207225, train: 0.598000, val 0.537000, lr 3.146843e-05"
       ]
      },
      {
       "output_type": "stream",
       "stream": "stdout",
       "text": [
        "\n",
        "Finished epoch 35 / 50: cost 1.177270, train: 0.578000, val 0.544000, lr 2.989501e-05"
       ]
      },
      {
       "output_type": "stream",
       "stream": "stdout",
       "text": [
        "\n",
        "Finished epoch 36 / 50: cost 1.262848, train: 0.602000, val 0.540000, lr 2.840026e-05"
       ]
      },
      {
       "output_type": "stream",
       "stream": "stdout",
       "text": [
        "\n",
        "Finished epoch 37 / 50: cost 1.135810, train: 0.608000, val 0.538000, lr 2.698025e-05"
       ]
      },
      {
       "output_type": "stream",
       "stream": "stdout",
       "text": [
        "\n",
        "Finished epoch 38 / 50: cost 1.204330, train: 0.599000, val 0.540000, lr 2.563123e-05"
       ]
      },
      {
       "output_type": "stream",
       "stream": "stdout",
       "text": [
        "\n",
        "Finished epoch 39 / 50: cost 1.209799, train: 0.592000, val 0.548000, lr 2.434967e-05"
       ]
      },
      {
       "output_type": "stream",
       "stream": "stdout",
       "text": [
        "\n",
        "Finished epoch 40 / 50: cost 1.221369, train: 0.607000, val 0.548000, lr 2.313219e-05"
       ]
      },
      {
       "output_type": "stream",
       "stream": "stdout",
       "text": [
        "\n",
        "Finished epoch 41 / 50: cost 1.214965, train: 0.607000, val 0.548000, lr 2.197558e-05"
       ]
      },
      {
       "output_type": "stream",
       "stream": "stdout",
       "text": [
        "\n",
        "Finished epoch 42 / 50: cost 1.208780, train: 0.595000, val 0.544000, lr 2.087680e-05"
       ]
      },
      {
       "output_type": "stream",
       "stream": "stdout",
       "text": [
        "\n",
        "Finished epoch 43 / 50: cost 1.190313, train: 0.561000, val 0.535000, lr 1.983296e-05"
       ]
      },
      {
       "output_type": "stream",
       "stream": "stdout",
       "text": [
        "\n",
        "Finished epoch 44 / 50: cost 1.193223, train: 0.579000, val 0.538000, lr 1.884131e-05"
       ]
      },
      {
       "output_type": "stream",
       "stream": "stdout",
       "text": [
        "\n",
        "Finished epoch 45 / 50: cost 1.196628, train: 0.633000, val 0.542000, lr 1.789925e-05"
       ]
      },
      {
       "output_type": "stream",
       "stream": "stdout",
       "text": [
        "\n",
        "Finished epoch 46 / 50: cost 1.264172, train: 0.604000, val 0.546000, lr 1.700428e-05"
       ]
      },
      {
       "output_type": "stream",
       "stream": "stdout",
       "text": [
        "\n",
        "Finished epoch 47 / 50: cost 1.187530, train: 0.588000, val 0.552000, lr 1.615407e-05"
       ]
      },
      {
       "output_type": "stream",
       "stream": "stdout",
       "text": [
        "\n",
        "Finished epoch 48 / 50: cost 1.169951, train: 0.619000, val 0.551000, lr 1.534637e-05"
       ]
      },
      {
       "output_type": "stream",
       "stream": "stdout",
       "text": [
        "\n",
        "Finished epoch 49 / 50: cost 1.160954, train: 0.593000, val 0.544000, lr 1.457905e-05"
       ]
      },
      {
       "output_type": "stream",
       "stream": "stdout",
       "text": [
        "\n",
        "Finished epoch 50 / 50: cost 1.216039, train: 0.592000, val 0.550000, lr 1.385010e-05"
       ]
      },
      {
       "output_type": "stream",
       "stream": "stdout",
       "text": [
        "\n",
        "finished optimization. best validation accuracy: 0.552000\n",
        "Finished epoch 0 / 50: cost 2.302587, train: 0.112000, val 0.119000, lr 1.800000e-04"
       ]
      },
      {
       "output_type": "stream",
       "stream": "stdout",
       "text": [
        "\n",
        "Finished epoch 1 / 50: cost 2.301998, train: 0.178000, val 0.200000, lr 1.710000e-04"
       ]
      },
      {
       "output_type": "stream",
       "stream": "stdout",
       "text": [
        "\n",
        "Finished epoch 2 / 50: cost 2.168271, train: 0.174000, val 0.202000, lr 1.624500e-04"
       ]
      },
      {
       "output_type": "stream",
       "stream": "stdout",
       "text": [
        "\n",
        "Finished epoch 3 / 50: cost 2.015820, train: 0.254000, val 0.265000, lr 1.543275e-04"
       ]
      },
      {
       "output_type": "stream",
       "stream": "stdout",
       "text": [
        "\n",
        "Finished epoch 4 / 50: cost 1.897046, train: 0.336000, val 0.319000, lr 1.466111e-04"
       ]
      },
      {
       "output_type": "stream",
       "stream": "stdout",
       "text": [
        "\n",
        "Finished epoch 5 / 50: cost 1.770274, train: 0.377000, val 0.358000, lr 1.392806e-04"
       ]
      },
      {
       "output_type": "stream",
       "stream": "stdout",
       "text": [
        "\n",
        "Finished epoch 6 / 50: cost 1.771676, train: 0.390000, val 0.378000, lr 1.323165e-04"
       ]
      },
      {
       "output_type": "stream",
       "stream": "stdout",
       "text": [
        "\n",
        "Finished epoch 7 / 50: cost 1.710936, train: 0.403000, val 0.391000, lr 1.257007e-04"
       ]
      },
      {
       "output_type": "stream",
       "stream": "stdout",
       "text": [
        "\n",
        "Finished epoch 8 / 50: cost 1.643795, train: 0.410000, val 0.413000, lr 1.194157e-04"
       ]
      },
      {
       "output_type": "stream",
       "stream": "stdout",
       "text": [
        "\n",
        "Finished epoch 9 / 50: cost 1.644445, train: 0.415000, val 0.420000, lr 1.134449e-04"
       ]
      },
      {
       "output_type": "stream",
       "stream": "stdout",
       "text": [
        "\n",
        "Finished epoch 10 / 50: cost 1.644079, train: 0.435000, val 0.440000, lr 1.077726e-04"
       ]
      },
      {
       "output_type": "stream",
       "stream": "stdout",
       "text": [
        "\n",
        "Finished epoch 11 / 50: cost 1.607145, train: 0.457000, val 0.445000, lr 1.023840e-04"
       ]
      },
      {
       "output_type": "stream",
       "stream": "stdout",
       "text": [
        "\n",
        "Finished epoch 12 / 50: cost 1.537568, train: 0.427000, val 0.453000, lr 9.726482e-05"
       ]
      },
      {
       "output_type": "stream",
       "stream": "stdout",
       "text": [
        "\n",
        "Finished epoch 13 / 50: cost 1.522409, train: 0.452000, val 0.465000, lr 9.240157e-05"
       ]
      },
      {
       "output_type": "stream",
       "stream": "stdout",
       "text": [
        "\n",
        "Finished epoch 14 / 50: cost 1.494581, train: 0.483000, val 0.454000, lr 8.778150e-05"
       ]
      },
      {
       "output_type": "stream",
       "stream": "stdout",
       "text": [
        "\n",
        "Finished epoch 15 / 50: cost 1.512731, train: 0.477000, val 0.448000, lr 8.339242e-05"
       ]
      },
      {
       "output_type": "stream",
       "stream": "stdout",
       "text": [
        "\n",
        "Finished epoch 16 / 50: cost 1.519138, train: 0.463000, val 0.460000, lr 7.922280e-05"
       ]
      },
      {
       "output_type": "stream",
       "stream": "stdout",
       "text": [
        "\n",
        "Finished epoch 17 / 50: cost 1.453200, train: 0.454000, val 0.461000, lr 7.526166e-05"
       ]
      },
      {
       "output_type": "stream",
       "stream": "stdout",
       "text": [
        "\n",
        "Finished epoch 18 / 50: cost 1.496417, train: 0.467000, val 0.462000, lr 7.149858e-05"
       ]
      },
      {
       "output_type": "stream",
       "stream": "stdout",
       "text": [
        "\n",
        "Finished epoch 19 / 50: cost 1.458693, train: 0.493000, val 0.462000, lr 6.792365e-05"
       ]
      },
      {
       "output_type": "stream",
       "stream": "stdout",
       "text": [
        "\n",
        "Finished epoch 20 / 50: cost 1.477859, train: 0.479000, val 0.468000, lr 6.452747e-05"
       ]
      },
      {
       "output_type": "stream",
       "stream": "stdout",
       "text": [
        "\n",
        "Finished epoch 21 / 50: cost 1.463579, train: 0.531000, val 0.465000, lr 6.130109e-05"
       ]
      },
      {
       "output_type": "stream",
       "stream": "stdout",
       "text": [
        "\n",
        "Finished epoch 22 / 50: cost 1.459880, train: 0.494000, val 0.477000, lr 5.823604e-05"
       ]
      },
      {
       "output_type": "stream",
       "stream": "stdout",
       "text": [
        "\n",
        "Finished epoch 23 / 50: cost 1.485358, train: 0.506000, val 0.470000, lr 5.532424e-05"
       ]
      },
      {
       "output_type": "stream",
       "stream": "stdout",
       "text": [
        "\n",
        "Finished epoch 24 / 50: cost 1.431581, train: 0.512000, val 0.469000, lr 5.255802e-05"
       ]
      },
      {
       "output_type": "stream",
       "stream": "stdout",
       "text": [
        "\n",
        "Finished epoch 25 / 50: cost 1.403976, train: 0.510000, val 0.476000, lr 4.993012e-05"
       ]
      },
      {
       "output_type": "stream",
       "stream": "stdout",
       "text": [
        "\n",
        "Finished epoch 26 / 50: cost 1.420540, train: 0.524000, val 0.485000, lr 4.743362e-05"
       ]
      },
      {
       "output_type": "stream",
       "stream": "stdout",
       "text": [
        "\n",
        "Finished epoch 27 / 50: cost 1.431977, train: 0.512000, val 0.476000, lr 4.506194e-05"
       ]
      },
      {
       "output_type": "stream",
       "stream": "stdout",
       "text": [
        "\n",
        "Finished epoch 28 / 50: cost 1.402082, train: 0.492000, val 0.482000, lr 4.280884e-05"
       ]
      },
      {
       "output_type": "stream",
       "stream": "stdout",
       "text": [
        "\n",
        "Finished epoch 29 / 50: cost 1.447327, train: 0.506000, val 0.491000, lr 4.066840e-05"
       ]
      },
      {
       "output_type": "stream",
       "stream": "stdout",
       "text": [
        "\n",
        "Finished epoch 30 / 50: cost 1.436868, train: 0.514000, val 0.483000, lr 3.863498e-05"
       ]
      },
      {
       "output_type": "stream",
       "stream": "stdout",
       "text": [
        "\n",
        "Finished epoch 31 / 50: cost 1.344458, train: 0.525000, val 0.484000, lr 3.670323e-05"
       ]
      },
      {
       "output_type": "stream",
       "stream": "stdout",
       "text": [
        "\n",
        "Finished epoch 32 / 50: cost 1.373471, train: 0.481000, val 0.489000, lr 3.486807e-05"
       ]
      },
      {
       "output_type": "stream",
       "stream": "stdout",
       "text": [
        "\n",
        "Finished epoch 33 / 50: cost 1.366691, train: 0.531000, val 0.491000, lr 3.312466e-05"
       ]
      },
      {
       "output_type": "stream",
       "stream": "stdout",
       "text": [
        "\n",
        "Finished epoch 34 / 50: cost 1.403580, train: 0.514000, val 0.496000, lr 3.146843e-05"
       ]
      },
      {
       "output_type": "stream",
       "stream": "stdout",
       "text": [
        "\n",
        "Finished epoch 35 / 50: cost 1.342801, train: 0.520000, val 0.488000, lr 2.989501e-05"
       ]
      },
      {
       "output_type": "stream",
       "stream": "stdout",
       "text": [
        "\n",
        "Finished epoch 36 / 50: cost 1.390205, train: 0.538000, val 0.496000, lr 2.840026e-05"
       ]
      },
      {
       "output_type": "stream",
       "stream": "stdout",
       "text": [
        "\n",
        "Finished epoch 37 / 50: cost 1.359681, train: 0.525000, val 0.493000, lr 2.698025e-05"
       ]
      },
      {
       "output_type": "stream",
       "stream": "stdout",
       "text": [
        "\n",
        "Finished epoch 38 / 50: cost 1.352466, train: 0.551000, val 0.491000, lr 2.563123e-05"
       ]
      },
      {
       "output_type": "stream",
       "stream": "stdout",
       "text": [
        "\n",
        "Finished epoch 39 / 50: cost 1.359917, train: 0.550000, val 0.496000, lr 2.434967e-05"
       ]
      },
      {
       "output_type": "stream",
       "stream": "stdout",
       "text": [
        "\n",
        "Finished epoch 40 / 50: cost 1.331796, train: 0.549000, val 0.495000, lr 2.313219e-05"
       ]
      },
      {
       "output_type": "stream",
       "stream": "stdout",
       "text": [
        "\n",
        "Finished epoch 41 / 50: cost 1.395815, train: 0.536000, val 0.495000, lr 2.197558e-05"
       ]
      },
      {
       "output_type": "stream",
       "stream": "stdout",
       "text": [
        "\n",
        "Finished epoch 42 / 50: cost 1.302706, train: 0.530000, val 0.499000, lr 2.087680e-05"
       ]
      },
      {
       "output_type": "stream",
       "stream": "stdout",
       "text": [
        "\n",
        "Finished epoch 43 / 50: cost 1.341734, train: 0.529000, val 0.495000, lr 1.983296e-05"
       ]
      },
      {
       "output_type": "stream",
       "stream": "stdout",
       "text": [
        "\n",
        "Finished epoch 44 / 50: cost 1.359960, train: 0.530000, val 0.490000, lr 1.884131e-05"
       ]
      },
      {
       "output_type": "stream",
       "stream": "stdout",
       "text": [
        "\n",
        "Finished epoch 45 / 50: cost 1.356082, train: 0.553000, val 0.496000, lr 1.789925e-05"
       ]
      },
      {
       "output_type": "stream",
       "stream": "stdout",
       "text": [
        "\n",
        "Finished epoch 46 / 50: cost 1.337050, train: 0.539000, val 0.493000, lr 1.700428e-05"
       ]
      },
      {
       "output_type": "stream",
       "stream": "stdout",
       "text": [
        "\n",
        "Finished epoch 47 / 50: cost 1.381969, train: 0.544000, val 0.496000, lr 1.615407e-05"
       ]
      },
      {
       "output_type": "stream",
       "stream": "stdout",
       "text": [
        "\n",
        "Finished epoch 48 / 50: cost 1.333504, train: 0.541000, val 0.495000, lr 1.534637e-05"
       ]
      },
      {
       "output_type": "stream",
       "stream": "stdout",
       "text": [
        "\n",
        "Finished epoch 49 / 50: cost 1.346957, train: 0.518000, val 0.496000, lr 1.457905e-05"
       ]
      },
      {
       "output_type": "stream",
       "stream": "stdout",
       "text": [
        "\n",
        "Finished epoch 50 / 50: cost 1.369978, train: 0.553000, val 0.491000, lr 1.385010e-05"
       ]
      },
      {
       "output_type": "stream",
       "stream": "stdout",
       "text": [
        "\n",
        "finished optimization. best validation accuracy: 0.499000\n",
        "Finished epoch 0 / 50: cost 2.302587, train: 0.134000, val 0.117000, lr 1.800000e-04"
       ]
      },
      {
       "output_type": "stream",
       "stream": "stdout",
       "text": [
        "\n",
        "Finished epoch 1 / 50: cost 2.302475, train: 0.176000, val 0.189000, lr 1.710000e-04"
       ]
      },
      {
       "output_type": "stream",
       "stream": "stdout",
       "text": [
        "\n",
        "Finished epoch 2 / 50: cost 2.281680, train: 0.169000, val 0.162000, lr 1.624500e-04"
       ]
      },
      {
       "output_type": "stream",
       "stream": "stdout",
       "text": [
        "\n",
        "Finished epoch 3 / 50: cost 2.111368, train: 0.212000, val 0.226000, lr 1.543275e-04"
       ]
      },
      {
       "output_type": "stream",
       "stream": "stdout",
       "text": [
        "\n",
        "Finished epoch 4 / 50: cost 1.998415, train: 0.246000, val 0.258000, lr 1.466111e-04"
       ]
      },
      {
       "output_type": "stream",
       "stream": "stdout",
       "text": [
        "\n",
        "Finished epoch 5 / 50: cost 1.908626, train: 0.291000, val 0.287000, lr 1.392806e-04"
       ]
      },
      {
       "output_type": "stream",
       "stream": "stdout",
       "text": [
        "\n",
        "Finished epoch 6 / 50: cost 1.861813, train: 0.316000, val 0.319000, lr 1.323165e-04"
       ]
      },
      {
       "output_type": "stream",
       "stream": "stdout",
       "text": [
        "\n",
        "Finished epoch 7 / 50: cost 1.831439, train: 0.327000, val 0.352000, lr 1.257007e-04"
       ]
      },
      {
       "output_type": "stream",
       "stream": "stdout",
       "text": [
        "\n",
        "Finished epoch 8 / 50: cost 1.749165, train: 0.392000, val 0.371000, lr 1.194157e-04"
       ]
      },
      {
       "output_type": "stream",
       "stream": "stdout",
       "text": [
        "\n",
        "Finished epoch 9 / 50: cost 1.732311, train: 0.377000, val 0.376000, lr 1.134449e-04"
       ]
      },
      {
       "output_type": "stream",
       "stream": "stdout",
       "text": [
        "\n",
        "Finished epoch 10 / 50: cost 1.721983, train: 0.416000, val 0.395000, lr 1.077726e-04"
       ]
      },
      {
       "output_type": "stream",
       "stream": "stdout",
       "text": [
        "\n",
        "Finished epoch 11 / 50: cost 1.702122, train: 0.402000, val 0.396000, lr 1.023840e-04"
       ]
      },
      {
       "output_type": "stream",
       "stream": "stdout",
       "text": [
        "\n",
        "Finished epoch 12 / 50: cost 1.676104, train: 0.380000, val 0.414000, lr 9.726482e-05"
       ]
      },
      {
       "output_type": "stream",
       "stream": "stdout",
       "text": [
        "\n",
        "Finished epoch 13 / 50: cost 1.701967, train: 0.437000, val 0.424000, lr 9.240157e-05"
       ]
      },
      {
       "output_type": "stream",
       "stream": "stdout",
       "text": [
        "\n",
        "Finished epoch 14 / 50: cost 1.669110, train: 0.443000, val 0.429000, lr 8.778150e-05"
       ]
      },
      {
       "output_type": "stream",
       "stream": "stdout",
       "text": [
        "\n",
        "Finished epoch 15 / 50: cost 1.562284, train: 0.445000, val 0.436000, lr 8.339242e-05"
       ]
      },
      {
       "output_type": "stream",
       "stream": "stdout",
       "text": [
        "\n",
        "Finished epoch 16 / 50: cost 1.584601, train: 0.450000, val 0.442000, lr 7.922280e-05"
       ]
      },
      {
       "output_type": "stream",
       "stream": "stdout",
       "text": [
        "\n",
        "Finished epoch 17 / 50: cost 1.617970, train: 0.436000, val 0.445000, lr 7.526166e-05"
       ]
      },
      {
       "output_type": "stream",
       "stream": "stdout",
       "text": [
        "\n",
        "Finished epoch 18 / 50: cost 1.562763, train: 0.446000, val 0.454000, lr 7.149858e-05"
       ]
      },
      {
       "output_type": "stream",
       "stream": "stdout",
       "text": [
        "\n",
        "Finished epoch 19 / 50: cost 1.552459, train: 0.453000, val 0.451000, lr 6.792365e-05"
       ]
      },
      {
       "output_type": "stream",
       "stream": "stdout",
       "text": [
        "\n",
        "Finished epoch 20 / 50: cost 1.556803, train: 0.463000, val 0.460000, lr 6.452747e-05"
       ]
      },
      {
       "output_type": "stream",
       "stream": "stdout",
       "text": [
        "\n",
        "Finished epoch 21 / 50: cost 1.559927, train: 0.425000, val 0.464000, lr 6.130109e-05"
       ]
      },
      {
       "output_type": "stream",
       "stream": "stdout",
       "text": [
        "\n",
        "Finished epoch 22 / 50: cost 1.564451, train: 0.499000, val 0.459000, lr 5.823604e-05"
       ]
      },
      {
       "output_type": "stream",
       "stream": "stdout",
       "text": [
        "\n",
        "Finished epoch 23 / 50: cost 1.511882, train: 0.453000, val 0.458000, lr 5.532424e-05"
       ]
      },
      {
       "output_type": "stream",
       "stream": "stdout",
       "text": [
        "\n",
        "Finished epoch 24 / 50: cost 1.511923, train: 0.473000, val 0.464000, lr 5.255802e-05"
       ]
      },
      {
       "output_type": "stream",
       "stream": "stdout",
       "text": [
        "\n",
        "Finished epoch 25 / 50: cost 1.489949, train: 0.469000, val 0.468000, lr 4.993012e-05"
       ]
      },
      {
       "output_type": "stream",
       "stream": "stdout",
       "text": [
        "\n",
        "Finished epoch 26 / 50: cost 1.468186, train: 0.487000, val 0.475000, lr 4.743362e-05"
       ]
      },
      {
       "output_type": "stream",
       "stream": "stdout",
       "text": [
        "\n",
        "Finished epoch 27 / 50: cost 1.505506, train: 0.472000, val 0.462000, lr 4.506194e-05"
       ]
      },
      {
       "output_type": "stream",
       "stream": "stdout",
       "text": [
        "\n",
        "Finished epoch 28 / 50: cost 1.474971, train: 0.523000, val 0.469000, lr 4.280884e-05"
       ]
      },
      {
       "output_type": "stream",
       "stream": "stdout",
       "text": [
        "\n",
        "Finished epoch 29 / 50: cost 1.456235, train: 0.486000, val 0.472000, lr 4.066840e-05"
       ]
      },
      {
       "output_type": "stream",
       "stream": "stdout",
       "text": [
        "\n",
        "Finished epoch 30 / 50: cost 1.480313, train: 0.509000, val 0.473000, lr 3.863498e-05"
       ]
      },
      {
       "output_type": "stream",
       "stream": "stdout",
       "text": [
        "\n",
        "Finished epoch 31 / 50: cost 1.473979, train: 0.484000, val 0.470000, lr 3.670323e-05"
       ]
      },
      {
       "output_type": "stream",
       "stream": "stdout",
       "text": [
        "\n",
        "Finished epoch 32 / 50: cost 1.460041, train: 0.483000, val 0.472000, lr 3.486807e-05"
       ]
      },
      {
       "output_type": "stream",
       "stream": "stdout",
       "text": [
        "\n",
        "Finished epoch 33 / 50: cost 1.461173, train: 0.488000, val 0.472000, lr 3.312466e-05"
       ]
      },
      {
       "output_type": "stream",
       "stream": "stdout",
       "text": [
        "\n",
        "Finished epoch 34 / 50: cost 1.442559, train: 0.514000, val 0.472000, lr 3.146843e-05"
       ]
      },
      {
       "output_type": "stream",
       "stream": "stdout",
       "text": [
        "\n",
        "Finished epoch 35 / 50: cost 1.447103, train: 0.505000, val 0.471000, lr 2.989501e-05"
       ]
      },
      {
       "output_type": "stream",
       "stream": "stdout",
       "text": [
        "\n",
        "Finished epoch 36 / 50: cost 1.468638, train: 0.504000, val 0.473000, lr 2.840026e-05"
       ]
      },
      {
       "output_type": "stream",
       "stream": "stdout",
       "text": [
        "\n",
        "Finished epoch 37 / 50: cost 1.485534, train: 0.484000, val 0.474000, lr 2.698025e-05"
       ]
      },
      {
       "output_type": "stream",
       "stream": "stdout",
       "text": [
        "\n",
        "Finished epoch 38 / 50: cost 1.519752, train: 0.529000, val 0.473000, lr 2.563123e-05"
       ]
      },
      {
       "output_type": "stream",
       "stream": "stdout",
       "text": [
        "\n",
        "Finished epoch 39 / 50: cost 1.437702, train: 0.478000, val 0.476000, lr 2.434967e-05"
       ]
      },
      {
       "output_type": "stream",
       "stream": "stdout",
       "text": [
        "\n",
        "Finished epoch 40 / 50: cost 1.417292, train: 0.513000, val 0.478000, lr 2.313219e-05"
       ]
      },
      {
       "output_type": "stream",
       "stream": "stdout",
       "text": [
        "\n",
        "Finished epoch 41 / 50: cost 1.452591, train: 0.499000, val 0.481000, lr 2.197558e-05"
       ]
      },
      {
       "output_type": "stream",
       "stream": "stdout",
       "text": [
        "\n",
        "Finished epoch 42 / 50: cost 1.472307, train: 0.489000, val 0.472000, lr 2.087680e-05"
       ]
      },
      {
       "output_type": "stream",
       "stream": "stdout",
       "text": [
        "\n",
        "Finished epoch 43 / 50: cost 1.398856, train: 0.488000, val 0.480000, lr 1.983296e-05"
       ]
      },
      {
       "output_type": "stream",
       "stream": "stdout",
       "text": [
        "\n",
        "Finished epoch 44 / 50: cost 1.419901, train: 0.508000, val 0.477000, lr 1.884131e-05"
       ]
      },
      {
       "output_type": "stream",
       "stream": "stdout",
       "text": [
        "\n",
        "Finished epoch 45 / 50: cost 1.421633, train: 0.509000, val 0.481000, lr 1.789925e-05"
       ]
      },
      {
       "output_type": "stream",
       "stream": "stdout",
       "text": [
        "\n",
        "Finished epoch 46 / 50: cost 1.462798, train: 0.479000, val 0.478000, lr 1.700428e-05"
       ]
      },
      {
       "output_type": "stream",
       "stream": "stdout",
       "text": [
        "\n",
        "Finished epoch 47 / 50: cost 1.416275, train: 0.506000, val 0.488000, lr 1.615407e-05"
       ]
      },
      {
       "output_type": "stream",
       "stream": "stdout",
       "text": [
        "\n",
        "Finished epoch 48 / 50: cost 1.453594, train: 0.509000, val 0.478000, lr 1.534637e-05"
       ]
      },
      {
       "output_type": "stream",
       "stream": "stdout",
       "text": [
        "\n",
        "Finished epoch 49 / 50: cost 1.408407, train: 0.507000, val 0.483000, lr 1.457905e-05"
       ]
      },
      {
       "output_type": "stream",
       "stream": "stdout",
       "text": [
        "\n",
        "Finished epoch 50 / 50: cost 1.398305, train: 0.527000, val 0.482000, lr 1.385010e-05"
       ]
      },
      {
       "output_type": "stream",
       "stream": "stdout",
       "text": [
        "\n",
        "finished optimization. best validation accuracy: 0.488000\n",
        "Finished epoch 0 / 50: cost 2.302588, train: 0.094000, val 0.090000, lr 1.800000e-04"
       ]
      },
      {
       "output_type": "stream",
       "stream": "stdout",
       "text": [
        "\n",
        "Finished epoch 1 / 50: cost 1.907217, train: 0.277000, val 0.311000, lr 1.710000e-04"
       ]
      },
      {
       "output_type": "stream",
       "stream": "stdout",
       "text": [
        "\n",
        "Finished epoch 2 / 50: cost 1.688893, train: 0.413000, val 0.416000, lr 1.624500e-04"
       ]
      },
      {
       "output_type": "stream",
       "stream": "stdout",
       "text": [
        "\n",
        "Finished epoch 3 / 50: cost 1.577358, train: 0.460000, val 0.466000, lr 1.543275e-04"
       ]
      },
      {
       "output_type": "stream",
       "stream": "stdout",
       "text": [
        "\n",
        "Finished epoch 4 / 50: cost 1.491131, train: 0.463000, val 0.479000, lr 1.466111e-04"
       ]
      },
      {
       "output_type": "stream",
       "stream": "stdout",
       "text": [
        "\n",
        "Finished epoch 5 / 50: cost 1.353205, train: 0.525000, val 0.480000, lr 1.392806e-04"
       ]
      },
      {
       "output_type": "stream",
       "stream": "stdout",
       "text": [
        "\n",
        "Finished epoch 6 / 50: cost 1.270551, train: 0.526000, val 0.501000, lr 1.323165e-04"
       ]
      },
      {
       "output_type": "stream",
       "stream": "stdout",
       "text": [
        "\n",
        "Finished epoch 7 / 50: cost 1.260738, train: 0.550000, val 0.512000, lr 1.257007e-04"
       ]
      },
      {
       "output_type": "stream",
       "stream": "stdout",
       "text": [
        "\n",
        "Finished epoch 8 / 50: cost 1.291488, train: 0.562000, val 0.503000, lr 1.194157e-04"
       ]
      },
      {
       "output_type": "stream",
       "stream": "stdout",
       "text": [
        "\n",
        "Finished epoch 9 / 50: cost 1.245979, train: 0.548000, val 0.525000, lr 1.134449e-04"
       ]
      },
      {
       "output_type": "stream",
       "stream": "stdout",
       "text": [
        "\n",
        "Finished epoch 10 / 50: cost 1.178281, train: 0.569000, val 0.520000, lr 1.077726e-04"
       ]
      },
      {
       "output_type": "stream",
       "stream": "stdout",
       "text": [
        "\n",
        "Finished epoch 11 / 50: cost 1.281442, train: 0.596000, val 0.519000, lr 1.023840e-04"
       ]
      },
      {
       "output_type": "stream",
       "stream": "stdout",
       "text": [
        "\n",
        "Finished epoch 12 / 50: cost 1.226845, train: 0.630000, val 0.535000, lr 9.726482e-05"
       ]
      },
      {
       "output_type": "stream",
       "stream": "stdout",
       "text": [
        "\n",
        "Finished epoch 13 / 50: cost 1.285884, train: 0.618000, val 0.518000, lr 9.240157e-05"
       ]
      },
      {
       "output_type": "stream",
       "stream": "stdout",
       "text": [
        "\n",
        "Finished epoch 14 / 50: cost 1.090501, train: 0.605000, val 0.540000, lr 8.778150e-05"
       ]
      },
      {
       "output_type": "stream",
       "stream": "stdout",
       "text": [
        "\n",
        "Finished epoch 15 / 50: cost 1.073259, train: 0.605000, val 0.520000, lr 8.339242e-05"
       ]
      },
      {
       "output_type": "stream",
       "stream": "stdout",
       "text": [
        "\n",
        "Finished epoch 16 / 50: cost 1.125998, train: 0.614000, val 0.537000, lr 7.922280e-05"
       ]
      },
      {
       "output_type": "stream",
       "stream": "stdout",
       "text": [
        "\n",
        "Finished epoch 17 / 50: cost 1.113949, train: 0.634000, val 0.528000, lr 7.526166e-05"
       ]
      },
      {
       "output_type": "stream",
       "stream": "stdout",
       "text": [
        "\n",
        "Finished epoch 18 / 50: cost 1.044941, train: 0.626000, val 0.531000, lr 7.149858e-05"
       ]
      },
      {
       "output_type": "stream",
       "stream": "stdout",
       "text": [
        "\n",
        "Finished epoch 19 / 50: cost 1.195254, train: 0.640000, val 0.544000, lr 6.792365e-05"
       ]
      },
      {
       "output_type": "stream",
       "stream": "stdout",
       "text": [
        "\n",
        "Finished epoch 20 / 50: cost 1.040666, train: 0.653000, val 0.545000, lr 6.452747e-05"
       ]
      },
      {
       "output_type": "stream",
       "stream": "stdout",
       "text": [
        "\n",
        "Finished epoch 21 / 50: cost 0.985755, train: 0.674000, val 0.539000, lr 6.130109e-05"
       ]
      },
      {
       "output_type": "stream",
       "stream": "stdout",
       "text": [
        "\n",
        "Finished epoch 22 / 50: cost 0.947368, train: 0.664000, val 0.531000, lr 5.823604e-05"
       ]
      },
      {
       "output_type": "stream",
       "stream": "stdout",
       "text": [
        "\n",
        "Finished epoch 23 / 50: cost 1.054010, train: 0.641000, val 0.538000, lr 5.532424e-05"
       ]
      },
      {
       "output_type": "stream",
       "stream": "stdout",
       "text": [
        "\n",
        "Finished epoch 24 / 50: cost 0.918392, train: 0.664000, val 0.537000, lr 5.255802e-05"
       ]
      },
      {
       "output_type": "stream",
       "stream": "stdout",
       "text": [
        "\n",
        "Finished epoch 25 / 50: cost 0.999830, train: 0.673000, val 0.548000, lr 4.993012e-05"
       ]
      },
      {
       "output_type": "stream",
       "stream": "stdout",
       "text": [
        "\n",
        "Finished epoch 26 / 50: cost 1.010903, train: 0.670000, val 0.535000, lr 4.743362e-05"
       ]
      },
      {
       "output_type": "stream",
       "stream": "stdout",
       "text": [
        "\n",
        "Finished epoch 27 / 50: cost 1.064561, train: 0.692000, val 0.538000, lr 4.506194e-05"
       ]
      },
      {
       "output_type": "stream",
       "stream": "stdout",
       "text": [
        "\n",
        "Finished epoch 28 / 50: cost 0.972193, train: 0.683000, val 0.528000, lr 4.280884e-05"
       ]
      },
      {
       "output_type": "stream",
       "stream": "stdout",
       "text": [
        "\n",
        "Finished epoch 29 / 50: cost 0.988921, train: 0.669000, val 0.544000, lr 4.066840e-05"
       ]
      },
      {
       "output_type": "stream",
       "stream": "stdout",
       "text": [
        "\n",
        "Finished epoch 30 / 50: cost 0.921596, train: 0.691000, val 0.539000, lr 3.863498e-05"
       ]
      },
      {
       "output_type": "stream",
       "stream": "stdout",
       "text": [
        "\n",
        "Finished epoch 31 / 50: cost 0.952410, train: 0.717000, val 0.547000, lr 3.670323e-05"
       ]
      },
      {
       "output_type": "stream",
       "stream": "stdout",
       "text": [
        "\n",
        "Finished epoch 32 / 50: cost 0.956616, train: 0.724000, val 0.544000, lr 3.486807e-05"
       ]
      },
      {
       "output_type": "stream",
       "stream": "stdout",
       "text": [
        "\n",
        "Finished epoch 33 / 50: cost 0.845907, train: 0.712000, val 0.548000, lr 3.312466e-05"
       ]
      },
      {
       "output_type": "stream",
       "stream": "stdout",
       "text": [
        "\n",
        "Finished epoch 34 / 50: cost 0.890999, train: 0.718000, val 0.532000, lr 3.146843e-05"
       ]
      },
      {
       "output_type": "stream",
       "stream": "stdout",
       "text": [
        "\n",
        "Finished epoch 35 / 50: cost 0.924890, train: 0.729000, val 0.539000, lr 2.989501e-05"
       ]
      },
      {
       "output_type": "stream",
       "stream": "stdout",
       "text": [
        "\n",
        "Finished epoch 36 / 50: cost 0.948343, train: 0.727000, val 0.547000, lr 2.840026e-05"
       ]
      },
      {
       "output_type": "stream",
       "stream": "stdout",
       "text": [
        "\n",
        "Finished epoch 37 / 50: cost 1.001925, train: 0.732000, val 0.544000, lr 2.698025e-05"
       ]
      },
      {
       "output_type": "stream",
       "stream": "stdout",
       "text": [
        "\n",
        "Finished epoch 38 / 50: cost 0.969211, train: 0.729000, val 0.553000, lr 2.563123e-05"
       ]
      },
      {
       "output_type": "stream",
       "stream": "stdout",
       "text": [
        "\n",
        "Finished epoch 39 / 50: cost 0.907093, train: 0.719000, val 0.541000, lr 2.434967e-05"
       ]
      },
      {
       "output_type": "stream",
       "stream": "stdout",
       "text": [
        "\n",
        "Finished epoch 40 / 50: cost 0.822370, train: 0.706000, val 0.540000, lr 2.313219e-05"
       ]
      },
      {
       "output_type": "stream",
       "stream": "stdout",
       "text": [
        "\n",
        "Finished epoch 41 / 50: cost 0.891089, train: 0.716000, val 0.540000, lr 2.197558e-05"
       ]
      },
      {
       "output_type": "stream",
       "stream": "stdout",
       "text": [
        "\n",
        "Finished epoch 42 / 50: cost 0.912109, train: 0.720000, val 0.543000, lr 2.087680e-05"
       ]
      },
      {
       "output_type": "stream",
       "stream": "stdout",
       "text": [
        "\n",
        "Finished epoch 43 / 50: cost 0.862444, train: 0.734000, val 0.552000, lr 1.983296e-05"
       ]
      },
      {
       "output_type": "stream",
       "stream": "stdout",
       "text": [
        "\n",
        "Finished epoch 44 / 50: cost 0.892581, train: 0.760000, val 0.543000, lr 1.884131e-05"
       ]
      },
      {
       "output_type": "stream",
       "stream": "stdout",
       "text": [
        "\n",
        "Finished epoch 45 / 50: cost 0.815455, train: 0.733000, val 0.545000, lr 1.789925e-05"
       ]
      },
      {
       "output_type": "stream",
       "stream": "stdout",
       "text": [
        "\n",
        "Finished epoch 46 / 50: cost 0.915913, train: 0.738000, val 0.553000, lr 1.700428e-05"
       ]
      },
      {
       "output_type": "stream",
       "stream": "stdout",
       "text": [
        "\n",
        "Finished epoch 47 / 50: cost 0.869938, train: 0.740000, val 0.547000, lr 1.615407e-05"
       ]
      },
      {
       "output_type": "stream",
       "stream": "stdout",
       "text": [
        "\n",
        "Finished epoch 48 / 50: cost 0.894918, train: 0.755000, val 0.554000, lr 1.534637e-05"
       ]
      },
      {
       "output_type": "stream",
       "stream": "stdout",
       "text": [
        "\n",
        "Finished epoch 49 / 50: cost 0.845622, train: 0.739000, val 0.543000, lr 1.457905e-05"
       ]
      },
      {
       "output_type": "stream",
       "stream": "stdout",
       "text": [
        "\n",
        "Finished epoch 50 / 50: cost 0.834835, train: 0.757000, val 0.545000, lr 1.385010e-05"
       ]
      },
      {
       "output_type": "stream",
       "stream": "stdout",
       "text": [
        "\n",
        "finished optimization. best validation accuracy: 0.554000\n",
        "Finished epoch 0 / 50: cost 2.302588, train: 0.113000, val 0.108000, lr 1.800000e-04"
       ]
      },
      {
       "output_type": "stream",
       "stream": "stdout",
       "text": [
        "\n",
        "Finished epoch 1 / 50: cost 2.086517, train: 0.223000, val 0.219000, lr 1.710000e-04"
       ]
      },
      {
       "output_type": "stream",
       "stream": "stdout",
       "text": [
        "\n",
        "Finished epoch 2 / 50: cost 1.774965, train: 0.328000, val 0.357000, lr 1.624500e-04"
       ]
      },
      {
       "output_type": "stream",
       "stream": "stdout",
       "text": [
        "\n",
        "Finished epoch 3 / 50: cost 1.599416, train: 0.412000, val 0.394000, lr 1.543275e-04"
       ]
      },
      {
       "output_type": "stream",
       "stream": "stdout",
       "text": [
        "\n",
        "Finished epoch 4 / 50: cost 1.638150, train: 0.436000, val 0.451000, lr 1.466111e-04"
       ]
      },
      {
       "output_type": "stream",
       "stream": "stdout",
       "text": [
        "\n",
        "Finished epoch 5 / 50: cost 1.571819, train: 0.462000, val 0.469000, lr 1.392806e-04"
       ]
      },
      {
       "output_type": "stream",
       "stream": "stdout",
       "text": [
        "\n",
        "Finished epoch 6 / 50: cost 1.411309, train: 0.487000, val 0.473000, lr 1.323165e-04"
       ]
      },
      {
       "output_type": "stream",
       "stream": "stdout",
       "text": [
        "\n",
        "Finished epoch 7 / 50: cost 1.420802, train: 0.516000, val 0.490000, lr 1.257007e-04"
       ]
      },
      {
       "output_type": "stream",
       "stream": "stdout",
       "text": [
        "\n",
        "Finished epoch 8 / 50: cost 1.402416, train: 0.499000, val 0.490000, lr 1.194157e-04"
       ]
      },
      {
       "output_type": "stream",
       "stream": "stdout",
       "text": [
        "\n",
        "Finished epoch 9 / 50: cost 1.372598, train: 0.550000, val 0.490000, lr 1.134449e-04"
       ]
      },
      {
       "output_type": "stream",
       "stream": "stdout",
       "text": [
        "\n",
        "Finished epoch 10 / 50: cost 1.303954, train: 0.553000, val 0.506000, lr 1.077726e-04"
       ]
      },
      {
       "output_type": "stream",
       "stream": "stdout",
       "text": [
        "\n",
        "Finished epoch 11 / 50: cost 1.341369, train: 0.553000, val 0.511000, lr 1.023840e-04"
       ]
      },
      {
       "output_type": "stream",
       "stream": "stdout",
       "text": [
        "\n",
        "Finished epoch 12 / 50: cost 1.287772, train: 0.559000, val 0.524000, lr 9.726482e-05"
       ]
      },
      {
       "output_type": "stream",
       "stream": "stdout",
       "text": [
        "\n",
        "Finished epoch 13 / 50: cost 1.263151, train: 0.551000, val 0.493000, lr 9.240157e-05"
       ]
      },
      {
       "output_type": "stream",
       "stream": "stdout",
       "text": [
        "\n",
        "Finished epoch 14 / 50: cost 1.207653, train: 0.557000, val 0.515000, lr 8.778150e-05"
       ]
      },
      {
       "output_type": "stream",
       "stream": "stdout",
       "text": [
        "\n",
        "Finished epoch 15 / 50: cost 1.232390, train: 0.581000, val 0.530000, lr 8.339242e-05"
       ]
      },
      {
       "output_type": "stream",
       "stream": "stdout",
       "text": [
        "\n",
        "Finished epoch 16 / 50: cost 1.270638, train: 0.574000, val 0.528000, lr 7.922280e-05"
       ]
      },
      {
       "output_type": "stream",
       "stream": "stdout",
       "text": [
        "\n",
        "Finished epoch 17 / 50: cost 1.202305, train: 0.576000, val 0.527000, lr 7.526166e-05"
       ]
      },
      {
       "output_type": "stream",
       "stream": "stdout",
       "text": [
        "\n",
        "Finished epoch 18 / 50: cost 1.198716, train: 0.625000, val 0.537000, lr 7.149858e-05"
       ]
      },
      {
       "output_type": "stream",
       "stream": "stdout",
       "text": [
        "\n",
        "Finished epoch 19 / 50: cost 1.196456, train: 0.583000, val 0.532000, lr 6.792365e-05"
       ]
      },
      {
       "output_type": "stream",
       "stream": "stdout",
       "text": [
        "\n",
        "Finished epoch 20 / 50: cost 1.190987, train: 0.633000, val 0.528000, lr 6.452747e-05"
       ]
      },
      {
       "output_type": "stream",
       "stream": "stdout",
       "text": [
        "\n",
        "Finished epoch 21 / 50: cost 1.200219, train: 0.594000, val 0.544000, lr 6.130109e-05"
       ]
      },
      {
       "output_type": "stream",
       "stream": "stdout",
       "text": [
        "\n",
        "Finished epoch 22 / 50: cost 1.132829, train: 0.623000, val 0.534000, lr 5.823604e-05"
       ]
      },
      {
       "output_type": "stream",
       "stream": "stdout",
       "text": [
        "\n",
        "Finished epoch 23 / 50: cost 1.069386, train: 0.617000, val 0.543000, lr 5.532424e-05"
       ]
      },
      {
       "output_type": "stream",
       "stream": "stdout",
       "text": [
        "\n",
        "Finished epoch 24 / 50: cost 1.102011, train: 0.606000, val 0.545000, lr 5.255802e-05"
       ]
      },
      {
       "output_type": "stream",
       "stream": "stdout",
       "text": [
        "\n",
        "Finished epoch 25 / 50: cost 1.151128, train: 0.631000, val 0.547000, lr 4.993012e-05"
       ]
      },
      {
       "output_type": "stream",
       "stream": "stdout",
       "text": [
        "\n",
        "Finished epoch 26 / 50: cost 1.130850, train: 0.608000, val 0.538000, lr 4.743362e-05"
       ]
      },
      {
       "output_type": "stream",
       "stream": "stdout",
       "text": [
        "\n",
        "Finished epoch 27 / 50: cost 1.107610, train: 0.624000, val 0.555000, lr 4.506194e-05"
       ]
      },
      {
       "output_type": "stream",
       "stream": "stdout",
       "text": [
        "\n",
        "Finished epoch 28 / 50: cost 1.027957, train: 0.647000, val 0.552000, lr 4.280884e-05"
       ]
      },
      {
       "output_type": "stream",
       "stream": "stdout",
       "text": [
        "\n",
        "Finished epoch 29 / 50: cost 1.069345, train: 0.667000, val 0.541000, lr 4.066840e-05"
       ]
      },
      {
       "output_type": "stream",
       "stream": "stdout",
       "text": [
        "\n",
        "Finished epoch 30 / 50: cost 1.097792, train: 0.642000, val 0.543000, lr 3.863498e-05"
       ]
      },
      {
       "output_type": "stream",
       "stream": "stdout",
       "text": [
        "\n",
        "Finished epoch 31 / 50: cost 1.043405, train: 0.630000, val 0.554000, lr 3.670323e-05"
       ]
      },
      {
       "output_type": "stream",
       "stream": "stdout",
       "text": [
        "\n",
        "Finished epoch 32 / 50: cost 1.096260, train: 0.652000, val 0.540000, lr 3.486807e-05"
       ]
      },
      {
       "output_type": "stream",
       "stream": "stdout",
       "text": [
        "\n",
        "Finished epoch 33 / 50: cost 1.018280, train: 0.663000, val 0.547000, lr 3.312466e-05"
       ]
      },
      {
       "output_type": "stream",
       "stream": "stdout",
       "text": [
        "\n",
        "Finished epoch 34 / 50: cost 1.008583, train: 0.663000, val 0.570000, lr 3.146843e-05"
       ]
      },
      {
       "output_type": "stream",
       "stream": "stdout",
       "text": [
        "\n",
        "Finished epoch 35 / 50: cost 1.047112, train: 0.668000, val 0.564000, lr 2.989501e-05"
       ]
      },
      {
       "output_type": "stream",
       "stream": "stdout",
       "text": [
        "\n",
        "Finished epoch 36 / 50: cost 1.016522, train: 0.667000, val 0.562000, lr 2.840026e-05"
       ]
      },
      {
       "output_type": "stream",
       "stream": "stdout",
       "text": [
        "\n",
        "Finished epoch 37 / 50: cost 1.051432, train: 0.686000, val 0.558000, lr 2.698025e-05"
       ]
      },
      {
       "output_type": "stream",
       "stream": "stdout",
       "text": [
        "\n",
        "Finished epoch 38 / 50: cost 1.039235, train: 0.675000, val 0.553000, lr 2.563123e-05"
       ]
      },
      {
       "output_type": "stream",
       "stream": "stdout",
       "text": [
        "\n",
        "Finished epoch 39 / 50: cost 0.970984, train: 0.666000, val 0.555000, lr 2.434967e-05"
       ]
      },
      {
       "output_type": "stream",
       "stream": "stdout",
       "text": [
        "\n",
        "Finished epoch 40 / 50: cost 1.016922, train: 0.667000, val 0.564000, lr 2.313219e-05"
       ]
      },
      {
       "output_type": "stream",
       "stream": "stdout",
       "text": [
        "\n",
        "Finished epoch 41 / 50: cost 0.999044, train: 0.679000, val 0.562000, lr 2.197558e-05"
       ]
      },
      {
       "output_type": "stream",
       "stream": "stdout",
       "text": [
        "\n",
        "Finished epoch 42 / 50: cost 1.056543, train: 0.658000, val 0.558000, lr 2.087680e-05"
       ]
      },
      {
       "output_type": "stream",
       "stream": "stdout",
       "text": [
        "\n",
        "Finished epoch 43 / 50: cost 0.971502, train: 0.691000, val 0.567000, lr 1.983296e-05"
       ]
      },
      {
       "output_type": "stream",
       "stream": "stdout",
       "text": [
        "\n",
        "Finished epoch 44 / 50: cost 1.033603, train: 0.689000, val 0.559000, lr 1.884131e-05"
       ]
      },
      {
       "output_type": "stream",
       "stream": "stdout",
       "text": [
        "\n",
        "Finished epoch 45 / 50: cost 1.037740, train: 0.690000, val 0.567000, lr 1.789925e-05"
       ]
      },
      {
       "output_type": "stream",
       "stream": "stdout",
       "text": [
        "\n",
        "Finished epoch 46 / 50: cost 1.009966, train: 0.661000, val 0.565000, lr 1.700428e-05"
       ]
      },
      {
       "output_type": "stream",
       "stream": "stdout",
       "text": [
        "\n",
        "Finished epoch 47 / 50: cost 1.039316, train: 0.682000, val 0.562000, lr 1.615407e-05"
       ]
      },
      {
       "output_type": "stream",
       "stream": "stdout",
       "text": [
        "\n",
        "Finished epoch 48 / 50: cost 1.049668, train: 0.672000, val 0.552000, lr 1.534637e-05"
       ]
      },
      {
       "output_type": "stream",
       "stream": "stdout",
       "text": [
        "\n",
        "Finished epoch 49 / 50: cost 1.004498, train: 0.671000, val 0.553000, lr 1.457905e-05"
       ]
      },
      {
       "output_type": "stream",
       "stream": "stdout",
       "text": [
        "\n",
        "Finished epoch 50 / 50: cost 1.014776, train: 0.692000, val 0.564000, lr 1.385010e-05"
       ]
      },
      {
       "output_type": "stream",
       "stream": "stdout",
       "text": [
        "\n",
        "finished optimization. best validation accuracy: 0.570000\n",
        "Finished epoch 0 / 50: cost 2.302587, train: 0.100000, val 0.122000, lr 1.800000e-04"
       ]
      },
      {
       "output_type": "stream",
       "stream": "stdout",
       "text": [
        "\n",
        "Finished epoch 1 / 50: cost 2.279745, train: 0.152000, val 0.192000, lr 1.710000e-04"
       ]
      },
      {
       "output_type": "stream",
       "stream": "stdout",
       "text": [
        "\n",
        "Finished epoch 2 / 50: cost 1.983484, train: 0.250000, val 0.270000, lr 1.624500e-04"
       ]
      },
      {
       "output_type": "stream",
       "stream": "stdout",
       "text": [
        "\n",
        "Finished epoch 3 / 50: cost 1.813583, train: 0.339000, val 0.335000, lr 1.543275e-04"
       ]
      },
      {
       "output_type": "stream",
       "stream": "stdout",
       "text": [
        "\n",
        "Finished epoch 4 / 50: cost 1.750632, train: 0.399000, val 0.391000, lr 1.466111e-04"
       ]
      },
      {
       "output_type": "stream",
       "stream": "stdout",
       "text": [
        "\n",
        "Finished epoch 5 / 50: cost 1.714349, train: 0.418000, val 0.394000, lr 1.392806e-04"
       ]
      },
      {
       "output_type": "stream",
       "stream": "stdout",
       "text": [
        "\n",
        "Finished epoch 6 / 50: cost 1.648444, train: 0.456000, val 0.429000, lr 1.323165e-04"
       ]
      },
      {
       "output_type": "stream",
       "stream": "stdout",
       "text": [
        "\n",
        "Finished epoch 7 / 50: cost 1.622097, train: 0.463000, val 0.457000, lr 1.257007e-04"
       ]
      },
      {
       "output_type": "stream",
       "stream": "stdout",
       "text": [
        "\n",
        "Finished epoch 8 / 50: cost 1.526676, train: 0.492000, val 0.452000, lr 1.194157e-04"
       ]
      },
      {
       "output_type": "stream",
       "stream": "stdout",
       "text": [
        "\n",
        "Finished epoch 9 / 50: cost 1.507209, train: 0.435000, val 0.473000, lr 1.134449e-04"
       ]
      },
      {
       "output_type": "stream",
       "stream": "stdout",
       "text": [
        "\n",
        "Finished epoch 10 / 50: cost 1.504789, train: 0.485000, val 0.469000, lr 1.077726e-04"
       ]
      },
      {
       "output_type": "stream",
       "stream": "stdout",
       "text": [
        "\n",
        "Finished epoch 11 / 50: cost 1.494463, train: 0.505000, val 0.471000, lr 1.023840e-04"
       ]
      },
      {
       "output_type": "stream",
       "stream": "stdout",
       "text": [
        "\n",
        "Finished epoch 12 / 50: cost 1.460867, train: 0.510000, val 0.478000, lr 9.726482e-05"
       ]
      },
      {
       "output_type": "stream",
       "stream": "stdout",
       "text": [
        "\n",
        "Finished epoch 13 / 50: cost 1.420492, train: 0.496000, val 0.480000, lr 9.240157e-05"
       ]
      },
      {
       "output_type": "stream",
       "stream": "stdout",
       "text": [
        "\n",
        "Finished epoch 14 / 50: cost 1.427453, train: 0.534000, val 0.487000, lr 8.778150e-05"
       ]
      },
      {
       "output_type": "stream",
       "stream": "stdout",
       "text": [
        "\n",
        "Finished epoch 15 / 50: cost 1.454803, train: 0.520000, val 0.483000, lr 8.339242e-05"
       ]
      },
      {
       "output_type": "stream",
       "stream": "stdout",
       "text": [
        "\n",
        "Finished epoch 16 / 50: cost 1.369997, train: 0.527000, val 0.487000, lr 7.922280e-05"
       ]
      },
      {
       "output_type": "stream",
       "stream": "stdout",
       "text": [
        "\n",
        "Finished epoch 17 / 50: cost 1.402019, train: 0.557000, val 0.502000, lr 7.526166e-05"
       ]
      },
      {
       "output_type": "stream",
       "stream": "stdout",
       "text": [
        "\n",
        "Finished epoch 18 / 50: cost 1.343155, train: 0.539000, val 0.502000, lr 7.149858e-05"
       ]
      },
      {
       "output_type": "stream",
       "stream": "stdout",
       "text": [
        "\n",
        "Finished epoch 19 / 50: cost 1.436466, train: 0.531000, val 0.501000, lr 6.792365e-05"
       ]
      },
      {
       "output_type": "stream",
       "stream": "stdout",
       "text": [
        "\n",
        "Finished epoch 20 / 50: cost 1.334962, train: 0.507000, val 0.508000, lr 6.452747e-05"
       ]
      },
      {
       "output_type": "stream",
       "stream": "stdout",
       "text": [
        "\n",
        "Finished epoch 21 / 50: cost 1.276459, train: 0.543000, val 0.511000, lr 6.130109e-05"
       ]
      },
      {
       "output_type": "stream",
       "stream": "stdout",
       "text": [
        "\n",
        "Finished epoch 22 / 50: cost 1.368501, train: 0.564000, val 0.513000, lr 5.823604e-05"
       ]
      },
      {
       "output_type": "stream",
       "stream": "stdout",
       "text": [
        "\n",
        "Finished epoch 23 / 50: cost 1.327539, train: 0.581000, val 0.510000, lr 5.532424e-05"
       ]
      },
      {
       "output_type": "stream",
       "stream": "stdout",
       "text": [
        "\n",
        "Finished epoch 24 / 50: cost 1.310722, train: 0.567000, val 0.510000, lr 5.255802e-05"
       ]
      },
      {
       "output_type": "stream",
       "stream": "stdout",
       "text": [
        "\n",
        "Finished epoch 25 / 50: cost 1.307456, train: 0.566000, val 0.514000, lr 4.993012e-05"
       ]
      },
      {
       "output_type": "stream",
       "stream": "stdout",
       "text": [
        "\n",
        "Finished epoch 26 / 50: cost 1.324762, train: 0.555000, val 0.507000, lr 4.743362e-05"
       ]
      },
      {
       "output_type": "stream",
       "stream": "stdout",
       "text": [
        "\n",
        "Finished epoch 27 / 50: cost 1.321254, train: 0.571000, val 0.520000, lr 4.506194e-05"
       ]
      },
      {
       "output_type": "stream",
       "stream": "stdout",
       "text": [
        "\n",
        "Finished epoch 28 / 50: cost 1.267548, train: 0.607000, val 0.509000, lr 4.280884e-05"
       ]
      },
      {
       "output_type": "stream",
       "stream": "stdout",
       "text": [
        "\n",
        "Finished epoch 29 / 50: cost 1.290245, train: 0.552000, val 0.515000, lr 4.066840e-05"
       ]
      },
      {
       "output_type": "stream",
       "stream": "stdout",
       "text": [
        "\n",
        "Finished epoch 30 / 50: cost 1.283283, train: 0.554000, val 0.521000, lr 3.863498e-05"
       ]
      },
      {
       "output_type": "stream",
       "stream": "stdout",
       "text": [
        "\n",
        "Finished epoch 31 / 50: cost 1.237196, train: 0.574000, val 0.519000, lr 3.670323e-05"
       ]
      },
      {
       "output_type": "stream",
       "stream": "stdout",
       "text": [
        "\n",
        "Finished epoch 32 / 50: cost 1.278911, train: 0.576000, val 0.511000, lr 3.486807e-05"
       ]
      },
      {
       "output_type": "stream",
       "stream": "stdout",
       "text": [
        "\n",
        "Finished epoch 33 / 50: cost 1.226193, train: 0.554000, val 0.521000, lr 3.312466e-05"
       ]
      },
      {
       "output_type": "stream",
       "stream": "stdout",
       "text": [
        "\n",
        "Finished epoch 34 / 50: cost 1.228813, train: 0.605000, val 0.519000, lr 3.146843e-05"
       ]
      },
      {
       "output_type": "stream",
       "stream": "stdout",
       "text": [
        "\n",
        "Finished epoch 35 / 50: cost 1.198636, train: 0.598000, val 0.510000, lr 2.989501e-05"
       ]
      },
      {
       "output_type": "stream",
       "stream": "stdout",
       "text": [
        "\n",
        "Finished epoch 36 / 50: cost 1.220115, train: 0.612000, val 0.523000, lr 2.840026e-05"
       ]
      },
      {
       "output_type": "stream",
       "stream": "stdout",
       "text": [
        "\n",
        "Finished epoch 37 / 50: cost 1.211821, train: 0.573000, val 0.525000, lr 2.698025e-05"
       ]
      },
      {
       "output_type": "stream",
       "stream": "stdout",
       "text": [
        "\n",
        "Finished epoch 38 / 50: cost 1.209491, train: 0.614000, val 0.527000, lr 2.563123e-05"
       ]
      },
      {
       "output_type": "stream",
       "stream": "stdout",
       "text": [
        "\n",
        "Finished epoch 39 / 50: cost 1.219300, train: 0.602000, val 0.520000, lr 2.434967e-05"
       ]
      },
      {
       "output_type": "stream",
       "stream": "stdout",
       "text": [
        "\n",
        "Finished epoch 40 / 50: cost 1.215625, train: 0.599000, val 0.525000, lr 2.313219e-05"
       ]
      },
      {
       "output_type": "stream",
       "stream": "stdout",
       "text": [
        "\n",
        "Finished epoch 41 / 50: cost 1.260012, train: 0.593000, val 0.531000, lr 2.197558e-05"
       ]
      },
      {
       "output_type": "stream",
       "stream": "stdout",
       "text": [
        "\n",
        "Finished epoch 42 / 50: cost 1.272112, train: 0.627000, val 0.529000, lr 2.087680e-05"
       ]
      },
      {
       "output_type": "stream",
       "stream": "stdout",
       "text": [
        "\n",
        "Finished epoch 43 / 50: cost 1.199685, train: 0.583000, val 0.525000, lr 1.983296e-05"
       ]
      },
      {
       "output_type": "stream",
       "stream": "stdout",
       "text": [
        "\n",
        "Finished epoch 44 / 50: cost 1.171430, train: 0.597000, val 0.530000, lr 1.884131e-05"
       ]
      },
      {
       "output_type": "stream",
       "stream": "stdout",
       "text": [
        "\n",
        "Finished epoch 45 / 50: cost 1.189905, train: 0.588000, val 0.529000, lr 1.789925e-05"
       ]
      },
      {
       "output_type": "stream",
       "stream": "stdout",
       "text": [
        "\n",
        "Finished epoch 46 / 50: cost 1.188158, train: 0.588000, val 0.528000, lr 1.700428e-05"
       ]
      },
      {
       "output_type": "stream",
       "stream": "stdout",
       "text": [
        "\n",
        "Finished epoch 47 / 50: cost 1.245485, train: 0.603000, val 0.537000, lr 1.615407e-05"
       ]
      },
      {
       "output_type": "stream",
       "stream": "stdout",
       "text": [
        "\n",
        "Finished epoch 48 / 50: cost 1.198737, train: 0.594000, val 0.529000, lr 1.534637e-05"
       ]
      },
      {
       "output_type": "stream",
       "stream": "stdout",
       "text": [
        "\n",
        "Finished epoch 49 / 50: cost 1.155951, train: 0.624000, val 0.531000, lr 1.457905e-05"
       ]
      },
      {
       "output_type": "stream",
       "stream": "stdout",
       "text": [
        "\n",
        "Finished epoch 50 / 50: cost 1.138824, train: 0.575000, val 0.532000, lr 1.385010e-05"
       ]
      },
      {
       "output_type": "stream",
       "stream": "stdout",
       "text": [
        "\n",
        "finished optimization. best validation accuracy: 0.537000\n",
        "Finished epoch 0 / 50: cost 2.302587, train: 0.125000, val 0.088000, lr 1.800000e-04"
       ]
      },
      {
       "output_type": "stream",
       "stream": "stdout",
       "text": [
        "\n",
        "Finished epoch 1 / 50: cost 2.302119, train: 0.166000, val 0.157000, lr 1.710000e-04"
       ]
      },
      {
       "output_type": "stream",
       "stream": "stdout",
       "text": [
        "\n",
        "Finished epoch 2 / 50: cost 2.186055, train: 0.181000, val 0.200000, lr 1.624500e-04"
       ]
      },
      {
       "output_type": "stream",
       "stream": "stdout",
       "text": [
        "\n",
        "Finished epoch 3 / 50: cost 1.974122, train: 0.242000, val 0.267000, lr 1.543275e-04"
       ]
      },
      {
       "output_type": "stream",
       "stream": "stdout",
       "text": [
        "\n",
        "Finished epoch 4 / 50: cost 1.880833, train: 0.327000, val 0.314000, lr 1.466111e-04"
       ]
      },
      {
       "output_type": "stream",
       "stream": "stdout",
       "text": [
        "\n",
        "Finished epoch 5 / 50: cost 1.819166, train: 0.344000, val 0.345000, lr 1.392806e-04"
       ]
      },
      {
       "output_type": "stream",
       "stream": "stdout",
       "text": [
        "\n",
        "Finished epoch 6 / 50: cost 1.760109, train: 0.369000, val 0.374000, lr 1.323165e-04"
       ]
      },
      {
       "output_type": "stream",
       "stream": "stdout",
       "text": [
        "\n",
        "Finished epoch 7 / 50: cost 1.752777, train: 0.389000, val 0.396000, lr 1.257007e-04"
       ]
      },
      {
       "output_type": "stream",
       "stream": "stdout",
       "text": [
        "\n",
        "Finished epoch 8 / 50: cost 1.661327, train: 0.408000, val 0.391000, lr 1.194157e-04"
       ]
      },
      {
       "output_type": "stream",
       "stream": "stdout",
       "text": [
        "\n",
        "Finished epoch 9 / 50: cost 1.613067, train: 0.450000, val 0.424000, lr 1.134449e-04"
       ]
      },
      {
       "output_type": "stream",
       "stream": "stdout",
       "text": [
        "\n",
        "Finished epoch 10 / 50: cost 1.599473, train: 0.445000, val 0.444000, lr 1.077726e-04"
       ]
      },
      {
       "output_type": "stream",
       "stream": "stdout",
       "text": [
        "\n",
        "Finished epoch 11 / 50: cost 1.612402, train: 0.455000, val 0.445000, lr 1.023840e-04"
       ]
      },
      {
       "output_type": "stream",
       "stream": "stdout",
       "text": [
        "\n",
        "Finished epoch 12 / 50: cost 1.561167, train: 0.429000, val 0.458000, lr 9.726482e-05"
       ]
      },
      {
       "output_type": "stream",
       "stream": "stdout",
       "text": [
        "\n",
        "Finished epoch 13 / 50: cost 1.549178, train: 0.459000, val 0.459000, lr 9.240157e-05"
       ]
      },
      {
       "output_type": "stream",
       "stream": "stdout",
       "text": [
        "\n",
        "Finished epoch 14 / 50: cost 1.508469, train: 0.465000, val 0.461000, lr 8.778150e-05"
       ]
      },
      {
       "output_type": "stream",
       "stream": "stdout",
       "text": [
        "\n",
        "Finished epoch 15 / 50: cost 1.511366, train: 0.457000, val 0.474000, lr 8.339242e-05"
       ]
      },
      {
       "output_type": "stream",
       "stream": "stdout",
       "text": [
        "\n",
        "Finished epoch 16 / 50: cost 1.490119, train: 0.489000, val 0.464000, lr 7.922280e-05"
       ]
      },
      {
       "output_type": "stream",
       "stream": "stdout",
       "text": [
        "\n",
        "Finished epoch 17 / 50: cost 1.482050, train: 0.469000, val 0.467000, lr 7.526166e-05"
       ]
      },
      {
       "output_type": "stream",
       "stream": "stdout",
       "text": [
        "\n",
        "Finished epoch 18 / 50: cost 1.507050, train: 0.496000, val 0.466000, lr 7.149858e-05"
       ]
      },
      {
       "output_type": "stream",
       "stream": "stdout",
       "text": [
        "\n",
        "Finished epoch 19 / 50: cost 1.423639, train: 0.476000, val 0.475000, lr 6.792365e-05"
       ]
      },
      {
       "output_type": "stream",
       "stream": "stdout",
       "text": [
        "\n",
        "Finished epoch 20 / 50: cost 1.468486, train: 0.525000, val 0.477000, lr 6.452747e-05"
       ]
      },
      {
       "output_type": "stream",
       "stream": "stdout",
       "text": [
        "\n",
        "Finished epoch 21 / 50: cost 1.468761, train: 0.508000, val 0.480000, lr 6.130109e-05"
       ]
      },
      {
       "output_type": "stream",
       "stream": "stdout",
       "text": [
        "\n",
        "Finished epoch 22 / 50: cost 1.425463, train: 0.523000, val 0.485000, lr 5.823604e-05"
       ]
      },
      {
       "output_type": "stream",
       "stream": "stdout",
       "text": [
        "\n",
        "Finished epoch 23 / 50: cost 1.371446, train: 0.502000, val 0.488000, lr 5.532424e-05"
       ]
      },
      {
       "output_type": "stream",
       "stream": "stdout",
       "text": [
        "\n",
        "Finished epoch 24 / 50: cost 1.467181, train: 0.511000, val 0.483000, lr 5.255802e-05"
       ]
      },
      {
       "output_type": "stream",
       "stream": "stdout",
       "text": [
        "\n",
        "Finished epoch 25 / 50: cost 1.411361, train: 0.537000, val 0.499000, lr 4.993012e-05"
       ]
      },
      {
       "output_type": "stream",
       "stream": "stdout",
       "text": [
        "\n",
        "Finished epoch 26 / 50: cost 1.411881, train: 0.537000, val 0.492000, lr 4.743362e-05"
       ]
      },
      {
       "output_type": "stream",
       "stream": "stdout",
       "text": [
        "\n",
        "Finished epoch 27 / 50: cost 1.361761, train: 0.532000, val 0.487000, lr 4.506194e-05"
       ]
      },
      {
       "output_type": "stream",
       "stream": "stdout",
       "text": [
        "\n",
        "Finished epoch 28 / 50: cost 1.415146, train: 0.508000, val 0.496000, lr 4.280884e-05"
       ]
      },
      {
       "output_type": "stream",
       "stream": "stdout",
       "text": [
        "\n",
        "Finished epoch 29 / 50: cost 1.398717, train: 0.528000, val 0.495000, lr 4.066840e-05"
       ]
      },
      {
       "output_type": "stream",
       "stream": "stdout",
       "text": [
        "\n",
        "Finished epoch 30 / 50: cost 1.440493, train: 0.498000, val 0.491000, lr 3.863498e-05"
       ]
      },
      {
       "output_type": "stream",
       "stream": "stdout",
       "text": [
        "\n",
        "Finished epoch 31 / 50: cost 1.400329, train: 0.516000, val 0.497000, lr 3.670323e-05"
       ]
      },
      {
       "output_type": "stream",
       "stream": "stdout",
       "text": [
        "\n",
        "Finished epoch 32 / 50: cost 1.384244, train: 0.534000, val 0.494000, lr 3.486807e-05"
       ]
      },
      {
       "output_type": "stream",
       "stream": "stdout",
       "text": [
        "\n",
        "Finished epoch 33 / 50: cost 1.413657, train: 0.520000, val 0.504000, lr 3.312466e-05"
       ]
      },
      {
       "output_type": "stream",
       "stream": "stdout",
       "text": [
        "\n",
        "Finished epoch 34 / 50: cost 1.370204, train: 0.540000, val 0.498000, lr 3.146843e-05"
       ]
      },
      {
       "output_type": "stream",
       "stream": "stdout",
       "text": [
        "\n",
        "Finished epoch 35 / 50: cost 1.379860, train: 0.548000, val 0.506000, lr 2.989501e-05"
       ]
      },
      {
       "output_type": "stream",
       "stream": "stdout",
       "text": [
        "\n",
        "Finished epoch 36 / 50: cost 1.365677, train: 0.520000, val 0.505000, lr 2.840026e-05"
       ]
      },
      {
       "output_type": "stream",
       "stream": "stdout",
       "text": [
        "\n",
        "Finished epoch 37 / 50: cost 1.324035, train: 0.536000, val 0.507000, lr 2.698025e-05"
       ]
      },
      {
       "output_type": "stream",
       "stream": "stdout",
       "text": [
        "\n",
        "Finished epoch 38 / 50: cost 1.360089, train: 0.568000, val 0.502000, lr 2.563123e-05"
       ]
      },
      {
       "output_type": "stream",
       "stream": "stdout",
       "text": [
        "\n",
        "Finished epoch 39 / 50: cost 1.385080, train: 0.537000, val 0.499000, lr 2.434967e-05"
       ]
      },
      {
       "output_type": "stream",
       "stream": "stdout",
       "text": [
        "\n",
        "Finished epoch 40 / 50: cost 1.367597, train: 0.527000, val 0.500000, lr 2.313219e-05"
       ]
      },
      {
       "output_type": "stream",
       "stream": "stdout",
       "text": [
        "\n",
        "Finished epoch 41 / 50: cost 1.388089, train: 0.539000, val 0.498000, lr 2.197558e-05"
       ]
      },
      {
       "output_type": "stream",
       "stream": "stdout",
       "text": [
        "\n",
        "Finished epoch 42 / 50: cost 1.325324, train: 0.510000, val 0.503000, lr 2.087680e-05"
       ]
      },
      {
       "output_type": "stream",
       "stream": "stdout",
       "text": [
        "\n",
        "Finished epoch 43 / 50: cost 1.379783, train: 0.537000, val 0.508000, lr 1.983296e-05"
       ]
      },
      {
       "output_type": "stream",
       "stream": "stdout",
       "text": [
        "\n",
        "Finished epoch 44 / 50: cost 1.385435, train: 0.544000, val 0.504000, lr 1.884131e-05"
       ]
      },
      {
       "output_type": "stream",
       "stream": "stdout",
       "text": [
        "\n",
        "Finished epoch 45 / 50: cost 1.285298, train: 0.545000, val 0.503000, lr 1.789925e-05"
       ]
      },
      {
       "output_type": "stream",
       "stream": "stdout",
       "text": [
        "\n",
        "Finished epoch 46 / 50: cost 1.360364, train: 0.543000, val 0.500000, lr 1.700428e-05"
       ]
      },
      {
       "output_type": "stream",
       "stream": "stdout",
       "text": [
        "\n",
        "Finished epoch 47 / 50: cost 1.355601, train: 0.534000, val 0.510000, lr 1.615407e-05"
       ]
      },
      {
       "output_type": "stream",
       "stream": "stdout",
       "text": [
        "\n",
        "Finished epoch 48 / 50: cost 1.314201, train: 0.551000, val 0.509000, lr 1.534637e-05"
       ]
      },
      {
       "output_type": "stream",
       "stream": "stdout",
       "text": [
        "\n",
        "Finished epoch 49 / 50: cost 1.361206, train: 0.539000, val 0.504000, lr 1.457905e-05"
       ]
      },
      {
       "output_type": "stream",
       "stream": "stdout",
       "text": [
        "\n",
        "Finished epoch 50 / 50: cost 1.301998, train: 0.551000, val 0.509000, lr 1.385010e-05"
       ]
      },
      {
       "output_type": "stream",
       "stream": "stdout",
       "text": [
        "\n",
        "finished optimization. best validation accuracy: 0.510000\n",
        "Finished epoch 0 / 50: cost 2.302587, train: 0.109000, val 0.135000, lr 1.800000e-04"
       ]
      },
      {
       "output_type": "stream",
       "stream": "stdout",
       "text": [
        "\n",
        "Finished epoch 1 / 50: cost 2.302481, train: 0.211000, val 0.199000, lr 1.710000e-04"
       ]
      },
      {
       "output_type": "stream",
       "stream": "stdout",
       "text": [
        "\n",
        "Finished epoch 2 / 50: cost 2.284268, train: 0.194000, val 0.195000, lr 1.624500e-04"
       ]
      },
      {
       "output_type": "stream",
       "stream": "stdout",
       "text": [
        "\n",
        "Finished epoch 3 / 50: cost 2.104369, train: 0.191000, val 0.237000, lr 1.543275e-04"
       ]
      },
      {
       "output_type": "stream",
       "stream": "stdout",
       "text": [
        "\n",
        "Finished epoch 4 / 50: cost 1.998464, train: 0.238000, val 0.266000, lr 1.466111e-04"
       ]
      },
      {
       "output_type": "stream",
       "stream": "stdout",
       "text": [
        "\n",
        "Finished epoch 5 / 50: cost 1.893344, train: 0.288000, val 0.298000, lr 1.392806e-04"
       ]
      },
      {
       "output_type": "stream",
       "stream": "stdout",
       "text": [
        "\n",
        "Finished epoch 6 / 50: cost 1.861370, train: 0.324000, val 0.323000, lr 1.323165e-04"
       ]
      },
      {
       "output_type": "stream",
       "stream": "stdout",
       "text": [
        "\n",
        "Finished epoch 7 / 50: cost 1.826693, train: 0.387000, val 0.357000, lr 1.257007e-04"
       ]
      },
      {
       "output_type": "stream",
       "stream": "stdout",
       "text": [
        "\n",
        "Finished epoch 8 / 50: cost 1.764005, train: 0.364000, val 0.367000, lr 1.194157e-04"
       ]
      },
      {
       "output_type": "stream",
       "stream": "stdout",
       "text": [
        "\n",
        "Finished epoch 9 / 50: cost 1.737454, train: 0.392000, val 0.384000, lr 1.134449e-04"
       ]
      },
      {
       "output_type": "stream",
       "stream": "stdout",
       "text": [
        "\n",
        "Finished epoch 10 / 50: cost 1.708348, train: 0.370000, val 0.392000, lr 1.077726e-04"
       ]
      },
      {
       "output_type": "stream",
       "stream": "stdout",
       "text": [
        "\n",
        "Finished epoch 11 / 50: cost 1.667279, train: 0.410000, val 0.400000, lr 1.023840e-04"
       ]
      },
      {
       "output_type": "stream",
       "stream": "stdout",
       "text": [
        "\n",
        "Finished epoch 12 / 50: cost 1.650050, train: 0.411000, val 0.414000, lr 9.726482e-05"
       ]
      },
      {
       "output_type": "stream",
       "stream": "stdout",
       "text": [
        "\n",
        "Finished epoch 13 / 50: cost 1.641754, train: 0.411000, val 0.427000, lr 9.240157e-05"
       ]
      },
      {
       "output_type": "stream",
       "stream": "stdout",
       "text": [
        "\n",
        "Finished epoch 14 / 50: cost 1.630278, train: 0.396000, val 0.426000, lr 8.778150e-05"
       ]
      },
      {
       "output_type": "stream",
       "stream": "stdout",
       "text": [
        "\n",
        "Finished epoch 15 / 50: cost 1.576278, train: 0.407000, val 0.440000, lr 8.339242e-05"
       ]
      },
      {
       "output_type": "stream",
       "stream": "stdout",
       "text": [
        "\n",
        "Finished epoch 16 / 50: cost 1.599855, train: 0.437000, val 0.444000, lr 7.922280e-05"
       ]
      },
      {
       "output_type": "stream",
       "stream": "stdout",
       "text": [
        "\n",
        "Finished epoch 17 / 50: cost 1.566771, train: 0.459000, val 0.453000, lr 7.526166e-05"
       ]
      },
      {
       "output_type": "stream",
       "stream": "stdout",
       "text": [
        "\n",
        "Finished epoch 18 / 50: cost 1.547777, train: 0.481000, val 0.456000, lr 7.149858e-05"
       ]
      },
      {
       "output_type": "stream",
       "stream": "stdout",
       "text": [
        "\n",
        "Finished epoch 19 / 50: cost 1.544505, train: 0.463000, val 0.457000, lr 6.792365e-05"
       ]
      },
      {
       "output_type": "stream",
       "stream": "stdout",
       "text": [
        "\n",
        "Finished epoch 20 / 50: cost 1.534085, train: 0.459000, val 0.458000, lr 6.452747e-05"
       ]
      },
      {
       "output_type": "stream",
       "stream": "stdout",
       "text": [
        "\n",
        "Finished epoch 21 / 50: cost 1.567680, train: 0.472000, val 0.469000, lr 6.130109e-05"
       ]
      },
      {
       "output_type": "stream",
       "stream": "stdout",
       "text": [
        "\n",
        "Finished epoch 22 / 50: cost 1.496397, train: 0.471000, val 0.466000, lr 5.823604e-05"
       ]
      },
      {
       "output_type": "stream",
       "stream": "stdout",
       "text": [
        "\n",
        "Finished epoch 23 / 50: cost 1.547010, train: 0.494000, val 0.466000, lr 5.532424e-05"
       ]
      },
      {
       "output_type": "stream",
       "stream": "stdout",
       "text": [
        "\n",
        "Finished epoch 24 / 50: cost 1.483786, train: 0.450000, val 0.474000, lr 5.255802e-05"
       ]
      },
      {
       "output_type": "stream",
       "stream": "stdout",
       "text": [
        "\n",
        "Finished epoch 25 / 50: cost 1.492441, train: 0.472000, val 0.470000, lr 4.993012e-05"
       ]
      },
      {
       "output_type": "stream",
       "stream": "stdout",
       "text": [
        "\n",
        "Finished epoch 26 / 50: cost 1.491796, train: 0.500000, val 0.465000, lr 4.743362e-05"
       ]
      },
      {
       "output_type": "stream",
       "stream": "stdout",
       "text": [
        "\n",
        "Finished epoch 27 / 50: cost 1.448637, train: 0.477000, val 0.469000, lr 4.506194e-05"
       ]
      },
      {
       "output_type": "stream",
       "stream": "stdout",
       "text": [
        "\n",
        "Finished epoch 28 / 50: cost 1.531984, train: 0.486000, val 0.466000, lr 4.280884e-05"
       ]
      },
      {
       "output_type": "stream",
       "stream": "stdout",
       "text": [
        "\n",
        "Finished epoch 29 / 50: cost 1.460921, train: 0.500000, val 0.470000, lr 4.066840e-05"
       ]
      },
      {
       "output_type": "stream",
       "stream": "stdout",
       "text": [
        "\n",
        "Finished epoch 30 / 50: cost 1.454259, train: 0.472000, val 0.471000, lr 3.863498e-05"
       ]
      },
      {
       "output_type": "stream",
       "stream": "stdout",
       "text": [
        "\n",
        "Finished epoch 31 / 50: cost 1.470191, train: 0.489000, val 0.478000, lr 3.670323e-05"
       ]
      },
      {
       "output_type": "stream",
       "stream": "stdout",
       "text": [
        "\n",
        "Finished epoch 32 / 50: cost 1.393000, train: 0.510000, val 0.474000, lr 3.486807e-05"
       ]
      },
      {
       "output_type": "stream",
       "stream": "stdout",
       "text": [
        "\n",
        "Finished epoch 33 / 50: cost 1.449663, train: 0.491000, val 0.473000, lr 3.312466e-05"
       ]
      },
      {
       "output_type": "stream",
       "stream": "stdout",
       "text": [
        "\n",
        "Finished epoch 34 / 50: cost 1.441171, train: 0.491000, val 0.473000, lr 3.146843e-05"
       ]
      },
      {
       "output_type": "stream",
       "stream": "stdout",
       "text": [
        "\n",
        "Finished epoch 35 / 50: cost 1.470440, train: 0.502000, val 0.472000, lr 2.989501e-05"
       ]
      },
      {
       "output_type": "stream",
       "stream": "stdout",
       "text": [
        "\n",
        "Finished epoch 36 / 50: cost 1.473069, train: 0.532000, val 0.471000, lr 2.840026e-05"
       ]
      },
      {
       "output_type": "stream",
       "stream": "stdout",
       "text": [
        "\n",
        "Finished epoch 37 / 50: cost 1.469861, train: 0.530000, val 0.472000, lr 2.698025e-05"
       ]
      },
      {
       "output_type": "stream",
       "stream": "stdout",
       "text": [
        "\n",
        "Finished epoch 38 / 50: cost 1.465643, train: 0.488000, val 0.473000, lr 2.563123e-05"
       ]
      },
      {
       "output_type": "stream",
       "stream": "stdout",
       "text": [
        "\n",
        "Finished epoch 39 / 50: cost 1.426827, train: 0.509000, val 0.479000, lr 2.434967e-05"
       ]
      },
      {
       "output_type": "stream",
       "stream": "stdout",
       "text": [
        "\n",
        "Finished epoch 40 / 50: cost 1.432746, train: 0.492000, val 0.474000, lr 2.313219e-05"
       ]
      },
      {
       "output_type": "stream",
       "stream": "stdout",
       "text": [
        "\n",
        "Finished epoch 41 / 50: cost 1.428267, train: 0.518000, val 0.475000, lr 2.197558e-05"
       ]
      },
      {
       "output_type": "stream",
       "stream": "stdout",
       "text": [
        "\n",
        "Finished epoch 42 / 50: cost 1.422889, train: 0.491000, val 0.474000, lr 2.087680e-05"
       ]
      },
      {
       "output_type": "stream",
       "stream": "stdout",
       "text": [
        "\n",
        "Finished epoch 43 / 50: cost 1.481591, train: 0.534000, val 0.473000, lr 1.983296e-05"
       ]
      },
      {
       "output_type": "stream",
       "stream": "stdout",
       "text": [
        "\n",
        "Finished epoch 44 / 50: cost 1.424559, train: 0.514000, val 0.474000, lr 1.884131e-05"
       ]
      },
      {
       "output_type": "stream",
       "stream": "stdout",
       "text": [
        "\n",
        "Finished epoch 45 / 50: cost 1.435812, train: 0.509000, val 0.480000, lr 1.789925e-05"
       ]
      },
      {
       "output_type": "stream",
       "stream": "stdout",
       "text": [
        "\n",
        "Finished epoch 46 / 50: cost 1.396963, train: 0.500000, val 0.478000, lr 1.700428e-05"
       ]
      },
      {
       "output_type": "stream",
       "stream": "stdout",
       "text": [
        "\n",
        "Finished epoch 47 / 50: cost 1.410953, train: 0.521000, val 0.475000, lr 1.615407e-05"
       ]
      },
      {
       "output_type": "stream",
       "stream": "stdout",
       "text": [
        "\n",
        "Finished epoch 48 / 50: cost 1.479572, train: 0.499000, val 0.475000, lr 1.534637e-05"
       ]
      },
      {
       "output_type": "stream",
       "stream": "stdout",
       "text": [
        "\n",
        "Finished epoch 49 / 50: cost 1.439214, train: 0.483000, val 0.479000, lr 1.457905e-05"
       ]
      },
      {
       "output_type": "stream",
       "stream": "stdout",
       "text": [
        "\n",
        "Finished epoch 50 / 50: cost 1.462083, train: 0.509000, val 0.476000, lr 1.385010e-05"
       ]
      },
      {
       "output_type": "stream",
       "stream": "stdout",
       "text": [
        "\n",
        "finished optimization. best validation accuracy: 0.480000\n"
       ]
      },
      {
       "metadata": {},
       "output_type": "display_data",
       "png": "[encoded data removed]",
       "text": [
        "<matplotlib.figure.Figure at 0x10b880390>"
       ]
      }
     ],
     "prompt_number": 3
    },
    {
     "cell_type": "code",
     "collapsed": false,
     "input": [],
     "language": "python",
     "metadata": {},
     "outputs": []
    }
   ],
   "metadata": {}
  }
 ]
}