{
 "metadata": {
  "name": "",
  "signature": "sha256:3b2416517d9eef5efa27dda85247df8c539cb95fd4444b02de569ce645bca47e"
 },
 "nbformat": 3,
 "nbformat_minor": 0,
 "worksheets": [
  {
   "cells": [
    {
     "cell_type": "code",
     "collapsed": false,
     "input": [
      "import numpy as np\n",
      "import matplotlib.pyplot as plt\n",
      "import pandas as pd\n",
      "from cs231n.data_utils import load_CIFAR10\n",
      "from cs231n.classifier_trainer import ClassifierTrainer\n",
      "from cs231n.classifiers.neural_net import init_two_layer_model\n",
      "from cs231n.classifiers.neural_net import two_layer_net\n",
      "import cPickle as pickle\n",
      "import os\n",
      "\n",
      "\n",
      "%matplotlib inline\n",
      "plt.rcParams['figure.figsize'] = (10.0, 8.0) # set default size of plots\n",
      "plt.rcParams['image.interpolation'] = 'nearest'\n",
      "plt.rcParams['image.cmap'] = 'gray'\n",
      "\n",
      "# for auto-reloading external modules\n",
      "# see http://stackoverflow.com/questions/1907993/autoreload-of-modules-in-ipython\n",
      "%load_ext autoreload\n",
      "%autoreload 2\n",
      "\n",
      "def rel_error(x, y):\n",
      "  \"\"\" returns relative error \"\"\"\n",
      "  return np.max(np.abs(x - y) / (np.maximum(1e-8, np.abs(x) + np.abs(y))))\n",
      "\n",
      "\n",
      "def get_CIFAR10_data(num_training=49000, num_validation=1000, num_test=1000):\n",
      "    \"\"\"\n",
      "    Load the CIFAR-10 dataset from disk and perform preprocessing to prepare\n",
      "    it for the two-layer neural net classifier. These are the same steps as\n",
      "    we used for the SVM, but condensed to a single function.  \n",
      "    \"\"\"\n",
      "    # Load the raw CIFAR-10 data\n",
      "    cifar10_dir = 'cs231n/datasets/cifar-10-batches-py'\n",
      "    X_train, y_train, X_test, y_test = load_CIFAR10(cifar10_dir)\n",
      "        \n",
      "    # Subsample the data\n",
      "    mask = range(num_training, num_training + num_validation)\n",
      "    X_val = X_train[mask]\n",
      "    y_val = y_train[mask]\n",
      "    mask = range(num_training)\n",
      "    X_train = X_train[mask]\n",
      "    y_train = y_train[mask]\n",
      "    mask = range(num_test)\n",
      "    X_test = X_test[mask]\n",
      "    y_test = y_test[mask]\n",
      "\n",
      "    # Normalize the data: subtract the mean image\n",
      "    mean_image = np.mean(X_train, axis=0)\n",
      "    X_train -= mean_image\n",
      "    X_val -= mean_image\n",
      "    X_test -= mean_image\n",
      "\n",
      "    # Reshape data to rows\n",
      "    X_train = X_train.reshape(num_training, -1)\n",
      "    X_val = X_val.reshape(num_validation, -1)\n",
      "    X_test = X_test.reshape(num_test, -1)\n",
      "\n",
      "    return X_train, y_train, X_val, y_val, X_test, y_test\n",
      "\n",
      "\n",
      "# Invoke the above function to get our data.\n",
      "X_train, y_train, X_val, y_val, X_test, y_test = get_CIFAR10_data()\n",
      "print 'Train data shape: ', X_train.shape\n",
      "print 'Train labels shape: ', y_train.shape\n",
      "print 'Validation data shape: ', X_val.shape\n",
      "print 'Validation labels shape: ', y_val.shape\n",
      "print 'Test data shape: ', X_test.shape\n",
      "print 'Test labels shape: ', y_test.shape\n",
      "\n",
      "def run_model(results_file = None, hidden_size=None,\n",
      "              num_epochs=None, reg=None, batch_size=None, \n",
      "              momentum=None, learning_rate_decay=None, learning_rate=None):\n",
      "\n",
      "    model = init_two_layer_model(32*32*3, hidden_size, 10) # input size, hidden size, number of classes\n",
      "    trainer = ClassifierTrainer()\n",
      "    best_model, loss_history, train_acc, val_acc = trainer.train(X_train, y_train, X_val, y_val,\n",
      "                                             model, two_layer_net,\n",
      "                                             num_epochs=num_epochs, reg=reg, batch_size = batch_size,\n",
      "                                             momentum=momentum, learning_rate_decay = learning_rate_decay,\n",
      "                                             learning_rate=learning_rate, verbose=True)\n",
      "    \n",
      "    # Plot the loss function and train / validation accuracies\n",
      "    plt.subplot(2, 1, 1)\n",
      "    plt.plot(loss_history)\n",
      "    plt.title('Loss history')\n",
      "    plt.xlabel('Iteration')\n",
      "    plt.ylabel('Loss')\n",
      "\n",
      "    plt.subplot(2, 1, 2)\n",
      "    plt.plot(train_acc)\n",
      "    plt.plot(val_acc)\n",
      "    plt.legend(['Training accuracy', 'Validation accuracy'], loc='lower right')\n",
      "    plt.xlabel('Epoch')\n",
      "    plt.ylabel('Clasification accuracy')\n",
      "    \n",
      "    \n",
      "    # write results to a file\n",
      "    if not os.path.exists(filename):\n",
      "        df = pd.DataFrame(columns=['hidden_size', 'num_epochs', 'reg', 'batch_size', 'momentum',\n",
      "                           'learning_rate_decay', 'learning_rate', 'best_train', 'best_val'])\n",
      "    else:\n",
      "        df = pd.read_csv(filename, sep='\\t')\n",
      "        \n",
      "    df.loc[len(df)] = [hidden_size, num_epochs, reg, batch_size, momentum, \n",
      "                   learning_rate_decay, learning_rate, np.max(train_acc), np.max(val_acc)]\n",
      "    df.to_csv(filename, sep='\\t', index=False)\n",
      "    \n",
      "    return best_model, val_acc"
     ],
     "language": "python",
     "metadata": {},
     "outputs": [
      {
       "output_type": "stream",
       "stream": "stdout",
       "text": [
        "Train data shape:  (49000, 3072)\n",
        "Train labels shape:  (49000,)\n",
        "Validation data shape:  (1000, 3072)\n",
        "Validation labels shape:  (1000,)\n",
        "Test data shape:  (1000, 3072)\n",
        "Test labels shape:  (1000,)\n"
       ]
      }
     ],
     "prompt_number": 1
    },
    {
     "cell_type": "code",
     "collapsed": false,
     "input": [
      "hidden_size = 175\n",
      "reg = 0.1\n",
      "batch_size = 400\n",
      "L_learning_rate = [25e-5, 30e-5, 35e-5, 40e-4, 1e-3]\n",
      "\n",
      "num_epochs = 50\n",
      "momentum = 0.9\n",
      "learning_rate_decay = 0.9\n",
      "filename = 'two_layer_nn_20150207_00.csv'\n",
      "best_model_file = 'best_two_layer_nn.p'\n",
      "reps = 2\n",
      "\n",
      "if not os.path.exists(best_model_file):\n",
      "    best_model, best_val_acc = None, 0.0\n",
      "else:\n",
      "    with open(best_model_file) as f:\n",
      "        best_model, best_val_acc = pickle.load(f)\n",
      "        print 'Standing val record: %f' % best_val_acc\n",
      "\n",
      "for _ in range(reps):\n",
      "    for learning_rate in L_learning_rate:\n",
      "        model, val_acc = run_model(results_file = filename, hidden_size=hidden_size,\n",
      "              num_epochs=num_epochs, reg=reg, batch_size=batch_size, \n",
      "              momentum=momentum, learning_rate_decay=learning_rate_decay, \n",
      "              learning_rate=learning_rate)\n",
      "    \n",
      "        if np.max(val_acc) > best_val_acc:\n",
      "            best_val_acc = np.max(val_acc)\n",
      "            with open(best_model_file, 'w') as f:\n",
      "                pickle.dump([model, best_val_acc], f)"
     ],
     "language": "python",
     "metadata": {},
     "outputs": [
      {
       "output_type": "stream",
       "stream": "stdout",
       "text": [
        "Standing val record: 0.560000\n",
        "Finished epoch 0 / 50: cost 2.302588, train: 0.140000, val 0.150000, lr 2.500000e-04"
       ]
      },
      {
       "output_type": "stream",
       "stream": "stdout",
       "text": [
        "\n",
        "Finished epoch 1 / 50: cost 1.836720, train: 0.358000, val 0.346000, lr 2.250000e-04"
       ]
      },
      {
       "output_type": "stream",
       "stream": "stdout",
       "text": [
        "\n",
        "Finished epoch 2 / 50: cost 1.656958, train: 0.426000, val 0.438000, lr 2.025000e-04"
       ]
      },
      {
       "output_type": "stream",
       "stream": "stdout",
       "text": [
        "\n",
        "Finished epoch 3 / 50: cost 1.444645, train: 0.470000, val 0.460000, lr 1.822500e-04"
       ]
      },
      {
       "output_type": "stream",
       "stream": "stdout",
       "text": [
        "\n",
        "Finished epoch 4 / 50: cost 1.377449, train: 0.523000, val 0.484000, lr 1.640250e-04"
       ]
      },
      {
       "output_type": "stream",
       "stream": "stdout",
       "text": [
        "\n",
        "Finished epoch 5 / 50: cost 1.335893, train: 0.550000, val 0.498000, lr 1.476225e-04"
       ]
      },
      {
       "output_type": "stream",
       "stream": "stdout",
       "text": [
        "\n",
        "Finished epoch 6 / 50: cost 1.180928, train: 0.559000, val 0.528000, lr 1.328603e-04"
       ]
      },
      {
       "output_type": "stream",
       "stream": "stdout",
       "text": [
        "\n",
        "Finished epoch 7 / 50: cost 1.264840, train: 0.544000, val 0.506000, lr 1.195742e-04"
       ]
      },
      {
       "output_type": "stream",
       "stream": "stdout",
       "text": [
        "\n",
        "Finished epoch 8 / 50: cost 1.261864, train: 0.581000, val 0.527000, lr 1.076168e-04"
       ]
      },
      {
       "output_type": "stream",
       "stream": "stdout",
       "text": [
        "\n",
        "Finished epoch 9 / 50: cost 1.251840, train: 0.560000, val 0.519000, lr 9.685512e-05"
       ]
      },
      {
       "output_type": "stream",
       "stream": "stdout",
       "text": [
        "\n",
        "Finished epoch 10 / 50: cost 1.235745, train: 0.594000, val 0.529000, lr 8.716961e-05"
       ]
      },
      {
       "output_type": "stream",
       "stream": "stdout",
       "text": [
        "\n",
        "Finished epoch 11 / 50: cost 1.196784, train: 0.602000, val 0.519000, lr 7.845265e-05"
       ]
      },
      {
       "output_type": "stream",
       "stream": "stdout",
       "text": [
        "\n",
        "Finished epoch 12 / 50: cost 1.178213, train: 0.620000, val 0.508000, lr 7.060738e-05"
       ]
      },
      {
       "output_type": "stream",
       "stream": "stdout",
       "text": [
        "\n",
        "Finished epoch 13 / 50: cost 1.187840, train: 0.615000, val 0.526000, lr 6.354665e-05"
       ]
      },
      {
       "output_type": "stream",
       "stream": "stdout",
       "text": [
        "\n",
        "Finished epoch 14 / 50: cost 1.115767, train: 0.666000, val 0.521000, lr 5.719198e-05"
       ]
      },
      {
       "output_type": "stream",
       "stream": "stdout",
       "text": [
        "\n",
        "Finished epoch 15 / 50: cost 1.076795, train: 0.643000, val 0.531000, lr 5.147278e-05"
       ]
      },
      {
       "output_type": "stream",
       "stream": "stdout",
       "text": [
        "\n",
        "Finished epoch 16 / 50: cost 1.103858, train: 0.656000, val 0.526000, lr 4.632550e-05"
       ]
      },
      {
       "output_type": "stream",
       "stream": "stdout",
       "text": [
        "\n",
        "Finished epoch 17 / 50: cost 1.078350, train: 0.626000, val 0.530000, lr 4.169295e-05"
       ]
      },
      {
       "output_type": "stream",
       "stream": "stdout",
       "text": [
        "\n",
        "Finished epoch 18 / 50: cost 1.043529, train: 0.663000, val 0.535000, lr 3.752366e-05"
       ]
      },
      {
       "output_type": "stream",
       "stream": "stdout",
       "text": [
        "\n",
        "Finished epoch 19 / 50: cost 1.128877, train: 0.658000, val 0.526000, lr 3.377129e-05"
       ]
      },
      {
       "output_type": "stream",
       "stream": "stdout",
       "text": [
        "\n",
        "Finished epoch 20 / 50: cost 1.020968, train: 0.685000, val 0.532000, lr 3.039416e-05"
       ]
      },
      {
       "output_type": "stream",
       "stream": "stdout",
       "text": [
        "\n",
        "Finished epoch 21 / 50: cost 1.079613, train: 0.667000, val 0.536000, lr 2.735475e-05"
       ]
      },
      {
       "output_type": "stream",
       "stream": "stdout",
       "text": [
        "\n",
        "Finished epoch 22 / 50: cost 1.047877, train: 0.685000, val 0.536000, lr 2.461927e-05"
       ]
      },
      {
       "output_type": "stream",
       "stream": "stdout",
       "text": [
        "\n",
        "Finished epoch 23 / 50: cost 1.029830, train: 0.669000, val 0.527000, lr 2.215735e-05"
       ]
      },
      {
       "output_type": "stream",
       "stream": "stdout",
       "text": [
        "\n",
        "Finished epoch 24 / 50: cost 1.078556, train: 0.669000, val 0.526000, lr 1.994161e-05"
       ]
      },
      {
       "output_type": "stream",
       "stream": "stdout",
       "text": [
        "\n",
        "Finished epoch 25 / 50: cost 1.104061, train: 0.662000, val 0.520000, lr 1.794745e-05"
       ]
      },
      {
       "output_type": "stream",
       "stream": "stdout",
       "text": [
        "\n",
        "Finished epoch 26 / 50: cost 1.077413, train: 0.678000, val 0.526000, lr 1.615270e-05"
       ]
      },
      {
       "output_type": "stream",
       "stream": "stdout",
       "text": [
        "\n",
        "Finished epoch 27 / 50: cost 1.076171, train: 0.666000, val 0.532000, lr 1.453743e-05"
       ]
      },
      {
       "output_type": "stream",
       "stream": "stdout",
       "text": [
        "\n",
        "Finished epoch 28 / 50: cost 1.038920, train: 0.677000, val 0.532000, lr 1.308369e-05"
       ]
      },
      {
       "output_type": "stream",
       "stream": "stdout",
       "text": [
        "\n",
        "Finished epoch 29 / 50: cost 0.997841, train: 0.691000, val 0.530000, lr 1.177532e-05"
       ]
      },
      {
       "output_type": "stream",
       "stream": "stdout",
       "text": [
        "\n",
        "Finished epoch 30 / 50: cost 1.037201, train: 0.680000, val 0.524000, lr 1.059779e-05"
       ]
      },
      {
       "output_type": "stream",
       "stream": "stdout",
       "text": [
        "\n",
        "Finished epoch 31 / 50: cost 0.955239, train: 0.681000, val 0.527000, lr 9.538011e-06"
       ]
      },
      {
       "output_type": "stream",
       "stream": "stdout",
       "text": [
        "\n",
        "Finished epoch 32 / 50: cost 1.091752, train: 0.681000, val 0.526000, lr 8.584210e-06"
       ]
      },
      {
       "output_type": "stream",
       "stream": "stdout",
       "text": [
        "\n",
        "Finished epoch 33 / 50: cost 0.921465, train: 0.706000, val 0.533000, lr 7.725789e-06"
       ]
      },
      {
       "output_type": "stream",
       "stream": "stdout",
       "text": [
        "\n",
        "Finished epoch 34 / 50: cost 0.935841, train: 0.714000, val 0.534000, lr 6.953210e-06"
       ]
      },
      {
       "output_type": "stream",
       "stream": "stdout",
       "text": [
        "\n",
        "Finished epoch 35 / 50: cost 0.925311, train: 0.696000, val 0.523000, lr 6.257889e-06"
       ]
      },
      {
       "output_type": "stream",
       "stream": "stdout",
       "text": [
        "\n",
        "Finished epoch 36 / 50: cost 1.014128, train: 0.688000, val 0.520000, lr 5.632100e-06"
       ]
      },
      {
       "output_type": "stream",
       "stream": "stdout",
       "text": [
        "\n",
        "Finished epoch 37 / 50: cost 0.974731, train: 0.684000, val 0.526000, lr 5.068890e-06"
       ]
      },
      {
       "output_type": "stream",
       "stream": "stdout",
       "text": [
        "\n",
        "Finished epoch 38 / 50: cost 1.000525, train: 0.692000, val 0.530000, lr 4.562001e-06"
       ]
      },
      {
       "output_type": "stream",
       "stream": "stdout",
       "text": [
        "\n",
        "Finished epoch 39 / 50: cost 1.019311, train: 0.687000, val 0.530000, lr 4.105801e-06"
       ]
      },
      {
       "output_type": "stream",
       "stream": "stdout",
       "text": [
        "\n",
        "Finished epoch 40 / 50: cost 1.008880, train: 0.672000, val 0.526000, lr 3.695221e-06"
       ]
      },
      {
       "output_type": "stream",
       "stream": "stdout",
       "text": [
        "\n",
        "Finished epoch 41 / 50: cost 0.996106, train: 0.715000, val 0.526000, lr 3.325699e-06"
       ]
      },
      {
       "output_type": "stream",
       "stream": "stdout",
       "text": [
        "\n",
        "Finished epoch 42 / 50: cost 1.034014, train: 0.696000, val 0.537000, lr 2.993129e-06"
       ]
      },
      {
       "output_type": "stream",
       "stream": "stdout",
       "text": [
        "\n",
        "Finished epoch 43 / 50: cost 0.992562, train: 0.683000, val 0.530000, lr 2.693816e-06"
       ]
      },
      {
       "output_type": "stream",
       "stream": "stdout",
       "text": [
        "\n",
        "Finished epoch 44 / 50: cost 0.972775, train: 0.695000, val 0.524000, lr 2.424434e-06"
       ]
      },
      {
       "output_type": "stream",
       "stream": "stdout",
       "text": [
        "\n",
        "Finished epoch 45 / 50: cost 0.905627, train: 0.683000, val 0.533000, lr 2.181991e-06"
       ]
      },
      {
       "output_type": "stream",
       "stream": "stdout",
       "text": [
        "\n",
        "Finished epoch 46 / 50: cost 1.040261, train: 0.679000, val 0.531000, lr 1.963792e-06"
       ]
      },
      {
       "output_type": "stream",
       "stream": "stdout",
       "text": [
        "\n",
        "Finished epoch 47 / 50: cost 1.003600, train: 0.694000, val 0.531000, lr 1.767413e-06"
       ]
      },
      {
       "output_type": "stream",
       "stream": "stdout",
       "text": [
        "\n",
        "Finished epoch 48 / 50: cost 1.044156, train: 0.716000, val 0.531000, lr 1.590671e-06"
       ]
      },
      {
       "output_type": "stream",
       "stream": "stdout",
       "text": [
        "\n",
        "Finished epoch 49 / 50: cost 0.915709, train: 0.709000, val 0.527000, lr 1.431604e-06"
       ]
      },
      {
       "output_type": "stream",
       "stream": "stdout",
       "text": [
        "\n",
        "Finished epoch 50 / 50: cost 0.909002, train: 0.689000, val 0.533000, lr 1.288444e-06"
       ]
      },
      {
       "output_type": "stream",
       "stream": "stdout",
       "text": [
        "\n",
        "finished optimization. best validation accuracy: 0.537000\n",
        "Finished epoch 0 / 50: cost 2.302588, train: 0.109000, val 0.107000, lr 3.000000e-04"
       ]
      },
      {
       "output_type": "stream",
       "stream": "stdout",
       "text": [
        "\n",
        "Finished epoch 1 / 50: cost 1.766915, train: 0.371000, val 0.365000, lr 2.700000e-04"
       ]
      },
      {
       "output_type": "stream",
       "stream": "stdout",
       "text": [
        "\n",
        "Finished epoch 2 / 50: cost 1.666704, train: 0.477000, val 0.460000, lr 2.430000e-04"
       ]
      },
      {
       "output_type": "stream",
       "stream": "stdout",
       "text": [
        "\n",
        "Finished epoch 3 / 50: cost 1.375271, train: 0.518000, val 0.454000, lr 2.187000e-04"
       ]
      },
      {
       "output_type": "stream",
       "stream": "stdout",
       "text": [
        "\n",
        "Finished epoch 4 / 50: cost 1.382942, train: 0.533000, val 0.493000, lr 1.968300e-04"
       ]
      },
      {
       "output_type": "stream",
       "stream": "stdout",
       "text": [
        "\n",
        "Finished epoch 5 / 50: cost 1.367045, train: 0.541000, val 0.495000, lr 1.771470e-04"
       ]
      },
      {
       "output_type": "stream",
       "stream": "stdout",
       "text": [
        "\n",
        "Finished epoch 6 / 50: cost 1.455608, train: 0.573000, val 0.501000, lr 1.594323e-04"
       ]
      },
      {
       "output_type": "stream",
       "stream": "stdout",
       "text": [
        "\n",
        "Finished epoch 7 / 50: cost 1.208050, train: 0.561000, val 0.524000, lr 1.434891e-04"
       ]
      },
      {
       "output_type": "stream",
       "stream": "stdout",
       "text": [
        "\n",
        "Finished epoch 8 / 50: cost 1.288670, train: 0.580000, val 0.509000, lr 1.291402e-04"
       ]
      },
      {
       "output_type": "stream",
       "stream": "stdout",
       "text": [
        "\n",
        "Finished epoch 9 / 50: cost 1.171911, train: 0.612000, val 0.535000, lr 1.162261e-04"
       ]
      },
      {
       "output_type": "stream",
       "stream": "stdout",
       "text": [
        "\n",
        "Finished epoch 10 / 50: cost 1.194982, train: 0.604000, val 0.526000, lr 1.046035e-04"
       ]
      },
      {
       "output_type": "stream",
       "stream": "stdout",
       "text": [
        "\n",
        "Finished epoch 11 / 50: cost 1.199249, train: 0.624000, val 0.541000, lr 9.414318e-05"
       ]
      },
      {
       "output_type": "stream",
       "stream": "stdout",
       "text": [
        "\n",
        "Finished epoch 12 / 50: cost 1.143752, train: 0.628000, val 0.530000, lr 8.472886e-05"
       ]
      },
      {
       "output_type": "stream",
       "stream": "stdout",
       "text": [
        "\n",
        "Finished epoch 13 / 50: cost 1.233144, train: 0.654000, val 0.544000, lr 7.625597e-05"
       ]
      },
      {
       "output_type": "stream",
       "stream": "stdout",
       "text": [
        "\n",
        "Finished epoch 14 / 50: cost 1.069861, train: 0.650000, val 0.531000, lr 6.863038e-05"
       ]
      },
      {
       "output_type": "stream",
       "stream": "stdout",
       "text": [
        "\n",
        "Finished epoch 15 / 50: cost 1.140480, train: 0.675000, val 0.531000, lr 6.176734e-05"
       ]
      },
      {
       "output_type": "stream",
       "stream": "stdout",
       "text": [
        "\n",
        "Finished epoch 16 / 50: cost 1.059412, train: 0.662000, val 0.540000, lr 5.559061e-05"
       ]
      },
      {
       "output_type": "stream",
       "stream": "stdout",
       "text": [
        "\n",
        "Finished epoch 17 / 50: cost 0.946099, train: 0.672000, val 0.556000, lr 5.003155e-05"
       ]
      },
      {
       "output_type": "stream",
       "stream": "stdout",
       "text": [
        "\n",
        "Finished epoch 18 / 50: cost 1.064463, train: 0.687000, val 0.539000, lr 4.502839e-05"
       ]
      },
      {
       "output_type": "stream",
       "stream": "stdout",
       "text": [
        "\n",
        "Finished epoch 19 / 50: cost 1.099431, train: 0.692000, val 0.533000, lr 4.052555e-05"
       ]
      },
      {
       "output_type": "stream",
       "stream": "stdout",
       "text": [
        "\n",
        "Finished epoch 20 / 50: cost 1.068629, train: 0.703000, val 0.537000, lr 3.647300e-05"
       ]
      },
      {
       "output_type": "stream",
       "stream": "stdout",
       "text": [
        "\n",
        "Finished epoch 21 / 50: cost 1.012221, train: 0.704000, val 0.549000, lr 3.282570e-05"
       ]
      },
      {
       "output_type": "stream",
       "stream": "stdout",
       "text": [
        "\n",
        "Finished epoch 22 / 50: cost 1.026487, train: 0.676000, val 0.541000, lr 2.954313e-05"
       ]
      },
      {
       "output_type": "stream",
       "stream": "stdout",
       "text": [
        "\n",
        "Finished epoch 23 / 50: cost 0.954276, train: 0.697000, val 0.543000, lr 2.658881e-05"
       ]
      },
      {
       "output_type": "stream",
       "stream": "stdout",
       "text": [
        "\n",
        "Finished epoch 24 / 50: cost 0.978660, train: 0.700000, val 0.554000, lr 2.392993e-05"
       ]
      },
      {
       "output_type": "stream",
       "stream": "stdout",
       "text": [
        "\n",
        "Finished epoch 25 / 50: cost 0.957754, train: 0.722000, val 0.543000, lr 2.153694e-05"
       ]
      },
      {
       "output_type": "stream",
       "stream": "stdout",
       "text": [
        "\n",
        "Finished epoch 26 / 50: cost 1.101954, train: 0.694000, val 0.543000, lr 1.938325e-05"
       ]
      },
      {
       "output_type": "stream",
       "stream": "stdout",
       "text": [
        "\n",
        "Finished epoch 27 / 50: cost 1.052573, train: 0.701000, val 0.532000, lr 1.744492e-05"
       ]
      },
      {
       "output_type": "stream",
       "stream": "stdout",
       "text": [
        "\n",
        "Finished epoch 28 / 50: cost 0.941216, train: 0.743000, val 0.549000, lr 1.570043e-05"
       ]
      },
      {
       "output_type": "stream",
       "stream": "stdout",
       "text": [
        "\n",
        "Finished epoch 29 / 50: cost 1.067968, train: 0.720000, val 0.541000, lr 1.413039e-05"
       ]
      },
      {
       "output_type": "stream",
       "stream": "stdout",
       "text": [
        "\n",
        "Finished epoch 30 / 50: cost 0.891909, train: 0.694000, val 0.537000, lr 1.271735e-05"
       ]
      },
      {
       "output_type": "stream",
       "stream": "stdout",
       "text": [
        "\n",
        "Finished epoch 31 / 50: cost 0.894023, train: 0.737000, val 0.545000, lr 1.144561e-05"
       ]
      },
      {
       "output_type": "stream",
       "stream": "stdout",
       "text": [
        "\n",
        "Finished epoch 32 / 50: cost 0.847596, train: 0.718000, val 0.547000, lr 1.030105e-05"
       ]
      },
      {
       "output_type": "stream",
       "stream": "stdout",
       "text": [
        "\n",
        "Finished epoch 33 / 50: cost 0.959241, train: 0.700000, val 0.543000, lr 9.270946e-06"
       ]
      },
      {
       "output_type": "stream",
       "stream": "stdout",
       "text": [
        "\n",
        "Finished epoch 34 / 50: cost 0.934785, train: 0.739000, val 0.542000, lr 8.343852e-06"
       ]
      },
      {
       "output_type": "stream",
       "stream": "stdout",
       "text": [
        "\n",
        "Finished epoch 35 / 50: cost 0.901992, train: 0.698000, val 0.542000, lr 7.509467e-06"
       ]
      },
      {
       "output_type": "stream",
       "stream": "stdout",
       "text": [
        "\n",
        "Finished epoch 36 / 50: cost 0.962614, train: 0.697000, val 0.539000, lr 6.758520e-06"
       ]
      },
      {
       "output_type": "stream",
       "stream": "stdout",
       "text": [
        "\n",
        "Finished epoch 37 / 50: cost 0.938370, train: 0.713000, val 0.545000, lr 6.082668e-06"
       ]
      },
      {
       "output_type": "stream",
       "stream": "stdout",
       "text": [
        "\n",
        "Finished epoch 38 / 50: cost 1.018771, train: 0.694000, val 0.541000, lr 5.474401e-06"
       ]
      },
      {
       "output_type": "stream",
       "stream": "stdout",
       "text": [
        "\n",
        "Finished epoch 39 / 50: cost 0.926516, train: 0.729000, val 0.537000, lr 4.926961e-06"
       ]
      },
      {
       "output_type": "stream",
       "stream": "stdout",
       "text": [
        "\n",
        "Finished epoch 40 / 50: cost 0.966712, train: 0.708000, val 0.543000, lr 4.434265e-06"
       ]
      },
      {
       "output_type": "stream",
       "stream": "stdout",
       "text": [
        "\n",
        "Finished epoch 41 / 50: cost 0.959262, train: 0.742000, val 0.541000, lr 3.990838e-06"
       ]
      },
      {
       "output_type": "stream",
       "stream": "stdout",
       "text": [
        "\n",
        "Finished epoch 42 / 50: cost 0.964497, train: 0.718000, val 0.542000, lr 3.591755e-06"
       ]
      },
      {
       "output_type": "stream",
       "stream": "stdout",
       "text": [
        "\n",
        "Finished epoch 43 / 50: cost 0.920578, train: 0.742000, val 0.539000, lr 3.232579e-06"
       ]
      },
      {
       "output_type": "stream",
       "stream": "stdout",
       "text": [
        "\n",
        "Finished epoch 44 / 50: cost 0.852404, train: 0.704000, val 0.540000, lr 2.909321e-06"
       ]
      },
      {
       "output_type": "stream",
       "stream": "stdout",
       "text": [
        "\n",
        "Finished epoch 45 / 50: cost 1.080985, train: 0.723000, val 0.537000, lr 2.618389e-06"
       ]
      },
      {
       "output_type": "stream",
       "stream": "stdout",
       "text": [
        "\n",
        "Finished epoch 46 / 50: cost 0.977943, train: 0.726000, val 0.542000, lr 2.356550e-06"
       ]
      },
      {
       "output_type": "stream",
       "stream": "stdout",
       "text": [
        "\n",
        "Finished epoch 47 / 50: cost 0.872111, train: 0.738000, val 0.543000, lr 2.120895e-06"
       ]
      },
      {
       "output_type": "stream",
       "stream": "stdout",
       "text": [
        "\n",
        "Finished epoch 48 / 50: cost 0.899507, train: 0.719000, val 0.544000, lr 1.908806e-06"
       ]
      },
      {
       "output_type": "stream",
       "stream": "stdout",
       "text": [
        "\n",
        "Finished epoch 49 / 50: cost 0.973208, train: 0.722000, val 0.544000, lr 1.717925e-06"
       ]
      },
      {
       "output_type": "stream",
       "stream": "stdout",
       "text": [
        "\n",
        "Finished epoch 50 / 50: cost 0.936683, train: 0.712000, val 0.544000, lr 1.546133e-06"
       ]
      },
      {
       "output_type": "stream",
       "stream": "stdout",
       "text": [
        "\n",
        "finished optimization. best validation accuracy: 0.556000\n",
        "Finished epoch 0 / 50: cost 2.302588, train: 0.108000, val 0.115000, lr 3.500000e-04"
       ]
      },
      {
       "output_type": "stream",
       "stream": "stdout",
       "text": [
        "\n",
        "Finished epoch 1 / 50: cost 1.724008, train: 0.373000, val 0.399000, lr 3.150000e-04"
       ]
      },
      {
       "output_type": "stream",
       "stream": "stdout",
       "text": [
        "\n",
        "Finished epoch 2 / 50: cost 1.566969, train: 0.476000, val 0.469000, lr 2.835000e-04"
       ]
      },
      {
       "output_type": "stream",
       "stream": "stdout",
       "text": [
        "\n",
        "Finished epoch 3 / 50: cost 1.345163, train: 0.515000, val 0.479000, lr 2.551500e-04"
       ]
      },
      {
       "output_type": "stream",
       "stream": "stdout",
       "text": [
        "\n",
        "Finished epoch 4 / 50: cost 1.398946, train: 0.559000, val 0.497000, lr 2.296350e-04"
       ]
      },
      {
       "output_type": "stream",
       "stream": "stdout",
       "text": [
        "\n",
        "Finished epoch 5 / 50: cost 1.279961, train: 0.546000, val 0.507000, lr 2.066715e-04"
       ]
      },
      {
       "output_type": "stream",
       "stream": "stdout",
       "text": [
        "\n",
        "Finished epoch 6 / 50: cost 1.327898, train: 0.583000, val 0.501000, lr 1.860044e-04"
       ]
      },
      {
       "output_type": "stream",
       "stream": "stdout",
       "text": [
        "\n",
        "Finished epoch 7 / 50: cost 1.210925, train: 0.573000, val 0.509000, lr 1.674039e-04"
       ]
      },
      {
       "output_type": "stream",
       "stream": "stdout",
       "text": [
        "\n",
        "Finished epoch 8 / 50: cost 1.210789, train: 0.596000, val 0.513000, lr 1.506635e-04"
       ]
      },
      {
       "output_type": "stream",
       "stream": "stdout",
       "text": [
        "\n",
        "Finished epoch 9 / 50: cost 1.297612, train: 0.613000, val 0.513000, lr 1.355972e-04"
       ]
      },
      {
       "output_type": "stream",
       "stream": "stdout",
       "text": [
        "\n",
        "Finished epoch 10 / 50: cost 1.098416, train: 0.615000, val 0.518000, lr 1.220375e-04"
       ]
      },
      {
       "output_type": "stream",
       "stream": "stdout",
       "text": [
        "\n",
        "Finished epoch 11 / 50: cost 1.105665, train: 0.614000, val 0.536000, lr 1.098337e-04"
       ]
      },
      {
       "output_type": "stream",
       "stream": "stdout",
       "text": [
        "\n",
        "Finished epoch 12 / 50: cost 1.096332, train: 0.611000, val 0.551000, lr 9.885034e-05"
       ]
      },
      {
       "output_type": "stream",
       "stream": "stdout",
       "text": [
        "\n",
        "Finished epoch 13 / 50: cost 1.124950, train: 0.643000, val 0.525000, lr 8.896530e-05"
       ]
      },
      {
       "output_type": "stream",
       "stream": "stdout",
       "text": [
        "\n",
        "Finished epoch 14 / 50: cost 1.029759, train: 0.649000, val 0.535000, lr 8.006877e-05"
       ]
      },
      {
       "output_type": "stream",
       "stream": "stdout",
       "text": [
        "\n",
        "Finished epoch 15 / 50: cost 1.087247, train: 0.670000, val 0.543000, lr 7.206190e-05"
       ]
      },
      {
       "output_type": "stream",
       "stream": "stdout",
       "text": [
        "\n",
        "Finished epoch 16 / 50: cost 0.997622, train: 0.677000, val 0.539000, lr 6.485571e-05"
       ]
      },
      {
       "output_type": "stream",
       "stream": "stdout",
       "text": [
        "\n",
        "Finished epoch 17 / 50: cost 1.048488, train: 0.718000, val 0.532000, lr 5.837014e-05"
       ]
      },
      {
       "output_type": "stream",
       "stream": "stdout",
       "text": [
        "\n",
        "Finished epoch 18 / 50: cost 0.925684, train: 0.667000, val 0.535000, lr 5.253312e-05"
       ]
      },
      {
       "output_type": "stream",
       "stream": "stdout",
       "text": [
        "\n",
        "Finished epoch 19 / 50: cost 0.985113, train: 0.702000, val 0.542000, lr 4.727981e-05"
       ]
      },
      {
       "output_type": "stream",
       "stream": "stdout",
       "text": [
        "\n",
        "Finished epoch 20 / 50: cost 0.949635, train: 0.693000, val 0.548000, lr 4.255183e-05"
       ]
      },
      {
       "output_type": "stream",
       "stream": "stdout",
       "text": [
        "\n",
        "Finished epoch 21 / 50: cost 0.988202, train: 0.680000, val 0.544000, lr 3.829665e-05"
       ]
      },
      {
       "output_type": "stream",
       "stream": "stdout",
       "text": [
        "\n",
        "Finished epoch 22 / 50: cost 0.903009, train: 0.699000, val 0.537000, lr 3.446698e-05"
       ]
      },
      {
       "output_type": "stream",
       "stream": "stdout",
       "text": [
        "\n",
        "Finished epoch 23 / 50: cost 0.956845, train: 0.739000, val 0.544000, lr 3.102028e-05"
       ]
      },
      {
       "output_type": "stream",
       "stream": "stdout",
       "text": [
        "\n",
        "Finished epoch 24 / 50: cost 0.989723, train: 0.724000, val 0.555000, lr 2.791826e-05"
       ]
      },
      {
       "output_type": "stream",
       "stream": "stdout",
       "text": [
        "\n",
        "Finished epoch 25 / 50: cost 0.941550, train: 0.701000, val 0.554000, lr 2.512643e-05"
       ]
      },
      {
       "output_type": "stream",
       "stream": "stdout",
       "text": [
        "\n",
        "Finished epoch 26 / 50: cost 0.866608, train: 0.736000, val 0.538000, lr 2.261379e-05"
       ]
      },
      {
       "output_type": "stream",
       "stream": "stdout",
       "text": [
        "\n",
        "Finished epoch 27 / 50: cost 0.824572, train: 0.730000, val 0.546000, lr 2.035241e-05"
       ]
      },
      {
       "output_type": "stream",
       "stream": "stdout",
       "text": [
        "\n",
        "Finished epoch 28 / 50: cost 0.849616, train: 0.700000, val 0.547000, lr 1.831717e-05"
       ]
      },
      {
       "output_type": "stream",
       "stream": "stdout",
       "text": [
        "\n",
        "Finished epoch 29 / 50: cost 0.905134, train: 0.720000, val 0.554000, lr 1.648545e-05"
       ]
      },
      {
       "output_type": "stream",
       "stream": "stdout",
       "text": [
        "\n",
        "Finished epoch 30 / 50: cost 0.944420, train: 0.743000, val 0.550000, lr 1.483691e-05"
       ]
      },
      {
       "output_type": "stream",
       "stream": "stdout",
       "text": [
        "\n",
        "Finished epoch 31 / 50: cost 0.974692, train: 0.722000, val 0.551000, lr 1.335321e-05"
       ]
      },
      {
       "output_type": "stream",
       "stream": "stdout",
       "text": [
        "\n",
        "Finished epoch 32 / 50: cost 0.860388, train: 0.724000, val 0.546000, lr 1.201789e-05"
       ]
      },
      {
       "output_type": "stream",
       "stream": "stdout",
       "text": [
        "\n",
        "Finished epoch 33 / 50: cost 0.916077, train: 0.728000, val 0.542000, lr 1.081610e-05"
       ]
      },
      {
       "output_type": "stream",
       "stream": "stdout",
       "text": [
        "\n",
        "Finished epoch 34 / 50: cost 0.859941, train: 0.706000, val 0.555000, lr 9.734494e-06"
       ]
      },
      {
       "output_type": "stream",
       "stream": "stdout",
       "text": [
        "\n",
        "Finished epoch 35 / 50: cost 0.949837, train: 0.750000, val 0.547000, lr 8.761044e-06"
       ]
      },
      {
       "output_type": "stream",
       "stream": "stdout",
       "text": [
        "\n",
        "Finished epoch 36 / 50: cost 0.949896, train: 0.762000, val 0.554000, lr 7.884940e-06"
       ]
      },
      {
       "output_type": "stream",
       "stream": "stdout",
       "text": [
        "\n",
        "Finished epoch 37 / 50: cost 0.979091, train: 0.734000, val 0.545000, lr 7.096446e-06"
       ]
      },
      {
       "output_type": "stream",
       "stream": "stdout",
       "text": [
        "\n",
        "Finished epoch 38 / 50: cost 0.829200, train: 0.732000, val 0.552000, lr 6.386801e-06"
       ]
      },
      {
       "output_type": "stream",
       "stream": "stdout",
       "text": [
        "\n",
        "Finished epoch 39 / 50: cost 0.960423, train: 0.751000, val 0.554000, lr 5.748121e-06"
       ]
      },
      {
       "output_type": "stream",
       "stream": "stdout",
       "text": [
        "\n",
        "Finished epoch 40 / 50: cost 0.861345, train: 0.744000, val 0.553000, lr 5.173309e-06"
       ]
      },
      {
       "output_type": "stream",
       "stream": "stdout",
       "text": [
        "\n",
        "Finished epoch 41 / 50: cost 0.886026, train: 0.747000, val 0.546000, lr 4.655978e-06"
       ]
      },
      {
       "output_type": "stream",
       "stream": "stdout",
       "text": [
        "\n",
        "Finished epoch 42 / 50: cost 0.877548, train: 0.752000, val 0.558000, lr 4.190380e-06"
       ]
      },
      {
       "output_type": "stream",
       "stream": "stdout",
       "text": [
        "\n",
        "Finished epoch 43 / 50: cost 0.863526, train: 0.754000, val 0.548000, lr 3.771342e-06"
       ]
      },
      {
       "output_type": "stream",
       "stream": "stdout",
       "text": [
        "\n",
        "Finished epoch 44 / 50: cost 0.949355, train: 0.749000, val 0.558000, lr 3.394208e-06"
       ]
      },
      {
       "output_type": "stream",
       "stream": "stdout",
       "text": [
        "\n",
        "Finished epoch 45 / 50: cost 0.947126, train: 0.738000, val 0.553000, lr 3.054787e-06"
       ]
      },
      {
       "output_type": "stream",
       "stream": "stdout",
       "text": [
        "\n",
        "Finished epoch 46 / 50: cost 0.838005, train: 0.763000, val 0.548000, lr 2.749309e-06"
       ]
      },
      {
       "output_type": "stream",
       "stream": "stdout",
       "text": [
        "\n",
        "Finished epoch 47 / 50: cost 0.893923, train: 0.730000, val 0.555000, lr 2.474378e-06"
       ]
      },
      {
       "output_type": "stream",
       "stream": "stdout",
       "text": [
        "\n",
        "Finished epoch 48 / 50: cost 0.840394, train: 0.755000, val 0.547000, lr 2.226940e-06"
       ]
      },
      {
       "output_type": "stream",
       "stream": "stdout",
       "text": [
        "\n",
        "Finished epoch 49 / 50: cost 0.805463, train: 0.751000, val 0.545000, lr 2.004246e-06"
       ]
      },
      {
       "output_type": "stream",
       "stream": "stdout",
       "text": [
        "\n",
        "Finished epoch 50 / 50: cost 0.878628, train: 0.749000, val 0.551000, lr 1.803821e-06"
       ]
      },
      {
       "output_type": "stream",
       "stream": "stdout",
       "text": [
        "\n",
        "finished optimization. best validation accuracy: 0.558000\n",
        "Finished epoch 0 / 50: cost 2.302588, train: 0.115000, val 0.093000, lr 4.000000e-03"
       ]
      },
      {
       "output_type": "stream",
       "stream": "stdout",
       "text": [
        "\n",
        "Finished epoch 1 / 50: cost nan, train: 0.095000, val 0.087000, lr 3.600000e-03"
       ]
      },
      {
       "output_type": "stream",
       "stream": "stdout",
       "text": [
        "\n",
        "Finished epoch 2 / 50: cost nan, train: 0.094000, val 0.087000, lr 3.240000e-03"
       ]
      },
      {
       "output_type": "stream",
       "stream": "stdout",
       "text": [
        "\n",
        "Finished epoch 3 / 50: cost nan, train: 0.090000, val 0.087000, lr 2.916000e-03"
       ]
      },
      {
       "output_type": "stream",
       "stream": "stdout",
       "text": [
        "\n",
        "Finished epoch 4 / 50: cost nan, train: 0.105000, val 0.087000, lr 2.624400e-03"
       ]
      },
      {
       "output_type": "stream",
       "stream": "stdout",
       "text": [
        "\n",
        "Finished epoch 5 / 50: cost nan, train: 0.102000, val 0.087000, lr 2.361960e-03"
       ]
      },
      {
       "output_type": "stream",
       "stream": "stdout",
       "text": [
        "\n",
        "Finished epoch 6 / 50: cost nan, train: 0.116000, val 0.087000, lr 2.125764e-03"
       ]
      },
      {
       "output_type": "stream",
       "stream": "stdout",
       "text": [
        "\n",
        "Finished epoch 7 / 50: cost nan, train: 0.114000, val 0.087000, lr 1.913188e-03"
       ]
      },
      {
       "output_type": "stream",
       "stream": "stdout",
       "text": [
        "\n",
        "Finished epoch 8 / 50: cost nan, train: 0.097000, val 0.087000, lr 1.721869e-03"
       ]
      },
      {
       "output_type": "stream",
       "stream": "stdout",
       "text": [
        "\n",
        "Finished epoch 9 / 50: cost nan, train: 0.096000, val 0.087000, lr 1.549682e-03"
       ]
      },
      {
       "output_type": "stream",
       "stream": "stdout",
       "text": [
        "\n",
        "Finished epoch 10 / 50: cost nan, train: 0.093000, val 0.087000, lr 1.394714e-03"
       ]
      },
      {
       "output_type": "stream",
       "stream": "stdout",
       "text": [
        "\n",
        "Finished epoch 11 / 50: cost nan, train: 0.096000, val 0.087000, lr 1.255242e-03"
       ]
      },
      {
       "output_type": "stream",
       "stream": "stdout",
       "text": [
        "\n",
        "Finished epoch 12 / 50: cost nan, train: 0.102000, val 0.087000, lr 1.129718e-03"
       ]
      },
      {
       "output_type": "stream",
       "stream": "stdout",
       "text": [
        "\n",
        "Finished epoch 13 / 50: cost nan, train: 0.115000, val 0.087000, lr 1.016746e-03"
       ]
      },
      {
       "output_type": "stream",
       "stream": "stdout",
       "text": [
        "\n",
        "Finished epoch 14 / 50: cost nan, train: 0.098000, val 0.087000, lr 9.150717e-04"
       ]
      },
      {
       "output_type": "stream",
       "stream": "stdout",
       "text": [
        "\n",
        "Finished epoch 15 / 50: cost nan, train: 0.102000, val 0.087000, lr 8.235645e-04"
       ]
      },
      {
       "output_type": "stream",
       "stream": "stdout",
       "text": [
        "\n",
        "Finished epoch 16 / 50: cost nan, train: 0.101000, val 0.087000, lr 7.412081e-04"
       ]
      },
      {
       "output_type": "stream",
       "stream": "stdout",
       "text": [
        "\n",
        "Finished epoch 17 / 50: cost nan, train: 0.097000, val 0.087000, lr 6.670873e-04"
       ]
      },
      {
       "output_type": "stream",
       "stream": "stdout",
       "text": [
        "\n",
        "Finished epoch 18 / 50: cost nan, train: 0.115000, val 0.087000, lr 6.003785e-04"
       ]
      },
      {
       "output_type": "stream",
       "stream": "stdout",
       "text": [
        "\n",
        "Finished epoch 19 / 50: cost nan, train: 0.102000, val 0.087000, lr 5.403407e-04"
       ]
      },
      {
       "output_type": "stream",
       "stream": "stdout",
       "text": [
        "\n",
        "Finished epoch 20 / 50: cost nan, train: 0.083000, val 0.087000, lr 4.863066e-04"
       ]
      },
      {
       "output_type": "stream",
       "stream": "stdout",
       "text": [
        "\n",
        "Finished epoch 21 / 50: cost nan, train: 0.090000, val 0.087000, lr 4.376760e-04"
       ]
      },
      {
       "output_type": "stream",
       "stream": "stdout",
       "text": [
        "\n",
        "Finished epoch 22 / 50: cost nan, train: 0.117000, val 0.087000, lr 3.939084e-04"
       ]
      },
      {
       "output_type": "stream",
       "stream": "stdout",
       "text": [
        "\n",
        "Finished epoch 23 / 50: cost nan, train: 0.095000, val 0.087000, lr 3.545175e-04"
       ]
      },
      {
       "output_type": "stream",
       "stream": "stdout",
       "text": [
        "\n",
        "Finished epoch 24 / 50: cost nan, train: 0.103000, val 0.087000, lr 3.190658e-04"
       ]
      },
      {
       "output_type": "stream",
       "stream": "stdout",
       "text": [
        "\n",
        "Finished epoch 25 / 50: cost nan, train: 0.090000, val 0.087000, lr 2.871592e-04"
       ]
      },
      {
       "output_type": "stream",
       "stream": "stdout",
       "text": [
        "\n",
        "Finished epoch 26 / 50: cost nan, train: 0.090000, val 0.087000, lr 2.584433e-04"
       ]
      },
      {
       "output_type": "stream",
       "stream": "stdout",
       "text": [
        "\n",
        "Finished epoch 27 / 50: cost nan, train: 0.098000, val 0.087000, lr 2.325989e-04"
       ]
      },
      {
       "output_type": "stream",
       "stream": "stdout",
       "text": [
        "\n",
        "Finished epoch 28 / 50: cost nan, train: 0.117000, val 0.087000, lr 2.093391e-04"
       ]
      },
      {
       "output_type": "stream",
       "stream": "stdout",
       "text": [
        "\n",
        "Finished epoch 29 / 50: cost nan, train: 0.097000, val 0.087000, lr 1.884051e-04"
       ]
      },
      {
       "output_type": "stream",
       "stream": "stdout",
       "text": [
        "\n",
        "Finished epoch 30 / 50: cost nan, train: 0.119000, val 0.087000, lr 1.695646e-04"
       ]
      },
      {
       "output_type": "stream",
       "stream": "stdout",
       "text": [
        "\n",
        "Finished epoch 31 / 50: cost nan, train: 0.105000, val 0.087000, lr 1.526082e-04"
       ]
      },
      {
       "output_type": "stream",
       "stream": "stdout",
       "text": [
        "\n",
        "Finished epoch 32 / 50: cost nan, train: 0.090000, val 0.087000, lr 1.373474e-04"
       ]
      },
      {
       "output_type": "stream",
       "stream": "stdout",
       "text": [
        "\n",
        "Finished epoch 33 / 50: cost nan, train: 0.113000, val 0.087000, lr 1.236126e-04"
       ]
      },
      {
       "output_type": "stream",
       "stream": "stdout",
       "text": [
        "\n",
        "Finished epoch 34 / 50: cost nan, train: 0.096000, val 0.087000, lr 1.112514e-04"
       ]
      },
      {
       "output_type": "stream",
       "stream": "stdout",
       "text": [
        "\n",
        "Finished epoch 35 / 50: cost nan, train: 0.098000, val 0.087000, lr 1.001262e-04"
       ]
      },
      {
       "output_type": "stream",
       "stream": "stdout",
       "text": [
        "\n",
        "Finished epoch 36 / 50: cost nan, train: 0.103000, val 0.087000, lr 9.011360e-05"
       ]
      },
      {
       "output_type": "stream",
       "stream": "stdout",
       "text": [
        "\n",
        "Finished epoch 37 / 50: cost nan, train: 0.095000, val 0.087000, lr 8.110224e-05"
       ]
      },
      {
       "output_type": "stream",
       "stream": "stdout",
       "text": [
        "\n",
        "Finished epoch 38 / 50: cost nan, train: 0.095000, val 0.087000, lr 7.299201e-05"
       ]
      },
      {
       "output_type": "stream",
       "stream": "stdout",
       "text": [
        "\n",
        "Finished epoch 39 / 50: cost nan, train: 0.101000, val 0.087000, lr 6.569281e-05"
       ]
      },
      {
       "output_type": "stream",
       "stream": "stdout",
       "text": [
        "\n",
        "Finished epoch 40 / 50: cost nan, train: 0.104000, val 0.087000, lr 5.912353e-05"
       ]
      },
      {
       "output_type": "stream",
       "stream": "stdout",
       "text": [
        "\n",
        "Finished epoch 41 / 50: cost nan, train: 0.116000, val 0.087000, lr 5.321118e-05"
       ]
      },
      {
       "output_type": "stream",
       "stream": "stdout",
       "text": [
        "\n",
        "Finished epoch 42 / 50: cost nan, train: 0.104000, val 0.087000, lr 4.789006e-05"
       ]
      },
      {
       "output_type": "stream",
       "stream": "stdout",
       "text": [
        "\n",
        "Finished epoch 43 / 50: cost nan, train: 0.110000, val 0.087000, lr 4.310105e-05"
       ]
      },
      {
       "output_type": "stream",
       "stream": "stdout",
       "text": [
        "\n",
        "Finished epoch 44 / 50: cost nan, train: 0.095000, val 0.087000, lr 3.879095e-05"
       ]
      },
      {
       "output_type": "stream",
       "stream": "stdout",
       "text": [
        "\n",
        "Finished epoch 45 / 50: cost nan, train: 0.113000, val 0.087000, lr 3.491185e-05"
       ]
      },
      {
       "output_type": "stream",
       "stream": "stdout",
       "text": [
        "\n",
        "Finished epoch 46 / 50: cost nan, train: 0.105000, val 0.087000, lr 3.142067e-05"
       ]
      },
      {
       "output_type": "stream",
       "stream": "stdout",
       "text": [
        "\n",
        "Finished epoch 47 / 50: cost nan, train: 0.101000, val 0.087000, lr 2.827860e-05"
       ]
      },
      {
       "output_type": "stream",
       "stream": "stdout",
       "text": [
        "\n",
        "Finished epoch 48 / 50: cost nan, train: 0.109000, val 0.087000, lr 2.545074e-05"
       ]
      },
      {
       "output_type": "stream",
       "stream": "stdout",
       "text": [
        "\n",
        "Finished epoch 49 / 50: cost nan, train: 0.097000, val 0.087000, lr 2.290567e-05"
       ]
      },
      {
       "output_type": "stream",
       "stream": "stdout",
       "text": [
        "\n",
        "Finished epoch 50 / 50: cost nan, train: 0.104000, val 0.087000, lr 2.061510e-05"
       ]
      },
      {
       "output_type": "stream",
       "stream": "stdout",
       "text": [
        "\n",
        "finished optimization. best validation accuracy: 0.093000\n",
        "Finished epoch 0 / 50: cost 2.302588, train: 0.087000, val 0.118000, lr 1.000000e-03"
       ]
      },
      {
       "output_type": "stream",
       "stream": "stdout",
       "text": [
        "\n",
        "Finished epoch 1 / 50: cost 1.850943, train: 0.417000, val 0.412000, lr 9.000000e-04"
       ]
      },
      {
       "output_type": "stream",
       "stream": "stdout",
       "text": [
        "\n",
        "Finished epoch 2 / 50: cost 1.566235, train: 0.498000, val 0.455000, lr 8.100000e-04"
       ]
      },
      {
       "output_type": "stream",
       "stream": "stdout",
       "text": [
        "\n",
        "Finished epoch 3 / 50: cost 1.492941, train: 0.501000, val 0.476000, lr 7.290000e-04"
       ]
      },
      {
       "output_type": "stream",
       "stream": "stdout",
       "text": [
        "\n",
        "Finished epoch 4 / 50: cost 1.296145, train: 0.525000, val 0.469000, lr 6.561000e-04"
       ]
      },
      {
       "output_type": "stream",
       "stream": "stdout",
       "text": [
        "\n",
        "Finished epoch 5 / 50: cost 1.377932, train: 0.536000, val 0.490000, lr 5.904900e-04"
       ]
      },
      {
       "output_type": "stream",
       "stream": "stdout",
       "text": [
        "\n",
        "Finished epoch 6 / 50: cost 1.290053, train: 0.538000, val 0.487000, lr 5.314410e-04"
       ]
      },
      {
       "output_type": "stream",
       "stream": "stdout",
       "text": [
        "\n",
        "Finished epoch 7 / 50: cost 1.215339, train: 0.583000, val 0.502000, lr 4.782969e-04"
       ]
      },
      {
       "output_type": "stream",
       "stream": "stdout",
       "text": [
        "\n",
        "Finished epoch 8 / 50: cost 1.237553, train: 0.572000, val 0.505000, lr 4.304672e-04"
       ]
      },
      {
       "output_type": "stream",
       "stream": "stdout",
       "text": [
        "\n",
        "Finished epoch 9 / 50: cost 1.174948, train: 0.647000, val 0.513000, lr 3.874205e-04"
       ]
      },
      {
       "output_type": "stream",
       "stream": "stdout",
       "text": [
        "\n",
        "Finished epoch 10 / 50: cost 1.128721, train: 0.625000, val 0.515000, lr 3.486784e-04"
       ]
      },
      {
       "output_type": "stream",
       "stream": "stdout",
       "text": [
        "\n",
        "Finished epoch 11 / 50: cost 1.185478, train: 0.665000, val 0.499000, lr 3.138106e-04"
       ]
      },
      {
       "output_type": "stream",
       "stream": "stdout",
       "text": [
        "\n",
        "Finished epoch 12 / 50: cost 1.062892, train: 0.648000, val 0.518000, lr 2.824295e-04"
       ]
      },
      {
       "output_type": "stream",
       "stream": "stdout",
       "text": [
        "\n",
        "Finished epoch 13 / 50: cost 1.004173, train: 0.678000, val 0.517000, lr 2.541866e-04"
       ]
      },
      {
       "output_type": "stream",
       "stream": "stdout",
       "text": [
        "\n",
        "Finished epoch 14 / 50: cost 1.011726, train: 0.679000, val 0.531000, lr 2.287679e-04"
       ]
      },
      {
       "output_type": "stream",
       "stream": "stdout",
       "text": [
        "\n",
        "Finished epoch 15 / 50: cost 1.017037, train: 0.688000, val 0.517000, lr 2.058911e-04"
       ]
      },
      {
       "output_type": "stream",
       "stream": "stdout",
       "text": [
        "\n",
        "Finished epoch 16 / 50: cost 0.985222, train: 0.688000, val 0.549000, lr 1.853020e-04"
       ]
      },
      {
       "output_type": "stream",
       "stream": "stdout",
       "text": [
        "\n",
        "Finished epoch 17 / 50: cost 0.838447, train: 0.735000, val 0.537000, lr 1.667718e-04"
       ]
      },
      {
       "output_type": "stream",
       "stream": "stdout",
       "text": [
        "\n",
        "Finished epoch 18 / 50: cost 0.868721, train: 0.738000, val 0.523000, lr 1.500946e-04"
       ]
      },
      {
       "output_type": "stream",
       "stream": "stdout",
       "text": [
        "\n",
        "Finished epoch 19 / 50: cost 0.982657, train: 0.761000, val 0.526000, lr 1.350852e-04"
       ]
      },
      {
       "output_type": "stream",
       "stream": "stdout",
       "text": [
        "\n",
        "Finished epoch 20 / 50: cost 0.871855, train: 0.771000, val 0.534000, lr 1.215767e-04"
       ]
      },
      {
       "output_type": "stream",
       "stream": "stdout",
       "text": [
        "\n",
        "Finished epoch 21 / 50: cost 0.897803, train: 0.763000, val 0.525000, lr 1.094190e-04"
       ]
      },
      {
       "output_type": "stream",
       "stream": "stdout",
       "text": [
        "\n",
        "Finished epoch 22 / 50: cost 0.804690, train: 0.769000, val 0.543000, lr 9.847709e-05"
       ]
      },
      {
       "output_type": "stream",
       "stream": "stdout",
       "text": [
        "\n",
        "Finished epoch 23 / 50: cost 0.805144, train: 0.782000, val 0.524000, lr 8.862938e-05"
       ]
      },
      {
       "output_type": "stream",
       "stream": "stdout",
       "text": [
        "\n",
        "Finished epoch 24 / 50: cost 0.768343, train: 0.781000, val 0.541000, lr 7.976644e-05"
       ]
      },
      {
       "output_type": "stream",
       "stream": "stdout",
       "text": [
        "\n",
        "Finished epoch 25 / 50: cost 0.839151, train: 0.790000, val 0.527000, lr 7.178980e-05"
       ]
      },
      {
       "output_type": "stream",
       "stream": "stdout",
       "text": [
        "\n",
        "Finished epoch 26 / 50: cost 0.762384, train: 0.789000, val 0.531000, lr 6.461082e-05"
       ]
      },
      {
       "output_type": "stream",
       "stream": "stdout",
       "text": [
        "\n",
        "Finished epoch 27 / 50: cost 0.786602, train: 0.802000, val 0.539000, lr 5.814974e-05"
       ]
      },
      {
       "output_type": "stream",
       "stream": "stdout",
       "text": [
        "\n",
        "Finished epoch 28 / 50: cost 0.769353, train: 0.823000, val 0.553000, lr 5.233476e-05"
       ]
      },
      {
       "output_type": "stream",
       "stream": "stdout",
       "text": [
        "\n",
        "Finished epoch 29 / 50: cost 0.698492, train: 0.819000, val 0.525000, lr 4.710129e-05"
       ]
      },
      {
       "output_type": "stream",
       "stream": "stdout",
       "text": [
        "\n",
        "Finished epoch 30 / 50: cost 0.761429, train: 0.834000, val 0.533000, lr 4.239116e-05"
       ]
      },
      {
       "output_type": "stream",
       "stream": "stdout",
       "text": [
        "\n",
        "Finished epoch 31 / 50: cost 0.713352, train: 0.815000, val 0.537000, lr 3.815204e-05"
       ]
      },
      {
       "output_type": "stream",
       "stream": "stdout",
       "text": [
        "\n",
        "Finished epoch 32 / 50: cost 0.788111, train: 0.825000, val 0.536000, lr 3.433684e-05"
       ]
      },
      {
       "output_type": "stream",
       "stream": "stdout",
       "text": [
        "\n",
        "Finished epoch 33 / 50: cost 0.687833, train: 0.836000, val 0.532000, lr 3.090315e-05"
       ]
      },
      {
       "output_type": "stream",
       "stream": "stdout",
       "text": [
        "\n",
        "Finished epoch 34 / 50: cost 0.776486, train: 0.842000, val 0.535000, lr 2.781284e-05"
       ]
      },
      {
       "output_type": "stream",
       "stream": "stdout",
       "text": [
        "\n",
        "Finished epoch 35 / 50: cost 0.698052, train: 0.832000, val 0.538000, lr 2.503156e-05"
       ]
      },
      {
       "output_type": "stream",
       "stream": "stdout",
       "text": [
        "\n",
        "Finished epoch 36 / 50: cost 0.642442, train: 0.831000, val 0.548000, lr 2.252840e-05"
       ]
      },
      {
       "output_type": "stream",
       "stream": "stdout",
       "text": [
        "\n",
        "Finished epoch 37 / 50: cost 0.755218, train: 0.853000, val 0.550000, lr 2.027556e-05"
       ]
      },
      {
       "output_type": "stream",
       "stream": "stdout",
       "text": [
        "\n",
        "Finished epoch 38 / 50: cost 0.710585, train: 0.845000, val 0.545000, lr 1.824800e-05"
       ]
      },
      {
       "output_type": "stream",
       "stream": "stdout",
       "text": [
        "\n",
        "Finished epoch 39 / 50: cost 0.685819, train: 0.852000, val 0.541000, lr 1.642320e-05"
       ]
      },
      {
       "output_type": "stream",
       "stream": "stdout",
       "text": [
        "\n",
        "Finished epoch 40 / 50: cost 0.723732, train: 0.845000, val 0.538000, lr 1.478088e-05"
       ]
      },
      {
       "output_type": "stream",
       "stream": "stdout",
       "text": [
        "\n",
        "Finished epoch 41 / 50: cost 0.641930, train: 0.849000, val 0.534000, lr 1.330279e-05"
       ]
      },
      {
       "output_type": "stream",
       "stream": "stdout",
       "text": [
        "\n",
        "Finished epoch 42 / 50: cost 0.694145, train: 0.853000, val 0.538000, lr 1.197252e-05"
       ]
      },
      {
       "output_type": "stream",
       "stream": "stdout",
       "text": [
        "\n",
        "Finished epoch 43 / 50: cost 0.689468, train: 0.861000, val 0.535000, lr 1.077526e-05"
       ]
      },
      {
       "output_type": "stream",
       "stream": "stdout",
       "text": [
        "\n",
        "Finished epoch 44 / 50: cost 0.686550, train: 0.861000, val 0.529000, lr 9.697737e-06"
       ]
      },
      {
       "output_type": "stream",
       "stream": "stdout",
       "text": [
        "\n",
        "Finished epoch 45 / 50: cost 0.732888, train: 0.868000, val 0.533000, lr 8.727964e-06"
       ]
      },
      {
       "output_type": "stream",
       "stream": "stdout",
       "text": [
        "\n",
        "Finished epoch 46 / 50: cost 0.706153, train: 0.850000, val 0.535000, lr 7.855167e-06"
       ]
      },
      {
       "output_type": "stream",
       "stream": "stdout",
       "text": [
        "\n",
        "Finished epoch 47 / 50: cost 0.703686, train: 0.865000, val 0.529000, lr 7.069650e-06"
       ]
      },
      {
       "output_type": "stream",
       "stream": "stdout",
       "text": [
        "\n",
        "Finished epoch 48 / 50: cost 0.675579, train: 0.858000, val 0.537000, lr 6.362685e-06"
       ]
      },
      {
       "output_type": "stream",
       "stream": "stdout",
       "text": [
        "\n",
        "Finished epoch 49 / 50: cost 0.668515, train: 0.861000, val 0.536000, lr 5.726417e-06"
       ]
      },
      {
       "output_type": "stream",
       "stream": "stdout",
       "text": [
        "\n",
        "Finished epoch 50 / 50: cost 0.682231, train: 0.845000, val 0.532000, lr 5.153775e-06"
       ]
      },
      {
       "output_type": "stream",
       "stream": "stdout",
       "text": [
        "\n",
        "finished optimization. best validation accuracy: 0.553000\n",
        "Finished epoch 0 / 50: cost 2.302588, train: 0.096000, val 0.079000, lr 2.500000e-04"
       ]
      },
      {
       "output_type": "stream",
       "stream": "stdout",
       "text": [
        "\n",
        "Finished epoch 1 / 50: cost 1.828268, train: 0.361000, val 0.347000, lr 2.250000e-04"
       ]
      },
      {
       "output_type": "stream",
       "stream": "stdout",
       "text": [
        "\n",
        "Finished epoch 2 / 50: cost 1.543683, train: 0.410000, val 0.433000, lr 2.025000e-04"
       ]
      },
      {
       "output_type": "stream",
       "stream": "stdout",
       "text": [
        "\n",
        "Finished epoch 3 / 50: cost 1.589880, train: 0.507000, val 0.453000, lr 1.822500e-04"
       ]
      },
      {
       "output_type": "stream",
       "stream": "stdout",
       "text": [
        "\n",
        "Finished epoch 4 / 50: cost 1.402281, train: 0.490000, val 0.481000, lr 1.640250e-04"
       ]
      },
      {
       "output_type": "stream",
       "stream": "stdout",
       "text": [
        "\n",
        "Finished epoch 5 / 50: cost 1.445029, train: 0.519000, val 0.491000, lr 1.476225e-04"
       ]
      },
      {
       "output_type": "stream",
       "stream": "stdout",
       "text": [
        "\n",
        "Finished epoch 6 / 50: cost 1.330802, train: 0.536000, val 0.504000, lr 1.328603e-04"
       ]
      },
      {
       "output_type": "stream",
       "stream": "stdout",
       "text": [
        "\n",
        "Finished epoch 7 / 50: cost 1.315307, train: 0.559000, val 0.508000, lr 1.195742e-04"
       ]
      },
      {
       "output_type": "stream",
       "stream": "stdout",
       "text": [
        "\n",
        "Finished epoch 8 / 50: cost 1.258577, train: 0.588000, val 0.527000, lr 1.076168e-04"
       ]
      },
      {
       "output_type": "stream",
       "stream": "stdout",
       "text": [
        "\n",
        "Finished epoch 9 / 50: cost 1.273599, train: 0.583000, val 0.523000, lr 9.685512e-05"
       ]
      },
      {
       "output_type": "stream",
       "stream": "stdout",
       "text": [
        "\n",
        "Finished epoch 10 / 50: cost 1.154587, train: 0.564000, val 0.528000, lr 8.716961e-05"
       ]
      },
      {
       "output_type": "stream",
       "stream": "stdout",
       "text": [
        "\n",
        "Finished epoch 11 / 50: cost 1.216315, train: 0.624000, val 0.533000, lr 7.845265e-05"
       ]
      },
      {
       "output_type": "stream",
       "stream": "stdout",
       "text": [
        "\n",
        "Finished epoch 12 / 50: cost 1.158349, train: 0.583000, val 0.519000, lr 7.060738e-05"
       ]
      },
      {
       "output_type": "stream",
       "stream": "stdout",
       "text": [
        "\n",
        "Finished epoch 13 / 50: cost 1.119910, train: 0.627000, val 0.528000, lr 6.354665e-05"
       ]
      },
      {
       "output_type": "stream",
       "stream": "stdout",
       "text": [
        "\n",
        "Finished epoch 14 / 50: cost 1.173046, train: 0.639000, val 0.520000, lr 5.719198e-05"
       ]
      },
      {
       "output_type": "stream",
       "stream": "stdout",
       "text": [
        "\n",
        "Finished epoch 15 / 50: cost 1.060059, train: 0.646000, val 0.541000, lr 5.147278e-05"
       ]
      },
      {
       "output_type": "stream",
       "stream": "stdout",
       "text": [
        "\n",
        "Finished epoch 16 / 50: cost 1.081745, train: 0.649000, val 0.537000, lr 4.632550e-05"
       ]
      },
      {
       "output_type": "stream",
       "stream": "stdout",
       "text": [
        "\n",
        "Finished epoch 17 / 50: cost 1.103623, train: 0.649000, val 0.530000, lr 4.169295e-05"
       ]
      },
      {
       "output_type": "stream",
       "stream": "stdout",
       "text": [
        "\n",
        "Finished epoch 18 / 50: cost 1.033089, train: 0.629000, val 0.543000, lr 3.752366e-05"
       ]
      },
      {
       "output_type": "stream",
       "stream": "stdout",
       "text": [
        "\n",
        "Finished epoch 19 / 50: cost 1.051157, train: 0.651000, val 0.538000, lr 3.377129e-05"
       ]
      },
      {
       "output_type": "stream",
       "stream": "stdout",
       "text": [
        "\n",
        "Finished epoch 20 / 50: cost 1.081035, train: 0.660000, val 0.546000, lr 3.039416e-05"
       ]
      },
      {
       "output_type": "stream",
       "stream": "stdout",
       "text": [
        "\n",
        "Finished epoch 21 / 50: cost 1.079644, train: 0.680000, val 0.547000, lr 2.735475e-05"
       ]
      },
      {
       "output_type": "stream",
       "stream": "stdout",
       "text": [
        "\n",
        "Finished epoch 22 / 50: cost 1.081457, train: 0.700000, val 0.546000, lr 2.461927e-05"
       ]
      },
      {
       "output_type": "stream",
       "stream": "stdout",
       "text": [
        "\n",
        "Finished epoch 23 / 50: cost 1.117368, train: 0.687000, val 0.543000, lr 2.215735e-05"
       ]
      },
      {
       "output_type": "stream",
       "stream": "stdout",
       "text": [
        "\n",
        "Finished epoch 24 / 50: cost 0.970373, train: 0.690000, val 0.536000, lr 1.994161e-05"
       ]
      },
      {
       "output_type": "stream",
       "stream": "stdout",
       "text": [
        "\n",
        "Finished epoch 25 / 50: cost 1.047946, train: 0.679000, val 0.545000, lr 1.794745e-05"
       ]
      },
      {
       "output_type": "stream",
       "stream": "stdout",
       "text": [
        "\n",
        "Finished epoch 26 / 50: cost 1.029128, train: 0.671000, val 0.552000, lr 1.615270e-05"
       ]
      },
      {
       "output_type": "stream",
       "stream": "stdout",
       "text": [
        "\n"
       ]
      },
      {
       "ename": "KeyboardInterrupt",
       "evalue": "",
       "output_type": "pyerr",
       "traceback": [
        "\u001b[0;31m---------------------------------------------------------------------------\u001b[0m\n\u001b[0;31mKeyboardInterrupt\u001b[0m                         Traceback (most recent call last)",
        "\u001b[0;32m<ipython-input-4-9a152aa58e41>\u001b[0m in \u001b[0;36m<module>\u001b[0;34m()\u001b[0m\n\u001b[1;32m     23\u001b[0m               \u001b[0mnum_epochs\u001b[0m\u001b[0;34m=\u001b[0m\u001b[0mnum_epochs\u001b[0m\u001b[0;34m,\u001b[0m \u001b[0mreg\u001b[0m\u001b[0;34m=\u001b[0m\u001b[0mreg\u001b[0m\u001b[0;34m,\u001b[0m \u001b[0mbatch_size\u001b[0m\u001b[0;34m=\u001b[0m\u001b[0mbatch_size\u001b[0m\u001b[0;34m,\u001b[0m\u001b[0;34m\u001b[0m\u001b[0m\n\u001b[1;32m     24\u001b[0m               \u001b[0mmomentum\u001b[0m\u001b[0;34m=\u001b[0m\u001b[0mmomentum\u001b[0m\u001b[0;34m,\u001b[0m \u001b[0mlearning_rate_decay\u001b[0m\u001b[0;34m=\u001b[0m\u001b[0mlearning_rate_decay\u001b[0m\u001b[0;34m,\u001b[0m\u001b[0;34m\u001b[0m\u001b[0m\n\u001b[0;32m---> 25\u001b[0;31m               learning_rate=learning_rate)\n\u001b[0m\u001b[1;32m     26\u001b[0m \u001b[0;34m\u001b[0m\u001b[0m\n\u001b[1;32m     27\u001b[0m         \u001b[0;32mif\u001b[0m \u001b[0mnp\u001b[0m\u001b[0;34m.\u001b[0m\u001b[0mmax\u001b[0m\u001b[0;34m(\u001b[0m\u001b[0mval_acc\u001b[0m\u001b[0;34m)\u001b[0m \u001b[0;34m>\u001b[0m \u001b[0mbest_val_acc\u001b[0m\u001b[0;34m:\u001b[0m\u001b[0;34m\u001b[0m\u001b[0m\n",
        "\u001b[0;32m<ipython-input-1-2b788355e45c>\u001b[0m in \u001b[0;36mrun_model\u001b[0;34m(results_file, hidden_size, num_epochs, reg, batch_size, momentum, learning_rate_decay, learning_rate)\u001b[0m\n\u001b[1;32m     79\u001b[0m                                              \u001b[0mnum_epochs\u001b[0m\u001b[0;34m=\u001b[0m\u001b[0mnum_epochs\u001b[0m\u001b[0;34m,\u001b[0m \u001b[0mreg\u001b[0m\u001b[0;34m=\u001b[0m\u001b[0mreg\u001b[0m\u001b[0;34m,\u001b[0m \u001b[0mbatch_size\u001b[0m \u001b[0;34m=\u001b[0m \u001b[0mbatch_size\u001b[0m\u001b[0;34m,\u001b[0m\u001b[0;34m\u001b[0m\u001b[0m\n\u001b[1;32m     80\u001b[0m                                              \u001b[0mmomentum\u001b[0m\u001b[0;34m=\u001b[0m\u001b[0mmomentum\u001b[0m\u001b[0;34m,\u001b[0m \u001b[0mlearning_rate_decay\u001b[0m \u001b[0;34m=\u001b[0m \u001b[0mlearning_rate_decay\u001b[0m\u001b[0;34m,\u001b[0m\u001b[0;34m\u001b[0m\u001b[0m\n\u001b[0;32m---> 81\u001b[0;31m                                              learning_rate=learning_rate, verbose=True)\n\u001b[0m\u001b[1;32m     82\u001b[0m \u001b[0;34m\u001b[0m\u001b[0m\n\u001b[1;32m     83\u001b[0m     \u001b[0;31m# Plot the loss function and train / validation accuracies\u001b[0m\u001b[0;34m\u001b[0m\u001b[0;34m\u001b[0m\u001b[0m\n",
        "\u001b[0;32m/Users/daflatow/Dropbox/Stanford/CS231N/assignments/assignment2/cs231n/classifier_trainer.pyc\u001b[0m in \u001b[0;36mtrain\u001b[0;34m(self, X, y, X_val, y_val, model, loss_function, reg, learning_rate, momentum, learning_rate_decay, update, sample_batches, num_epochs, batch_size, acc_frequency, verbose)\u001b[0m\n\u001b[1;32m     80\u001b[0m \u001b[0;34m\u001b[0m\u001b[0m\n\u001b[1;32m     81\u001b[0m       \u001b[0;31m# evaluate cost and gradient\u001b[0m\u001b[0;34m\u001b[0m\u001b[0;34m\u001b[0m\u001b[0m\n\u001b[0;32m---> 82\u001b[0;31m       \u001b[0mcost\u001b[0m\u001b[0;34m,\u001b[0m \u001b[0mgrads\u001b[0m \u001b[0;34m=\u001b[0m \u001b[0mloss_function\u001b[0m\u001b[0;34m(\u001b[0m\u001b[0mX_batch\u001b[0m\u001b[0;34m,\u001b[0m \u001b[0mmodel\u001b[0m\u001b[0;34m,\u001b[0m \u001b[0my_batch\u001b[0m\u001b[0;34m,\u001b[0m \u001b[0mreg\u001b[0m\u001b[0;34m)\u001b[0m\u001b[0;34m\u001b[0m\u001b[0m\n\u001b[0m\u001b[1;32m     83\u001b[0m       \u001b[0mloss_history\u001b[0m\u001b[0;34m.\u001b[0m\u001b[0mappend\u001b[0m\u001b[0;34m(\u001b[0m\u001b[0mcost\u001b[0m\u001b[0;34m)\u001b[0m\u001b[0;34m\u001b[0m\u001b[0m\n\u001b[1;32m     84\u001b[0m \u001b[0;34m\u001b[0m\u001b[0m\n",
        "\u001b[0;32m/Users/daflatow/Dropbox/Stanford/CS231N/assignments/assignment2/cs231n/classifiers/neural_net.pyc\u001b[0m in \u001b[0;36mtwo_layer_net\u001b[0;34m(X, model, y, reg)\u001b[0m\n\u001b[1;32m    127\u001b[0m \u001b[0;34m\u001b[0m\u001b[0m\n\u001b[1;32m    128\u001b[0m   \u001b[0mgrads\u001b[0m\u001b[0;34m[\u001b[0m\u001b[0;34m'W1'\u001b[0m\u001b[0;34m]\u001b[0m \u001b[0;34m=\u001b[0m \u001b[0mnp\u001b[0m\u001b[0;34m.\u001b[0m\u001b[0mdot\u001b[0m\u001b[0;34m(\u001b[0m\u001b[0mdReLu\u001b[0m\u001b[0;34m.\u001b[0m\u001b[0mT\u001b[0m\u001b[0;34m,\u001b[0m \u001b[0mX\u001b[0m\u001b[0;34m)\u001b[0m\u001b[0;34m.\u001b[0m\u001b[0mT\u001b[0m \u001b[0;34m/\u001b[0m \u001b[0mN\u001b[0m\u001b[0;34m\u001b[0m\u001b[0m\n\u001b[0;32m--> 129\u001b[0;31m   \u001b[0mgrads\u001b[0m\u001b[0;34m[\u001b[0m\u001b[0;34m'W1'\u001b[0m\u001b[0;34m]\u001b[0m \u001b[0;34m+=\u001b[0m \u001b[0mreg\u001b[0m \u001b[0;34m*\u001b[0m \u001b[0mW1\u001b[0m\u001b[0;34m\u001b[0m\u001b[0m\n\u001b[0m\u001b[1;32m    130\u001b[0m   \u001b[0mgrads\u001b[0m\u001b[0;34m[\u001b[0m\u001b[0;34m'b1'\u001b[0m\u001b[0;34m]\u001b[0m \u001b[0;34m=\u001b[0m \u001b[0mnp\u001b[0m\u001b[0;34m.\u001b[0m\u001b[0msum\u001b[0m\u001b[0;34m(\u001b[0m\u001b[0mdReLu\u001b[0m\u001b[0;34m,\u001b[0m \u001b[0;36m0\u001b[0m\u001b[0;34m)\u001b[0m \u001b[0;34m/\u001b[0m \u001b[0mN\u001b[0m\u001b[0;34m\u001b[0m\u001b[0m\n\u001b[1;32m    131\u001b[0m \u001b[0;34m\u001b[0m\u001b[0m\n",
        "\u001b[0;31mKeyboardInterrupt\u001b[0m: "
       ]
      },
      {
       "metadata": {},
       "output_type": "display_data",
       "png": "[encoded data removed]",
       "text": [
        "<matplotlib.figure.Figure at 0x10f012a90>"
       ]
      }
     ],
     "prompt_number": 4
    },
    {
     "cell_type": "code",
     "collapsed": false,
     "input": [],
     "language": "python",
     "metadata": {},
     "outputs": []
    }
   ],
   "metadata": {}
  }
 ]
}