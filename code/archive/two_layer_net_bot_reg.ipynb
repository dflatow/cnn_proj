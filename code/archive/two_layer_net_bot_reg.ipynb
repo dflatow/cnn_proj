{
 "metadata": {
  "name": "",
  "signature": "sha256:9361f2f3aadda3576c5d58828e6eceaff509ed00c4cf0c1ca101888d3dc31b41"
 },
 "nbformat": 3,
 "nbformat_minor": 0,
 "worksheets": [
  {
   "cells": [
    {
     "cell_type": "code",
     "collapsed": false,
     "input": [
      "import numpy as np\n",
      "import matplotlib.pyplot as plt\n",
      "import pandas as pd\n",
      "from cs231n.data_utils import load_CIFAR10\n",
      "from cs231n.classifier_trainer import ClassifierTrainer\n",
      "from cs231n.classifiers.neural_net import init_two_layer_model\n",
      "from cs231n.classifiers.neural_net import two_layer_net\n",
      "import cPickle as pickle\n",
      "import os\n",
      "\n",
      "\n",
      "%matplotlib inline\n",
      "plt.rcParams['figure.figsize'] = (10.0, 8.0) # set default size of plots\n",
      "plt.rcParams['image.interpolation'] = 'nearest'\n",
      "plt.rcParams['image.cmap'] = 'gray'\n",
      "\n",
      "# for auto-reloading external modules\n",
      "# see http://stackoverflow.com/questions/1907993/autoreload-of-modules-in-ipython\n",
      "%load_ext autoreload\n",
      "%autoreload 2\n",
      "\n",
      "def rel_error(x, y):\n",
      "  \"\"\" returns relative error \"\"\"\n",
      "  return np.max(np.abs(x - y) / (np.maximum(1e-8, np.abs(x) + np.abs(y))))\n",
      "\n",
      "\n",
      "def get_CIFAR10_data(num_training=49000, num_validation=1000, num_test=1000):\n",
      "    \"\"\"\n",
      "    Load the CIFAR-10 dataset from disk and perform preprocessing to prepare\n",
      "    it for the two-layer neural net classifier. These are the same steps as\n",
      "    we used for the SVM, but condensed to a single function.  \n",
      "    \"\"\"\n",
      "    # Load the raw CIFAR-10 data\n",
      "    cifar10_dir = 'cs231n/datasets/cifar-10-batches-py'\n",
      "    X_train, y_train, X_test, y_test = load_CIFAR10(cifar10_dir)\n",
      "        \n",
      "    # Subsample the data\n",
      "    mask = range(num_training, num_training + num_validation)\n",
      "    X_val = X_train[mask]\n",
      "    y_val = y_train[mask]\n",
      "    mask = range(num_training)\n",
      "    X_train = X_train[mask]\n",
      "    y_train = y_train[mask]\n",
      "    mask = range(num_test)\n",
      "    X_test = X_test[mask]\n",
      "    y_test = y_test[mask]\n",
      "\n",
      "    # Normalize the data: subtract the mean image\n",
      "    mean_image = np.mean(X_train, axis=0)\n",
      "    X_train -= mean_image\n",
      "    X_val -= mean_image\n",
      "    X_test -= mean_image\n",
      "\n",
      "    # Reshape data to rows\n",
      "    X_train = X_train.reshape(num_training, -1)\n",
      "    X_val = X_val.reshape(num_validation, -1)\n",
      "    X_test = X_test.reshape(num_test, -1)\n",
      "\n",
      "    return X_train, y_train, X_val, y_val, X_test, y_test\n",
      "\n",
      "\n",
      "# Invoke the above function to get our data.\n",
      "X_train, y_train, X_val, y_val, X_test, y_test = get_CIFAR10_data()\n",
      "print 'Train data shape: ', X_train.shape\n",
      "print 'Train labels shape: ', y_train.shape\n",
      "print 'Validation data shape: ', X_val.shape\n",
      "print 'Validation labels shape: ', y_val.shape\n",
      "print 'Test data shape: ', X_test.shape\n",
      "print 'Test labels shape: ', y_test.shape\n",
      "\n",
      "def run_model(results_file = None, hidden_size=None,\n",
      "              num_epochs=None, reg=None, batch_size=None, \n",
      "              momentum=None, learning_rate_decay=None, learning_rate=None):\n",
      "\n",
      "    model = init_two_layer_model(32*32*3, hidden_size, 10) # input size, hidden size, number of classes\n",
      "    trainer = ClassifierTrainer()\n",
      "    best_model, loss_history, train_acc, val_acc = trainer.train(X_train, y_train, X_val, y_val,\n",
      "                                             model, two_layer_net,\n",
      "                                             num_epochs=num_epochs, reg=reg, batch_size = batch_size,\n",
      "                                             momentum=momentum, learning_rate_decay = learning_rate_decay,\n",
      "                                             learning_rate=learning_rate, verbose=True)\n",
      "    \n",
      "    # Plot the loss function and train / validation accuracies\n",
      "    plt.subplot(2, 1, 1)\n",
      "    plt.plot(loss_history)\n",
      "    plt.title('Loss history')\n",
      "    plt.xlabel('Iteration')\n",
      "    plt.ylabel('Loss')\n",
      "\n",
      "    plt.subplot(2, 1, 2)\n",
      "    plt.plot(train_acc)\n",
      "    plt.plot(val_acc)\n",
      "    plt.legend(['Training accuracy', 'Validation accuracy'], loc='lower right')\n",
      "    plt.xlabel('Epoch')\n",
      "    plt.ylabel('Clasification accuracy')\n",
      "    \n",
      "    \n",
      "    # write results to a file\n",
      "    if not os.path.exists(filename):\n",
      "        df = pd.DataFrame(columns=['hidden_size', 'num_epochs', 'reg', 'batch_size', 'momentum',\n",
      "                           'learning_rate_decay', 'learning_rate', 'best_train', 'best_val'])\n",
      "    else:\n",
      "        df = pd.read_csv(filename, sep='\\t')\n",
      "        \n",
      "    df.loc[len(df)] = [hidden_size, num_epochs, reg, batch_size, momentum, \n",
      "                   learning_rate_decay, learning_rate, np.max(train_acc), np.max(val_acc)]\n",
      "    df.to_csv(filename, sep='\\t', index=False)\n",
      "    \n",
      "    return best_model, val_acc"
     ],
     "language": "python",
     "metadata": {},
     "outputs": [
      {
       "output_type": "stream",
       "stream": "stdout",
       "text": [
        "The autoreload extension is already loaded. To reload it, use:\n",
        "  %reload_ext autoreload\n",
        "Train data shape: "
       ]
      },
      {
       "output_type": "stream",
       "stream": "stdout",
       "text": [
        " (49000, 3072)\n",
        "Train labels shape:  (49000,)\n",
        "Validation data shape:  (1000, 3072)\n",
        "Validation labels shape:  (1000,)\n",
        "Test data shape:  (1000, 3072)\n",
        "Test labels shape:  (1000,)\n"
       ]
      }
     ],
     "prompt_number": 4
    },
    {
     "cell_type": "code",
     "collapsed": false,
     "input": [
      "hidden_size = 150\n",
      "L_reg = [0.8, 0.9, 0.1, 0.11, 0.12]\n",
      "batch_size = 600\n",
      "learning_rate = 18e-5\n",
      "\n",
      "num_epochs = 50\n",
      "momentum = 0.9\n",
      "learning_rate_decay = 0.95\n",
      "filename = 'two_layer_nn_20150207_00.csv'\n",
      "best_model_file = 'best_two_layer_nn.p'\n",
      "reps = 2\n",
      "\n",
      "if not os.path.exists(best_model_file):\n",
      "    best_model, best_val_acc = None, 0.0\n",
      "else:\n",
      "    with open(best_model_file) as f:\n",
      "        best_model, best_val_acc = pickle.load(f)\n",
      "        print 'Standing val record: %f' % best_val_acc\n",
      "\n",
      "for _ in range(reps):\n",
      "    for reg in L_reg:\n",
      "        model, val_acc = run_model(results_file = filename, hidden_size=hidden_size,\n",
      "              num_epochs=num_epochs, reg=reg, batch_size=batch_size, \n",
      "              momentum=momentum, learning_rate_decay=learning_rate_decay, \n",
      "              learning_rate=learning_rate)\n",
      "    \n",
      "        if np.max(val_acc) > best_val_acc:\n",
      "            best_val_acc = np.max(val_acc)\n",
      "            with open(best_model_file, 'w') as f:\n",
      "                pickle.dump([model, best_val_acc], f)"
     ],
     "language": "python",
     "metadata": {},
     "outputs": [
      {
       "output_type": "stream",
       "stream": "stdout",
       "text": [
        "Finished epoch 0 / 50: cost 2.302604, train: 0.100000, val 0.090000, lr 1.800000e-04\n",
        "Finished epoch 1 / 50: cost 2.040366, train: 0.255000, val 0.240000, lr 1.710000e-04"
       ]
      },
      {
       "output_type": "stream",
       "stream": "stdout",
       "text": [
        "\n",
        "Finished epoch 2 / 50: cost 1.808393, train: 0.362000, val 0.368000, lr 1.624500e-04"
       ]
      },
      {
       "output_type": "stream",
       "stream": "stdout",
       "text": [
        "\n",
        "Finished epoch 3 / 50: cost 1.602405, train: 0.423000, val 0.419000, lr 1.543275e-04"
       ]
      },
      {
       "output_type": "stream",
       "stream": "stdout",
       "text": [
        "\n",
        "Finished epoch 4 / 50: cost 1.655195, train: 0.469000, val 0.449000, lr 1.466111e-04"
       ]
      },
      {
       "output_type": "stream",
       "stream": "stdout",
       "text": [
        "\n",
        "Finished epoch 5 / 50: cost 1.596819, train: 0.465000, val 0.461000, lr 1.392806e-04"
       ]
      },
      {
       "output_type": "stream",
       "stream": "stdout",
       "text": [
        "\n",
        "Finished epoch 6 / 50: cost 1.613844, train: 0.497000, val 0.470000, lr 1.323165e-04"
       ]
      },
      {
       "output_type": "stream",
       "stream": "stdout",
       "text": [
        "\n",
        "Finished epoch 7 / 50: cost 1.494102, train: 0.515000, val 0.477000, lr 1.257007e-04"
       ]
      },
      {
       "output_type": "stream",
       "stream": "stdout",
       "text": [
        "\n",
        "Finished epoch 8 / 50: cost 1.527595, train: 0.521000, val 0.472000, lr 1.194157e-04"
       ]
      },
      {
       "output_type": "stream",
       "stream": "stdout",
       "text": [
        "\n",
        "Finished epoch 9 / 50: cost 1.555399, train: 0.494000, val 0.497000, lr 1.134449e-04"
       ]
      },
      {
       "output_type": "stream",
       "stream": "stdout",
       "text": [
        "\n",
        "Finished epoch 10 / 50: cost 1.455057, train: 0.496000, val 0.485000, lr 1.077726e-04"
       ]
      },
      {
       "output_type": "stream",
       "stream": "stdout",
       "text": [
        "\n",
        "Finished epoch 11 / 50: cost 1.434357, train: 0.532000, val 0.509000, lr 1.023840e-04"
       ]
      },
      {
       "output_type": "stream",
       "stream": "stdout",
       "text": [
        "\n",
        "Finished epoch 12 / 50: cost 1.459857, train: 0.531000, val 0.507000, lr 9.726482e-05"
       ]
      },
      {
       "output_type": "stream",
       "stream": "stdout",
       "text": [
        "\n",
        "Finished epoch 13 / 50: cost 1.420388, train: 0.565000, val 0.515000, lr 9.240157e-05"
       ]
      },
      {
       "output_type": "stream",
       "stream": "stdout",
       "text": [
        "\n",
        "Finished epoch 14 / 50: cost 1.430950, train: 0.556000, val 0.512000, lr 8.778150e-05"
       ]
      },
      {
       "output_type": "stream",
       "stream": "stdout",
       "text": [
        "\n",
        "Finished epoch 15 / 50: cost 1.365326, train: 0.542000, val 0.519000, lr 8.339242e-05"
       ]
      },
      {
       "output_type": "stream",
       "stream": "stdout",
       "text": [
        "\n",
        "Finished epoch 16 / 50: cost 1.468575, train: 0.545000, val 0.526000, lr 7.922280e-05"
       ]
      },
      {
       "output_type": "stream",
       "stream": "stdout",
       "text": [
        "\n",
        "Finished epoch 17 / 50: cost 1.375613, train: 0.556000, val 0.520000, lr 7.526166e-05"
       ]
      },
      {
       "output_type": "stream",
       "stream": "stdout",
       "text": [
        "\n",
        "Finished epoch 18 / 50: cost 1.373282, train: 0.574000, val 0.514000, lr 7.149858e-05"
       ]
      },
      {
       "output_type": "stream",
       "stream": "stdout",
       "text": [
        "\n",
        "Finished epoch 19 / 50: cost 1.401199, train: 0.577000, val 0.525000, lr 6.792365e-05"
       ]
      },
      {
       "output_type": "stream",
       "stream": "stdout",
       "text": [
        "\n",
        "Finished epoch 20 / 50: cost 1.454576, train: 0.593000, val 0.523000, lr 6.452747e-05"
       ]
      },
      {
       "output_type": "stream",
       "stream": "stdout",
       "text": [
        "\n",
        "Finished epoch 21 / 50: cost 1.402206, train: 0.603000, val 0.536000, lr 6.130109e-05"
       ]
      },
      {
       "output_type": "stream",
       "stream": "stdout",
       "text": [
        "\n",
        "Finished epoch 22 / 50: cost 1.430581, train: 0.625000, val 0.538000, lr 5.823604e-05"
       ]
      },
      {
       "output_type": "stream",
       "stream": "stdout",
       "text": [
        "\n",
        "Finished epoch 23 / 50: cost 1.399979, train: 0.586000, val 0.526000, lr 5.532424e-05"
       ]
      },
      {
       "output_type": "stream",
       "stream": "stdout",
       "text": [
        "\n",
        "Finished epoch 24 / 50: cost 1.425842, train: 0.589000, val 0.540000, lr 5.255802e-05"
       ]
      },
      {
       "output_type": "stream",
       "stream": "stdout",
       "text": [
        "\n",
        "Finished epoch 25 / 50: cost 1.364659, train: 0.590000, val 0.530000, lr 4.993012e-05"
       ]
      },
      {
       "output_type": "stream",
       "stream": "stdout",
       "text": [
        "\n",
        "Finished epoch 26 / 50: cost 1.304471, train: 0.578000, val 0.545000, lr 4.743362e-05"
       ]
      },
      {
       "output_type": "stream",
       "stream": "stdout",
       "text": [
        "\n",
        "Finished epoch 27 / 50: cost 1.419835, train: 0.594000, val 0.536000, lr 4.506194e-05"
       ]
      },
      {
       "output_type": "stream",
       "stream": "stdout",
       "text": [
        "\n",
        "Finished epoch 28 / 50: cost 1.459711, train: 0.623000, val 0.538000, lr 4.280884e-05"
       ]
      },
      {
       "output_type": "stream",
       "stream": "stdout",
       "text": [
        "\n",
        "Finished epoch 29 / 50: cost 1.331322, train: 0.621000, val 0.536000, lr 4.066840e-05"
       ]
      },
      {
       "output_type": "stream",
       "stream": "stdout",
       "text": [
        "\n",
        "Finished epoch 30 / 50: cost 1.279814, train: 0.616000, val 0.539000, lr 3.863498e-05"
       ]
      },
      {
       "output_type": "stream",
       "stream": "stdout",
       "text": [
        "\n",
        "Finished epoch 31 / 50: cost 1.405367, train: 0.581000, val 0.530000, lr 3.670323e-05"
       ]
      },
      {
       "output_type": "stream",
       "stream": "stdout",
       "text": [
        "\n",
        "Finished epoch 32 / 50: cost 1.367097, train: 0.614000, val 0.529000, lr 3.486807e-05"
       ]
      },
      {
       "output_type": "stream",
       "stream": "stdout",
       "text": [
        "\n",
        "Finished epoch 33 / 50: cost 1.408580, train: 0.627000, val 0.544000, lr 3.312466e-05"
       ]
      },
      {
       "output_type": "stream",
       "stream": "stdout",
       "text": [
        "\n",
        "Finished epoch 34 / 50: cost 1.366080, train: 0.624000, val 0.536000, lr 3.146843e-05"
       ]
      },
      {
       "output_type": "stream",
       "stream": "stdout",
       "text": [
        "\n",
        "Finished epoch 35 / 50: cost 1.403994, train: 0.591000, val 0.550000, lr 2.989501e-05"
       ]
      },
      {
       "output_type": "stream",
       "stream": "stdout",
       "text": [
        "\n",
        "Finished epoch 36 / 50: cost 1.345615, train: 0.598000, val 0.546000, lr 2.840026e-05"
       ]
      },
      {
       "output_type": "stream",
       "stream": "stdout",
       "text": [
        "\n",
        "Finished epoch 37 / 50: cost 1.385059, train: 0.590000, val 0.545000, lr 2.698025e-05"
       ]
      },
      {
       "output_type": "stream",
       "stream": "stdout",
       "text": [
        "\n",
        "Finished epoch 38 / 50: cost 1.449916, train: 0.620000, val 0.549000, lr 2.563123e-05"
       ]
      },
      {
       "output_type": "stream",
       "stream": "stdout",
       "text": [
        "\n",
        "Finished epoch 39 / 50: cost 1.350054, train: 0.609000, val 0.544000, lr 2.434967e-05"
       ]
      },
      {
       "output_type": "stream",
       "stream": "stdout",
       "text": [
        "\n",
        "Finished epoch 40 / 50: cost 1.388308, train: 0.610000, val 0.546000, lr 2.313219e-05"
       ]
      },
      {
       "output_type": "stream",
       "stream": "stdout",
       "text": [
        "\n",
        "Finished epoch 41 / 50: cost 1.420080, train: 0.600000, val 0.546000, lr 2.197558e-05"
       ]
      },
      {
       "output_type": "stream",
       "stream": "stdout",
       "text": [
        "\n",
        "Finished epoch 42 / 50: cost 1.281899, train: 0.594000, val 0.545000, lr 2.087680e-05"
       ]
      },
      {
       "output_type": "stream",
       "stream": "stdout",
       "text": [
        "\n",
        "Finished epoch 43 / 50: cost 1.386596, train: 0.630000, val 0.538000, lr 1.983296e-05"
       ]
      },
      {
       "output_type": "stream",
       "stream": "stdout",
       "text": [
        "\n",
        "Finished epoch 44 / 50: cost 1.370055, train: 0.600000, val 0.542000, lr 1.884131e-05"
       ]
      },
      {
       "output_type": "stream",
       "stream": "stdout",
       "text": [
        "\n",
        "Finished epoch 45 / 50: cost 1.352114, train: 0.613000, val 0.548000, lr 1.789925e-05"
       ]
      },
      {
       "output_type": "stream",
       "stream": "stdout",
       "text": [
        "\n",
        "Finished epoch 46 / 50: cost 1.379939, train: 0.617000, val 0.550000, lr 1.700428e-05"
       ]
      },
      {
       "output_type": "stream",
       "stream": "stdout",
       "text": [
        "\n",
        "Finished epoch 47 / 50: cost 1.392856, train: 0.598000, val 0.539000, lr 1.615407e-05"
       ]
      },
      {
       "output_type": "stream",
       "stream": "stdout",
       "text": [
        "\n",
        "Finished epoch 48 / 50: cost 1.382858, train: 0.601000, val 0.532000, lr 1.534637e-05"
       ]
      },
      {
       "output_type": "stream",
       "stream": "stdout",
       "text": [
        "\n",
        "Finished epoch 49 / 50: cost 1.352991, train: 0.610000, val 0.543000, lr 1.457905e-05"
       ]
      },
      {
       "output_type": "stream",
       "stream": "stdout",
       "text": [
        "\n",
        "Finished epoch 50 / 50: cost 1.366237, train: 0.593000, val 0.546000, lr 1.385010e-05"
       ]
      },
      {
       "output_type": "stream",
       "stream": "stdout",
       "text": [
        "\n",
        "finished optimization. best validation accuracy: 0.550000\n",
        "Finished epoch 0 / 50: cost 2.302606, train: 0.092000, val 0.086000, lr 1.800000e-04"
       ]
      },
      {
       "output_type": "stream",
       "stream": "stdout",
       "text": [
        "\n",
        "Finished epoch 1 / 50: cost 2.038972, train: 0.252000, val 0.244000, lr 1.710000e-04"
       ]
      },
      {
       "output_type": "stream",
       "stream": "stdout",
       "text": [
        "\n",
        "Finished epoch 2 / 50: cost 1.849068, train: 0.387000, val 0.360000, lr 1.624500e-04"
       ]
      },
      {
       "output_type": "stream",
       "stream": "stdout",
       "text": [
        "\n",
        "Finished epoch 3 / 50: cost 1.674252, train: 0.406000, val 0.408000, lr 1.543275e-04"
       ]
      },
      {
       "output_type": "stream",
       "stream": "stdout",
       "text": [
        "\n",
        "Finished epoch 4 / 50: cost 1.633123, train: 0.446000, val 0.441000, lr 1.466111e-04"
       ]
      },
      {
       "output_type": "stream",
       "stream": "stdout",
       "text": [
        "\n",
        "Finished epoch 5 / 50: cost 1.606727, train: 0.469000, val 0.460000, lr 1.392806e-04"
       ]
      },
      {
       "output_type": "stream",
       "stream": "stdout",
       "text": [
        "\n",
        "Finished epoch 6 / 50: cost 1.555352, train: 0.449000, val 0.469000, lr 1.323165e-04"
       ]
      },
      {
       "output_type": "stream",
       "stream": "stdout",
       "text": [
        "\n",
        "Finished epoch 7 / 50: cost 1.537989, train: 0.480000, val 0.471000, lr 1.257007e-04"
       ]
      },
      {
       "output_type": "stream",
       "stream": "stdout",
       "text": [
        "\n",
        "Finished epoch 8 / 50: cost 1.497192, train: 0.506000, val 0.492000, lr 1.194157e-04"
       ]
      },
      {
       "output_type": "stream",
       "stream": "stdout",
       "text": [
        "\n",
        "Finished epoch 9 / 50: cost 1.564890, train: 0.515000, val 0.489000, lr 1.134449e-04"
       ]
      },
      {
       "output_type": "stream",
       "stream": "stdout",
       "text": [
        "\n",
        "Finished epoch 10 / 50: cost 1.405440, train: 0.528000, val 0.498000, lr 1.077726e-04"
       ]
      },
      {
       "output_type": "stream",
       "stream": "stdout",
       "text": [
        "\n",
        "Finished epoch 11 / 50: cost 1.488129, train: 0.513000, val 0.494000, lr 1.023840e-04"
       ]
      },
      {
       "output_type": "stream",
       "stream": "stdout",
       "text": [
        "\n",
        "Finished epoch 12 / 50: cost 1.436652, train: 0.529000, val 0.508000, lr 9.726482e-05"
       ]
      },
      {
       "output_type": "stream",
       "stream": "stdout",
       "text": [
        "\n",
        "Finished epoch 13 / 50: cost 1.430807, train: 0.537000, val 0.517000, lr 9.240157e-05"
       ]
      },
      {
       "output_type": "stream",
       "stream": "stdout",
       "text": [
        "\n",
        "Finished epoch 14 / 50: cost 1.495346, train: 0.560000, val 0.504000, lr 8.778150e-05"
       ]
      },
      {
       "output_type": "stream",
       "stream": "stdout",
       "text": [
        "\n",
        "Finished epoch 15 / 50: cost 1.511366, train: 0.543000, val 0.521000, lr 8.339242e-05"
       ]
      },
      {
       "output_type": "stream",
       "stream": "stdout",
       "text": [
        "\n",
        "Finished epoch 16 / 50: cost 1.466076, train: 0.559000, val 0.519000, lr 7.922280e-05"
       ]
      },
      {
       "output_type": "stream",
       "stream": "stdout",
       "text": [
        "\n",
        "Finished epoch 17 / 50: cost 1.419836, train: 0.559000, val 0.525000, lr 7.526166e-05"
       ]
      },
      {
       "output_type": "stream",
       "stream": "stdout",
       "text": [
        "\n",
        "Finished epoch 18 / 50: cost 1.434826, train: 0.584000, val 0.521000, lr 7.149858e-05"
       ]
      },
      {
       "output_type": "stream",
       "stream": "stdout",
       "text": [
        "\n",
        "Finished epoch 19 / 50: cost 1.405822, train: 0.596000, val 0.523000, lr 6.792365e-05"
       ]
      },
      {
       "output_type": "stream",
       "stream": "stdout",
       "text": [
        "\n",
        "Finished epoch 20 / 50: cost 1.447546, train: 0.565000, val 0.528000, lr 6.452747e-05"
       ]
      },
      {
       "output_type": "stream",
       "stream": "stdout",
       "text": [
        "\n",
        "Finished epoch 21 / 50: cost 1.465743, train: 0.516000, val 0.530000, lr 6.130109e-05"
       ]
      },
      {
       "output_type": "stream",
       "stream": "stdout",
       "text": [
        "\n",
        "Finished epoch 22 / 50: cost 1.410973, train: 0.580000, val 0.525000, lr 5.823604e-05"
       ]
      },
      {
       "output_type": "stream",
       "stream": "stdout",
       "text": [
        "\n",
        "Finished epoch 23 / 50: cost 1.351620, train: 0.598000, val 0.531000, lr 5.532424e-05"
       ]
      },
      {
       "output_type": "stream",
       "stream": "stdout",
       "text": [
        "\n",
        "Finished epoch 24 / 50: cost 1.381379, train: 0.567000, val 0.534000, lr 5.255802e-05"
       ]
      },
      {
       "output_type": "stream",
       "stream": "stdout",
       "text": [
        "\n",
        "Finished epoch 25 / 50: cost 1.331087, train: 0.579000, val 0.538000, lr 4.993012e-05"
       ]
      },
      {
       "output_type": "stream",
       "stream": "stdout",
       "text": [
        "\n",
        "Finished epoch 26 / 50: cost 1.453403, train: 0.570000, val 0.546000, lr 4.743362e-05"
       ]
      },
      {
       "output_type": "stream",
       "stream": "stdout",
       "text": [
        "\n",
        "Finished epoch 27 / 50: cost 1.362885, train: 0.589000, val 0.537000, lr 4.506194e-05"
       ]
      },
      {
       "output_type": "stream",
       "stream": "stdout",
       "text": [
        "\n",
        "Finished epoch 28 / 50: cost 1.391320, train: 0.586000, val 0.523000, lr 4.280884e-05"
       ]
      },
      {
       "output_type": "stream",
       "stream": "stdout",
       "text": [
        "\n",
        "Finished epoch 29 / 50: cost 1.415123, train: 0.586000, val 0.529000, lr 4.066840e-05"
       ]
      },
      {
       "output_type": "stream",
       "stream": "stdout",
       "text": [
        "\n",
        "Finished epoch 30 / 50: cost 1.383223, train: 0.573000, val 0.529000, lr 3.863498e-05"
       ]
      },
      {
       "output_type": "stream",
       "stream": "stdout",
       "text": [
        "\n",
        "Finished epoch 31 / 50: cost 1.395079, train: 0.620000, val 0.552000, lr 3.670323e-05"
       ]
      },
      {
       "output_type": "stream",
       "stream": "stdout",
       "text": [
        "\n",
        "Finished epoch 32 / 50: cost 1.395131, train: 0.597000, val 0.531000, lr 3.486807e-05"
       ]
      },
      {
       "output_type": "stream",
       "stream": "stdout",
       "text": [
        "\n",
        "Finished epoch 33 / 50: cost 1.420629, train: 0.582000, val 0.545000, lr 3.312466e-05"
       ]
      },
      {
       "output_type": "stream",
       "stream": "stdout",
       "text": [
        "\n",
        "Finished epoch 34 / 50: cost 1.343575, train: 0.593000, val 0.537000, lr 3.146843e-05"
       ]
      },
      {
       "output_type": "stream",
       "stream": "stdout",
       "text": [
        "\n",
        "Finished epoch 35 / 50: cost 1.400394, train: 0.571000, val 0.529000, lr 2.989501e-05"
       ]
      },
      {
       "output_type": "stream",
       "stream": "stdout",
       "text": [
        "\n",
        "Finished epoch 36 / 50: cost 1.450802, train: 0.598000, val 0.545000, lr 2.840026e-05"
       ]
      },
      {
       "output_type": "stream",
       "stream": "stdout",
       "text": [
        "\n",
        "Finished epoch 37 / 50: cost 1.390696, train: 0.574000, val 0.547000, lr 2.698025e-05"
       ]
      },
      {
       "output_type": "stream",
       "stream": "stdout",
       "text": [
        "\n",
        "Finished epoch 38 / 50: cost 1.378501, train: 0.587000, val 0.541000, lr 2.563123e-05"
       ]
      },
      {
       "output_type": "stream",
       "stream": "stdout",
       "text": [
        "\n",
        "Finished epoch 39 / 50: cost 1.402043, train: 0.631000, val 0.538000, lr 2.434967e-05"
       ]
      },
      {
       "output_type": "stream",
       "stream": "stdout",
       "text": [
        "\n",
        "Finished epoch 40 / 50: cost 1.429715, train: 0.591000, val 0.552000, lr 2.313219e-05"
       ]
      },
      {
       "output_type": "stream",
       "stream": "stdout",
       "text": [
        "\n",
        "Finished epoch 41 / 50: cost 1.411255, train: 0.582000, val 0.549000, lr 2.197558e-05"
       ]
      },
      {
       "output_type": "stream",
       "stream": "stdout",
       "text": [
        "\n",
        "Finished epoch 42 / 50: cost 1.400330, train: 0.591000, val 0.544000, lr 2.087680e-05"
       ]
      },
      {
       "output_type": "stream",
       "stream": "stdout",
       "text": [
        "\n",
        "Finished epoch 43 / 50: cost 1.403576, train: 0.599000, val 0.552000, lr 1.983296e-05"
       ]
      },
      {
       "output_type": "stream",
       "stream": "stdout",
       "text": [
        "\n",
        "Finished epoch 44 / 50: cost 1.293354, train: 0.586000, val 0.548000, lr 1.884131e-05"
       ]
      },
      {
       "output_type": "stream",
       "stream": "stdout",
       "text": [
        "\n",
        "Finished epoch 45 / 50: cost 1.438498, train: 0.597000, val 0.550000, lr 1.789925e-05"
       ]
      },
      {
       "output_type": "stream",
       "stream": "stdout",
       "text": [
        "\n",
        "Finished epoch 46 / 50: cost 1.320947, train: 0.615000, val 0.541000, lr 1.700428e-05"
       ]
      },
      {
       "output_type": "stream",
       "stream": "stdout",
       "text": [
        "\n",
        "Finished epoch 47 / 50: cost 1.366718, train: 0.623000, val 0.541000, lr 1.615407e-05"
       ]
      },
      {
       "output_type": "stream",
       "stream": "stdout",
       "text": [
        "\n",
        "Finished epoch 48 / 50: cost 1.458853, train: 0.597000, val 0.545000, lr 1.534637e-05"
       ]
      },
      {
       "output_type": "stream",
       "stream": "stdout",
       "text": [
        "\n",
        "Finished epoch 49 / 50: cost 1.354856, train: 0.631000, val 0.544000, lr 1.457905e-05"
       ]
      },
      {
       "output_type": "stream",
       "stream": "stdout",
       "text": [
        "\n",
        "Finished epoch 50 / 50: cost 1.383205, train: 0.639000, val 0.545000, lr 1.385010e-05"
       ]
      },
      {
       "output_type": "stream",
       "stream": "stdout",
       "text": [
        "\n",
        "finished optimization. best validation accuracy: 0.552000\n",
        "Finished epoch 0 / 50: cost 2.302588, train: 0.112000, val 0.094000, lr 1.800000e-04"
       ]
      },
      {
       "output_type": "stream",
       "stream": "stdout",
       "text": [
        "\n",
        "Finished epoch 1 / 50: cost 2.074937, train: 0.217000, val 0.243000, lr 1.710000e-04"
       ]
      },
      {
       "output_type": "stream",
       "stream": "stdout",
       "text": [
        "\n",
        "Finished epoch 2 / 50: cost 1.822343, train: 0.380000, val 0.355000, lr 1.624500e-04"
       ]
      },
      {
       "output_type": "stream",
       "stream": "stdout",
       "text": [
        "\n",
        "Finished epoch 3 / 50: cost 1.706691, train: 0.396000, val 0.407000, lr 1.543275e-04"
       ]
      },
      {
       "output_type": "stream",
       "stream": "stdout",
       "text": [
        "\n",
        "Finished epoch 4 / 50: cost 1.595751, train: 0.443000, val 0.455000, lr 1.466111e-04"
       ]
      },
      {
       "output_type": "stream",
       "stream": "stdout",
       "text": [
        "\n",
        "Finished epoch 5 / 50: cost 1.449605, train: 0.484000, val 0.448000, lr 1.392806e-04"
       ]
      },
      {
       "output_type": "stream",
       "stream": "stdout",
       "text": [
        "\n",
        "Finished epoch 6 / 50: cost 1.472873, train: 0.446000, val 0.463000, lr 1.323165e-04"
       ]
      },
      {
       "output_type": "stream",
       "stream": "stdout",
       "text": [
        "\n",
        "Finished epoch 7 / 50: cost 1.362616, train: 0.494000, val 0.470000, lr 1.257007e-04"
       ]
      },
      {
       "output_type": "stream",
       "stream": "stdout",
       "text": [
        "\n",
        "Finished epoch 8 / 50: cost 1.472746, train: 0.488000, val 0.485000, lr 1.194157e-04"
       ]
      },
      {
       "output_type": "stream",
       "stream": "stdout",
       "text": [
        "\n",
        "Finished epoch 9 / 50: cost 1.393467, train: 0.517000, val 0.490000, lr 1.134449e-04"
       ]
      },
      {
       "output_type": "stream",
       "stream": "stdout",
       "text": [
        "\n",
        "Finished epoch 10 / 50: cost 1.401535, train: 0.542000, val 0.504000, lr 1.077726e-04"
       ]
      },
      {
       "output_type": "stream",
       "stream": "stdout",
       "text": [
        "\n",
        "Finished epoch 11 / 50: cost 1.305277, train: 0.544000, val 0.506000, lr 1.023840e-04"
       ]
      },
      {
       "output_type": "stream",
       "stream": "stdout",
       "text": [
        "\n",
        "Finished epoch 12 / 50: cost 1.263169, train: 0.568000, val 0.509000, lr 9.726482e-05"
       ]
      },
      {
       "output_type": "stream",
       "stream": "stdout",
       "text": [
        "\n",
        "Finished epoch 13 / 50: cost 1.254943, train: 0.575000, val 0.503000, lr 9.240157e-05"
       ]
      },
      {
       "output_type": "stream",
       "stream": "stdout",
       "text": [
        "\n",
        "Finished epoch 14 / 50: cost 1.316557, train: 0.594000, val 0.521000, lr 8.778150e-05"
       ]
      },
      {
       "output_type": "stream",
       "stream": "stdout",
       "text": [
        "\n",
        "Finished epoch 15 / 50: cost 1.327514, train: 0.565000, val 0.511000, lr 8.339242e-05"
       ]
      },
      {
       "output_type": "stream",
       "stream": "stdout",
       "text": [
        "\n",
        "Finished epoch 16 / 50: cost 1.272111, train: 0.597000, val 0.527000, lr 7.922280e-05"
       ]
      },
      {
       "output_type": "stream",
       "stream": "stdout",
       "text": [
        "\n",
        "Finished epoch 17 / 50: cost 1.284960, train: 0.577000, val 0.531000, lr 7.526166e-05"
       ]
      },
      {
       "output_type": "stream",
       "stream": "stdout",
       "text": [
        "\n",
        "Finished epoch 18 / 50: cost 1.270989, train: 0.618000, val 0.529000, lr 7.149858e-05"
       ]
      },
      {
       "output_type": "stream",
       "stream": "stdout",
       "text": [
        "\n",
        "Finished epoch 19 / 50: cost 1.249572, train: 0.620000, val 0.526000, lr 6.792365e-05"
       ]
      },
      {
       "output_type": "stream",
       "stream": "stdout",
       "text": [
        "\n",
        "Finished epoch 20 / 50: cost 1.147085, train: 0.594000, val 0.519000, lr 6.452747e-05"
       ]
      },
      {
       "output_type": "stream",
       "stream": "stdout",
       "text": [
        "\n",
        "Finished epoch 21 / 50: cost 1.143372, train: 0.620000, val 0.535000, lr 6.130109e-05"
       ]
      },
      {
       "output_type": "stream",
       "stream": "stdout",
       "text": [
        "\n",
        "Finished epoch 22 / 50: cost 1.128656, train: 0.592000, val 0.536000, lr 5.823604e-05"
       ]
      },
      {
       "output_type": "stream",
       "stream": "stdout",
       "text": [
        "\n",
        "Finished epoch 23 / 50: cost 1.091504, train: 0.622000, val 0.540000, lr 5.532424e-05"
       ]
      },
      {
       "output_type": "stream",
       "stream": "stdout",
       "text": [
        "\n",
        "Finished epoch 24 / 50: cost 1.198870, train: 0.655000, val 0.531000, lr 5.255802e-05"
       ]
      },
      {
       "output_type": "stream",
       "stream": "stdout",
       "text": [
        "\n",
        "Finished epoch 25 / 50: cost 1.202984, train: 0.613000, val 0.536000, lr 4.993012e-05"
       ]
      },
      {
       "output_type": "stream",
       "stream": "stdout",
       "text": [
        "\n",
        "Finished epoch 26 / 50: cost 1.055013, train: 0.650000, val 0.531000, lr 4.743362e-05"
       ]
      },
      {
       "output_type": "stream",
       "stream": "stdout",
       "text": [
        "\n",
        "Finished epoch 27 / 50: cost 1.110370, train: 0.651000, val 0.533000, lr 4.506194e-05"
       ]
      },
      {
       "output_type": "stream",
       "stream": "stdout",
       "text": [
        "\n",
        "Finished epoch 28 / 50: cost 1.051457, train: 0.628000, val 0.540000, lr 4.280884e-05"
       ]
      },
      {
       "output_type": "stream",
       "stream": "stdout",
       "text": [
        "\n",
        "Finished epoch 29 / 50: cost 1.124186, train: 0.636000, val 0.536000, lr 4.066840e-05"
       ]
      },
      {
       "output_type": "stream",
       "stream": "stdout",
       "text": [
        "\n",
        "Finished epoch 30 / 50: cost 1.063950, train: 0.628000, val 0.542000, lr 3.863498e-05"
       ]
      },
      {
       "output_type": "stream",
       "stream": "stdout",
       "text": [
        "\n",
        "Finished epoch 31 / 50: cost 1.050752, train: 0.667000, val 0.531000, lr 3.670323e-05"
       ]
      },
      {
       "output_type": "stream",
       "stream": "stdout",
       "text": [
        "\n",
        "Finished epoch 32 / 50: cost 1.110155, train: 0.667000, val 0.533000, lr 3.486807e-05"
       ]
      },
      {
       "output_type": "stream",
       "stream": "stdout",
       "text": [
        "\n",
        "Finished epoch 33 / 50: cost 1.092894, train: 0.638000, val 0.526000, lr 3.312466e-05"
       ]
      },
      {
       "output_type": "stream",
       "stream": "stdout",
       "text": [
        "\n",
        "Finished epoch 34 / 50: cost 1.056936, train: 0.662000, val 0.537000, lr 3.146843e-05"
       ]
      },
      {
       "output_type": "stream",
       "stream": "stdout",
       "text": [
        "\n",
        "Finished epoch 35 / 50: cost 1.073123, train: 0.647000, val 0.532000, lr 2.989501e-05"
       ]
      },
      {
       "output_type": "stream",
       "stream": "stdout",
       "text": [
        "\n",
        "Finished epoch 36 / 50: cost 1.033302, train: 0.658000, val 0.541000, lr 2.840026e-05"
       ]
      },
      {
       "output_type": "stream",
       "stream": "stdout",
       "text": [
        "\n",
        "Finished epoch 37 / 50: cost 1.090058, train: 0.650000, val 0.533000, lr 2.698025e-05"
       ]
      },
      {
       "output_type": "stream",
       "stream": "stdout",
       "text": [
        "\n",
        "Finished epoch 38 / 50: cost 0.985568, train: 0.663000, val 0.546000, lr 2.563123e-05"
       ]
      },
      {
       "output_type": "stream",
       "stream": "stdout",
       "text": [
        "\n",
        "Finished epoch 39 / 50: cost 1.131847, train: 0.677000, val 0.531000, lr 2.434967e-05"
       ]
      },
      {
       "output_type": "stream",
       "stream": "stdout",
       "text": [
        "\n",
        "Finished epoch 40 / 50: cost 1.016972, train: 0.672000, val 0.538000, lr 2.313219e-05"
       ]
      },
      {
       "output_type": "stream",
       "stream": "stdout",
       "text": [
        "\n",
        "Finished epoch 41 / 50: cost 1.113279, train: 0.676000, val 0.536000, lr 2.197558e-05"
       ]
      },
      {
       "output_type": "stream",
       "stream": "stdout",
       "text": [
        "\n",
        "Finished epoch 42 / 50: cost 1.063704, train: 0.656000, val 0.531000, lr 2.087680e-05"
       ]
      },
      {
       "output_type": "stream",
       "stream": "stdout",
       "text": [
        "\n",
        "Finished epoch 43 / 50: cost 1.055462, train: 0.694000, val 0.538000, lr 1.983296e-05"
       ]
      },
      {
       "output_type": "stream",
       "stream": "stdout",
       "text": [
        "\n",
        "Finished epoch 44 / 50: cost 1.002956, train: 0.686000, val 0.534000, lr 1.884131e-05"
       ]
      },
      {
       "output_type": "stream",
       "stream": "stdout",
       "text": [
        "\n",
        "Finished epoch 45 / 50: cost 1.066519, train: 0.658000, val 0.537000, lr 1.789925e-05"
       ]
      },
      {
       "output_type": "stream",
       "stream": "stdout",
       "text": [
        "\n",
        "Finished epoch 46 / 50: cost 1.064345, train: 0.670000, val 0.543000, lr 1.700428e-05"
       ]
      },
      {
       "output_type": "stream",
       "stream": "stdout",
       "text": [
        "\n",
        "Finished epoch 47 / 50: cost 1.022088, train: 0.659000, val 0.540000, lr 1.615407e-05"
       ]
      },
      {
       "output_type": "stream",
       "stream": "stdout",
       "text": [
        "\n",
        "Finished epoch 48 / 50: cost 1.008315, train: 0.673000, val 0.539000, lr 1.534637e-05"
       ]
      },
      {
       "output_type": "stream",
       "stream": "stdout",
       "text": [
        "\n",
        "Finished epoch 49 / 50: cost 1.011753, train: 0.678000, val 0.538000, lr 1.457905e-05"
       ]
      },
      {
       "output_type": "stream",
       "stream": "stdout",
       "text": [
        "\n",
        "Finished epoch 50 / 50: cost 0.952488, train: 0.661000, val 0.530000, lr 1.385010e-05"
       ]
      },
      {
       "output_type": "stream",
       "stream": "stdout",
       "text": [
        "\n",
        "finished optimization. best validation accuracy: 0.546000\n",
        "Finished epoch 0 / 50: cost 2.302588, train: 0.138000, val 0.114000, lr 1.800000e-04"
       ]
      },
      {
       "output_type": "stream",
       "stream": "stdout",
       "text": [
        "\n",
        "Finished epoch 1 / 50: cost 2.036187, train: 0.226000, val 0.240000, lr 1.710000e-04"
       ]
      },
      {
       "output_type": "stream",
       "stream": "stdout",
       "text": [
        "\n",
        "Finished epoch 2 / 50: cost 1.798880, train: 0.356000, val 0.360000, lr 1.624500e-04"
       ]
      },
      {
       "output_type": "stream",
       "stream": "stdout",
       "text": [
        "\n",
        "Finished epoch 3 / 50: cost 1.724327, train: 0.425000, val 0.409000, lr 1.543275e-04"
       ]
      },
      {
       "output_type": "stream",
       "stream": "stdout",
       "text": [
        "\n",
        "Finished epoch 4 / 50: cost 1.569196, train: 0.471000, val 0.448000, lr 1.466111e-04"
       ]
      },
      {
       "output_type": "stream",
       "stream": "stdout",
       "text": [
        "\n",
        "Finished epoch 5 / 50: cost 1.553293, train: 0.455000, val 0.465000, lr 1.392806e-04"
       ]
      },
      {
       "output_type": "stream",
       "stream": "stdout",
       "text": [
        "\n",
        "Finished epoch 6 / 50: cost 1.519872, train: 0.500000, val 0.472000, lr 1.323165e-04"
       ]
      },
      {
       "output_type": "stream",
       "stream": "stdout",
       "text": [
        "\n",
        "Finished epoch 7 / 50: cost 1.453916, train: 0.521000, val 0.464000, lr 1.257007e-04"
       ]
      },
      {
       "output_type": "stream",
       "stream": "stdout",
       "text": [
        "\n",
        "Finished epoch 8 / 50: cost 1.454186, train: 0.525000, val 0.499000, lr 1.194157e-04"
       ]
      },
      {
       "output_type": "stream",
       "stream": "stdout",
       "text": [
        "\n",
        "Finished epoch 9 / 50: cost 1.351990, train: 0.526000, val 0.494000, lr 1.134449e-04"
       ]
      },
      {
       "output_type": "stream",
       "stream": "stdout",
       "text": [
        "\n",
        "Finished epoch 10 / 50: cost 1.374639, train: 0.542000, val 0.512000, lr 1.077726e-04"
       ]
      },
      {
       "output_type": "stream",
       "stream": "stdout",
       "text": [
        "\n",
        "Finished epoch 11 / 50: cost 1.325964, train: 0.521000, val 0.505000, lr 1.023840e-04"
       ]
      },
      {
       "output_type": "stream",
       "stream": "stdout",
       "text": [
        "\n",
        "Finished epoch 12 / 50: cost 1.346241, train: 0.551000, val 0.520000, lr 9.726482e-05"
       ]
      },
      {
       "output_type": "stream",
       "stream": "stdout",
       "text": [
        "\n",
        "Finished epoch 13 / 50: cost 1.279455, train: 0.542000, val 0.518000, lr 9.240157e-05"
       ]
      },
      {
       "output_type": "stream",
       "stream": "stdout",
       "text": [
        "\n",
        "Finished epoch 14 / 50: cost 1.262748, train: 0.576000, val 0.522000, lr 8.778150e-05"
       ]
      },
      {
       "output_type": "stream",
       "stream": "stdout",
       "text": [
        "\n",
        "Finished epoch 15 / 50: cost 1.238209, train: 0.542000, val 0.526000, lr 8.339242e-05"
       ]
      },
      {
       "output_type": "stream",
       "stream": "stdout",
       "text": [
        "\n",
        "Finished epoch 16 / 50: cost 1.181281, train: 0.583000, val 0.530000, lr 7.922280e-05"
       ]
      },
      {
       "output_type": "stream",
       "stream": "stdout",
       "text": [
        "\n",
        "Finished epoch 17 / 50: cost 1.147835, train: 0.589000, val 0.543000, lr 7.526166e-05"
       ]
      },
      {
       "output_type": "stream",
       "stream": "stdout",
       "text": [
        "\n",
        "Finished epoch 18 / 50: cost 1.286380, train: 0.604000, val 0.538000, lr 7.149858e-05"
       ]
      },
      {
       "output_type": "stream",
       "stream": "stdout",
       "text": [
        "\n",
        "Finished epoch 19 / 50: cost 1.173551, train: 0.598000, val 0.545000, lr 6.792365e-05"
       ]
      },
      {
       "output_type": "stream",
       "stream": "stdout",
       "text": [
        "\n",
        "Finished epoch 20 / 50: cost 1.265856, train: 0.615000, val 0.545000, lr 6.452747e-05"
       ]
      },
      {
       "output_type": "stream",
       "stream": "stdout",
       "text": [
        "\n",
        "Finished epoch 21 / 50: cost 1.085370, train: 0.652000, val 0.541000, lr 6.130109e-05"
       ]
      },
      {
       "output_type": "stream",
       "stream": "stdout",
       "text": [
        "\n",
        "Finished epoch 22 / 50: cost 1.161056, train: 0.603000, val 0.541000, lr 5.823604e-05"
       ]
      },
      {
       "output_type": "stream",
       "stream": "stdout",
       "text": [
        "\n",
        "Finished epoch 23 / 50: cost 1.119174, train: 0.617000, val 0.544000, lr 5.532424e-05"
       ]
      },
      {
       "output_type": "stream",
       "stream": "stdout",
       "text": [
        "\n",
        "Finished epoch 24 / 50: cost 1.086897, train: 0.588000, val 0.536000, lr 5.255802e-05"
       ]
      },
      {
       "output_type": "stream",
       "stream": "stdout",
       "text": [
        "\n",
        "Finished epoch 25 / 50: cost 1.146588, train: 0.601000, val 0.542000, lr 4.993012e-05"
       ]
      },
      {
       "output_type": "stream",
       "stream": "stdout",
       "text": [
        "\n",
        "Finished epoch 26 / 50: cost 1.112278, train: 0.626000, val 0.546000, lr 4.743362e-05"
       ]
      },
      {
       "output_type": "stream",
       "stream": "stdout",
       "text": [
        "\n",
        "Finished epoch 27 / 50: cost 1.098872, train: 0.627000, val 0.544000, lr 4.506194e-05"
       ]
      },
      {
       "output_type": "stream",
       "stream": "stdout",
       "text": [
        "\n",
        "Finished epoch 28 / 50: cost 1.078680, train: 0.635000, val 0.541000, lr 4.280884e-05"
       ]
      },
      {
       "output_type": "stream",
       "stream": "stdout",
       "text": [
        "\n",
        "Finished epoch 29 / 50: cost 1.111155, train: 0.625000, val 0.546000, lr 4.066840e-05"
       ]
      },
      {
       "output_type": "stream",
       "stream": "stdout",
       "text": [
        "\n",
        "Finished epoch 30 / 50: cost 1.160477, train: 0.661000, val 0.555000, lr 3.863498e-05"
       ]
      },
      {
       "output_type": "stream",
       "stream": "stdout",
       "text": [
        "\n",
        "Finished epoch 31 / 50: cost 1.120704, train: 0.648000, val 0.555000, lr 3.670323e-05"
       ]
      },
      {
       "output_type": "stream",
       "stream": "stdout",
       "text": [
        "\n",
        "Finished epoch 32 / 50: cost 1.086947, train: 0.645000, val 0.546000, lr 3.486807e-05"
       ]
      },
      {
       "output_type": "stream",
       "stream": "stdout",
       "text": [
        "\n",
        "Finished epoch 33 / 50: cost 1.064591, train: 0.667000, val 0.546000, lr 3.312466e-05"
       ]
      },
      {
       "output_type": "stream",
       "stream": "stdout",
       "text": [
        "\n",
        "Finished epoch 34 / 50: cost 1.059453, train: 0.658000, val 0.553000, lr 3.146843e-05"
       ]
      },
      {
       "output_type": "stream",
       "stream": "stdout",
       "text": [
        "\n",
        "Finished epoch 35 / 50: cost 1.016949, train: 0.667000, val 0.545000, lr 2.989501e-05"
       ]
      },
      {
       "output_type": "stream",
       "stream": "stdout",
       "text": [
        "\n",
        "Finished epoch 36 / 50: cost 1.100381, train: 0.683000, val 0.550000, lr 2.840026e-05"
       ]
      },
      {
       "output_type": "stream",
       "stream": "stdout",
       "text": [
        "\n",
        "Finished epoch 37 / 50: cost 1.084707, train: 0.664000, val 0.546000, lr 2.698025e-05"
       ]
      },
      {
       "output_type": "stream",
       "stream": "stdout",
       "text": [
        "\n",
        "Finished epoch 38 / 50: cost 1.073610, train: 0.653000, val 0.547000, lr 2.563123e-05"
       ]
      },
      {
       "output_type": "stream",
       "stream": "stdout",
       "text": [
        "\n",
        "Finished epoch 39 / 50: cost 1.075016, train: 0.655000, val 0.552000, lr 2.434967e-05"
       ]
      },
      {
       "output_type": "stream",
       "stream": "stdout",
       "text": [
        "\n",
        "Finished epoch 40 / 50: cost 1.030974, train: 0.664000, val 0.551000, lr 2.313219e-05"
       ]
      },
      {
       "output_type": "stream",
       "stream": "stdout",
       "text": [
        "\n",
        "Finished epoch 41 / 50: cost 1.048336, train: 0.666000, val 0.541000, lr 2.197558e-05"
       ]
      },
      {
       "output_type": "stream",
       "stream": "stdout",
       "text": [
        "\n",
        "Finished epoch 42 / 50: cost 1.019412, train: 0.654000, val 0.540000, lr 2.087680e-05"
       ]
      },
      {
       "output_type": "stream",
       "stream": "stdout",
       "text": [
        "\n",
        "Finished epoch 43 / 50: cost 1.058131, train: 0.682000, val 0.544000, lr 1.983296e-05"
       ]
      },
      {
       "output_type": "stream",
       "stream": "stdout",
       "text": [
        "\n",
        "Finished epoch 44 / 50: cost 1.177264, train: 0.658000, val 0.554000, lr 1.884131e-05"
       ]
      },
      {
       "output_type": "stream",
       "stream": "stdout",
       "text": [
        "\n",
        "Finished epoch 45 / 50: cost 1.085657, train: 0.658000, val 0.552000, lr 1.789925e-05"
       ]
      },
      {
       "output_type": "stream",
       "stream": "stdout",
       "text": [
        "\n",
        "Finished epoch 46 / 50: cost 1.033472, train: 0.686000, val 0.550000, lr 1.700428e-05"
       ]
      },
      {
       "output_type": "stream",
       "stream": "stdout",
       "text": [
        "\n",
        "Finished epoch 47 / 50: cost 0.975076, train: 0.675000, val 0.555000, lr 1.615407e-05"
       ]
      },
      {
       "output_type": "stream",
       "stream": "stdout",
       "text": [
        "\n",
        "Finished epoch 48 / 50: cost 1.030374, train: 0.679000, val 0.544000, lr 1.534637e-05"
       ]
      },
      {
       "output_type": "stream",
       "stream": "stdout",
       "text": [
        "\n",
        "Finished epoch 49 / 50: cost 1.046686, train: 0.688000, val 0.555000, lr 1.457905e-05"
       ]
      },
      {
       "output_type": "stream",
       "stream": "stdout",
       "text": [
        "\n",
        "Finished epoch 50 / 50: cost 1.003976, train: 0.679000, val 0.561000, lr 1.385010e-05"
       ]
      },
      {
       "output_type": "stream",
       "stream": "stdout",
       "text": [
        "\n",
        "finished optimization. best validation accuracy: 0.561000\n",
        "Finished epoch 0 / 50: cost 2.302588, train: 0.105000, val 0.106000, lr 1.800000e-04"
       ]
      },
      {
       "output_type": "stream",
       "stream": "stdout",
       "text": [
        "\n",
        "Finished epoch 1 / 50: cost 2.072786, train: 0.240000, val 0.239000, lr 1.710000e-04"
       ]
      },
      {
       "output_type": "stream",
       "stream": "stdout",
       "text": [
        "\n",
        "Finished epoch 2 / 50: cost 1.788377, train: 0.347000, val 0.356000, lr 1.624500e-04"
       ]
      },
      {
       "output_type": "stream",
       "stream": "stdout",
       "text": [
        "\n",
        "Finished epoch 3 / 50: cost 1.674827, train: 0.381000, val 0.424000, lr 1.543275e-04"
       ]
      },
      {
       "output_type": "stream",
       "stream": "stdout",
       "text": [
        "\n",
        "Finished epoch 4 / 50: cost 1.554414, train: 0.426000, val 0.448000, lr 1.466111e-04"
       ]
      },
      {
       "output_type": "stream",
       "stream": "stdout",
       "text": [
        "\n",
        "Finished epoch 5 / 50: cost 1.530653, train: 0.479000, val 0.469000, lr 1.392806e-04"
       ]
      },
      {
       "output_type": "stream",
       "stream": "stdout",
       "text": [
        "\n",
        "Finished epoch 6 / 50: cost 1.469023, train: 0.489000, val 0.471000, lr 1.323165e-04"
       ]
      },
      {
       "output_type": "stream",
       "stream": "stdout",
       "text": [
        "\n",
        "Finished epoch 7 / 50: cost 1.425059, train: 0.503000, val 0.485000, lr 1.257007e-04"
       ]
      },
      {
       "output_type": "stream",
       "stream": "stdout",
       "text": [
        "\n",
        "Finished epoch 8 / 50: cost 1.395453, train: 0.531000, val 0.497000, lr 1.194157e-04"
       ]
      },
      {
       "output_type": "stream",
       "stream": "stdout",
       "text": [
        "\n",
        "Finished epoch 9 / 50: cost 1.334317, train: 0.547000, val 0.493000, lr 1.134449e-04"
       ]
      },
      {
       "output_type": "stream",
       "stream": "stdout",
       "text": [
        "\n",
        "Finished epoch 10 / 50: cost 1.337653, train: 0.561000, val 0.508000, lr 1.077726e-04"
       ]
      },
      {
       "output_type": "stream",
       "stream": "stdout",
       "text": [
        "\n",
        "Finished epoch 11 / 50: cost 1.386510, train: 0.550000, val 0.510000, lr 1.023840e-04"
       ]
      },
      {
       "output_type": "stream",
       "stream": "stdout",
       "text": [
        "\n",
        "Finished epoch 12 / 50: cost 1.366503, train: 0.571000, val 0.500000, lr 9.726482e-05"
       ]
      },
      {
       "output_type": "stream",
       "stream": "stdout",
       "text": [
        "\n",
        "Finished epoch 13 / 50: cost 1.225217, train: 0.586000, val 0.523000, lr 9.240157e-05"
       ]
      },
      {
       "output_type": "stream",
       "stream": "stdout",
       "text": [
        "\n",
        "Finished epoch 14 / 50: cost 1.304301, train: 0.581000, val 0.516000, lr 8.778150e-05"
       ]
      },
      {
       "output_type": "stream",
       "stream": "stdout",
       "text": [
        "\n",
        "Finished epoch 15 / 50: cost 1.256023, train: 0.565000, val 0.514000, lr 8.339242e-05"
       ]
      },
      {
       "output_type": "stream",
       "stream": "stdout",
       "text": [
        "\n",
        "Finished epoch 16 / 50: cost 1.192743, train: 0.604000, val 0.524000, lr 7.922280e-05"
       ]
      },
      {
       "output_type": "stream",
       "stream": "stdout",
       "text": [
        "\n",
        "Finished epoch 17 / 50: cost 1.211927, train: 0.600000, val 0.531000, lr 7.526166e-05"
       ]
      },
      {
       "output_type": "stream",
       "stream": "stdout",
       "text": [
        "\n",
        "Finished epoch 18 / 50: cost 1.256968, train: 0.593000, val 0.510000, lr 7.149858e-05"
       ]
      },
      {
       "output_type": "stream",
       "stream": "stdout",
       "text": [
        "\n",
        "Finished epoch 19 / 50: cost 1.204477, train: 0.603000, val 0.538000, lr 6.792365e-05"
       ]
      },
      {
       "output_type": "stream",
       "stream": "stdout",
       "text": [
        "\n",
        "Finished epoch 20 / 50: cost 1.262217, train: 0.601000, val 0.529000, lr 6.452747e-05"
       ]
      },
      {
       "output_type": "stream",
       "stream": "stdout",
       "text": [
        "\n",
        "Finished epoch 21 / 50: cost 1.192463, train: 0.585000, val 0.531000, lr 6.130109e-05"
       ]
      },
      {
       "output_type": "stream",
       "stream": "stdout",
       "text": [
        "\n",
        "Finished epoch 22 / 50: cost 1.222889, train: 0.609000, val 0.544000, lr 5.823604e-05"
       ]
      },
      {
       "output_type": "stream",
       "stream": "stdout",
       "text": [
        "\n",
        "Finished epoch 23 / 50: cost 1.286763, train: 0.619000, val 0.543000, lr 5.532424e-05"
       ]
      },
      {
       "output_type": "stream",
       "stream": "stdout",
       "text": [
        "\n",
        "Finished epoch 24 / 50: cost 1.133226, train: 0.597000, val 0.541000, lr 5.255802e-05"
       ]
      },
      {
       "output_type": "stream",
       "stream": "stdout",
       "text": [
        "\n",
        "Finished epoch 25 / 50: cost 1.151429, train: 0.613000, val 0.540000, lr 4.993012e-05"
       ]
      },
      {
       "output_type": "stream",
       "stream": "stdout",
       "text": [
        "\n",
        "Finished epoch 26 / 50: cost 1.098266, train: 0.625000, val 0.531000, lr 4.743362e-05"
       ]
      },
      {
       "output_type": "stream",
       "stream": "stdout",
       "text": [
        "\n",
        "Finished epoch 27 / 50: cost 1.115014, train: 0.627000, val 0.543000, lr 4.506194e-05"
       ]
      },
      {
       "output_type": "stream",
       "stream": "stdout",
       "text": [
        "\n",
        "Finished epoch 28 / 50: cost 1.046312, train: 0.660000, val 0.545000, lr 4.280884e-05"
       ]
      },
      {
       "output_type": "stream",
       "stream": "stdout",
       "text": [
        "\n",
        "Finished epoch 29 / 50: cost 1.148713, train: 0.642000, val 0.547000, lr 4.066840e-05"
       ]
      },
      {
       "output_type": "stream",
       "stream": "stdout",
       "text": [
        "\n",
        "Finished epoch 30 / 50: cost 1.064553, train: 0.652000, val 0.556000, lr 3.863498e-05"
       ]
      },
      {
       "output_type": "stream",
       "stream": "stdout",
       "text": [
        "\n",
        "Finished epoch 31 / 50: cost 1.123364, train: 0.646000, val 0.543000, lr 3.670323e-05"
       ]
      },
      {
       "output_type": "stream",
       "stream": "stdout",
       "text": [
        "\n",
        "Finished epoch 32 / 50: cost 1.073015, train: 0.657000, val 0.534000, lr 3.486807e-05"
       ]
      },
      {
       "output_type": "stream",
       "stream": "stdout",
       "text": [
        "\n",
        "Finished epoch 33 / 50: cost 1.115256, train: 0.627000, val 0.535000, lr 3.312466e-05"
       ]
      },
      {
       "output_type": "stream",
       "stream": "stdout",
       "text": [
        "\n",
        "Finished epoch 34 / 50: cost 1.089166, train: 0.656000, val 0.542000, lr 3.146843e-05"
       ]
      },
      {
       "output_type": "stream",
       "stream": "stdout",
       "text": [
        "\n",
        "Finished epoch 35 / 50: cost 1.073519, train: 0.668000, val 0.550000, lr 2.989501e-05"
       ]
      },
      {
       "output_type": "stream",
       "stream": "stdout",
       "text": [
        "\n",
        "Finished epoch 36 / 50: cost 1.082478, train: 0.660000, val 0.550000, lr 2.840026e-05"
       ]
      },
      {
       "output_type": "stream",
       "stream": "stdout",
       "text": [
        "\n",
        "Finished epoch 37 / 50: cost 1.084765, train: 0.669000, val 0.547000, lr 2.698025e-05"
       ]
      },
      {
       "output_type": "stream",
       "stream": "stdout",
       "text": [
        "\n",
        "Finished epoch 38 / 50: cost 1.038658, train: 0.622000, val 0.550000, lr 2.563123e-05"
       ]
      },
      {
       "output_type": "stream",
       "stream": "stdout",
       "text": [
        "\n",
        "Finished epoch 39 / 50: cost 1.090385, train: 0.665000, val 0.549000, lr 2.434967e-05"
       ]
      },
      {
       "output_type": "stream",
       "stream": "stdout",
       "text": [
        "\n",
        "Finished epoch 40 / 50: cost 1.015594, train: 0.669000, val 0.548000, lr 2.313219e-05"
       ]
      },
      {
       "output_type": "stream",
       "stream": "stdout",
       "text": [
        "\n",
        "Finished epoch 41 / 50: cost 1.111965, train: 0.666000, val 0.554000, lr 2.197558e-05"
       ]
      },
      {
       "output_type": "stream",
       "stream": "stdout",
       "text": [
        "\n",
        "Finished epoch 42 / 50: cost 1.094046, train: 0.653000, val 0.554000, lr 2.087680e-05"
       ]
      },
      {
       "output_type": "stream",
       "stream": "stdout",
       "text": [
        "\n",
        "Finished epoch 43 / 50: cost 1.064528, train: 0.661000, val 0.551000, lr 1.983296e-05"
       ]
      },
      {
       "output_type": "stream",
       "stream": "stdout",
       "text": [
        "\n",
        "Finished epoch 44 / 50: cost 1.022183, train: 0.683000, val 0.554000, lr 1.884131e-05"
       ]
      },
      {
       "output_type": "stream",
       "stream": "stdout",
       "text": [
        "\n",
        "Finished epoch 45 / 50: cost 1.030764, train: 0.654000, val 0.562000, lr 1.789925e-05"
       ]
      },
      {
       "output_type": "stream",
       "stream": "stdout",
       "text": [
        "\n",
        "Finished epoch 46 / 50: cost 1.090278, train: 0.659000, val 0.546000, lr 1.700428e-05"
       ]
      },
      {
       "output_type": "stream",
       "stream": "stdout",
       "text": [
        "\n",
        "Finished epoch 47 / 50: cost 1.069223, train: 0.688000, val 0.551000, lr 1.615407e-05"
       ]
      },
      {
       "output_type": "stream",
       "stream": "stdout",
       "text": [
        "\n",
        "Finished epoch 48 / 50: cost 1.046671, train: 0.674000, val 0.562000, lr 1.534637e-05"
       ]
      },
      {
       "output_type": "stream",
       "stream": "stdout",
       "text": [
        "\n",
        "Finished epoch 49 / 50: cost 1.000517, train: 0.681000, val 0.552000, lr 1.457905e-05"
       ]
      },
      {
       "output_type": "stream",
       "stream": "stdout",
       "text": [
        "\n",
        "Finished epoch 50 / 50: cost 0.992696, train: 0.678000, val 0.555000, lr 1.385010e-05"
       ]
      },
      {
       "output_type": "stream",
       "stream": "stdout",
       "text": [
        "\n",
        "finished optimization. best validation accuracy: 0.562000\n",
        "Finished epoch 0 / 50: cost 2.302604, train: 0.107000, val 0.107000, lr 1.800000e-04"
       ]
      },
      {
       "output_type": "stream",
       "stream": "stdout",
       "text": [
        "\n",
        "Finished epoch 1 / 50: cost 2.069200, train: 0.236000, val 0.241000, lr 1.710000e-04"
       ]
      },
      {
       "output_type": "stream",
       "stream": "stdout",
       "text": [
        "\n",
        "Finished epoch 2 / 50: cost 1.750928, train: 0.360000, val 0.358000, lr 1.624500e-04"
       ]
      },
      {
       "output_type": "stream",
       "stream": "stdout",
       "text": [
        "\n",
        "Finished epoch 3 / 50: cost 1.671691, train: 0.410000, val 0.415000, lr 1.543275e-04"
       ]
      },
      {
       "output_type": "stream",
       "stream": "stdout",
       "text": [
        "\n",
        "Finished epoch 4 / 50: cost 1.594659, train: 0.457000, val 0.451000, lr 1.466111e-04"
       ]
      },
      {
       "output_type": "stream",
       "stream": "stdout",
       "text": [
        "\n",
        "Finished epoch 5 / 50: cost 1.578707, train: 0.476000, val 0.457000, lr 1.392806e-04"
       ]
      },
      {
       "output_type": "stream",
       "stream": "stdout",
       "text": [
        "\n",
        "Finished epoch 6 / 50: cost 1.551949, train: 0.462000, val 0.467000, lr 1.323165e-04"
       ]
      },
      {
       "output_type": "stream",
       "stream": "stdout",
       "text": [
        "\n",
        "Finished epoch 7 / 50: cost 1.495203, train: 0.496000, val 0.488000, lr 1.257007e-04"
       ]
      },
      {
       "output_type": "stream",
       "stream": "stdout",
       "text": [
        "\n",
        "Finished epoch 8 / 50: cost 1.471018, train: 0.521000, val 0.482000, lr 1.194157e-04"
       ]
      },
      {
       "output_type": "stream",
       "stream": "stdout",
       "text": [
        "\n",
        "Finished epoch 9 / 50: cost 1.436367, train: 0.499000, val 0.489000, lr 1.134449e-04"
       ]
      },
      {
       "output_type": "stream",
       "stream": "stdout",
       "text": [
        "\n",
        "Finished epoch 10 / 50: cost 1.520884, train: 0.555000, val 0.487000, lr 1.077726e-04"
       ]
      },
      {
       "output_type": "stream",
       "stream": "stdout",
       "text": [
        "\n",
        "Finished epoch 11 / 50: cost 1.507272, train: 0.531000, val 0.493000, lr 1.023840e-04"
       ]
      },
      {
       "output_type": "stream",
       "stream": "stdout",
       "text": [
        "\n",
        "Finished epoch 12 / 50: cost 1.431302, train: 0.521000, val 0.487000, lr 9.726482e-05"
       ]
      },
      {
       "output_type": "stream",
       "stream": "stdout",
       "text": [
        "\n",
        "Finished epoch 13 / 50: cost 1.404878, train: 0.531000, val 0.497000, lr 9.240157e-05"
       ]
      },
      {
       "output_type": "stream",
       "stream": "stdout",
       "text": [
        "\n",
        "Finished epoch 14 / 50: cost 1.456453, train: 0.520000, val 0.513000, lr 8.778150e-05"
       ]
      },
      {
       "output_type": "stream",
       "stream": "stdout",
       "text": [
        "\n",
        "Finished epoch 15 / 50: cost 1.434417, train: 0.546000, val 0.517000, lr 8.339242e-05"
       ]
      },
      {
       "output_type": "stream",
       "stream": "stdout",
       "text": [
        "\n",
        "Finished epoch 16 / 50: cost 1.416618, train: 0.582000, val 0.514000, lr 7.922280e-05"
       ]
      },
      {
       "output_type": "stream",
       "stream": "stdout",
       "text": [
        "\n",
        "Finished epoch 17 / 50: cost 1.406625, train: 0.568000, val 0.526000, lr 7.526166e-05"
       ]
      },
      {
       "output_type": "stream",
       "stream": "stdout",
       "text": [
        "\n",
        "Finished epoch 18 / 50: cost 1.482533, train: 0.575000, val 0.520000, lr 7.149858e-05"
       ]
      },
      {
       "output_type": "stream",
       "stream": "stdout",
       "text": [
        "\n",
        "Finished epoch 19 / 50: cost 1.400281, train: 0.566000, val 0.521000, lr 6.792365e-05"
       ]
      },
      {
       "output_type": "stream",
       "stream": "stdout",
       "text": [
        "\n",
        "Finished epoch 20 / 50: cost 1.394501, train: 0.564000, val 0.505000, lr 6.452747e-05"
       ]
      },
      {
       "output_type": "stream",
       "stream": "stdout",
       "text": [
        "\n",
        "Finished epoch 21 / 50: cost 1.405873, train: 0.544000, val 0.525000, lr 6.130109e-05"
       ]
      },
      {
       "output_type": "stream",
       "stream": "stdout",
       "text": [
        "\n",
        "Finished epoch 22 / 50: cost 1.388276, train: 0.590000, val 0.522000, lr 5.823604e-05"
       ]
      },
      {
       "output_type": "stream",
       "stream": "stdout",
       "text": [
        "\n",
        "Finished epoch 23 / 50: cost 1.351412, train: 0.557000, val 0.527000, lr 5.532424e-05"
       ]
      },
      {
       "output_type": "stream",
       "stream": "stdout",
       "text": [
        "\n",
        "Finished epoch 24 / 50: cost 1.467581, train: 0.613000, val 0.521000, lr 5.255802e-05"
       ]
      },
      {
       "output_type": "stream",
       "stream": "stdout",
       "text": [
        "\n",
        "Finished epoch 25 / 50: cost 1.363517, train: 0.627000, val 0.535000, lr 4.993012e-05"
       ]
      },
      {
       "output_type": "stream",
       "stream": "stdout",
       "text": [
        "\n",
        "Finished epoch 26 / 50: cost 1.444660, train: 0.584000, val 0.540000, lr 4.743362e-05"
       ]
      },
      {
       "output_type": "stream",
       "stream": "stdout",
       "text": [
        "\n",
        "Finished epoch 27 / 50: cost 1.381689, train: 0.591000, val 0.530000, lr 4.506194e-05"
       ]
      },
      {
       "output_type": "stream",
       "stream": "stdout",
       "text": [
        "\n",
        "Finished epoch 28 / 50: cost 1.392398, train: 0.605000, val 0.527000, lr 4.280884e-05"
       ]
      },
      {
       "output_type": "stream",
       "stream": "stdout",
       "text": [
        "\n",
        "Finished epoch 29 / 50: cost 1.358128, train: 0.576000, val 0.532000, lr 4.066840e-05"
       ]
      },
      {
       "output_type": "stream",
       "stream": "stdout",
       "text": [
        "\n",
        "Finished epoch 30 / 50: cost 1.407805, train: 0.617000, val 0.531000, lr 3.863498e-05"
       ]
      },
      {
       "output_type": "stream",
       "stream": "stdout",
       "text": [
        "\n",
        "Finished epoch 31 / 50: cost 1.399528, train: 0.609000, val 0.527000, lr 3.670323e-05"
       ]
      },
      {
       "output_type": "stream",
       "stream": "stdout",
       "text": [
        "\n",
        "Finished epoch 32 / 50: cost 1.289821, train: 0.637000, val 0.531000, lr 3.486807e-05"
       ]
      },
      {
       "output_type": "stream",
       "stream": "stdout",
       "text": [
        "\n",
        "Finished epoch 33 / 50: cost 1.365126, train: 0.570000, val 0.532000, lr 3.312466e-05"
       ]
      },
      {
       "output_type": "stream",
       "stream": "stdout",
       "text": [
        "\n",
        "Finished epoch 34 / 50: cost 1.359358, train: 0.639000, val 0.545000, lr 3.146843e-05"
       ]
      },
      {
       "output_type": "stream",
       "stream": "stdout",
       "text": [
        "\n",
        "Finished epoch 35 / 50: cost 1.371498, train: 0.597000, val 0.536000, lr 2.989501e-05"
       ]
      },
      {
       "output_type": "stream",
       "stream": "stdout",
       "text": [
        "\n",
        "Finished epoch 36 / 50: cost 1.350966, train: 0.621000, val 0.539000, lr 2.840026e-05"
       ]
      },
      {
       "output_type": "stream",
       "stream": "stdout",
       "text": [
        "\n",
        "Finished epoch 37 / 50: cost 1.428313, train: 0.629000, val 0.537000, lr 2.698025e-05"
       ]
      },
      {
       "output_type": "stream",
       "stream": "stdout",
       "text": [
        "\n",
        "Finished epoch 38 / 50: cost 1.418665, train: 0.589000, val 0.547000, lr 2.563123e-05"
       ]
      },
      {
       "output_type": "stream",
       "stream": "stdout",
       "text": [
        "\n",
        "Finished epoch 39 / 50: cost 1.354400, train: 0.615000, val 0.531000, lr 2.434967e-05"
       ]
      },
      {
       "output_type": "stream",
       "stream": "stdout",
       "text": [
        "\n",
        "Finished epoch 40 / 50: cost 1.322222, train: 0.615000, val 0.541000, lr 2.313219e-05"
       ]
      },
      {
       "output_type": "stream",
       "stream": "stdout",
       "text": [
        "\n",
        "Finished epoch 41 / 50: cost 1.352367, train: 0.616000, val 0.551000, lr 2.197558e-05"
       ]
      },
      {
       "output_type": "stream",
       "stream": "stdout",
       "text": [
        "\n",
        "Finished epoch 42 / 50: cost 1.336432, train: 0.605000, val 0.548000, lr 2.087680e-05"
       ]
      },
      {
       "output_type": "stream",
       "stream": "stdout",
       "text": [
        "\n",
        "Finished epoch 43 / 50: cost 1.400839, train: 0.634000, val 0.544000, lr 1.983296e-05"
       ]
      },
      {
       "output_type": "stream",
       "stream": "stdout",
       "text": [
        "\n",
        "Finished epoch 44 / 50: cost 1.293213, train: 0.647000, val 0.537000, lr 1.884131e-05"
       ]
      },
      {
       "output_type": "stream",
       "stream": "stdout",
       "text": [
        "\n",
        "Finished epoch 45 / 50: cost 1.368052, train: 0.625000, val 0.554000, lr 1.789925e-05"
       ]
      },
      {
       "output_type": "stream",
       "stream": "stdout",
       "text": [
        "\n",
        "Finished epoch 46 / 50: cost 1.438483, train: 0.604000, val 0.542000, lr 1.700428e-05"
       ]
      },
      {
       "output_type": "stream",
       "stream": "stdout",
       "text": [
        "\n",
        "Finished epoch 47 / 50: cost 1.407696, train: 0.593000, val 0.543000, lr 1.615407e-05"
       ]
      },
      {
       "output_type": "stream",
       "stream": "stdout",
       "text": [
        "\n",
        "Finished epoch 48 / 50: cost 1.341638, train: 0.638000, val 0.548000, lr 1.534637e-05"
       ]
      },
      {
       "output_type": "stream",
       "stream": "stdout",
       "text": [
        "\n",
        "Finished epoch 49 / 50: cost 1.345850, train: 0.610000, val 0.547000, lr 1.457905e-05"
       ]
      },
      {
       "output_type": "stream",
       "stream": "stdout",
       "text": [
        "\n",
        "Finished epoch 50 / 50: cost 1.364993, train: 0.594000, val 0.544000, lr 1.385010e-05"
       ]
      },
      {
       "output_type": "stream",
       "stream": "stdout",
       "text": [
        "\n",
        "finished optimization. best validation accuracy: 0.554000\n",
        "Finished epoch 0 / 50: cost 2.302606, train: 0.126000, val 0.172000, lr 1.800000e-04"
       ]
      },
      {
       "output_type": "stream",
       "stream": "stdout",
       "text": [
        "\n",
        "Finished epoch 1 / 50: cost 2.055214, train: 0.244000, val 0.246000, lr 1.710000e-04"
       ]
      },
      {
       "output_type": "stream",
       "stream": "stdout",
       "text": [
        "\n",
        "Finished epoch 2 / 50: cost 1.781230, train: 0.388000, val 0.364000, lr 1.624500e-04"
       ]
      },
      {
       "output_type": "stream",
       "stream": "stdout",
       "text": [
        "\n",
        "Finished epoch 3 / 50: cost 1.777470, train: 0.393000, val 0.401000, lr 1.543275e-04"
       ]
      },
      {
       "output_type": "stream",
       "stream": "stdout",
       "text": [
        "\n",
        "Finished epoch 4 / 50: cost 1.599584, train: 0.440000, val 0.450000, lr 1.466111e-04"
       ]
      },
      {
       "output_type": "stream",
       "stream": "stdout",
       "text": [
        "\n",
        "Finished epoch 5 / 50: cost 1.617786, train: 0.447000, val 0.480000, lr 1.392806e-04"
       ]
      },
      {
       "output_type": "stream",
       "stream": "stdout",
       "text": [
        "\n",
        "Finished epoch 6 / 50: cost 1.526154, train: 0.476000, val 0.475000, lr 1.323165e-04"
       ]
      },
      {
       "output_type": "stream",
       "stream": "stdout",
       "text": [
        "\n",
        "Finished epoch 7 / 50: cost 1.640270, train: 0.492000, val 0.485000, lr 1.257007e-04"
       ]
      },
      {
       "output_type": "stream",
       "stream": "stdout",
       "text": [
        "\n",
        "Finished epoch 8 / 50: cost 1.540037, train: 0.488000, val 0.480000, lr 1.194157e-04"
       ]
      },
      {
       "output_type": "stream",
       "stream": "stdout",
       "text": [
        "\n",
        "Finished epoch 9 / 50: cost 1.551635, train: 0.499000, val 0.496000, lr 1.134449e-04"
       ]
      },
      {
       "output_type": "stream",
       "stream": "stdout",
       "text": [
        "\n",
        "Finished epoch 10 / 50: cost 1.431857, train: 0.515000, val 0.491000, lr 1.077726e-04"
       ]
      },
      {
       "output_type": "stream",
       "stream": "stdout",
       "text": [
        "\n",
        "Finished epoch 11 / 50: cost 1.494219, train: 0.538000, val 0.493000, lr 1.023840e-04"
       ]
      },
      {
       "output_type": "stream",
       "stream": "stdout",
       "text": [
        "\n",
        "Finished epoch 12 / 50: cost 1.439028, train: 0.520000, val 0.505000, lr 9.726482e-05"
       ]
      },
      {
       "output_type": "stream",
       "stream": "stdout",
       "text": [
        "\n",
        "Finished epoch 13 / 50: cost 1.487436, train: 0.577000, val 0.499000, lr 9.240157e-05"
       ]
      },
      {
       "output_type": "stream",
       "stream": "stdout",
       "text": [
        "\n",
        "Finished epoch 14 / 50: cost 1.378975, train: 0.559000, val 0.510000, lr 8.778150e-05"
       ]
      },
      {
       "output_type": "stream",
       "stream": "stdout",
       "text": [
        "\n",
        "Finished epoch 15 / 50: cost 1.430365, train: 0.549000, val 0.508000, lr 8.339242e-05"
       ]
      },
      {
       "output_type": "stream",
       "stream": "stdout",
       "text": [
        "\n",
        "Finished epoch 16 / 50: cost 1.469858, train: 0.561000, val 0.511000, lr 7.922280e-05"
       ]
      },
      {
       "output_type": "stream",
       "stream": "stdout",
       "text": [
        "\n",
        "Finished epoch 17 / 50: cost 1.491940, train: 0.571000, val 0.516000, lr 7.526166e-05"
       ]
      },
      {
       "output_type": "stream",
       "stream": "stdout",
       "text": [
        "\n",
        "Finished epoch 18 / 50: cost 1.461535, train: 0.544000, val 0.521000, lr 7.149858e-05"
       ]
      },
      {
       "output_type": "stream",
       "stream": "stdout",
       "text": [
        "\n",
        "Finished epoch 19 / 50: cost 1.454353, train: 0.561000, val 0.516000, lr 6.792365e-05"
       ]
      },
      {
       "output_type": "stream",
       "stream": "stdout",
       "text": [
        "\n",
        "Finished epoch 20 / 50: cost 1.426170, train: 0.589000, val 0.520000, lr 6.452747e-05"
       ]
      },
      {
       "output_type": "stream",
       "stream": "stdout",
       "text": [
        "\n",
        "Finished epoch 21 / 50: cost 1.373594, train: 0.558000, val 0.525000, lr 6.130109e-05"
       ]
      },
      {
       "output_type": "stream",
       "stream": "stdout",
       "text": [
        "\n",
        "Finished epoch 22 / 50: cost 1.368837, train: 0.579000, val 0.523000, lr 5.823604e-05"
       ]
      },
      {
       "output_type": "stream",
       "stream": "stdout",
       "text": [
        "\n",
        "Finished epoch 23 / 50: cost 1.410119, train: 0.562000, val 0.524000, lr 5.532424e-05"
       ]
      },
      {
       "output_type": "stream",
       "stream": "stdout",
       "text": [
        "\n",
        "Finished epoch 24 / 50: cost 1.461655, train: 0.604000, val 0.523000, lr 5.255802e-05"
       ]
      },
      {
       "output_type": "stream",
       "stream": "stdout",
       "text": [
        "\n",
        "Finished epoch 25 / 50: cost 1.378162, train: 0.564000, val 0.524000, lr 4.993012e-05"
       ]
      },
      {
       "output_type": "stream",
       "stream": "stdout",
       "text": [
        "\n",
        "Finished epoch 26 / 50: cost 1.371704, train: 0.589000, val 0.528000, lr 4.743362e-05"
       ]
      },
      {
       "output_type": "stream",
       "stream": "stdout",
       "text": [
        "\n",
        "Finished epoch 27 / 50: cost 1.321186, train: 0.572000, val 0.527000, lr 4.506194e-05"
       ]
      },
      {
       "output_type": "stream",
       "stream": "stdout",
       "text": [
        "\n",
        "Finished epoch 28 / 50: cost 1.424373, train: 0.577000, val 0.530000, lr 4.280884e-05"
       ]
      },
      {
       "output_type": "stream",
       "stream": "stdout",
       "text": [
        "\n",
        "Finished epoch 29 / 50: cost 1.396288, train: 0.601000, val 0.524000, lr 4.066840e-05"
       ]
      },
      {
       "output_type": "stream",
       "stream": "stdout",
       "text": [
        "\n",
        "Finished epoch 30 / 50: cost 1.428496, train: 0.598000, val 0.527000, lr 3.863498e-05"
       ]
      },
      {
       "output_type": "stream",
       "stream": "stdout",
       "text": [
        "\n",
        "Finished epoch 31 / 50: cost 1.427039, train: 0.584000, val 0.524000, lr 3.670323e-05"
       ]
      },
      {
       "output_type": "stream",
       "stream": "stdout",
       "text": [
        "\n",
        "Finished epoch 32 / 50: cost 1.431138, train: 0.587000, val 0.519000, lr 3.486807e-05"
       ]
      },
      {
       "output_type": "stream",
       "stream": "stdout",
       "text": [
        "\n",
        "Finished epoch 33 / 50: cost 1.353634, train: 0.575000, val 0.537000, lr 3.312466e-05"
       ]
      },
      {
       "output_type": "stream",
       "stream": "stdout",
       "text": [
        "\n",
        "Finished epoch 34 / 50: cost 1.382174, train: 0.563000, val 0.522000, lr 3.146843e-05"
       ]
      },
      {
       "output_type": "stream",
       "stream": "stdout",
       "text": [
        "\n",
        "Finished epoch 35 / 50: cost 1.421342, train: 0.538000, val 0.536000, lr 2.989501e-05"
       ]
      },
      {
       "output_type": "stream",
       "stream": "stdout",
       "text": [
        "\n",
        "Finished epoch 36 / 50: cost 1.428520, train: 0.574000, val 0.532000, lr 2.840026e-05"
       ]
      },
      {
       "output_type": "stream",
       "stream": "stdout",
       "text": [
        "\n",
        "Finished epoch 37 / 50: cost 1.383481, train: 0.557000, val 0.533000, lr 2.698025e-05"
       ]
      },
      {
       "output_type": "stream",
       "stream": "stdout",
       "text": [
        "\n",
        "Finished epoch 38 / 50: cost 1.341520, train: 0.574000, val 0.537000, lr 2.563123e-05"
       ]
      },
      {
       "output_type": "stream",
       "stream": "stdout",
       "text": [
        "\n",
        "Finished epoch 39 / 50: cost 1.413177, train: 0.596000, val 0.536000, lr 2.434967e-05"
       ]
      },
      {
       "output_type": "stream",
       "stream": "stdout",
       "text": [
        "\n",
        "Finished epoch 40 / 50: cost 1.426175, train: 0.600000, val 0.533000, lr 2.313219e-05"
       ]
      },
      {
       "output_type": "stream",
       "stream": "stdout",
       "text": [
        "\n",
        "Finished epoch 41 / 50: cost 1.350959, train: 0.619000, val 0.532000, lr 2.197558e-05"
       ]
      },
      {
       "output_type": "stream",
       "stream": "stdout",
       "text": [
        "\n",
        "Finished epoch 42 / 50: cost 1.336374, train: 0.590000, val 0.533000, lr 2.087680e-05"
       ]
      },
      {
       "output_type": "stream",
       "stream": "stdout",
       "text": [
        "\n",
        "Finished epoch 43 / 50: cost 1.376016, train: 0.630000, val 0.537000, lr 1.983296e-05"
       ]
      },
      {
       "output_type": "stream",
       "stream": "stdout",
       "text": [
        "\n",
        "Finished epoch 44 / 50: cost 1.387649, train: 0.619000, val 0.540000, lr 1.884131e-05"
       ]
      },
      {
       "output_type": "stream",
       "stream": "stdout",
       "text": [
        "\n",
        "Finished epoch 45 / 50: cost 1.345202, train: 0.623000, val 0.536000, lr 1.789925e-05"
       ]
      },
      {
       "output_type": "stream",
       "stream": "stdout",
       "text": [
        "\n",
        "Finished epoch 46 / 50: cost 1.367615, train: 0.612000, val 0.542000, lr 1.700428e-05"
       ]
      },
      {
       "output_type": "stream",
       "stream": "stdout",
       "text": [
        "\n",
        "Finished epoch 47 / 50: cost 1.396677, train: 0.599000, val 0.535000, lr 1.615407e-05"
       ]
      },
      {
       "output_type": "stream",
       "stream": "stdout",
       "text": [
        "\n",
        "Finished epoch 48 / 50: cost 1.362350, train: 0.599000, val 0.530000, lr 1.534637e-05"
       ]
      },
      {
       "output_type": "stream",
       "stream": "stdout",
       "text": [
        "\n",
        "Finished epoch 49 / 50: cost 1.445878, train: 0.634000, val 0.539000, lr 1.457905e-05"
       ]
      },
      {
       "output_type": "stream",
       "stream": "stdout",
       "text": [
        "\n",
        "Finished epoch 50 / 50: cost 1.427051, train: 0.573000, val 0.530000, lr 1.385010e-05"
       ]
      },
      {
       "output_type": "stream",
       "stream": "stdout",
       "text": [
        "\n",
        "finished optimization. best validation accuracy: 0.542000\n",
        "Finished epoch 0 / 50: cost 2.302587, train: 0.117000, val 0.103000, lr 1.800000e-04"
       ]
      },
      {
       "output_type": "stream",
       "stream": "stdout",
       "text": [
        "\n",
        "Finished epoch 1 / 50: cost 2.035032, train: 0.250000, val 0.234000, lr 1.710000e-04"
       ]
      },
      {
       "output_type": "stream",
       "stream": "stdout",
       "text": [
        "\n",
        "Finished epoch 2 / 50: cost 1.773323, train: 0.380000, val 0.362000, lr 1.624500e-04"
       ]
      },
      {
       "output_type": "stream",
       "stream": "stdout",
       "text": [
        "\n",
        "Finished epoch 3 / 50: cost 1.682869, train: 0.416000, val 0.423000, lr 1.543275e-04"
       ]
      },
      {
       "output_type": "stream",
       "stream": "stdout",
       "text": [
        "\n",
        "Finished epoch 4 / 50: cost 1.660197, train: 0.445000, val 0.461000, lr 1.466111e-04"
       ]
      },
      {
       "output_type": "stream",
       "stream": "stdout",
       "text": [
        "\n",
        "Finished epoch 5 / 50: cost 1.466650, train: 0.471000, val 0.459000, lr 1.392806e-04"
       ]
      },
      {
       "output_type": "stream",
       "stream": "stdout",
       "text": [
        "\n",
        "Finished epoch 6 / 50: cost 1.454980, train: 0.481000, val 0.477000, lr 1.323165e-04"
       ]
      },
      {
       "output_type": "stream",
       "stream": "stdout",
       "text": [
        "\n",
        "Finished epoch 7 / 50: cost 1.397291, train: 0.515000, val 0.487000, lr 1.257007e-04"
       ]
      },
      {
       "output_type": "stream",
       "stream": "stdout",
       "text": [
        "\n",
        "Finished epoch 8 / 50: cost 1.337334, train: 0.508000, val 0.479000, lr 1.194157e-04"
       ]
      },
      {
       "output_type": "stream",
       "stream": "stdout",
       "text": [
        "\n",
        "Finished epoch 9 / 50: cost 1.447453, train: 0.558000, val 0.509000, lr 1.134449e-04"
       ]
      },
      {
       "output_type": "stream",
       "stream": "stdout",
       "text": [
        "\n",
        "Finished epoch 10 / 50: cost 1.297692, train: 0.548000, val 0.487000, lr 1.077726e-04"
       ]
      },
      {
       "output_type": "stream",
       "stream": "stdout",
       "text": [
        "\n",
        "Finished epoch 11 / 50: cost 1.291949, train: 0.547000, val 0.501000, lr 1.023840e-04"
       ]
      },
      {
       "output_type": "stream",
       "stream": "stdout",
       "text": [
        "\n",
        "Finished epoch 12 / 50: cost 1.335468, train: 0.552000, val 0.512000, lr 9.726482e-05"
       ]
      },
      {
       "output_type": "stream",
       "stream": "stdout",
       "text": [
        "\n",
        "Finished epoch 13 / 50: cost 1.265021, train: 0.557000, val 0.506000, lr 9.240157e-05"
       ]
      },
      {
       "output_type": "stream",
       "stream": "stdout",
       "text": [
        "\n",
        "Finished epoch 14 / 50: cost 1.313080, train: 0.568000, val 0.522000, lr 8.778150e-05"
       ]
      },
      {
       "output_type": "stream",
       "stream": "stdout",
       "text": [
        "\n",
        "Finished epoch 15 / 50: cost 1.236361, train: 0.593000, val 0.530000, lr 8.339242e-05"
       ]
      },
      {
       "output_type": "stream",
       "stream": "stdout",
       "text": [
        "\n",
        "Finished epoch 16 / 50: cost 1.222229, train: 0.600000, val 0.534000, lr 7.922280e-05"
       ]
      },
      {
       "output_type": "stream",
       "stream": "stdout",
       "text": [
        "\n",
        "Finished epoch 17 / 50: cost 1.200661, train: 0.594000, val 0.529000, lr 7.526166e-05"
       ]
      },
      {
       "output_type": "stream",
       "stream": "stdout",
       "text": [
        "\n",
        "Finished epoch 18 / 50: cost 1.205470, train: 0.596000, val 0.530000, lr 7.149858e-05"
       ]
      },
      {
       "output_type": "stream",
       "stream": "stdout",
       "text": [
        "\n",
        "Finished epoch 19 / 50: cost 1.196128, train: 0.585000, val 0.537000, lr 6.792365e-05"
       ]
      },
      {
       "output_type": "stream",
       "stream": "stdout",
       "text": [
        "\n",
        "Finished epoch 20 / 50: cost 1.197921, train: 0.589000, val 0.537000, lr 6.452747e-05"
       ]
      },
      {
       "output_type": "stream",
       "stream": "stdout",
       "text": [
        "\n",
        "Finished epoch 21 / 50: cost 1.095519, train: 0.617000, val 0.530000, lr 6.130109e-05"
       ]
      },
      {
       "output_type": "stream",
       "stream": "stdout",
       "text": [
        "\n",
        "Finished epoch 22 / 50: cost 1.157255, train: 0.623000, val 0.540000, lr 5.823604e-05"
       ]
      },
      {
       "output_type": "stream",
       "stream": "stdout",
       "text": [
        "\n",
        "Finished epoch 23 / 50: cost 1.103545, train: 0.620000, val 0.536000, lr 5.532424e-05"
       ]
      },
      {
       "output_type": "stream",
       "stream": "stdout",
       "text": [
        "\n",
        "Finished epoch 24 / 50: cost 1.138148, train: 0.616000, val 0.533000, lr 5.255802e-05"
       ]
      },
      {
       "output_type": "stream",
       "stream": "stdout",
       "text": [
        "\n",
        "Finished epoch 25 / 50: cost 1.083642, train: 0.632000, val 0.527000, lr 4.993012e-05"
       ]
      },
      {
       "output_type": "stream",
       "stream": "stdout",
       "text": [
        "\n",
        "Finished epoch 26 / 50: cost 1.102286, train: 0.636000, val 0.537000, lr 4.743362e-05"
       ]
      },
      {
       "output_type": "stream",
       "stream": "stdout",
       "text": [
        "\n",
        "Finished epoch 27 / 50: cost 1.189716, train: 0.613000, val 0.535000, lr 4.506194e-05"
       ]
      },
      {
       "output_type": "stream",
       "stream": "stdout",
       "text": [
        "\n",
        "Finished epoch 28 / 50: cost 1.105534, train: 0.629000, val 0.542000, lr 4.280884e-05"
       ]
      },
      {
       "output_type": "stream",
       "stream": "stdout",
       "text": [
        "\n",
        "Finished epoch 29 / 50: cost 1.062729, train: 0.658000, val 0.525000, lr 4.066840e-05"
       ]
      },
      {
       "output_type": "stream",
       "stream": "stdout",
       "text": [
        "\n",
        "Finished epoch 30 / 50: cost 1.070745, train: 0.643000, val 0.541000, lr 3.863498e-05"
       ]
      },
      {
       "output_type": "stream",
       "stream": "stdout",
       "text": [
        "\n",
        "Finished epoch 31 / 50: cost 1.109025, train: 0.640000, val 0.549000, lr 3.670323e-05"
       ]
      },
      {
       "output_type": "stream",
       "stream": "stdout",
       "text": [
        "\n",
        "Finished epoch 32 / 50: cost 1.118589, train: 0.651000, val 0.545000, lr 3.486807e-05"
       ]
      },
      {
       "output_type": "stream",
       "stream": "stdout",
       "text": [
        "\n",
        "Finished epoch 33 / 50: cost 1.143389, train: 0.677000, val 0.534000, lr 3.312466e-05"
       ]
      },
      {
       "output_type": "stream",
       "stream": "stdout",
       "text": [
        "\n",
        "Finished epoch 34 / 50: cost 1.105825, train: 0.663000, val 0.543000, lr 3.146843e-05"
       ]
      },
      {
       "output_type": "stream",
       "stream": "stdout",
       "text": [
        "\n",
        "Finished epoch 35 / 50: cost 1.036066, train: 0.641000, val 0.541000, lr 2.989501e-05"
       ]
      },
      {
       "output_type": "stream",
       "stream": "stdout",
       "text": [
        "\n",
        "Finished epoch 36 / 50: cost 1.120242, train: 0.659000, val 0.525000, lr 2.840026e-05"
       ]
      },
      {
       "output_type": "stream",
       "stream": "stdout",
       "text": [
        "\n",
        "Finished epoch 37 / 50: cost 1.070857, train: 0.645000, val 0.537000, lr 2.698025e-05"
       ]
      },
      {
       "output_type": "stream",
       "stream": "stdout",
       "text": [
        "\n",
        "Finished epoch 38 / 50: cost 1.056989, train: 0.662000, val 0.543000, lr 2.563123e-05"
       ]
      },
      {
       "output_type": "stream",
       "stream": "stdout",
       "text": [
        "\n",
        "Finished epoch 39 / 50: cost 1.086710, train: 0.661000, val 0.536000, lr 2.434967e-05"
       ]
      },
      {
       "output_type": "stream",
       "stream": "stdout",
       "text": [
        "\n",
        "Finished epoch 40 / 50: cost 1.032295, train: 0.646000, val 0.537000, lr 2.313219e-05"
       ]
      },
      {
       "output_type": "stream",
       "stream": "stdout",
       "text": [
        "\n",
        "Finished epoch 41 / 50: cost 1.051028, train: 0.652000, val 0.539000, lr 2.197558e-05"
       ]
      },
      {
       "output_type": "stream",
       "stream": "stdout",
       "text": [
        "\n",
        "Finished epoch 42 / 50: cost 1.039609, train: 0.675000, val 0.534000, lr 2.087680e-05"
       ]
      },
      {
       "output_type": "stream",
       "stream": "stdout",
       "text": [
        "\n",
        "Finished epoch 43 / 50: cost 1.091850, train: 0.669000, val 0.546000, lr 1.983296e-05"
       ]
      },
      {
       "output_type": "stream",
       "stream": "stdout",
       "text": [
        "\n",
        "Finished epoch 44 / 50: cost 0.947171, train: 0.678000, val 0.546000, lr 1.884131e-05"
       ]
      },
      {
       "output_type": "stream",
       "stream": "stdout",
       "text": [
        "\n",
        "Finished epoch 45 / 50: cost 0.990404, train: 0.667000, val 0.545000, lr 1.789925e-05"
       ]
      },
      {
       "output_type": "stream",
       "stream": "stdout",
       "text": [
        "\n",
        "Finished epoch 46 / 50: cost 0.976998, train: 0.668000, val 0.538000, lr 1.700428e-05"
       ]
      },
      {
       "output_type": "stream",
       "stream": "stdout",
       "text": [
        "\n",
        "Finished epoch 47 / 50: cost 0.973632, train: 0.687000, val 0.545000, lr 1.615407e-05"
       ]
      },
      {
       "output_type": "stream",
       "stream": "stdout",
       "text": [
        "\n",
        "Finished epoch 48 / 50: cost 1.026068, train: 0.688000, val 0.547000, lr 1.534637e-05"
       ]
      },
      {
       "output_type": "stream",
       "stream": "stdout",
       "text": [
        "\n",
        "Finished epoch 49 / 50: cost 1.035214, train: 0.698000, val 0.539000, lr 1.457905e-05"
       ]
      },
      {
       "output_type": "stream",
       "stream": "stdout",
       "text": [
        "\n",
        "Finished epoch 50 / 50: cost 1.016496, train: 0.663000, val 0.552000, lr 1.385010e-05"
       ]
      },
      {
       "output_type": "stream",
       "stream": "stdout",
       "text": [
        "\n",
        "finished optimization. best validation accuracy: 0.552000\n",
        "Finished epoch 0 / 50: cost 2.302588, train: 0.117000, val 0.117000, lr 1.800000e-04"
       ]
      },
      {
       "output_type": "stream",
       "stream": "stdout",
       "text": [
        "\n",
        "Finished epoch 1 / 50: cost 2.024731, train: 0.219000, val 0.232000, lr 1.710000e-04"
       ]
      },
      {
       "output_type": "stream",
       "stream": "stdout",
       "text": [
        "\n",
        "Finished epoch 2 / 50: cost 1.780629, train: 0.336000, val 0.358000, lr 1.624500e-04"
       ]
      },
      {
       "output_type": "stream",
       "stream": "stdout",
       "text": [
        "\n",
        "Finished epoch 3 / 50: cost 1.646075, train: 0.415000, val 0.418000, lr 1.543275e-04"
       ]
      },
      {
       "output_type": "stream",
       "stream": "stdout",
       "text": [
        "\n",
        "Finished epoch 4 / 50: cost 1.519082, train: 0.453000, val 0.443000, lr 1.466111e-04"
       ]
      },
      {
       "output_type": "stream",
       "stream": "stdout",
       "text": [
        "\n",
        "Finished epoch 5 / 50: cost 1.518640, train: 0.482000, val 0.470000, lr 1.392806e-04"
       ]
      },
      {
       "output_type": "stream",
       "stream": "stdout",
       "text": [
        "\n",
        "Finished epoch 6 / 50: cost 1.496919, train: 0.472000, val 0.473000, lr 1.323165e-04"
       ]
      },
      {
       "output_type": "stream",
       "stream": "stdout",
       "text": [
        "\n",
        "Finished epoch 7 / 50: cost 1.446395, train: 0.514000, val 0.487000, lr 1.257007e-04"
       ]
      },
      {
       "output_type": "stream",
       "stream": "stdout",
       "text": [
        "\n",
        "Finished epoch 8 / 50: cost 1.325257, train: 0.513000, val 0.490000, lr 1.194157e-04"
       ]
      },
      {
       "output_type": "stream",
       "stream": "stdout",
       "text": [
        "\n",
        "Finished epoch 9 / 50: cost 1.399983, train: 0.536000, val 0.501000, lr 1.134449e-04"
       ]
      },
      {
       "output_type": "stream",
       "stream": "stdout",
       "text": [
        "\n",
        "Finished epoch 10 / 50: cost 1.363850, train: 0.533000, val 0.490000, lr 1.077726e-04"
       ]
      },
      {
       "output_type": "stream",
       "stream": "stdout",
       "text": [
        "\n",
        "Finished epoch 11 / 50: cost 1.329676, train: 0.538000, val 0.523000, lr 1.023840e-04"
       ]
      },
      {
       "output_type": "stream",
       "stream": "stdout",
       "text": [
        "\n",
        "Finished epoch 12 / 50: cost 1.290465, train: 0.554000, val 0.515000, lr 9.726482e-05"
       ]
      },
      {
       "output_type": "stream",
       "stream": "stdout",
       "text": [
        "\n",
        "Finished epoch 13 / 50: cost 1.233328, train: 0.572000, val 0.511000, lr 9.240157e-05"
       ]
      },
      {
       "output_type": "stream",
       "stream": "stdout",
       "text": [
        "\n",
        "Finished epoch 14 / 50: cost 1.222810, train: 0.574000, val 0.516000, lr 8.778150e-05"
       ]
      },
      {
       "output_type": "stream",
       "stream": "stdout",
       "text": [
        "\n",
        "Finished epoch 15 / 50: cost 1.285127, train: 0.568000, val 0.523000, lr 8.339242e-05"
       ]
      },
      {
       "output_type": "stream",
       "stream": "stdout",
       "text": [
        "\n",
        "Finished epoch 16 / 50: cost 1.308619, train: 0.609000, val 0.528000, lr 7.922280e-05"
       ]
      },
      {
       "output_type": "stream",
       "stream": "stdout",
       "text": [
        "\n",
        "Finished epoch 17 / 50: cost 1.227863, train: 0.622000, val 0.527000, lr 7.526166e-05"
       ]
      },
      {
       "output_type": "stream",
       "stream": "stdout",
       "text": [
        "\n",
        "Finished epoch 18 / 50: cost 1.215366, train: 0.593000, val 0.508000, lr 7.149858e-05"
       ]
      },
      {
       "output_type": "stream",
       "stream": "stdout",
       "text": [
        "\n",
        "Finished epoch 19 / 50: cost 1.177258, train: 0.592000, val 0.523000, lr 6.792365e-05"
       ]
      },
      {
       "output_type": "stream",
       "stream": "stdout",
       "text": [
        "\n",
        "Finished epoch 20 / 50: cost 1.148582, train: 0.581000, val 0.527000, lr 6.452747e-05"
       ]
      },
      {
       "output_type": "stream",
       "stream": "stdout",
       "text": [
        "\n",
        "Finished epoch 21 / 50: cost 1.105457, train: 0.622000, val 0.527000, lr 6.130109e-05"
       ]
      },
      {
       "output_type": "stream",
       "stream": "stdout",
       "text": [
        "\n",
        "Finished epoch 22 / 50: cost 1.059849, train: 0.607000, val 0.533000, lr 5.823604e-05"
       ]
      },
      {
       "output_type": "stream",
       "stream": "stdout",
       "text": [
        "\n",
        "Finished epoch 23 / 50: cost 1.159849, train: 0.612000, val 0.524000, lr 5.532424e-05"
       ]
      },
      {
       "output_type": "stream",
       "stream": "stdout",
       "text": [
        "\n",
        "Finished epoch 24 / 50: cost 1.148752, train: 0.609000, val 0.550000, lr 5.255802e-05"
       ]
      },
      {
       "output_type": "stream",
       "stream": "stdout",
       "text": [
        "\n",
        "Finished epoch 25 / 50: cost 1.131686, train: 0.625000, val 0.537000, lr 4.993012e-05"
       ]
      },
      {
       "output_type": "stream",
       "stream": "stdout",
       "text": [
        "\n",
        "Finished epoch 26 / 50: cost 1.017632, train: 0.635000, val 0.537000, lr 4.743362e-05"
       ]
      },
      {
       "output_type": "stream",
       "stream": "stdout",
       "text": [
        "\n",
        "Finished epoch 27 / 50: cost 1.132951, train: 0.642000, val 0.545000, lr 4.506194e-05"
       ]
      },
      {
       "output_type": "stream",
       "stream": "stdout",
       "text": [
        "\n",
        "Finished epoch 28 / 50: cost 1.187762, train: 0.581000, val 0.543000, lr 4.280884e-05"
       ]
      },
      {
       "output_type": "stream",
       "stream": "stdout",
       "text": [
        "\n",
        "Finished epoch 29 / 50: cost 1.177955, train: 0.673000, val 0.537000, lr 4.066840e-05"
       ]
      },
      {
       "output_type": "stream",
       "stream": "stdout",
       "text": [
        "\n",
        "Finished epoch 30 / 50: cost 1.055802, train: 0.652000, val 0.535000, lr 3.863498e-05"
       ]
      },
      {
       "output_type": "stream",
       "stream": "stdout",
       "text": [
        "\n",
        "Finished epoch 31 / 50: cost 1.036706, train: 0.670000, val 0.540000, lr 3.670323e-05"
       ]
      },
      {
       "output_type": "stream",
       "stream": "stdout",
       "text": [
        "\n",
        "Finished epoch 32 / 50: cost 1.094348, train: 0.639000, val 0.548000, lr 3.486807e-05"
       ]
      },
      {
       "output_type": "stream",
       "stream": "stdout",
       "text": [
        "\n",
        "Finished epoch 33 / 50: cost 1.136634, train: 0.663000, val 0.542000, lr 3.312466e-05"
       ]
      },
      {
       "output_type": "stream",
       "stream": "stdout",
       "text": [
        "\n",
        "Finished epoch 34 / 50: cost 1.112454, train: 0.645000, val 0.547000, lr 3.146843e-05"
       ]
      },
      {
       "output_type": "stream",
       "stream": "stdout",
       "text": [
        "\n",
        "Finished epoch 35 / 50: cost 1.016759, train: 0.642000, val 0.539000, lr 2.989501e-05"
       ]
      },
      {
       "output_type": "stream",
       "stream": "stdout",
       "text": [
        "\n",
        "Finished epoch 36 / 50: cost 1.062564, train: 0.670000, val 0.543000, lr 2.840026e-05"
       ]
      },
      {
       "output_type": "stream",
       "stream": "stdout",
       "text": [
        "\n",
        "Finished epoch 37 / 50: cost 1.000673, train: 0.670000, val 0.534000, lr 2.698025e-05"
       ]
      },
      {
       "output_type": "stream",
       "stream": "stdout",
       "text": [
        "\n",
        "Finished epoch 38 / 50: cost 1.055908, train: 0.635000, val 0.552000, lr 2.563123e-05"
       ]
      },
      {
       "output_type": "stream",
       "stream": "stdout",
       "text": [
        "\n",
        "Finished epoch 39 / 50: cost 1.033131, train: 0.684000, val 0.551000, lr 2.434967e-05"
       ]
      },
      {
       "output_type": "stream",
       "stream": "stdout",
       "text": [
        "\n",
        "Finished epoch 40 / 50: cost 1.031007, train: 0.680000, val 0.551000, lr 2.313219e-05"
       ]
      },
      {
       "output_type": "stream",
       "stream": "stdout",
       "text": [
        "\n",
        "Finished epoch 41 / 50: cost 1.078321, train: 0.651000, val 0.541000, lr 2.197558e-05"
       ]
      },
      {
       "output_type": "stream",
       "stream": "stdout",
       "text": [
        "\n",
        "Finished epoch 42 / 50: cost 1.056681, train: 0.637000, val 0.562000, lr 2.087680e-05"
       ]
      },
      {
       "output_type": "stream",
       "stream": "stdout",
       "text": [
        "\n",
        "Finished epoch 43 / 50: cost 1.055133, train: 0.666000, val 0.551000, lr 1.983296e-05"
       ]
      },
      {
       "output_type": "stream",
       "stream": "stdout",
       "text": [
        "\n",
        "Finished epoch 44 / 50: cost 1.019410, train: 0.685000, val 0.550000, lr 1.884131e-05"
       ]
      },
      {
       "output_type": "stream",
       "stream": "stdout",
       "text": [
        "\n",
        "Finished epoch 45 / 50: cost 0.998502, train: 0.704000, val 0.549000, lr 1.789925e-05"
       ]
      },
      {
       "output_type": "stream",
       "stream": "stdout",
       "text": [
        "\n",
        "Finished epoch 46 / 50: cost 1.020022, train: 0.670000, val 0.556000, lr 1.700428e-05"
       ]
      },
      {
       "output_type": "stream",
       "stream": "stdout",
       "text": [
        "\n",
        "Finished epoch 47 / 50: cost 1.059466, train: 0.688000, val 0.539000, lr 1.615407e-05"
       ]
      },
      {
       "output_type": "stream",
       "stream": "stdout",
       "text": [
        "\n",
        "Finished epoch 48 / 50: cost 1.060204, train: 0.673000, val 0.555000, lr 1.534637e-05"
       ]
      },
      {
       "output_type": "stream",
       "stream": "stdout",
       "text": [
        "\n",
        "Finished epoch 49 / 50: cost 1.039087, train: 0.687000, val 0.544000, lr 1.457905e-05"
       ]
      },
      {
       "output_type": "stream",
       "stream": "stdout",
       "text": [
        "\n",
        "Finished epoch 50 / 50: cost 1.068779, train: 0.681000, val 0.553000, lr 1.385010e-05"
       ]
      },
      {
       "output_type": "stream",
       "stream": "stdout",
       "text": [
        "\n",
        "finished optimization. best validation accuracy: 0.562000\n",
        "Finished epoch 0 / 50: cost 2.302588, train: 0.086000, val 0.079000, lr 1.800000e-04"
       ]
      },
      {
       "output_type": "stream",
       "stream": "stdout",
       "text": [
        "\n",
        "Finished epoch 1 / 50: cost 2.052873, train: 0.231000, val 0.244000, lr 1.710000e-04"
       ]
      },
      {
       "output_type": "stream",
       "stream": "stdout",
       "text": [
        "\n",
        "Finished epoch 2 / 50: cost 1.861896, train: 0.366000, val 0.358000, lr 1.624500e-04"
       ]
      },
      {
       "output_type": "stream",
       "stream": "stdout",
       "text": [
        "\n",
        "Finished epoch 3 / 50: cost 1.681890, train: 0.406000, val 0.401000, lr 1.543275e-04"
       ]
      },
      {
       "output_type": "stream",
       "stream": "stdout",
       "text": [
        "\n",
        "Finished epoch 4 / 50: cost 1.549215, train: 0.460000, val 0.452000, lr 1.466111e-04"
       ]
      },
      {
       "output_type": "stream",
       "stream": "stdout",
       "text": [
        "\n",
        "Finished epoch 5 / 50: cost 1.536500, train: 0.453000, val 0.462000, lr 1.392806e-04"
       ]
      },
      {
       "output_type": "stream",
       "stream": "stdout",
       "text": [
        "\n",
        "Finished epoch 6 / 50: cost 1.548751, train: 0.472000, val 0.463000, lr 1.323165e-04"
       ]
      },
      {
       "output_type": "stream",
       "stream": "stdout",
       "text": [
        "\n",
        "Finished epoch 7 / 50: cost 1.461418, train: 0.492000, val 0.487000, lr 1.257007e-04"
       ]
      },
      {
       "output_type": "stream",
       "stream": "stdout",
       "text": [
        "\n",
        "Finished epoch 8 / 50: cost 1.365908, train: 0.521000, val 0.493000, lr 1.194157e-04"
       ]
      },
      {
       "output_type": "stream",
       "stream": "stdout",
       "text": [
        "\n",
        "Finished epoch 9 / 50: cost 1.318955, train: 0.512000, val 0.493000, lr 1.134449e-04"
       ]
      },
      {
       "output_type": "stream",
       "stream": "stdout",
       "text": [
        "\n",
        "Finished epoch 10 / 50: cost 1.379153, train: 0.567000, val 0.499000, lr 1.077726e-04"
       ]
      },
      {
       "output_type": "stream",
       "stream": "stdout",
       "text": [
        "\n",
        "Finished epoch 11 / 50: cost 1.342080, train: 0.550000, val 0.503000, lr 1.023840e-04"
       ]
      },
      {
       "output_type": "stream",
       "stream": "stdout",
       "text": [
        "\n",
        "Finished epoch 12 / 50: cost 1.310017, train: 0.573000, val 0.514000, lr 9.726482e-05"
       ]
      },
      {
       "output_type": "stream",
       "stream": "stdout",
       "text": [
        "\n",
        "Finished epoch 13 / 50: cost 1.217157, train: 0.577000, val 0.513000, lr 9.240157e-05"
       ]
      },
      {
       "output_type": "stream",
       "stream": "stdout",
       "text": [
        "\n",
        "Finished epoch 14 / 50: cost 1.226439, train: 0.532000, val 0.519000, lr 8.778150e-05"
       ]
      },
      {
       "output_type": "stream",
       "stream": "stdout",
       "text": [
        "\n",
        "Finished epoch 15 / 50: cost 1.246244, train: 0.593000, val 0.523000, lr 8.339242e-05"
       ]
      },
      {
       "output_type": "stream",
       "stream": "stdout",
       "text": [
        "\n",
        "Finished epoch 16 / 50: cost 1.237814, train: 0.604000, val 0.532000, lr 7.922280e-05"
       ]
      },
      {
       "output_type": "stream",
       "stream": "stdout",
       "text": [
        "\n",
        "Finished epoch 17 / 50: cost 1.296999, train: 0.584000, val 0.540000, lr 7.526166e-05"
       ]
      },
      {
       "output_type": "stream",
       "stream": "stdout",
       "text": [
        "\n",
        "Finished epoch 18 / 50: cost 1.244074, train: 0.572000, val 0.539000, lr 7.149858e-05"
       ]
      },
      {
       "output_type": "stream",
       "stream": "stdout",
       "text": [
        "\n",
        "Finished epoch 19 / 50: cost 1.228985, train: 0.603000, val 0.525000, lr 6.792365e-05"
       ]
      },
      {
       "output_type": "stream",
       "stream": "stdout",
       "text": [
        "\n",
        "Finished epoch 20 / 50: cost 1.181168, train: 0.604000, val 0.534000, lr 6.452747e-05"
       ]
      },
      {
       "output_type": "stream",
       "stream": "stdout",
       "text": [
        "\n",
        "Finished epoch 21 / 50: cost 1.241045, train: 0.592000, val 0.532000, lr 6.130109e-05"
       ]
      },
      {
       "output_type": "stream",
       "stream": "stdout",
       "text": [
        "\n",
        "Finished epoch 22 / 50: cost 1.220252, train: 0.623000, val 0.534000, lr 5.823604e-05"
       ]
      },
      {
       "output_type": "stream",
       "stream": "stdout",
       "text": [
        "\n",
        "Finished epoch 23 / 50: cost 1.223478, train: 0.612000, val 0.537000, lr 5.532424e-05"
       ]
      },
      {
       "output_type": "stream",
       "stream": "stdout",
       "text": [
        "\n",
        "Finished epoch 24 / 50: cost 1.196296, train: 0.618000, val 0.540000, lr 5.255802e-05"
       ]
      },
      {
       "output_type": "stream",
       "stream": "stdout",
       "text": [
        "\n",
        "Finished epoch 25 / 50: cost 1.144945, train: 0.639000, val 0.532000, lr 4.993012e-05"
       ]
      },
      {
       "output_type": "stream",
       "stream": "stdout",
       "text": [
        "\n",
        "Finished epoch 26 / 50: cost 1.098834, train: 0.632000, val 0.543000, lr 4.743362e-05"
       ]
      },
      {
       "output_type": "stream",
       "stream": "stdout",
       "text": [
        "\n",
        "Finished epoch 27 / 50: cost 1.101942, train: 0.611000, val 0.518000, lr 4.506194e-05"
       ]
      },
      {
       "output_type": "stream",
       "stream": "stdout",
       "text": [
        "\n",
        "Finished epoch 28 / 50: cost 1.188900, train: 0.626000, val 0.539000, lr 4.280884e-05"
       ]
      },
      {
       "output_type": "stream",
       "stream": "stdout",
       "text": [
        "\n",
        "Finished epoch 29 / 50: cost 1.107439, train: 0.632000, val 0.525000, lr 4.066840e-05"
       ]
      },
      {
       "output_type": "stream",
       "stream": "stdout",
       "text": [
        "\n",
        "Finished epoch 30 / 50: cost 1.042872, train: 0.640000, val 0.534000, lr 3.863498e-05"
       ]
      },
      {
       "output_type": "stream",
       "stream": "stdout",
       "text": [
        "\n",
        "Finished epoch 31 / 50: cost 1.135649, train: 0.673000, val 0.542000, lr 3.670323e-05"
       ]
      },
      {
       "output_type": "stream",
       "stream": "stdout",
       "text": [
        "\n",
        "Finished epoch 32 / 50: cost 1.101346, train: 0.660000, val 0.533000, lr 3.486807e-05"
       ]
      },
      {
       "output_type": "stream",
       "stream": "stdout",
       "text": [
        "\n",
        "Finished epoch 33 / 50: cost 1.092088, train: 0.642000, val 0.544000, lr 3.312466e-05"
       ]
      },
      {
       "output_type": "stream",
       "stream": "stdout",
       "text": [
        "\n",
        "Finished epoch 34 / 50: cost 1.032364, train: 0.632000, val 0.547000, lr 3.146843e-05"
       ]
      },
      {
       "output_type": "stream",
       "stream": "stdout",
       "text": [
        "\n",
        "Finished epoch 35 / 50: cost 1.090746, train: 0.626000, val 0.541000, lr 2.989501e-05"
       ]
      },
      {
       "output_type": "stream",
       "stream": "stdout",
       "text": [
        "\n",
        "Finished epoch 36 / 50: cost 1.058301, train: 0.658000, val 0.534000, lr 2.840026e-05"
       ]
      },
      {
       "output_type": "stream",
       "stream": "stdout",
       "text": [
        "\n",
        "Finished epoch 37 / 50: cost 1.060202, train: 0.658000, val 0.537000, lr 2.698025e-05"
       ]
      },
      {
       "output_type": "stream",
       "stream": "stdout",
       "text": [
        "\n",
        "Finished epoch 38 / 50: cost 1.080931, train: 0.650000, val 0.546000, lr 2.563123e-05"
       ]
      },
      {
       "output_type": "stream",
       "stream": "stdout",
       "text": [
        "\n",
        "Finished epoch 39 / 50: cost 1.035996, train: 0.684000, val 0.549000, lr 2.434967e-05"
       ]
      },
      {
       "output_type": "stream",
       "stream": "stdout",
       "text": [
        "\n",
        "Finished epoch 40 / 50: cost 1.090671, train: 0.658000, val 0.543000, lr 2.313219e-05"
       ]
      },
      {
       "output_type": "stream",
       "stream": "stdout",
       "text": [
        "\n",
        "Finished epoch 41 / 50: cost 1.096698, train: 0.676000, val 0.547000, lr 2.197558e-05"
       ]
      },
      {
       "output_type": "stream",
       "stream": "stdout",
       "text": [
        "\n",
        "Finished epoch 42 / 50: cost 1.006544, train: 0.649000, val 0.542000, lr 2.087680e-05"
       ]
      },
      {
       "output_type": "stream",
       "stream": "stdout",
       "text": [
        "\n",
        "Finished epoch 43 / 50: cost 1.108450, train: 0.673000, val 0.548000, lr 1.983296e-05"
       ]
      },
      {
       "output_type": "stream",
       "stream": "stdout",
       "text": [
        "\n",
        "Finished epoch 44 / 50: cost 0.992997, train: 0.684000, val 0.541000, lr 1.884131e-05"
       ]
      },
      {
       "output_type": "stream",
       "stream": "stdout",
       "text": [
        "\n",
        "Finished epoch 45 / 50: cost 1.003546, train: 0.678000, val 0.539000, lr 1.789925e-05"
       ]
      },
      {
       "output_type": "stream",
       "stream": "stdout",
       "text": [
        "\n",
        "Finished epoch 46 / 50: cost 1.074434, train: 0.650000, val 0.536000, lr 1.700428e-05"
       ]
      },
      {
       "output_type": "stream",
       "stream": "stdout",
       "text": [
        "\n",
        "Finished epoch 47 / 50: cost 1.057320, train: 0.672000, val 0.540000, lr 1.615407e-05"
       ]
      },
      {
       "output_type": "stream",
       "stream": "stdout",
       "text": [
        "\n",
        "Finished epoch 48 / 50: cost 1.018876, train: 0.673000, val 0.543000, lr 1.534637e-05"
       ]
      },
      {
       "output_type": "stream",
       "stream": "stdout",
       "text": [
        "\n",
        "Finished epoch 49 / 50: cost 1.028930, train: 0.695000, val 0.544000, lr 1.457905e-05"
       ]
      },
      {
       "output_type": "stream",
       "stream": "stdout",
       "text": [
        "\n",
        "Finished epoch 50 / 50: cost 1.078921, train: 0.680000, val 0.535000, lr 1.385010e-05"
       ]
      },
      {
       "output_type": "stream",
       "stream": "stdout",
       "text": [
        "\n",
        "finished optimization. best validation accuracy: 0.549000\n"
       ]
      },
      {
       "metadata": {},
       "output_type": "display_data",
       "png": "[encoded data removed]",
       "text": [
        "<matplotlib.figure.Figure at 0x10bb46650>"
       ]
      }
     ],
     "prompt_number": 9
    },
    {
     "cell_type": "code",
     "collapsed": false,
     "input": [],
     "language": "python",
     "metadata": {},
     "outputs": []
    },
    {
     "cell_type": "code",
     "collapsed": false,
     "input": [],
     "language": "python",
     "metadata": {},
     "outputs": []
    }
   ],
   "metadata": {}
  }
 ]
}