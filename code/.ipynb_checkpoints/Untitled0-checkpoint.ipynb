{
 "metadata": {
  "name": "",
  "signature": "sha256:79c59b3042dd99d6ea0269238e9602714252a38ff904180cf05431e7b49acb79"
 },
 "nbformat": 3,
 "nbformat_minor": 0,
 "worksheets": [
  {
   "cells": [
    {
     "cell_type": "code",
     "collapsed": false,
     "input": [
      "# As usual, a bit of setup\n",
      "\n",
      "import numpy as np\n",
      "import matplotlib.pyplot as plt\n",
      "from cs231n.classifier_trainer import ClassifierTrainer\n",
      "from cs231n.gradient_check import eval_numerical_gradient\n",
      "from cs231n.classifiers.convnet_final import *\n",
      "import cPickle as pickle\n",
      "import os\n",
      "from cs231n.data_utils import get_CIFAR10_data\n",
      "\n",
      "def rel_error(x, y):\n",
      "  \"\"\" returns relative error \"\"\"\n",
      "  return np.max(np.abs(x - y) / (np.maximum(1e-18, np.abs(x) + np.abs(y))))\n",
      "\n",
      "\n",
      "def permute_lables(p, labels_orig, classes=9): \n",
      "    labels = labels_orig.copy()\n",
      "    n_labels = len(labels)\n",
      "    n_to_permute = int(np.floor(p * n_labels))\n",
      "    inds_to_permute = np.random.choice(n_labels, n_to_permute, replace=False)\n",
      "    new_labels = np.random.choice(classes, n_to_permute, replace=True)\n",
      "    labels[inds_to_permute] = new_labels\n",
      "    return labels\n",
      "\n",
      "\n",
      "\n",
      "if __name__ == \"__main__\":\n",
      "  X_train, y_train, X_val, y_val, X_test, y_test = get_CIFAR10_data()\n",
      "  print 'Train data shape: ', X_train.shape\n",
      "  print 'Train labels shape: ', y_train.shape\n",
      "  print 'Validation data shape: ', X_val.shape\n",
      "  print 'Validation labels shape: ', y_val.shape\n",
      "  print 'Test data shape: ', X_test.shape\n",
      "  print 'Test labels shape: ', y_test.shape\n",
      "\n",
      "  \n",
      "  p = 0.05\n",
      "  y_train_permuted = permute_lables(p, y_train)\n",
      "  model = init_three_layer_convnet(filter_size=5, weight_scale=5e-3, num_filters=32)\n",
      "  trainer = ClassifierTrainer()\n",
      "  best_model, loss_history, train_acc_history, val_acc_history = trainer.train(\n",
      "          X_train[:500,:], y_train_permuted[:500], X_val, y_val, model, three_layer_convnet, update='momentum',\n",
      "          reg=0.00008, momentum=0.9, learning_rate=0.0014, batch_size=300, num_epochs=1,\n",
      "          verbose=True)\n",
      "\n",
      "  fname = 'test.p'\n",
      "  with open(fname, 'w+') as f:\n",
      "      pickle.dump(f)"
     ],
     "language": "python",
     "metadata": {},
     "outputs": [
      {
       "output_type": "stream",
       "stream": "stdout",
       "text": [
        "Train data shape:  (49000, 3, 32, 32)\n",
        "Train labels shape:  (49000,)\n",
        "Validation data shape:  (1000, 3, 32, 32)\n",
        "Validation labels shape:  (1000,)\n",
        "Test data shape:  (1000, 32, 32, 3)\n",
        "Test labels shape:  (1000,)\n",
        "Finished epoch 0 / 1: cost 2.303067, train: 0.090000, val 0.075000, lr 1.400000e-03"
       ]
      },
      {
       "output_type": "stream",
       "stream": "stdout",
       "text": [
        "\n",
        "finished optimization. best validation accuracy: 0.075000\n"
       ]
      },
      {
       "ename": "TypeError",
       "evalue": "Required argument 'file' (pos 2) not found",
       "output_type": "pyerr",
       "traceback": [
        "\u001b[0;31m---------------------------------------------------------------------------\u001b[0m\n\u001b[0;31mTypeError\u001b[0m                                 Traceback (most recent call last)",
        "\u001b[0;32m<ipython-input-1-485e02e19f33>\u001b[0m in \u001b[0;36m<module>\u001b[0;34m()\u001b[0m\n\u001b[1;32m     47\u001b[0m   \u001b[0mfname\u001b[0m \u001b[0;34m=\u001b[0m \u001b[0;34m'test.p'\u001b[0m\u001b[0;34m\u001b[0m\u001b[0m\n\u001b[1;32m     48\u001b[0m   \u001b[0;32mwith\u001b[0m \u001b[0mopen\u001b[0m\u001b[0;34m(\u001b[0m\u001b[0mfname\u001b[0m\u001b[0;34m,\u001b[0m \u001b[0;34m'w+'\u001b[0m\u001b[0;34m)\u001b[0m \u001b[0;32mas\u001b[0m \u001b[0mf\u001b[0m\u001b[0;34m:\u001b[0m\u001b[0;34m\u001b[0m\u001b[0m\n\u001b[0;32m---> 49\u001b[0;31m       \u001b[0mpickle\u001b[0m\u001b[0;34m.\u001b[0m\u001b[0mdump\u001b[0m\u001b[0;34m(\u001b[0m\u001b[0mf\u001b[0m\u001b[0;34m)\u001b[0m\u001b[0;34m\u001b[0m\u001b[0m\n\u001b[0m",
        "\u001b[0;31mTypeError\u001b[0m: Required argument 'file' (pos 2) not found"
       ]
      }
     ],
     "prompt_number": 1
    },
    {
     "cell_type": "code",
     "collapsed": false,
     "input": [
      "with open(fname, 'w+') as f:\n",
      "    pickle.dump(model, f)"
     ],
     "language": "python",
     "metadata": {},
     "outputs": [],
     "prompt_number": 3
    },
    {
     "cell_type": "code",
     "collapsed": false,
     "input": [],
     "language": "python",
     "metadata": {},
     "outputs": []
    }
   ],
   "metadata": {}
  }
 ]
}